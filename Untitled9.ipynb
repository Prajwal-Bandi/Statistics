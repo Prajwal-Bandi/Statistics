{
 "cells": [
  {
   "cell_type": "markdown",
   "id": "e46bc66a-dd02-45f5-829f-470006572b94",
   "metadata": {},
   "source": [
    "python : \n",
    "->Python is high level programming ,interpreted,object oriented programming language used for ,web development software development server side web creation \n",
    "->Easy to learn and execute \n",
    "->It contains many inbuilt library\n",
    "\n",
    "oops-> based on the concept of objects, encapsulation,abstraction,inheritance,Polymorphism\n",
    "\n",
    "->Interpreted : source code is not directly translated into machine code ,it follows line by line code for execution thn interpreter translated to machine code  ex,python \n",
    "->Compiled :  source code written by the programmer is transformed into machine code by a compiler before it can executed ex,java "
   ]
  },
  {
   "cell_type": "code",
   "execution_count": 1,
   "id": "52a1a622-bfbf-4331-89c0-c1b050974278",
   "metadata": {},
   "outputs": [
    {
     "name": "stdout",
     "output_type": "stream",
     "text": [
      "Hello world\n"
     ]
    }
   ],
   "source": [
    "print('Hello world')"
   ]
  },
  {
   "cell_type": "markdown",
   "id": "8e959aaf-8e70-4aee-b956-4523735111d0",
   "metadata": {},
   "source": [
    "Comments :\n",
    "this can be used to explain the code this code will not run\n",
    "1.single line comment #\n",
    "2.multiline comment \"\"\" this is comment \"\"\""
   ]
  },
  {
   "cell_type": "code",
   "execution_count": 2,
   "id": "e596eaf6-6ea9-47a2-8e33-faac87742aae",
   "metadata": {},
   "outputs": [
    {
     "name": "stdout",
     "output_type": "stream",
     "text": [
      "This is single line comment\n"
     ]
    }
   ],
   "source": [
    "#this is single line comment\n",
    "print('This is single line comment')"
   ]
  },
  {
   "cell_type": "code",
   "execution_count": 4,
   "id": "95496700-99d6-4a91-895f-21fdbdc262a1",
   "metadata": {},
   "outputs": [
    {
     "name": "stdout",
     "output_type": "stream",
     "text": [
      "This is multiline comment\n"
     ]
    }
   ],
   "source": [
    "'''\n",
    "this is multiline comment\n",
    "'''\n",
    "print('This is multiline comment')"
   ]
  },
  {
   "cell_type": "markdown",
   "id": "ac0d8467-4941-435a-804c-65fea3311301",
   "metadata": {},
   "source": [
    "Variables:\n",
    "name given to a memory location.\n",
    "name='Prajwal'\n",
    "following are the rules for variable \n",
    "1.variable must start with letter or underscore character\n",
    "2.variable can not start with number \n",
    "3.variable name can only contain alphanumeric character\n",
    "4.Reserved words can not used as variable \n",
    "5.Variable names are case sensitive \n",
    "\n",
    "Global variable : Variables that are created outside the function \n",
    "Local variale : variables that are created inside the function"
   ]
  },
  {
   "cell_type": "code",
   "execution_count": 6,
   "id": "21a28a1f-d64e-41a1-b35b-98347b989f4f",
   "metadata": {},
   "outputs": [
    {
     "name": "stdout",
     "output_type": "stream",
     "text": [
      "Prajwal\n"
     ]
    }
   ],
   "source": [
    "name='Prajwal'\n",
    "print(name)"
   ]
  },
  {
   "cell_type": "code",
   "execution_count": 9,
   "id": "06601b33-3371-4f18-8d05-c06007b005d5",
   "metadata": {},
   "outputs": [
    {
     "name": "stdout",
     "output_type": "stream",
     "text": [
      "Python is awesome\n"
     ]
    }
   ],
   "source": [
    "# global variable \n",
    "x = \"awesome\"\n",
    "\n",
    "def myfunc():\n",
    "  print(\"Python is \" + x)\n",
    "\n",
    "myfunc()"
   ]
  },
  {
   "cell_type": "code",
   "execution_count": 10,
   "id": "ab9b84e2-caf6-4d57-9346-cc8f4f0e1f97",
   "metadata": {},
   "outputs": [
    {
     "name": "stdout",
     "output_type": "stream",
     "text": [
      "10\n"
     ]
    }
   ],
   "source": [
    "#local variable\n",
    "def example_function():\n",
    "    local_var = 10  # Local variable\n",
    "    print(local_var)\n",
    "\n",
    "example_function()"
   ]
  },
  {
   "cell_type": "code",
   "execution_count": 8,
   "id": "9ff94747-6130-46e5-89d4-ab7ec528ea1b",
   "metadata": {},
   "outputs": [
    {
     "name": "stdout",
     "output_type": "stream",
     "text": [
      "['False', 'None', 'True', 'and', 'as', 'assert', 'async', 'await', 'break', 'class', 'continue', 'def', 'del', 'elif', 'else', 'except', 'finally', 'for', 'from', 'global', 'if', 'import', 'in', 'is', 'lambda', 'nonlocal', 'not', 'or', 'pass', 'raise', 'return', 'try', 'while', 'with', 'yield']\n"
     ]
    }
   ],
   "source": [
    "# Keywords:\n",
    "# Reserved words in python \n",
    "import keyword\n",
    "print(keyword.kwlist) # List all Python Keywords"
   ]
  },
  {
   "cell_type": "markdown",
   "id": "a9cecf9d-bd59-4db9-a8d2-775c8b0547f8",
   "metadata": {},
   "source": [
    "Data type:\n",
    "Text Type:\tstr\n",
    "Numeric Types:\tint, float, complex\n",
    "Sequence Types:\tlist, tuple, range\n",
    "Mapping Type:\tdict\n",
    "Set Types:\tset, frozenset\n",
    "Boolean Type:\tbool(true false)\n",
    "Binary Types:\tbytes, bytearray, memoryview\n",
    "None Type:\tNoneType"
   ]
  },
  {
   "cell_type": "markdown",
   "id": "5b3f9b86-b610-4852-a0ee-50c1c10b150d",
   "metadata": {},
   "source": [
    "Strings:Anything written inside the quotation i.e string \n",
    "->Immutable \n",
    "->ordered with index value "
   ]
  },
  {
   "cell_type": "code",
   "execution_count": 23,
   "id": "8244c7f3-733c-4314-873d-539cfd233181",
   "metadata": {},
   "outputs": [],
   "source": [
    "# Strings : anything characters written inside the quotation \n",
    "\n",
    "mystr=' This is String  '\n",
    "mystr\n",
    "mystr1='This is another string '"
   ]
  },
  {
   "cell_type": "code",
   "execution_count": 27,
   "id": "665fe961-b39d-4570-a412-894b0abcd5a5",
   "metadata": {},
   "outputs": [
    {
     "name": "stdout",
     "output_type": "stream",
     "text": [
      "False\n",
      "False\n",
      "False\n",
      "False\n"
     ]
    },
    {
     "data": {
      "text/plain": [
       "'This is String'"
      ]
     },
     "execution_count": 27,
     "metadata": {},
     "output_type": "execute_result"
    }
   ],
   "source": [
    "#strinf function \n",
    "mystr.lower()\n",
    "mystr.upper()\n",
    "mystr.replace('Th','th')\n",
    "mystr.count('s')\n",
    "mystr.startswith('t')\n",
    "mystr.endswith('g')\n",
    "mystr.split()\n",
    "str=mystr+mystr1 # string concat\n",
    "print(mystr.isalpha()) # returns True if all the characters in the text are lett\n",
    "print(mystr.isalnum()) # returns True if a string contains only letters or numb\n",
    "print(mystr.isdecimal()) # returns True if all the characters are decimals (0-9)\n",
    "print(mystr.isnumeric()) # returns True if all the characters are numeric \n",
    "mystr.strip()\n",
    "mystr.rstrip(\"*\") # removes all * character ending of the string \n",
    "mystr.lstrip('*')# removes all * character starting of the string "
   ]
  },
  {
   "cell_type": "code",
   "execution_count": 52,
   "id": "284ae1dd-1d7c-447f-b6c3-8e07701a51ed",
   "metadata": {},
   "outputs": [
    {
     "data": {
      "text/plain": [
       "'This i'"
      ]
     },
     "execution_count": 52,
     "metadata": {},
     "output_type": "execute_result"
    }
   ],
   "source": [
    "#String slicing\n",
    "str1=\"This is String \"\n",
    "str1[0:5] # String slicing - Fetch all characters from 0 to 5 index location excl\n",
    "str1[6:12] # String slicing - Retreive all characters between 6 - 12 index loc ex\n",
    "str1[-4:] # Retreive last four characters of the string\n",
    "str1[-6:] # Retreive last six characters of the string\n",
    "str1[:4] # Retreive first four characters of the string\n",
    "str1[:6] # Retreive first six characters of the string"
   ]
  },
  {
   "cell_type": "code",
   "execution_count": 33,
   "id": "124ab27c-497f-4ee9-959d-964ed17e5233",
   "metadata": {},
   "outputs": [
    {
     "name": "stdout",
     "output_type": "stream",
     "text": [
      "1\n"
     ]
    }
   ],
   "source": [
    "# <!-- type casting :\n",
    "# the conversion of the one type of data to another type of data -->\n",
    "a='1'\n",
    "a=int(1)\n",
    "print(1)"
   ]
  },
  {
   "cell_type": "markdown",
   "id": "c65649a7-e506-40b3-856d-641a0e2573b3",
   "metadata": {},
   "source": [
    "Operators : \n",
    "operators are used for calculation on variables and values \n",
    "Arithmatic operator +,-,*,/,//,%,**\n",
    "Assignment operator =,==,+=,-=\n",
    "comparision operator ==,!=,>,<,<=,>=\n",
    "logical operator and , or , not \n",
    "Identify operator is ,is not \n",
    "membership operator in ,not in \n",
    "Bitwise operator : And ,OR,XOR,NOT \n"
   ]
  },
  {
   "cell_type": "code",
   "execution_count": 41,
   "id": "1bc2ca42-de2e-43d5-a380-c1ba097f48e7",
   "metadata": {},
   "outputs": [
    {
     "name": "stdout",
     "output_type": "stream",
     "text": [
      "Addition: 14\n",
      "Subtraction: 6\n",
      "Multiplication: 40\n",
      "Division: 2.5\n",
      "Floor Division: 2\n",
      "Modulus: 2\n",
      "Exponentiation: 10000\n"
     ]
    }
   ],
   "source": [
    "# Arithmatic operator : +,-,*,/,%,**\n",
    "x = 10\n",
    "y = 4\n",
    "\n",
    "# Addition\n",
    "add = x + y\n",
    "print(\"Addition:\", add)  # Output: 14\n",
    "\n",
    "# Subtraction\n",
    "subtract = x - y\n",
    "print(\"Subtraction:\", subtract)  # Output: 6\n",
    "\n",
    "# Multiplication\n",
    "multiply = x * y\n",
    "print(\"Multiplication:\", multiply)  # Output: 40\n",
    "\n",
    "# Division\n",
    "divide = x / y\n",
    "print(\"Division:\", divide)  # Output: 2.5\n",
    "\n",
    "# Floor Division\n",
    "floor_divide = x // y\n",
    "print(\"Floor Division:\", floor_divide)  # Output: 2\n",
    "\n",
    "# Modulus\n",
    "modulus = x % y\n",
    "print(\"Modulus:\", modulus)  # Output: 2\n",
    "\n",
    "# Exponentiation\n",
    "exponent = x ** y\n",
    "print(\"Exponentiation:\", exponent)  # Output: 10000\n"
   ]
  },
  {
   "cell_type": "code",
   "execution_count": 42,
   "id": "05fefeed-6611-4557-ac4d-69ec412cc40a",
   "metadata": {},
   "outputs": [
    {
     "name": "stdout",
     "output_type": "stream",
     "text": [
      "After += 3: 8\n",
      "After -= 2: 6\n",
      "After *= 4: 24\n",
      "After /= 3: 8.0\n",
      "After //= 2: 4.0\n",
      "After %= 3: 1.0\n",
      "After **= 3: 1.0\n"
     ]
    }
   ],
   "source": [
    "# Assignment operator \n",
    "x = 5\n",
    "\n",
    "# Add and assign\n",
    "x += 3\n",
    "print(\"After += 3:\", x)  # Output: 8\n",
    "\n",
    "# Subtract and assign\n",
    "x -= 2\n",
    "print(\"After -= 2:\", x)  # Output: 6\n",
    "\n",
    "# Multiply and assign\n",
    "x *= 4\n",
    "print(\"After *= 4:\", x)  # Output: 24\n",
    "\n",
    "# Divide and assign\n",
    "x /= 3\n",
    "print(\"After /= 3:\", x)  # Output: 8.0\n",
    "\n",
    "# Floor divide and assign\n",
    "x //= 2\n",
    "print(\"After //= 2:\", x)  # Output: 4.0\n",
    "\n",
    "# Modulus and assign\n",
    "x %= 3\n",
    "print(\"After %= 3:\", x)  # Output: 1.0\n",
    "\n",
    "# Exponentiate and assign\n",
    "x **= 3\n",
    "print(\"After **= 3:\", x)  # Output: 1.0\n"
   ]
  },
  {
   "cell_type": "code",
   "execution_count": 43,
   "id": "ea2e3f82-7c2e-4f59-8029-4c9acb720c9d",
   "metadata": {},
   "outputs": [
    {
     "name": "stdout",
     "output_type": "stream",
     "text": [
      "False\n",
      "True\n",
      "False\n",
      "True\n",
      "False\n",
      "True\n"
     ]
    }
   ],
   "source": [
    "# Comparision Operator\n",
    "x = 10\n",
    "y = 20\n",
    "\n",
    "# Equal to\n",
    "print(x == y)  # Output: False\n",
    "\n",
    "# Not equal to\n",
    "print(x != y)  # Output: True\n",
    "\n",
    "# Greater than\n",
    "print(x > y)  # Output: False\n",
    "\n",
    "# Less than\n",
    "print(x < y)  # Output: True\n",
    "\n",
    "# Greater than or equal to\n",
    "print(x >= y)  # Output: False\n",
    "\n",
    "# Less than or equal to\n",
    "print(x <= y)  # Output: True\n"
   ]
  },
  {
   "cell_type": "code",
   "execution_count": 46,
   "id": "888ffc41-a831-46aa-a6fa-4041ab218c56",
   "metadata": {},
   "outputs": [
    {
     "name": "stdout",
     "output_type": "stream",
     "text": [
      "Both x and y are greater than 0\n",
      "Either x is greater than 0 or y is less than 0\n",
      "x is not equal to y\n"
     ]
    }
   ],
   "source": [
    "# Logical operator \n",
    "x = 5\n",
    "y = 10\n",
    "\n",
    "# Using logical AND\n",
    "if x > 0 and y > 0:\n",
    "    print(\"Both x and y are greater than 0\")  # Output: Both x and y are greater than 0\n",
    "\n",
    "# Using logical OR\n",
    "if x > 0 or y < 0:\n",
    "    print(\"Either x is greater than 0 or y is less than 0\")  # Output: Either x is greater than 0 or y is less than 0\n",
    "\n",
    "# Using logical NOT\n",
    "if not x == y:\n",
    "    print(\"x is not equal to y\")  # Output: x is not equal to y\n"
   ]
  },
  {
   "cell_type": "code",
   "execution_count": 47,
   "id": "9b7e247d-47a8-4825-9005-e5a5d3779345",
   "metadata": {},
   "outputs": [
    {
     "name": "stdout",
     "output_type": "stream",
     "text": [
      "False\n",
      "True\n",
      "True\n"
     ]
    }
   ],
   "source": [
    "# Identify operator\n",
    "# Different lists with same content\n",
    "list1 = [1, 2, 3]\n",
    "list2 = [1, 2, 3]\n",
    "\n",
    "# Assigning list1 to list3\n",
    "list3 = list1\n",
    "\n",
    "# Using identity operators\n",
    "print(list1 is list2)    # Output: False (different objects)\n",
    "print(list1 is list3)    # Output: True (same object)\n",
    "print(list1 is not list2)# Output: True (different objects)\n"
   ]
  },
  {
   "cell_type": "code",
   "execution_count": 49,
   "id": "77e7256f-9a4d-4aea-b66a-8cdb33e5dd54",
   "metadata": {},
   "outputs": [
    {
     "name": "stdout",
     "output_type": "stream",
     "text": [
      "Found 'banana' in the list\n"
     ]
    }
   ],
   "source": [
    "# membership operator \n",
    "my_list = ['apple', 'banana', 'cherry']\n",
    "\n",
    "if 'banana' in my_list:\n",
    "    print(\"Found 'banana' in the list\")\n",
    "else:\n",
    "    print(\"Did not find 'banana' in the list\")\n"
   ]
  },
  {
   "cell_type": "code",
   "execution_count": null,
   "id": "d50cc5c1-b5f7-4ade-988b-357c114f2caa",
   "metadata": {},
   "outputs": [],
   "source": [
    "# Bitwise operator\n",
    "# Bitwise AND example\n",
    "x = 10    # 1010 in binary\n",
    "y = 7     # 0111 in binary\n",
    "\n",
    "print(x & y)   # Output: 2 (0010 in binary)\n",
    "\n",
    "# Bitwise OR example\n",
    "print(x | y)   # Output: 15 (1111 in binary)\n",
    "\n",
    "# Bitwise XOR example\n",
    "print(x ^ y)   # Output: 13 (1101 in binary)\n",
    "\n",
    "# Bitwise NOT example\n",
    "x = 10\n",
    "print(~x)      # Output: -11 (in decimal)\n",
    "\n",
    "# Bitwise Left Shift example\n",
    "x = 5\n",
    "print(x << 1)  # Output: 10 (1010 in binary)\n",
    "\n",
    "# Bitwise Right Shift example\n",
    "x = 5\n",
    "print(x >> 1)  # Output: 2 (10 in binary)\n"
   ]
  },
  {
   "cell_type": "markdown",
   "id": "68ff1a30-e2a7-4ee3-8ed1-e5186480f6e4",
   "metadata": {},
   "source": [
    "Array:a group of similar elements or data items of the same type collected at contiguous memory locations.\n",
    "containers which are able to store more than one item at the same time i.e array \n",
    "\n",
    "Array starts with 0\n",
    "\n",
    "In python different type of array\n",
    "1.list\n",
    "2.tuple\n",
    "3.sets\n",
    "4.dictionary"
   ]
  },
  {
   "cell_type": "markdown",
   "id": "b13e4e18-d35d-4620-a597-1d181c443bf1",
   "metadata": {},
   "source": [
    "Mutable : can change r edit \n",
    "immutable : can not change r edit "
   ]
  },
  {
   "cell_type": "markdown",
   "id": "eed432f4-8306-454e-9766-38a86e573f47",
   "metadata": {},
   "source": [
    "List : ordered collection of different data type\n",
    "-> List is an ordered sequence of items \n",
    "-> it is mutable \n",
    "-> Allows duplicate elements \n",
    "-> list=['this','is',1,'list']"
   ]
  },
  {
   "cell_type": "code",
   "execution_count": 54,
   "id": "9a12fe4e-0e78-4ede-8181-66951caad426",
   "metadata": {},
   "outputs": [
    {
     "name": "stdout",
     "output_type": "stream",
     "text": [
      "<class 'list'>\n"
     ]
    }
   ],
   "source": [
    "list1=[]\n",
    "print(type(list1))"
   ]
  },
  {
   "cell_type": "code",
   "execution_count": 55,
   "id": "53a07834-562c-4ec5-a418-dd3e52a3e9ec",
   "metadata": {},
   "outputs": [
    {
     "data": {
      "text/plain": [
       "[10, 20, 30, 'Prajwal', '20.2']"
      ]
     },
     "execution_count": 55,
     "metadata": {},
     "output_type": "execute_result"
    }
   ],
   "source": [
    "list1=[10,20,30,'Prajwal','20.2']\n",
    "list1"
   ]
  },
  {
   "cell_type": "code",
   "execution_count": 62,
   "id": "7e72aa68-c384-4bf7-b616-c2d9ea109151",
   "metadata": {},
   "outputs": [
    {
     "data": {
      "text/plain": [
       "30"
      ]
     },
     "execution_count": 62,
     "metadata": {},
     "output_type": "execute_result"
    }
   ],
   "source": [
    "#list indexing \n",
    "list1[0]\n",
    "list1[2]\n",
    "list1[10]"
   ]
  },
  {
   "cell_type": "code",
   "execution_count": 94,
   "id": "7c958662-314d-4472-b11a-c07a7804ca12",
   "metadata": {},
   "outputs": [
    {
     "data": {
      "text/plain": [
       "['one', 'two', 'three', 'four', 'five', 'six', 'seven', 'eight']"
      ]
     },
     "execution_count": 94,
     "metadata": {},
     "output_type": "execute_result"
    }
   ],
   "source": [
    "# list slicing\n",
    "mylist = ['one' , 'two' , 'three' , 'four' , 'five' , 'six' , 'seven' , 'eight']\n",
    "mylist[0:3] # Return all items from 0th to 3rd index location excluding the item \n",
    "mylist[2:5] # List all items from 2nd to 5th index location excluding the item at\n",
    "mylist[:3] # Return first three items\n",
    "mylist[:2] # Return first two items\n",
    "mylist[-3:] # Return last three items\n",
    "mylist[-2:] # Return last two items\n",
    "mylist[-1] # Return last item of the list\n",
    "mylist[:] # Return whole list"
   ]
  },
  {
   "cell_type": "code",
   "execution_count": 113,
   "id": "f3f44e8f-b0a2-4d49-ab6b-2029593ae0b0",
   "metadata": {},
   "outputs": [
    {
     "data": {
      "text/plain": [
       "['one', 'two', 'three', 'four', 'five', 'six', 'seven', 'nine']"
      ]
     },
     "execution_count": 113,
     "metadata": {},
     "output_type": "execute_result"
    }
   ],
   "source": [
    "#list function \n",
    "mylist\n",
    "mylist.append('nine') # Add an item to the end of the list \n",
    "mylist\n",
    "mylist.insert(9,'ten') # Add item at index location 9\n",
    "mylist\n",
    "mylist.insert(1,'ONE') # Add item at index location 1\n",
    "mylist\n",
    "mylist.remove('ONE') # Remove item \"ONE\"\n",
    "mylist\n",
    "mylist.pop() # Remove last item of the list\n",
    "mylist\n",
    "# mylist.pop(8) # Remove item at index location 8\n",
    "mylist\n",
    "del mylist[7] # Remove item at index location 7\n",
    "mylist\n",
    "mylist.count('one')\n",
    "mylist\n",
    "# mylist.clear() # Empty List / Delete all items in the list\n",
    "# mylist"
   ]
  },
  {
   "cell_type": "code",
   "execution_count": 127,
   "id": "b84f506f-2b02-41ef-8c76-f5fb03219d70",
   "metadata": {},
   "outputs": [
    {
     "data": {
      "text/plain": [
       "[99, 88, 34, 12, 9, 5, 2]"
      ]
     },
     "execution_count": 127,
     "metadata": {},
     "output_type": "execute_result"
    }
   ],
   "source": [
    "list1=['one', 'two', 'three', 'four', 'five', 'six', 'seven', 'eight']\n",
    "list1.reverse()\n",
    "list1=[9,5,2,99,12,88,34]\n",
    "list1.sort()\n",
    "list1.sort(reverse=True)\n",
    "list1.count(2)\n",
    "list1"
   ]
  },
  {
   "cell_type": "code",
   "execution_count": 125,
   "id": "6a003f34-e01c-4dcb-a796-d545fefdc3fc",
   "metadata": {},
   "outputs": [
    {
     "data": {
      "text/plain": [
       "3"
      ]
     },
     "execution_count": 125,
     "metadata": {},
     "output_type": "execute_result"
    }
   ],
   "source": [
    "list10 =['one', 'two', 'three', 'four', 'one', 'one', 'two', 'three']\n",
    "list10.count('one')"
   ]
  },
  {
   "cell_type": "markdown",
   "id": "5ef4634d-1976-4b0c-b240-92671cc48d5a",
   "metadata": {},
   "source": [
    "List Comprehensions\n",
    "List Comprehensions provide an elegant way to create new lists.\n",
    "It consists of brackets containing an expression followed by a for clause, then zero or more for\n",
    "or if clauses.\n"
   ]
  },
  {
   "cell_type": "code",
   "execution_count": 132,
   "id": "73910edd-17ba-4a74-b2bd-bd91c441c583",
   "metadata": {},
   "outputs": [
    {
     "data": {
      "text/plain": [
       "[0, 1, 4, 9, 16, 25, 36, 49, 64, 81]"
      ]
     },
     "execution_count": 132,
     "metadata": {},
     "output_type": "execute_result"
    }
   ],
   "source": [
    "mystring = \"WELCOME\"\n",
    "mylist = [ i for i in mystring ] # Iterating through a string Using List Comprehe\n",
    "mylist\n",
    "mylist1 = [ i for i in range(40) if i % 2 == 0] # Display all even numbers betwee\n",
    "mylist1\n",
    "mylist2 = [ i for i in range(40) if i % 2 == 1] # Display all odd numbers between\n",
    "mylist2\n",
    "mylist3 = [num**2 for num in range(10)] # calculate square of all numbers between\n",
    "mylist3\n"
   ]
  },
  {
   "cell_type": "markdown",
   "id": "9903b884-e70d-4e00-9111-509ce1c2ebd5",
   "metadata": {},
   "source": [
    "Tuples: grouping of similer data elements as same in list excepts tuple are immutable \n",
    "->ordered collection are data items \n",
    "->Immutable \n",
    "->Allows duplicates \n",
    "->tuple=()\n",
    "->When we do not want to change the data over time, tuple is a preferred data type.\r",
    "->. Iterating over the elements of a tuple is faster compared to iterating over a list."
   ]
  },
  {
   "cell_type": "code",
   "execution_count": 133,
   "id": "e66fbed5-f1aa-4361-b3be-c2c5a9c3e39f",
   "metadata": {},
   "outputs": [
    {
     "data": {
      "text/plain": [
       "6"
      ]
     },
     "execution_count": 133,
     "metadata": {},
     "output_type": "execute_result"
    }
   ],
   "source": [
    "tup1 = () # Empty tuple\n",
    "tup2 = (10,30,60) # tuple of integers numbers\n",
    "tup3 = (10.77,30.66,60.89) # tuple of float numbers\n",
    "tup4 = ('one','two' , \"three\") # tuple of strings\n",
    "tup5 = ('Asif', 25 ,(50, 100),(150, 90)) # Nested tuples\n",
    "tup6 = (100, 'Asif', 17.765) # Tuple of mixed data types\n",
    "tup7 = ('Asif', 25 ,[50, 100],[150, 90] , {'John' , 'David'} , (99,22,33))\n",
    "len(tup7) "
   ]
  },
  {
   "cell_type": "code",
   "execution_count": 134,
   "id": "5c137255-4ec1-446c-ac93-46fe84b0e97f",
   "metadata": {},
   "outputs": [
    {
     "data": {
      "text/plain": [
       "(150, 90)"
      ]
     },
     "execution_count": 134,
     "metadata": {},
     "output_type": "execute_result"
    }
   ],
   "source": [
    "# Tuple indexing\n",
    "tup2[0] # Retreive first element of the tuple\n",
    "tup4[0] # Retreive first element of the tuple\n",
    "tup4[0][0] # Nested indexing - Access the first character of the first tuple elem\n",
    "tup4[-1] # Last item of the tuple\n",
    "tup5[-1] # Last item of the tuple"
   ]
  },
  {
   "cell_type": "code",
   "execution_count": 135,
   "id": "c615b573-c463-4378-aabb-d81915826440",
   "metadata": {},
   "outputs": [
    {
     "data": {
      "text/plain": [
       "('one', 'two', 'three', 'four', 'five', 'six', 'seven', 'eight')"
      ]
     },
     "execution_count": 135,
     "metadata": {},
     "output_type": "execute_result"
    }
   ],
   "source": [
    "# Tuple Slicing \n",
    "mytuple = ('one' , 'two' , 'three' , 'four' , 'five' , 'six' , 'seven' , 'eight')\n",
    "mytuple[0:3] # Return all items from 0th to 3rd index location excluding the item\n",
    "mytuple[2:5] # List all items from 2nd to 5th index location excluding the item a\n",
    "mytuple[:3] # Return first three items\n",
    "mytuple[:2] # Return first two items\n",
    "mytuple[-3:] # Return last three items\n",
    "mytuple[-2:] # Return last two items\n",
    "mytuple[-1] # Return last item of the tuple\n",
    "mytuple[:] # Return whole tuple"
   ]
  },
  {
   "cell_type": "markdown",
   "id": "905a7603-3495-49a6-9be4-d3d2538d4360",
   "metadata": {},
   "source": [
    "adding and deleting items tuple not supports"
   ]
  },
  {
   "cell_type": "code",
   "execution_count": 136,
   "id": "a28b68d7-b538-4929-acbb-f003574f15cf",
   "metadata": {},
   "outputs": [
    {
     "data": {
      "text/plain": [
       "[('one', 'two', 'three', 'four', 'five', 'six', 'seven', 'eight')]"
      ]
     },
     "execution_count": 136,
     "metadata": {},
     "output_type": "execute_result"
    }
   ],
   "source": [
    "list1=[mytuple]\n",
    "list1"
   ]
  },
  {
   "cell_type": "code",
   "execution_count": 141,
   "id": "3dfbea0c-173a-477e-8924-0165fc1973f4",
   "metadata": {},
   "outputs": [
    {
     "data": {
      "text/plain": [
       "[99, 90, 67, 67, 43, 12, 6]"
      ]
     },
     "execution_count": 141,
     "metadata": {},
     "output_type": "execute_result"
    }
   ],
   "source": [
    "# sorting\n",
    "mytuple2 = (43,67,99,12,6,90,67)\n",
    "sorted(mytuple2) # Returns a new sorted list and doesn't change original tuple\n",
    "sorted(mytuple2, reverse=True) # Sort in descending order"
   ]
  },
  {
   "cell_type": "markdown",
   "id": "9fd7b087-6171-4904-aa1b-d65eb41437aa",
   "metadata": {},
   "source": [
    "Sets : These are collection similer data items which is \n",
    "->unordered and unidexed collection of items \n",
    "-> set elements are unique.\n",
    "-> Duplicates are not allowed\n",
    "->Immutable but set itself is mutable we can add or remove from it \n",
    "->set={ }"
   ]
  },
  {
   "cell_type": "code",
   "execution_count": 146,
   "id": "d7a53c45-7b37-48b1-8d5f-519c0b2394a1",
   "metadata": {},
   "outputs": [
    {
     "data": {
      "text/plain": [
       "{(11, 22, 32), 10, 20, 'Hola'}"
      ]
     },
     "execution_count": 146,
     "metadata": {},
     "output_type": "execute_result"
    }
   ],
   "source": [
    "myset = {1,2,3,4,5} # Set of numbers\n",
    "myset\n",
    "len(myset) #Length of the set\n",
    "my_set = {1,1,2,2,3,4,5,5}\n",
    "my_set # Duplicate elements are not allowed.\n",
    "myset1 = {1.79,2.08,3.99,4.56,5.45} # Set of float numbers\n",
    "myset1\n",
    "myset2 = {'Asif' , 'John' , 'Tyrion'} # Set of Strings\n",
    "myset2\n",
    "myset3 = {10,20, \"Hola\", (11, 22, 32)} # Mixed datatypes\n",
    "myset3\n",
    "# myset3 = {10,20, \"Hola\", [11, 22, 32]} # set doesn't allow mutable items like lis\n",
    "myset3"
   ]
  },
  {
   "cell_type": "code",
   "execution_count": 147,
   "id": "6dd6410d-a339-4ff7-b05a-20dfbac39495",
   "metadata": {},
   "outputs": [
    {
     "data": {
      "text/plain": [
       "{1, 2, 3, 4, 5}"
      ]
     },
     "execution_count": 147,
     "metadata": {},
     "output_type": "execute_result"
    }
   ],
   "source": [
    "myset"
   ]
  },
  {
   "cell_type": "code",
   "execution_count": 161,
   "id": "2cc13185-0b43-4127-a5a9-661b28e49cab",
   "metadata": {},
   "outputs": [
    {
     "data": {
      "text/plain": [
       "set()"
      ]
     },
     "execution_count": 161,
     "metadata": {},
     "output_type": "execute_result"
    }
   ],
   "source": [
    "myset.add(6) # adding new item\n",
    "myset\n",
    "myset.update([5,3,6,8]) # multiple item update but duplicates not allowed\n",
    "myset\n",
    "myset.remove(6) # removing items\n",
    "myset\n",
    "myset.discard(8) # removing items\n",
    "myset\n",
    "myset.clear() # deleting all items\n",
    "myset"
   ]
  },
  {
   "cell_type": "code",
   "execution_count": 162,
   "id": "84f67bbc-697f-44d1-a378-483b28722c15",
   "metadata": {},
   "outputs": [
    {
     "data": {
      "text/plain": [
       "{1, 2, 3, 4, 5, 6, 7, 8, 9, 10}"
      ]
     },
     "execution_count": 162,
     "metadata": {},
     "output_type": "execute_result"
    }
   ],
   "source": [
    "# set operation \n",
    "# Union\n",
    "A = {1,2,3,4,5}\n",
    "B = {4,5,6,7,8}\n",
    "C = {8,9,10}\n",
    "A | B # Union of A and B (All elements from both sets. NO DUPLICATES)\n",
    "A.union(B) # Union of A and B\n",
    "A.union(B, C) # Union of A, B and C."
   ]
  },
  {
   "cell_type": "code",
   "execution_count": 165,
   "id": "fa378380-ab21-43fe-818a-960a7a02fb72",
   "metadata": {},
   "outputs": [
    {
     "data": {
      "text/plain": [
       "{4, 5}"
      ]
     },
     "execution_count": 165,
     "metadata": {},
     "output_type": "execute_result"
    }
   ],
   "source": [
    "#intersection\n",
    "A = {1,2,3,4,5}\n",
    "B = {4,5,6,7,8}\n",
    "\n",
    "A & B # Intersection of A and B (Common items in both sets)\n",
    "# A.intersection(B) Intersection of A and B\n",
    "\"\"\"\n",
    "Updates the set calling the intersection_update() method with the intersection of\n",
    "For below example Set A will be updated with the intersection of A & B.\n",
    "\"\"\"\n",
    "A.intersection_update(B)\n",
    "A"
   ]
  },
  {
   "cell_type": "code",
   "execution_count": 171,
   "id": "c349e7c1-1312-451e-b820-e5cfc855fe13",
   "metadata": {},
   "outputs": [
    {
     "data": {
      "text/plain": [
       "{6, 7, 8}"
      ]
     },
     "execution_count": 171,
     "metadata": {},
     "output_type": "execute_result"
    }
   ],
   "source": [
    "# Difference\n",
    "A = {1,2,3,4,5}\n",
    "B = {4,5,6,7,8}\n",
    "A - B # set of elements that are only in A but not in B\n",
    "A.difference(B) # Difference of sets\n",
    "\n",
    "B- A # set of elements that are only in B but not in A\n",
    "B.difference(A)\n",
    "\"\"\"\n",
    "Updates the set calling the difference_update() method with the difference of set\n",
    "For below example Set B will be updated with the difference of B & A.\n",
    "\"\"\"\n",
    "B.difference_update(A)\n",
    "B\n"
   ]
  },
  {
   "cell_type": "code",
   "execution_count": 172,
   "id": "8b1b225c-48cf-4cda-85d9-8860fde3aabf",
   "metadata": {},
   "outputs": [
    {
     "data": {
      "text/plain": [
       "{1, 2, 3, 6, 7, 8}"
      ]
     },
     "execution_count": 172,
     "metadata": {},
     "output_type": "execute_result"
    }
   ],
   "source": [
    "# Symmetric Difference\n",
    "A = {1,2,3,4,5}\n",
    "B = {4,5,6,7,8}\n",
    "A ^ B # Symmetric difference (Set of elements in A and B but not in both. \"EXCLUD\n",
    "A.symmetric_difference(B) # Symmetric difference of sets\n",
    "\"\"\"\n",
    "Updates the set calling the symmetric_difference_update() method with the symmetr\n",
    "For below example Set A will be updated with the symmetric difference of A & B.\n",
    "\"\"\"\n",
    "A.symmetric_difference_update(B)\n",
    "A\n"
   ]
  },
  {
   "cell_type": "markdown",
   "id": "b94401a0-6601-41ca-9b1e-9efbc7931d72",
   "metadata": {},
   "source": [
    "Dictionary:A python dictionary is a collection of key and value pairs separated by a colon (:) & enclosed in curly braces {}\n",
    "->It it mutable data type\n",
    "-> duplicates are not allowed\n",
    "-> key must be unique but value can b same \n",
    "-> dic={ \"Key\":\"value\"}"
   ]
  },
  {
   "cell_type": "code",
   "execution_count": 173,
   "id": "54eb0cf7-b121-4843-97c4-91f67eda9918",
   "metadata": {},
   "outputs": [
    {
     "data": {
      "text/plain": [
       "{1: 'one', 2: 'two', 3: 'three'}"
      ]
     },
     "execution_count": 173,
     "metadata": {},
     "output_type": "execute_result"
    }
   ],
   "source": [
    "mydict = dict() # empty dictionary\n",
    "mydict\n",
    "mydict = {} # empty dictionary\n",
    "mydict\n",
    "mydict = {1:'one' , 2:'two' , 3:'three'} # dictionary with integer keys\n",
    "mydict\n",
    "mydict = dict({1:'one' , 2:'two' , 3:'three'}) # Create dictionary using dict()\n",
    "mydict"
   ]
  },
  {
   "cell_type": "code",
   "execution_count": 176,
   "id": "4319da98-4b30-4825-be4c-d44f61383ac8",
   "metadata": {},
   "outputs": [
    {
     "data": {
      "text/plain": [
       "{1: 'one', 2: 'two', 'A': ['asif', 'john', 'Maria'], 'B': ('Bat', 'cat')}"
      ]
     },
     "execution_count": 176,
     "metadata": {},
     "output_type": "execute_result"
    }
   ],
   "source": [
    "mydict = {'A':'one' , 'B':'two' , 'C':'three'} # dictionary with character keys\n",
    "mydict\n",
    "mydict = {1:'one' , 'A':'two' , 3:'three'} # dictionary with mixed keys\n",
    "mydict\n",
    "mydict.keys() # Return Dictionary Keys using keys() method\n",
    "mydict.values() # Return Dictionary Values using values() method\n",
    "mydict.items() # Access each key-value pair within a dictionary \n",
    "mydict = {1:'one' , 2:'two' , 'A':['asif' , 'john' , 'Maria']} # dictionary with \n",
    "mydict\n",
    "mydict = {1:'one' , 2:'two' , 'A':['asif' , 'john' , 'Maria'], 'B':('Bat' , 'cat')}\n",
    "mydict"
   ]
  },
  {
   "cell_type": "code",
   "execution_count": 180,
   "id": "cedabf15-78d9-4b96-acd8-9720270b7080",
   "metadata": {},
   "outputs": [
    {
     "data": {
      "text/plain": [
       "'one'"
      ]
     },
     "execution_count": 180,
     "metadata": {},
     "output_type": "execute_result"
    }
   ],
   "source": [
    "mydict.keys()\n",
    "mydict.values()\n",
    "mydict[1]"
   ]
  },
  {
   "cell_type": "code",
   "execution_count": 194,
   "id": "1fc3615a-bf07-4dfe-9dd3-2633971aa047",
   "metadata": {},
   "outputs": [
    {
     "data": {
      "text/plain": [
       "{'Name': 'Prajwal', 'ID': 4524, 'DOB': 2002}"
      ]
     },
     "execution_count": 194,
     "metadata": {},
     "output_type": "execute_result"
    }
   ],
   "source": [
    "# Dictionary function\n",
    "mydict={'Name':'Prajwal','ID':4524,'DOB':\"14-04-2002\",'Address':'Banglore'}\n",
    "mydict\n",
    "mydict['DOB']=2002\n",
    "mydict\n",
    "dict={'Education':'Engg'}\n",
    "mydict.update(dict)\n",
    "mydict\n",
    "mydict['Job']=\"searching\"\n",
    "mydict\n",
    "mydict.pop('Job') # removing perticuler item\n",
    "mydict\n",
    "mydict.popitem() # last element removed randomly\n",
    "mydict\n",
    "del[mydict['Address']] # deleting item \n",
    "mydict\n",
    "mydict.clear() # deleting all items "
   ]
  },
  {
   "cell_type": "markdown",
   "id": "350a5d36-1808-4356-8181-9f32e999feaf",
   "metadata": {},
   "source": [
    "USER INPUT : Python allows for user input.\n",
    "That means we are able to ask the user for input."
   ]
  },
  {
   "cell_type": "code",
   "execution_count": 197,
   "id": "69d22d2e-909d-4aac-ac52-915de3b7c43b",
   "metadata": {},
   "outputs": [
    {
     "name": "stdin",
     "output_type": "stream",
     "text": [
      "Enter your name this \n"
     ]
    },
    {
     "name": "stdout",
     "output_type": "stream",
     "text": [
      "this \n"
     ]
    }
   ],
   "source": [
    "name=input(\"Enter your name\")\n",
    "print(name)"
   ]
  },
  {
   "cell_type": "markdown",
   "id": "40eeb497-086e-4a18-857b-e9830ae1b697",
   "metadata": {},
   "source": [
    "Conditional statement:\n",
    "\n",
    "Python supports the usual logical conditions from mathematics:\n",
    "\n",
    "Equals: a == b\n",
    "Not Equals: a != b\n",
    "Less than: a < b\n",
    "Less than or equal to: a <= b\n",
    "Greater than: a > b\n",
    "Greater than or equal to: a >= b\n",
    "These conditions can be used in several ways, most commonly in \"if statements\" and loops.\n",
    "\n",
    "An \"if statement\" is written by using the if keyword."
   ]
  },
  {
   "cell_type": "code",
   "execution_count": 196,
   "id": "7ddcc3fd-a282-4105-b520-93a56036fddb",
   "metadata": {},
   "outputs": [
    {
     "name": "stdout",
     "output_type": "stream",
     "text": [
      "a is greater than b\n"
     ]
    }
   ],
   "source": [
    "a = 200\n",
    "b = 33\n",
    "if b > a:\n",
    "  print(\"b is greater than a\")\n",
    "elif a == b:\n",
    "  print(\"a and b are equal\")\n",
    "else:\n",
    "  print(\"a is greater than b\")"
   ]
  },
  {
   "cell_type": "markdown",
   "id": "772fd930-fb91-42b7-83d3-e37643281e40",
   "metadata": {},
   "source": [
    "Nested if statements means condition inside the if condition"
   ]
  },
  {
   "cell_type": "code",
   "execution_count": 199,
   "id": "9049655b-c331-4a8b-b07e-7d107601c7f3",
   "metadata": {},
   "outputs": [
    {
     "name": "stdin",
     "output_type": "stream",
     "text": [
      "Enter your age 34\n"
     ]
    },
    {
     "name": "stdout",
     "output_type": "stream",
     "text": [
      "You are eligible\n"
     ]
    }
   ],
   "source": [
    "age=int(input(\"Enter your age\"))\n",
    "if age <18:\n",
    "    print('Your not eligible for voting')\n",
    "elif age<=18:\n",
    "    print(\"Your eligible for vote\")\n",
    "else:\n",
    "    print('You are eligible')"
   ]
  },
  {
   "cell_type": "markdown",
   "id": "03cbcd74-0144-432c-bac3-1aa7d5f15778",
   "metadata": {},
   "source": [
    "Looping statement : a fundamental aspect of programming languages that provide a way to execute a block of code repeatedly. \n",
    "For loop: The for loop iterates over a sequence (such as a list or string) or any iterable object. It executes a block of code once for each element in the sequence. \n",
    "Iterating over a list"
   ]
  },
  {
   "cell_type": "code",
   "execution_count": 15,
   "id": "8f6e1064-58c0-46f9-9d33-d3d3a8b43642",
   "metadata": {},
   "outputs": [
    {
     "name": "stdout",
     "output_type": "stream",
     "text": [
      "apple\n",
      "banana\n",
      "cherry\n",
      "p\n",
      "y\n",
      "t\n",
      "h\n",
      "o\n",
      "n\n"
     ]
    }
   ],
   "source": [
    "fruits = [\"apple\", \"banana\", \"cherry\"]\n",
    "for x in fruits:\n",
    "  print(x) \n",
    "\n",
    "for i in 'python':\n",
    "    print(i)\n"
   ]
  },
  {
   "cell_type": "markdown",
   "id": "cd49890f-079f-44e8-918c-cec27b1c082d",
   "metadata": {},
   "source": [
    "while loop : The while loop repeatedly executes a block of statements as long as a specified condition evaluates to True. It is used when you do not know beforehand how many times the loop will need to execute."
   ]
  },
  {
   "cell_type": "code",
   "execution_count": 203,
   "id": "1ba6375d-a9a7-494c-a6fe-4b20506679c4",
   "metadata": {},
   "outputs": [
    {
     "name": "stdout",
     "output_type": "stream",
     "text": [
      "0\n",
      "1\n",
      "2\n",
      "3\n",
      "4\n",
      "5\n"
     ]
    }
   ],
   "source": [
    "# Using a while loop to print numbers from 1 to 5\n",
    "count = 0\n",
    "while count <= 5:\n",
    "    print(count)\n",
    "    count += 1"
   ]
  },
  {
   "cell_type": "code",
   "execution_count": null,
   "id": "cde2ebff-f0ee-4a93-a8a9-818e9607e833",
   "metadata": {},
   "outputs": [],
   "source": [
    "# Using break in a for loop : breaks the statement when the  if conditions gets true \n",
    "fruits = [\"apple\", \"banana\", \"cherry\"]\n",
    "for fruit in fruits:\n",
    "    print(fruit)\n",
    "    if fruit == \"banana\":\n",
    "        break\n",
    "# Output:\n",
    "# apple\n",
    "# banana\n"
   ]
  },
  {
   "cell_type": "code",
   "execution_count": 20,
   "id": "2edb978e-39a0-4c89-8326-649f9b46b0ca",
   "metadata": {},
   "outputs": [
    {
     "name": "stdout",
     "output_type": "stream",
     "text": [
      "1\n",
      "2\n",
      "4\n",
      "5\n",
      "6\n",
      "7\n",
      "8\n",
      "9\n",
      "1\n",
      "2\n",
      "3\n"
     ]
    }
   ],
   "source": [
    "# Using continue in a while loop  : continue except the element of if conditions \n",
    "count = 0\n",
    "while count < 20:\n",
    "    count += 1\n",
    "    if count == 3:\n",
    "        continue\n",
    "    if count==10:\n",
    "        break\n",
    "    print(count)"
   ]
  },
  {
   "cell_type": "code",
   "execution_count": 23,
   "id": "3c8389c9-adf3-4edd-b0e9-e71cc47cdc57",
   "metadata": {},
   "outputs": [
    {
     "name": "stdout",
     "output_type": "stream",
     "text": [
      "1\n",
      "2\n",
      "3\n"
     ]
    }
   ],
   "source": [
    "i = 1\n",
    "while i < 6:\n",
    "  print(i)\n",
    "  if i == 3:\n",
    "    break\n",
    "  i += 1"
   ]
  },
  {
   "cell_type": "code",
   "execution_count": 22,
   "id": "9f6a4803-164d-4dc7-9239-5a9bfe8dc150",
   "metadata": {},
   "outputs": [
    {
     "name": "stdout",
     "output_type": "stream",
     "text": [
      "1\n",
      "2\n",
      "4\n",
      "5\n",
      "6\n"
     ]
    }
   ],
   "source": [
    "i = 0\n",
    "while i < 6:\n",
    "  i += 1\n",
    "  if i == 3:\n",
    "    continue\n",
    "  print(i)"
   ]
  },
  {
   "cell_type": "code",
   "execution_count": 207,
   "id": "ef9dc05e-22b2-4aa3-b2a1-897ff4f1bae9",
   "metadata": {},
   "outputs": [
    {
     "name": "stdout",
     "output_type": "stream",
     "text": [
      "1\n",
      "2\n",
      "3\n",
      "4\n",
      "5\n",
      "6\n",
      "7\n",
      "8\n",
      "9\n"
     ]
    }
   ],
   "source": [
    "# range () function : The range() function returns a sequence of numbers, starting from 0 by default, and increments by 1 (by default), and ends at a specified number.\n",
    "for i in range(1,10):\n",
    "    print(i)\n",
    "    "
   ]
  },
  {
   "cell_type": "code",
   "execution_count": 27,
   "id": "e063932b-0107-4ec0-bbf7-3c34f384d95d",
   "metadata": {},
   "outputs": [
    {
     "name": "stdin",
     "output_type": "stream",
     "text": [
      "Enter the number :  8\n"
     ]
    },
    {
     "name": "stdout",
     "output_type": "stream",
     "text": [
      "8 X 1 = 8\n",
      "8 X 2 = 16\n",
      "8 X 3 = 24\n",
      "8 X 4 = 32\n",
      "8 X 5 = 40\n",
      "8 X 6 = 48\n",
      "8 X 7 = 56\n",
      "8 X 8 = 64\n",
      "8 X 9 = 72\n",
      "8 X 10 = 80\n"
     ]
    }
   ],
   "source": [
    "#Multiplication table\n",
    "num=int(input('Enter the number : '))\n",
    "for i in range(10):\n",
    "    print(num,'X',(i+1),'=',num*(i+1))"
   ]
  },
  {
   "cell_type": "code",
   "execution_count": 9,
   "id": "329e66d1-26c1-47f4-b641-ed0deb179e88",
   "metadata": {},
   "outputs": [
    {
     "name": "stdout",
     "output_type": "stream",
     "text": [
      "1\t2\t3\t4\t5\t6\t7\t8\t9\t10\t\n",
      "2\t4\t6\t8\t10\t12\t14\t16\t18\t20\t\n",
      "3\t6\t9\t12\t15\t18\t21\t24\t27\t30\t\n",
      "4\t8\t12\t16\t20\t24\t28\t32\t36\t40\t\n",
      "5\t10\t15\t20\t25\t30\t35\t40\t45\t50\t\n",
      "6\t12\t18\t24\t30\t36\t42\t48\t54\t60\t\n",
      "7\t14\t21\t28\t35\t42\t49\t56\t63\t70\t\n",
      "8\t16\t24\t32\t40\t48\t56\t64\t72\t80\t\n",
      "9\t18\t27\t36\t45\t54\t63\t72\t81\t90\t\n",
      "10\t20\t30\t40\t50\t60\t70\t80\t90\t100\t\n"
     ]
    }
   ],
   "source": [
    "for i in range(1,11):\n",
    "    for j in range(1,11):\n",
    "        print(i*j,end=\"\\t\")\n",
    "    print()"
   ]
  },
  {
   "cell_type": "code",
   "execution_count": 32,
   "id": "f5543066-c630-4a63-bd6e-ef56801afbef",
   "metadata": {},
   "outputs": [
    {
     "name": "stdin",
     "output_type": "stream",
     "text": [
      "Enter the number:  7\n"
     ]
    },
    {
     "name": "stdout",
     "output_type": "stream",
     "text": [
      "this is  prime number \n"
     ]
    }
   ],
   "source": [
    "# prime number\n",
    "num=int(input(\"Enter the number: \"))\n",
    "for i in range(2,num):\n",
    "    if (num%i==0):\n",
    "        print(\"This is not prime number \")\n",
    "        break\n",
    "else:\n",
    "    print(\"this is  prime number \")"
   ]
  },
  {
   "cell_type": "code",
   "execution_count": 30,
   "id": "1d6623d3-d41c-4b2b-bbee-99456a551864",
   "metadata": {},
   "outputs": [
    {
     "name": "stdin",
     "output_type": "stream",
     "text": [
      "Enter a number:  4\n"
     ]
    },
    {
     "name": "stdout",
     "output_type": "stream",
     "text": [
      "4 is not a prime number.\n"
     ]
    }
   ],
   "source": [
    "# Function to check if a number is prime\n",
    "def is_prime(num):\n",
    "    # Prime numbers must be greater than 1\n",
    "    if num <= 1:\n",
    "        return False\n",
    "    # Check for factors from 2 to the square root of num\n",
    "    for i in range(2, int(num**0.5) + 1):\n",
    "        if num % i == 0:\n",
    "            return False\n",
    "    return True\n",
    "\n",
    "# Get user input\n",
    "number = int(input(\"Enter a number: \"))\n",
    "\n",
    "# Check if the number is prime and print the result\n",
    "if is_prime(number):\n",
    "    print(f\"{number} is a prime number.\")\n",
    "else:\n",
    "    print(f\"{number} is not a prime number.\")\n"
   ]
  },
  {
   "cell_type": "markdown",
   "id": "bd809faf-da98-4c1f-9ab3-edb74e1f4e50",
   "metadata": {},
   "source": [
    "Python program to find the sum of first N natural numbers"
   ]
  },
  {
   "cell_type": "code",
   "execution_count": 47,
   "id": "825920ba-042e-4438-9fba-d740a14a5a1c",
   "metadata": {},
   "outputs": [
    {
     "name": "stdout",
     "output_type": "stream",
     "text": [
      "15\n",
      "3\n",
      "15\n",
      "15\n"
     ]
    }
   ],
   "source": [
    "num=5\n",
    "sum=0\n",
    "for i in range(num+1):\n",
    "    sum+=i\n",
    "print(sum)\n",
    "\n",
    "num=2\n",
    "i=0\n",
    "sum=0\n",
    "while(i<=num):\n",
    "    sum+=i\n",
    "    i+=1\n",
    "print(sum)\n",
    "\n",
    "num=5\n",
    "print(int(num*(num+1)/2))\n",
    "\n",
    "\n",
    "def getSum(num):\n",
    "    if num<=1:\n",
    "        return 1\n",
    "    return num+getSum(num-1)\n",
    "num1=5\n",
    "print(getSum(num1))"
   ]
  },
  {
   "cell_type": "code",
   "execution_count": 28,
   "id": "a929d892-dffd-46fc-be68-21b729c8f61d",
   "metadata": {},
   "outputs": [
    {
     "name": "stdin",
     "output_type": "stream",
     "text": [
      "Enter the number :  3\n"
     ]
    },
    {
     "name": "stdout",
     "output_type": "stream",
     "text": [
      "thw sum of first 3 natural number is 6\n"
     ]
    }
   ],
   "source": [
    "# sum of n natural number \n",
    "n=int(input(\"Enter the number : \"))\n",
    "i=0;\n",
    "sum=0\n",
    "while(i<=n):\n",
    "    sum+=i\n",
    "    i+=1\n",
    "    \n",
    "print(f\"the sum of first {n} natural number is {sum}\")\n",
    "    "
   ]
  },
  {
   "cell_type": "markdown",
   "id": "f4a3b837-7dd5-41f4-8b79-3dd600cbf692",
   "metadata": {},
   "source": [
    "Python program to check if a numbe is positive r negative"
   ]
  },
  {
   "cell_type": "code",
   "execution_count": 34,
   "id": "825315d6-07ee-459f-a327-a764b6d5e632",
   "metadata": {},
   "outputs": [
    {
     "name": "stdin",
     "output_type": "stream",
     "text": [
      "Enter the number:  -2\n"
     ]
    },
    {
     "name": "stdout",
     "output_type": "stream",
     "text": [
      "Negative\n"
     ]
    }
   ],
   "source": [
    "num=int(input('Enter the number: '))\n",
    "if num>0:\n",
    "    print('positive')\n",
    "elif num<0:\n",
    "    print('Negative')\n",
    "else:\n",
    "    print('Zero')"
   ]
  },
  {
   "cell_type": "markdown",
   "id": "6448bfb0-e9fd-43e2-8b3d-cbb6baa29412",
   "metadata": {},
   "source": [
    "Python program to check whether a number is even r odd"
   ]
  },
  {
   "cell_type": "code",
   "execution_count": 38,
   "id": "bc3298c2-b1e9-4de7-adea-d1731064db9a",
   "metadata": {},
   "outputs": [
    {
     "name": "stdin",
     "output_type": "stream",
     "text": [
      "Enter the number :  4\n"
     ]
    },
    {
     "name": "stdout",
     "output_type": "stream",
     "text": [
      "Number is even\n"
     ]
    }
   ],
   "source": [
    "num=int(input('Enter the number : '))\n",
    "if num%2==0:\n",
    "    print('Number is even')\n",
    "else:\n",
    "    print('Number is odd')"
   ]
  },
  {
   "cell_type": "markdown",
   "id": "d2147004-1d04-4ef5-be53-3fa6f1e572ca",
   "metadata": {},
   "source": [
    "Greatest of 2 number "
   ]
  },
  {
   "cell_type": "code",
   "execution_count": 55,
   "id": "bc9ef370-5922-42bb-9496-d84104717bcc",
   "metadata": {},
   "outputs": [
    {
     "name": "stdout",
     "output_type": "stream",
     "text": [
      "is lesser\n"
     ]
    }
   ],
   "source": [
    "num1=40\n",
    "num2=30\n",
    "if num>num2:\n",
    "    print('is greater')\n",
    "else:\n",
    "    print('is lesser')"
   ]
  },
  {
   "cell_type": "markdown",
   "id": "54da1497-e17a-4e3d-8c5c-fef2c51ff2ee",
   "metadata": {},
   "source": [
    "Greatest of 3 number"
   ]
  },
  {
   "cell_type": "code",
   "execution_count": 57,
   "id": "9472cbed-1579-4c9d-9081-c42a5ddc1c6f",
   "metadata": {},
   "outputs": [
    {
     "name": "stdout",
     "output_type": "stream",
     "text": [
      "40\n"
     ]
    }
   ],
   "source": [
    "num1,num2,num3=20,30,40\n",
    "if num>=num2 and num1>=num3:\n",
    "    print(num1)\n",
    "elif num2>=num1 and num2>=num3:\n",
    "    print(num2)\n",
    "else:\n",
    "    print(num3)"
   ]
  },
  {
   "cell_type": "markdown",
   "id": "f22c5924-f52b-4db4-bb73-b650521d0a23",
   "metadata": {},
   "source": [
    "Python Program to check Leap year"
   ]
  },
  {
   "cell_type": "code",
   "execution_count": 58,
   "id": "b001851f-5c17-494d-b327-6e48f202b2a0",
   "metadata": {},
   "outputs": [
    {
     "name": "stdin",
     "output_type": "stream",
     "text": [
      "Enter year : 300\n"
     ]
    },
    {
     "name": "stdout",
     "output_type": "stream",
     "text": [
      "300 is not leap year\n"
     ]
    }
   ],
   "source": [
    "import calendar\n",
    "year=int(input('Enter year :'))\n",
    "if calendar.isleap(year):\n",
    "    print(year,'is leap year')\n",
    "else:\n",
    "    print(year,'is not leap year')"
   ]
  },
  {
   "cell_type": "code",
   "execution_count": 66,
   "id": "43c018fd-a0bb-47c8-9ccb-edb87ba35936",
   "metadata": {},
   "outputs": [
    {
     "name": "stdin",
     "output_type": "stream",
     "text": [
      "Enter the year 890\n"
     ]
    },
    {
     "name": "stdout",
     "output_type": "stream",
     "text": [
      "890 is not leap year\n"
     ]
    }
   ],
   "source": [
    "year=int(input('Enter the year'))\n",
    "if year%4==0 and year %100!=0:\n",
    "    print(year,'is leap year')\n",
    "else:\n",
    "    print(year,'is not leap year')"
   ]
  },
  {
   "cell_type": "markdown",
   "id": "d27e08a1-acab-4ee4-86dd-a0e163d22ed7",
   "metadata": {},
   "source": [
    "Python program to check prime number "
   ]
  },
  {
   "cell_type": "code",
   "execution_count": 67,
   "id": "1050f13d-cf83-4efe-8dd0-6affc997046e",
   "metadata": {},
   "outputs": [
    {
     "name": "stdin",
     "output_type": "stream",
     "text": [
      "Enter the number:  2\n"
     ]
    },
    {
     "name": "stdout",
     "output_type": "stream",
     "text": [
      "this is  prime number \n"
     ]
    }
   ],
   "source": [
    "# prime number\n",
    "num=int(input(\"Enter the number: \"))\n",
    "for i in range(2,num):\n",
    "    if (num%i==0):\n",
    "        print(\"This is not prime number \")\n",
    "        break\n",
    "else:\n",
    "    print(\"this is  prime number \")"
   ]
  },
  {
   "cell_type": "code",
   "execution_count": 68,
   "id": "3ffdf007-615c-463d-9d84-434b40bfd58d",
   "metadata": {},
   "outputs": [
    {
     "name": "stdin",
     "output_type": "stream",
     "text": [
      "Enter a number:  3\n"
     ]
    },
    {
     "name": "stdout",
     "output_type": "stream",
     "text": [
      "3 is a prime number.\n"
     ]
    }
   ],
   "source": [
    "# Function to check if a number is prime\n",
    "def is_prime(num):\n",
    "    # Prime numbers must be greater than 1\n",
    "    if num <= 1:\n",
    "        return False\n",
    "    # Check for factors from 2 to the square root of num\n",
    "    for i in range(2, int(num**0.5) + 1):\n",
    "        if num % i == 0:\n",
    "            return False\n",
    "    return True\n",
    "\n",
    "# Get user input\n",
    "number = int(input(\"Enter a number: \"))\n",
    "\n",
    "# Check if the number is prime and print the result\n",
    "if is_prime(number):\n",
    "    print(f\"{number} is a prime number.\")\n",
    "else:\n",
    "    print(f\"{number} is not a prime number.\")\n"
   ]
  },
  {
   "cell_type": "markdown",
   "id": "c3a2a36e-7b1f-4891-9d7d-c79ff58921f0",
   "metadata": {},
   "source": [
    "Reverse a number"
   ]
  },
  {
   "cell_type": "code",
   "execution_count": 82,
   "id": "6f3acad6-17a6-439c-91b0-1e9146487933",
   "metadata": {},
   "outputs": [
    {
     "name": "stdout",
     "output_type": "stream",
     "text": [
      "4321\n",
      "4321\n"
     ]
    }
   ],
   "source": [
    "num = 1234\n",
    "temp = num\n",
    "reverse = 0\n",
    "\n",
    "while num > 0:\n",
    "    remainder = num % 10\n",
    "    reverse = (reverse * 10) + remainder\n",
    "    num = num // 10\n",
    "\n",
    "print(reverse)\n",
    "\n",
    "num = 1234\n",
    "\n",
    "\n",
    "# Reverse the number by converting it to a string and slicing\n",
    "reversed_num_str = str(num)[::-1]\n",
    "\n",
    "# Print the reversed string\n",
    "print(reversed_num_str)\n"
   ]
  },
  {
   "cell_type": "markdown",
   "id": "1915979a-faf9-4123-b6f7-ad5319b681be",
   "metadata": {},
   "source": [
    "Reverse string"
   ]
  },
  {
   "cell_type": "code",
   "execution_count": 83,
   "id": "ec2665a6-8749-4b81-acfd-a55349d14a5c",
   "metadata": {},
   "outputs": [
    {
     "name": "stdin",
     "output_type": "stream",
     "text": [
      "Enter a string:  rbvi\n"
     ]
    },
    {
     "name": "stdout",
     "output_type": "stream",
     "text": [
      "The reversed string is: ivbr\n"
     ]
    }
   ],
   "source": [
    "# Get user input\n",
    "string = input(\"Enter a string: \")\n",
    "\n",
    "# Reverse the string using slicing\n",
    "reversed_string = string[::-1]\n",
    "\n",
    "# Print the reversed string\n",
    "print(f\"The reversed string is: {reversed_string}\")\n"
   ]
  },
  {
   "cell_type": "markdown",
   "id": "c3e34875-cfa5-48d1-b3a8-5c16752eb735",
   "metadata": {},
   "source": [
    "Palindrome number"
   ]
  },
  {
   "cell_type": "code",
   "execution_count": 85,
   "id": "b9db4810-ffd3-4573-93d6-312a1d15b393",
   "metadata": {},
   "outputs": [
    {
     "name": "stdout",
     "output_type": "stream",
     "text": [
      "Not polindrome\n"
     ]
    }
   ],
   "source": [
    "num=12213\n",
    "revser=int(str(num)[::-1])\n",
    "if num==revser:\n",
    "    print('Palindrome')\n",
    "else:\n",
    "    print('Not polindrome')"
   ]
  },
  {
   "cell_type": "markdown",
   "id": "ddaad816-b421-4b94-a715-62178571fb9d",
   "metadata": {},
   "source": [
    "Polindrome String"
   ]
  },
  {
   "cell_type": "code",
   "execution_count": 86,
   "id": "d35f64ec-ba43-40f4-be26-ae929e5cb8c8",
   "metadata": {},
   "outputs": [
    {
     "name": "stdin",
     "output_type": "stream",
     "text": [
      "Enter a string:  rtjf\n"
     ]
    },
    {
     "name": "stdout",
     "output_type": "stream",
     "text": [
      "\"rtjf\" is not a palindrome.\n"
     ]
    }
   ],
   "source": [
    "# Function to check if a string is a palindrome\n",
    "def is_palindrome(s):\n",
    "    # Remove spaces and convert to lowercase for uniformity\n",
    "    s = s.replace(\" \", \"\").lower()\n",
    "    # Check if the string is equal to its reversed version\n",
    "    return s == s[::-1]\n",
    "\n",
    "# Get user input\n",
    "string = input(\"Enter a string: \")\n",
    "\n",
    "# Check if the string is a palindrome and print the result\n",
    "if is_palindrome(string):\n",
    "    print(f'\"{string}\" is a palindrome.')\n",
    "else:\n",
    "    print(f'\"{string}\" is not a palindrome.')\n"
   ]
  },
  {
   "cell_type": "code",
   "execution_count": 77,
   "id": "cbd821af-4988-44b9-b690-f3cb209ef1b4",
   "metadata": {},
   "outputs": [
    {
     "name": "stdout",
     "output_type": "stream",
     "text": [
      "Normal pyramid \n",
      "          \n",
      "    *     \n",
      "   * *    \n",
      "  * * *   \n",
      " * * * *  \n"
     ]
    }
   ],
   "source": [
    "print('Normal pyramid ')\n",
    "for i in range(5):\n",
    "    x=\"* \"\n",
    "    x=x*i\n",
    "    print(f'{x: ^10}')"
   ]
  },
  {
   "cell_type": "code",
   "execution_count": 32,
   "id": "ba863ba8-29aa-48a4-b202-d7231401c6a9",
   "metadata": {},
   "outputs": [
    {
     "name": "stdout",
     "output_type": "stream",
     "text": [
      "Invert Pyramid\n",
      "\n",
      "* * * * * \n",
      " * * * *  \n",
      "  * * *   \n",
      "   * *    \n",
      "    *     \n"
     ]
    }
   ],
   "source": [
    "print('Invert Pyramid\\n')\n",
    "for i in range(5):\n",
    "    x='* '\n",
    "    x=x*(5-i)\n",
    "    print(f'{x: ^10}')"
   ]
  },
  {
   "cell_type": "code",
   "execution_count": 38,
   "id": "f1159d2d-dd0b-410c-aaa7-d55cf46dfa50",
   "metadata": {},
   "outputs": [
    {
     "name": "stdout",
     "output_type": "stream",
     "text": [
      "Left sided Pyramid\n",
      "          \n",
      "*         \n",
      "* *       \n",
      "* * *     \n",
      "* * * *   \n"
     ]
    }
   ],
   "source": [
    "print('Left sided Pyramid')\n",
    "for i in range(5):\n",
    "    x='* '\n",
    "    x=x*i\n",
    "    print(f'{x: <10}'"
   ]
  },
  {
   "cell_type": "code",
   "execution_count": 39,
   "id": "7cf50154-ffb5-4d15-a827-4c4d1e16a599",
   "metadata": {},
   "outputs": [
    {
     "name": "stdout",
     "output_type": "stream",
     "text": [
      "Left sided Pyramid\n",
      "          \n",
      "        * \n",
      "      * * \n",
      "    * * * \n",
      "  * * * * \n"
     ]
    }
   ],
   "source": [
    "print('Left sided Pyramid')\n",
    "for i in range(5):\n",
    "    x='* '\n",
    "    x=x*i\n",
    "    print(f'{x: >10}')\n",
    "\n"
   ]
  },
  {
   "cell_type": "code",
   "execution_count": 40,
   "id": "cf156d47-ef51-4e03-804a-a72e6f9f7d6c",
   "metadata": {},
   "outputs": [
    {
     "name": "stdout",
     "output_type": "stream",
     "text": [
      " \n",
      "*  \n",
      "* *  \n",
      "* * *  \n",
      "* * * *  \n",
      "* * * * *  \n"
     ]
    }
   ],
   "source": [
    "for i in range(0,6): # for row \n",
    "    for j in range(1,i+1): # for column\n",
    "        print(\"*\", end=\" \")\n",
    "    print(' ')"
   ]
  },
  {
   "cell_type": "code",
   "execution_count": 46,
   "id": "8b6442d4-bbed-4d60-aa02-1ded5dcfe079",
   "metadata": {},
   "outputs": [
    {
     "name": "stdout",
     "output_type": "stream",
     "text": [
      "* * * * * \n",
      "* * * * * \n",
      "* * * * * \n"
     ]
    }
   ],
   "source": [
    "for i in range(0,3): # for row\n",
    "    for j in range(1,6): # for column\n",
    "        print(\"*\",end=\" \")\n",
    "    print()"
   ]
  },
  {
   "cell_type": "code",
   "execution_count": 42,
   "id": "2a57621d-d0eb-4209-bec8-79b28241836a",
   "metadata": {},
   "outputs": [
    {
     "name": "stdout",
     "output_type": "stream",
     "text": [
      "* * * * * * \n",
      "* * * * * \n",
      "* * * * \n",
      "* * * \n",
      "* * \n",
      "* \n"
     ]
    }
   ],
   "source": [
    "for i in range(6):\n",
    "    for j in range(6-i):\n",
    "        print(\"*\", end=\" \")\n",
    "    print()"
   ]
  },
  {
   "cell_type": "code",
   "execution_count": 43,
   "id": "8a28e555-8d66-4d05-9218-7d55b2af576f",
   "metadata": {},
   "outputs": [
    {
     "name": "stdout",
     "output_type": "stream",
     "text": [
      "    *\n",
      "   ***\n",
      "  *****\n",
      " *******\n",
      "*********\n"
     ]
    }
   ],
   "source": [
    "# Number of levels in the pyramid\n",
    "n = 5\n",
    "\n",
    "# Outer loop for each level of the pyramid\n",
    "for i in range(n):\n",
    "    # Print leading spaces\n",
    "    for j in range(n - i - 1):\n",
    "        print(\" \", end=\"\")\n",
    "    # Print stars for the pyramid level\n",
    "    for k in range(2 * i + 1):\n",
    "        print(\"*\", end=\"\")\n",
    "    # Move to the next line after each level\n",
    "    print()\n"
   ]
  },
  {
   "cell_type": "code",
   "execution_count": 44,
   "id": "08f77e3e-305b-4af7-ba2f-6fc3fe9f3e5c",
   "metadata": {},
   "outputs": [
    {
     "name": "stdout",
     "output_type": "stream",
     "text": [
      "*********\n",
      " *******\n",
      "  *****\n",
      "   ***\n",
      "    *\n"
     ]
    }
   ],
   "source": [
    "# Number of levels in the inverted pyramid\n",
    "n = 5\n",
    "\n",
    "# Outer loop for each level of the inverted pyramid\n",
    "for i in range(n):\n",
    "    # Print leading spaces\n",
    "    for j in range(i):\n",
    "        print(\" \", end=\"\")\n",
    "    # Print stars for the inverted pyramid level\n",
    "    for k in range(2 * (n - i) - 1):\n",
    "        print(\"*\", end=\"\")\n",
    "    # Move to the next line after each level\n",
    "    print()\n"
   ]
  },
  {
   "cell_type": "code",
   "execution_count": 55,
   "id": "5f288c16-dcaf-45ba-87b7-0e644f82471c",
   "metadata": {},
   "outputs": [
    {
     "name": "stdin",
     "output_type": "stream",
     "text": [
      "Enter the number :  2\n"
     ]
    },
    {
     "name": "stdout",
     "output_type": "stream",
     "text": [
      "2 X 10 = 20\n",
      "2 X 9 = 18\n",
      "2 X 8 = 16\n",
      "2 X 7 = 14\n",
      "2 X 6 = 12\n",
      "2 X 5 = 10\n",
      "2 X 4 = 8\n",
      "2 X 3 = 6\n",
      "2 X 2 = 4\n",
      "2 X 1 = 2\n"
     ]
    }
   ],
   "source": [
    "n=int(input(\"Enter the number : \"))\n",
    "for j in range(1,11):\n",
    "    i=11-j\n",
    "    print(f\"{n} X {i} = {n*i}\")"
   ]
  },
  {
   "cell_type": "markdown",
   "id": "5cf9fd08-d6be-4015-9f77-8ee949734915",
   "metadata": {},
   "source": [
    "Function : It is a block of code used to perform specific tasks \n",
    "A function is a block of code which only runs when it is called.\n",
    "\n",
    "Information can be passed into functions as arguments.on"
   ]
  },
  {
   "cell_type": "code",
   "execution_count": 58,
   "id": "ea6428a7-b936-4a16-9676-60c668ada65a",
   "metadata": {},
   "outputs": [
    {
     "name": "stdout",
     "output_type": "stream",
     "text": [
      "Hello from a function\n"
     ]
    }
   ],
   "source": [
    "# You can pass data, known as parameters, into a function\n",
    "def my_function(): # my function is parameter\n",
    "  print(\"Hello from a function\")\n",
    "\n",
    "my_function()"
   ]
  },
  {
   "cell_type": "code",
   "execution_count": 113,
   "id": "1f8a7cf1-aa43-4298-a472-8f7238da3d9c",
   "metadata": {},
   "outputs": [
    {
     "name": "stdin",
     "output_type": "stream",
     "text": [
      "Enter 1st number: 10\n",
      "Enter 2nd number: 20\n"
     ]
    },
    {
     "name": "stdout",
     "output_type": "stream",
     "text": [
      "addition of two number is : 30\n"
     ]
    }
   ],
   "source": [
    "# Arguments are specified after the function name, inside the parentheses\n",
    "def add(p,q):\n",
    "    print(\"addition of two number is :\",p+q)\n",
    "x=int(input(\"Enter 1st number:\"))\n",
    "y=int(input(\"Enter 2nd number:\"))\n",
    "add(x,y)"
   ]
  },
  {
   "cell_type": "code",
   "execution_count": 79,
   "id": "e65069b6-f7f0-4c18-b59f-cffc8bcdbe28",
   "metadata": {},
   "outputs": [],
   "source": [
    "def calculation(obtained_marks,total_marks):\n",
    "    if obtained_marks==0:\n",
    "        return 0 \n",
    "    percentage=(obtained_marks/total_marks)*100\n",
    "total=600\n",
    "obtained=450\n",
    "percentage=calculation(obtained,total)\n",
    "percentage"
   ]
  },
  {
   "cell_type": "code",
   "execution_count": 78,
   "id": "1c70c80e-f04b-4e35-8be9-975f9804d97d",
   "metadata": {},
   "outputs": [
    {
     "data": {
      "text/plain": [
       "250.0"
      ]
     },
     "execution_count": 78,
     "metadata": {},
     "output_type": "execute_result"
    }
   ],
   "source": [
    "def calculate_percentage(obtained_marks, total_marks):\n",
    "    if total_marks == 0:\n",
    "        return 0  # To avoid division by zero error\n",
    "    percentage = (obtained_marks / total_marks) * 100\n",
    "    return percentage\n",
    "\n",
    "# Get input from the user\n",
    "obtained = 100\n",
    "total = 40\n",
    "\n",
    "# Calculate the percentage\n",
    "percentage = calculate_percentage(obtained, total)\n",
    "percentage\n",
    "# Print the result\n",
    "# print(f\"The percentage of marks obtained is {percentage:.2f}%\")\n"
   ]
  },
  {
   "cell_type": "code",
   "execution_count": 88,
   "id": "e987ca48-a07b-4715-86b5-25a0e2e54611",
   "metadata": {},
   "outputs": [
    {
     "name": "stdin",
     "output_type": "stream",
     "text": [
      "Enter the number  4\n"
     ]
    },
    {
     "name": "stdout",
     "output_type": "stream",
     "text": [
      "Even\n"
     ]
    }
   ],
   "source": [
    "# number is even r add \n",
    "def even_add(num):\n",
    "    if num%2==0:\n",
    "        print('Even')\n",
    "    else:\n",
    "        rprint('odd')\n",
    "num=int(input(\"Enter the number \"))\n",
    "even_add(num)"
   ]
  },
  {
   "cell_type": "code",
   "execution_count": 90,
   "id": "32fc8f85-688b-4c03-a200-60b69c8f506d",
   "metadata": {},
   "outputs": [
    {
     "name": "stdin",
     "output_type": "stream",
     "text": [
      "Enter the num1 20\n",
      "Enter the num2 30\n",
      "Enter the num3 40\n"
     ]
    },
    {
     "data": {
      "text/plain": [
       "40"
      ]
     },
     "execution_count": 90,
     "metadata": {},
     "output_type": "execute_result"
    }
   ],
   "source": [
    "def greatest(num1,num2,num3):\n",
    "    if(num1>num2):\n",
    "        greater=num1\n",
    "    else:\n",
    "        greater=num2\n",
    "    if(num3>greater):\n",
    "        greater=num3\n",
    "    return greater\n",
    "num1=int(input('Enter the num1'))\n",
    "num2=int(input('Enter the num2'))\n",
    "num3=int(input('Enter the num3'))\n",
    "greatest(num1,num2,num3)"
   ]
  },
  {
   "cell_type": "code",
   "execution_count": 92,
   "id": "e63c8e4a-7688-48e6-ad86-f20dc467d49c",
   "metadata": {},
   "outputs": [
    {
     "name": "stdin",
     "output_type": "stream",
     "text": [
      "Enter the number :  4\n"
     ]
    },
    {
     "data": {
      "text/plain": [
       "24"
      ]
     },
     "execution_count": 92,
     "metadata": {},
     "output_type": "execute_result"
    }
   ],
   "source": [
    "#factorial of n number \n",
    "def factorial(num):\n",
    "    if num<=1:\n",
    "        return 1 \n",
    "    else:\n",
    "        return num * factorial(num-1)\n",
    "num=int(input('Enter the number : '))\n",
    "factorial(num)"
   ]
  },
  {
   "cell_type": "code",
   "execution_count": 97,
   "id": "730a12ab-ed9d-4416-88c2-420e565ef5c8",
   "metadata": {},
   "outputs": [
    {
     "name": "stdin",
     "output_type": "stream",
     "text": [
      "Enter the number 4\n"
     ]
    },
    {
     "data": {
      "text/plain": [
       "10"
      ]
     },
     "execution_count": 97,
     "metadata": {},
     "output_type": "execute_result"
    }
   ],
   "source": [
    "# sum of n natatural number \n",
    "def sum(num):\n",
    "    if num==0:\n",
    "        return 0\n",
    "    else:\n",
    "        return num + sum(num-1)\n",
    "num=int(input('Enter the number'))\n",
    "sum(num)"
   ]
  },
  {
   "cell_type": "code",
   "execution_count": 103,
   "id": "e70e1fb4-c37c-4ddf-9ffd-8e3cfb117838",
   "metadata": {},
   "outputs": [
    {
     "name": "stdin",
     "output_type": "stream",
     "text": [
      "How many fibonacci numbers you want to generate - 4\n"
     ]
    },
    {
     "data": {
      "text/plain": [
       "3"
      ]
     },
     "execution_count": 103,
     "metadata": {},
     "output_type": "execute_result"
    }
   ],
   "source": [
    "# Fibbonacci series\n",
    "def fiboacci(num):\n",
    "   if num <= 0:\n",
    "       return num\n",
    "   if num == 1:\n",
    "       return 1\n",
    "   else: \n",
    "       return(fiboacci(num-1) + fiboacci(num-2)) \n",
    "nums = int(input(\"How many fibonacci numbers you want to generate -\"))\n",
    "fiboacci(nums)\n",
    "# for i in range(nums):\n",
    "#   print(fiboacci(i)) # Generate Fibonacci series"
   ]
  },
  {
   "cell_type": "code",
   "execution_count": 112,
   "id": "14f3a1ed-3be0-44f0-9fe6-68ff8ab9fcf4",
   "metadata": {},
   "outputs": [
    {
     "name": "stdout",
     "output_type": "stream",
     "text": [
      "This is functionThis is functionThis is functionThis is functionThis is functionThis is functionThis is functionThis is functionThis is functionThis is function\n"
     ]
    }
   ],
   "source": [
    "def display():\n",
    "    print('This is function'*10)\n",
    "display()"
   ]
  },
  {
   "cell_type": "markdown",
   "id": "5a8257c4-6445-413f-ac94-b101efe8368c",
   "metadata": {},
   "source": [
    "Lambda: lambda is an anonymous function without name \n",
    "lambda function can have any number of agruments but only one expression.The expression is evaluated and returned \n",
    "we use lambda function when we require nameless function for a short period of time "
   ]
  },
  {
   "cell_type": "code",
   "execution_count": 114,
   "id": "71cfcb73-8871-407c-9ebe-18049f4c7297",
   "metadata": {},
   "outputs": [
    {
     "data": {
      "text/plain": [
       "15"
      ]
     },
     "execution_count": 114,
     "metadata": {},
     "output_type": "execute_result"
    }
   ],
   "source": [
    "addition =lambda a:a+10\n",
    "addition(5)"
   ]
  },
  {
   "cell_type": "code",
   "execution_count": 116,
   "id": "4aab0662-4e61-422c-9dce-fee5d059efca",
   "metadata": {},
   "outputs": [
    {
     "data": {
      "text/plain": [
       "50"
      ]
     },
     "execution_count": 116,
     "metadata": {},
     "output_type": "execute_result"
    }
   ],
   "source": [
    "product=lambda a,b: a*b\n",
    "product(5,10)"
   ]
  },
  {
   "cell_type": "code",
   "execution_count": 118,
   "id": "bdbe7fab-1087-4d3d-83d7-80e9555b84b9",
   "metadata": {},
   "outputs": [
    {
     "data": {
      "text/plain": [
       "60.0"
      ]
     },
     "execution_count": 118,
     "metadata": {},
     "output_type": "execute_result"
    }
   ],
   "source": [
    "prt=lambda p,r,t:(p*r*t)/100\n",
    "prt(10,20,30)"
   ]
  },
  {
   "cell_type": "markdown",
   "id": "bf296024-f41e-4947-9aba-7334a0a99b1d",
   "metadata": {},
   "source": [
    "Map function : The map() function applies a given function to each item of an iterable (list, tuple etc.) and\n",
    "returns a list of the results.\n",
    "\n",
    "function : The function to execute for each item of given iterable.\r\n",
    "iterable : It is a iterable which is to be mapped"
   ]
  },
  {
   "cell_type": "code",
   "execution_count": 1,
   "id": "e6ca01cc-1692-45be-8c63-0c6f043b5c4d",
   "metadata": {},
   "outputs": [
    {
     "name": "stdout",
     "output_type": "stream",
     "text": [
      "<map object at 0x0000019A2F9C1060>\n",
      "[1, 4, 9, 16]\n"
     ]
    }
   ],
   "source": [
    "# map function()\n",
    "def calculateSquare(n):\n",
    "    return n*n\n",
    "    \n",
    "numbers=(1,2,3,4)\n",
    "result=map(calculateSquare,numbers)\n",
    "print(result)\n",
    "numbersSquare=list(result)\n",
    "print(numbersSquare)"
   ]
  },
  {
   "cell_type": "code",
   "execution_count": 2,
   "id": "ade3ac82-fd43-447f-a6a4-62e7aa672c72",
   "metadata": {},
   "outputs": [
    {
     "name": "stdout",
     "output_type": "stream",
     "text": [
      "<map object at 0x0000019A2F9C0910>\n",
      "[1, 4, 9, 16]\n"
     ]
    }
   ],
   "source": [
    "numbers=(1,2,3,4) #map with  lambda\n",
    "result=map(lambda x:x*x,numbers)\n",
    "print(result)\n",
    "numbersSquare=list(result)\n",
    "print(numbersSquare)"
   ]
  },
  {
   "cell_type": "markdown",
   "id": "7e9de567-48e5-4c05-9a61-e126f5774c13",
   "metadata": {},
   "source": [
    "Random Function : gives a random number"
   ]
  },
  {
   "cell_type": "code",
   "execution_count": 13,
   "id": "2ceaeba7-121c-4767-ae17-7b8fa912214b",
   "metadata": {},
   "outputs": [
    {
     "data": {
      "text/plain": [
       "457"
      ]
     },
     "execution_count": 13,
     "metadata": {},
     "output_type": "execute_result"
    }
   ],
   "source": [
    "import random\n",
    "a=['Head','Tail',457]\n",
    "flip=random.choice(a)\n",
    "flip"
   ]
  },
  {
   "cell_type": "markdown",
   "id": "a9bb4f71-94dd-49aa-8e49-17e24846b5be",
   "metadata": {},
   "source": [
    "OOP's: Object-Oriented Programming (OOP) is  a programming paradigm that uses objects and classes in programming.\n",
    "The key principles of OOP are encapsulation, inheritance, polymorphism, and abstraction.\n",
    "\n",
    "class :  Class is a \"blueprint\" for creating objects.class is the main building block and acts like template for the object .\n",
    "Object : Object is a collection of data function and are also called as instance of class or class variable \n",
    "In python everything is treated as an object.\n",
    "\n",
    "Variable defined inside the class are called class variable and function are called as method"
   ]
  },
  {
   "cell_type": "code",
   "execution_count": null,
   "id": "5664aeb8-a460-4544-8d09-22c264881919",
   "metadata": {},
   "outputs": [],
   "source": [
    "# OOP's:object oriented programming language\n",
    "class sample:\n",
    "    x=10\n",
    "    y=20\n",
    "s=sample()\n",
    "print(s.x)\n",
    "print(s.y)"
   ]
  },
  {
   "cell_type": "code",
   "execution_count": 14,
   "id": "279debf8-0cb6-4e4e-b01e-5ad489b49b5e",
   "metadata": {},
   "outputs": [
    {
     "name": "stdout",
     "output_type": "stream",
     "text": [
      "total marks: 184\n",
      "Average marks: 61.333333333333336\n"
     ]
    }
   ],
   "source": [
    "class student:\n",
    "    mark1,mark2,mark3=45,67,72\n",
    "    def process(self):\n",
    "        sum=self.mark1+self.mark2+self.mark3\n",
    "        avg=sum/3\n",
    "        print(\"total marks:\",sum)\n",
    "        print(\"Average marks:\",avg)\n",
    "        return\n",
    "s=student()\n",
    "s.process()"
   ]
  },
  {
   "cell_type": "code",
   "execution_count": null,
   "id": "62e76b78-6998-4a05-ac9b-f685b251c5ff",
   "metadata": {},
   "outputs": [],
   "source": []
  },
  {
   "cell_type": "code",
   "execution_count": null,
   "id": "c27c85fa-d430-4542-bcd7-352e12f97420",
   "metadata": {},
   "outputs": [],
   "source": []
  },
  {
   "cell_type": "code",
   "execution_count": null,
   "id": "cecbea4f-2355-46a3-a3b8-6ce699670979",
   "metadata": {},
   "outputs": [],
   "source": []
  },
  {
   "cell_type": "code",
   "execution_count": null,
   "id": "f05c7175-e106-4b41-93c6-0f8c7f8001d3",
   "metadata": {},
   "outputs": [],
   "source": []
  },
  {
   "cell_type": "code",
   "execution_count": null,
   "id": "7041a8a0-6436-4e30-a4ff-dd7b22e0d66b",
   "metadata": {},
   "outputs": [],
   "source": []
  },
  {
   "cell_type": "code",
   "execution_count": null,
   "id": "39ed8a98-6fb7-4c57-ba5c-b9cfb671e5e0",
   "metadata": {},
   "outputs": [],
   "source": []
  },
  {
   "cell_type": "code",
   "execution_count": null,
   "id": "70ac2027-5eff-4709-b1c9-93143f4cf7a7",
   "metadata": {},
   "outputs": [],
   "source": []
  },
  {
   "cell_type": "code",
   "execution_count": null,
   "id": "bea2331a-5005-4203-b342-23ed26dd582a",
   "metadata": {},
   "outputs": [],
   "source": []
  },
  {
   "cell_type": "code",
   "execution_count": null,
   "id": "a5bcbe2a-b863-4f79-98e5-1ef33f07a093",
   "metadata": {},
   "outputs": [],
   "source": []
  },
  {
   "cell_type": "code",
   "execution_count": null,
   "id": "75832bd5-5461-4ae3-9186-62e44fc761cd",
   "metadata": {},
   "outputs": [],
   "source": []
  },
  {
   "cell_type": "code",
   "execution_count": null,
   "id": "ef4207c5-8bb9-42bd-a84a-f2d8e0ae926b",
   "metadata": {},
   "outputs": [],
   "source": []
  },
  {
   "cell_type": "code",
   "execution_count": null,
   "id": "8d157773-cb5e-4a25-b8a4-21803c0f23ce",
   "metadata": {},
   "outputs": [],
   "source": []
  },
  {
   "cell_type": "code",
   "execution_count": null,
   "id": "670deaf7-707a-4ef6-baf5-5a0c3031c171",
   "metadata": {},
   "outputs": [],
   "source": []
  },
  {
   "cell_type": "code",
   "execution_count": null,
   "id": "c541cfaa-a8fd-4390-8076-ebd44b9e3b16",
   "metadata": {},
   "outputs": [],
   "source": []
  },
  {
   "cell_type": "code",
   "execution_count": null,
   "id": "7b01fbc7-888a-4c6e-9573-a114cee3906d",
   "metadata": {},
   "outputs": [],
   "source": []
  },
  {
   "cell_type": "code",
   "execution_count": null,
   "id": "e4f3a0ae-0bda-4465-aad4-fea2c8a94041",
   "metadata": {},
   "outputs": [],
   "source": []
  },
  {
   "cell_type": "code",
   "execution_count": null,
   "id": "354f7a8a-39a6-4b27-adc2-7ea1c6b647c6",
   "metadata": {},
   "outputs": [],
   "source": []
  },
  {
   "cell_type": "code",
   "execution_count": null,
   "id": "8675e699-4c02-452e-9b9a-bf791fda8b8d",
   "metadata": {},
   "outputs": [],
   "source": []
  }
 ],
 "metadata": {
  "kernelspec": {
   "display_name": "Python 3 (ipykernel)",
   "language": "python",
   "name": "python3"
  },
  "language_info": {
   "codemirror_mode": {
    "name": "ipython",
    "version": 3
   },
   "file_extension": ".py",
   "mimetype": "text/x-python",
   "name": "python",
   "nbconvert_exporter": "python",
   "pygments_lexer": "ipython3",
   "version": "3.11.7"
  }
 },
 "nbformat": 4,
 "nbformat_minor": 5
}
