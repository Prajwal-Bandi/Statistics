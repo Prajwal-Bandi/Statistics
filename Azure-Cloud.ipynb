{
 "cells": [
  {
   "cell_type": "markdown",
   "id": "ff2cfebd-7d2c-4c34-b7ee-cdb3d220606f",
   "metadata": {},
   "source": [
    "Cloud computing : Cloud computing is a technology that enables users to access and use computing resources,such as servers,storage, and applications,over the internet.Instead of owning and maintaining physical hardware,users can leverage remote servsers hosted in data centers to store data,run applications,and perform various computing tasks.\n",
    "Cloud computing is basically an ondemand delivery of different IT resources over the internet.   \n",
    "\n",
    "Key Concept of cloud-computing : \n",
    "1. On-Demand Self-Service: Users can access computing resources such as storage and processing power as needed, without requiring human interaction with service providers.\n",
    "\n",
    "2. Broad Network Access: Services are available over the network and accessed through standard mechanisms that promote use by heterogeneous thin or thick client platforms (e.g., mobile phones, laptops, and workstations).\n",
    "\n",
    "3. Resource Pooling: Computing resources are pooled to serve multiple users, with different physical and virtual resources dynamically assigned and reassigned according to demand. This often happens in a multi-tenant model.\n",
    "\n",
    "4. Rapid Elasticity: Capabilities can be elastically provisioned and released to scale rapidly outward and inward commensurate with demand. To the consumer, the capabilities available for provisioning often appear to be unlimited and can be appropriated in any quantity at any time.\n",
    "\n",
    "5. Measured Service: Cloud systems automatically control and optimize resource use by leveraging a metering capability at some level of abstraction appropriate to the type of service (e.g., storage, processing, bandwidth, and active user accounts)\n",
    "\n",
    "\n",
    "Cloud Service Models:\n",
    "1. Infrastructure as a Service (IaaS): Provides virtualized computing resources over the internet. Examples include Amazon Web Services (AWS) EC2, Google Cloud Compute Engine, and Microsoft Azure.\n",
    "\n",
    "2. Platform as a Service (PaaS): Provides a platform allowing customers to develop, run, and manage applications without the complexity of building and maintaining the infrastructure. Examples include Google App Engine, Microsoft Azure, and AWS Elastic Beanstalk.\n",
    "\n",
    "3. Software as a Service (SaaS): Delivers software applications over the internet, on a subscription basis. Users can access SaaS applications directly from a web browser. Examples include Google Workspace, Microsoft Office 365, and Salesforce.\n",
    "\n",
    "\n",
    "Cloud Deployment Models:\n",
    "1. Public Cloud: Services are delivered over the public internet and shared across multiple organizations. Examples include AWS, Google Cloud Platform (GCP), and Microsoft Azure.\n",
    "\n",
    "2. Private Cloud: Services are maintained on a private network and are used exclusively by a single organization. This can provide more control over resources and security.\n",
    "\n",
    "3. Hybrid Cloud: Combines public and private clouds, allowing data and applications to be shared between them. By allowing data and applications to move between private and public clouds, a hybrid cloud gives businesses greater flexibility and more deployment options.\n",
    "\n",
    "Pillars of CLoud : \n",
    "1. security : Safeguarding data and resources from unauthorized access and breaches.\n",
    "2. Availability: Maximizing system uptume and minimizing downtime .\n",
    "3. Realibility:Ensuring consistent performance and dependability of cloud services.\n",
    "4. Governance: Implementing policies and controls to manage and regulate cloud resources effectively.\n",
    "\n",
    "Benefits of Cloud Computing:\n",
    "1. Cost Efficiency: Reduces the capital expense of buying hardware and software and setting up and running on-site data centers.\n",
    "2. Scalability: Easily scale up or down according to demand.\n",
    "3. Performance: Major cloud services run on a worldwide network of secure data centers, which are regularly upgraded to the latest generation of fast and efficient computing hardware.\n",
    "4. Speed: Vast amounts of computing resources can be provisioned in minutes.\n",
    "5. Security: Offers a set of policies, technologies, and controls that strengthen your security posture overall.\n",
    "\n",
    "Challenges of Cloud Computing:\n",
    "1. Security and Privacy: Ensuring data security and privacy in a shared environment.\n",
    "2. Compliance: Complying with regulatory and legal requirements.\n",
    "3. Downtime: Potential downtime due to internet connectivity or service provider issues.\n",
    "4. Limited Control: Users have limited control and flexibility over the infrastructure.\n",
    "\n",
    "Major Cloud Providers:\n",
    "1. Amazon Web Services (AWS)\n",
    "2. Microsoft Azure\n",
    "3. Google Cloud Platform (GCP)\n",
    "4. IBM Cloud\n",
    "5. Oracle Cloud"
   ]
  },
  {
   "cell_type": "markdown",
   "id": "4f9d2ce8-4126-4cd1-bd9f-2a9e21af8e3b",
   "metadata": {},
   "source": [
    "Microsoft Azure : Microsoft Azure is a cloud computing platform and service created by Microsoft. It provides a range of cloud services, including those for computing, analytics, storage, and networking. Users can choose and configure these services to meet their specific needs. \n",
    "\n",
    "1. Cloud Services: Azure offers various services such as virtual machines, databases, and AI services, which can be scaled according to your needs.\n",
    "\n",
    "2. Data Storage: It provides different storage solutions like Blob Storage, SQL Databases, and Data Lakes to manage and store data.\n",
    "\n",
    "3. Networking: Azure includes networking services like Virtual Networks, Load Balancers, and VPN Gateway to manage and secure your network infrastructure.\n",
    "\n",
    "4. AI and Machine Learning: It has built-in services for developing and deploying AI and machine learning models, such as Azure Machine Learning and Cognitive Services.\n",
    "\n",
    "5. Analytics: Azure provides tools for data analysis and visualization, like Azure Synapse Analytics and Power BI integration.\n",
    "\n",
    "6. Security: It includes security features such as Azure Security Center, Azure Active Directory, and encryption options to protect data and manage access.\n",
    "\n",
    "7. Integration: Azure integrates with various Microsoft products (e.g., Windows Server, SQL Server) and third-party tools, making it easier for organizations to use existing technologies.\n",
    "\n",
    "8. Hybrid Cloud: It supports hybrid cloud setups, allowing businesses to combine on-premises infrastructure with cloud services for more flexibility.\n",
    "\n",
    "Azure is used by businesses of all sizes to build, deploy, and manage applications and services through Microsoft's global network of data centers."
   ]
  },
  {
   "cell_type": "markdown",
   "id": "cbe3eab0-d1a2-4863-9451-2220f85364e6",
   "metadata": {},
   "source": [
    "Azure Computer Services : \n",
    "\n",
    "Virtualization :\n",
    "1. Virtualization : virtualization is a technology that allow you to create a simulated or virtual version of something,such as a computer or an operating system,within another system.It enables one physical machine to run multiple virtual machines,each with its own isolated environment,as if they were independent and separate entities.\n",
    "2. An Azure Virtual machine is a computing resource provided by Microsoft Azure,which is a cloud computing platform.\n",
    "3. Azure VMs allow you to run virtualized windows or linux servers in the cloud.\n",
    "4. These virtual machine operate just like physical computer but are hosted and managed in microsoft's data centers.\n",
    "\n",
    "App Service  :\n",
    "1. Azure App service : It is Paas(Platform-as-a-service) cloud service by microsoft.This service takes away some of the additional responsibilities of customer, and gives it back to cloud, for which customer is responsible while working with Azure VMs.\n",
    "\n",
    "Function : \n",
    "1. Azure function:It is a service from Microsoft that lets you run code without worrying about servers.It responds to certain events or conditions,like when an order comes in on an IoT system or new message arrive in a queue.\n",
    "2. Azure functions allows the users to implement their logic in particuler pieces of code.These are known as 'function'.Various functions run at various times of response."
   ]
  },
  {
   "cell_type": "markdown",
   "id": "9aefd5c2-4039-4a94-993c-14c8c7d98055",
   "metadata": {},
   "source": [
    "Azure Storage Services :\n",
    "Microsoft azure Storage is a cloud storage service provided by microsoft azure,offering a scalable and secure solution for storing and retrieving data in the cloud . Azure storage are : Durable,secure,Scalable.managed managed,Accessible"
   ]
  },
  {
   "cell_type": "markdown",
   "id": "72e986e3-1d48-4d7d-846c-0d15b04749c7",
   "metadata": {},
   "source": [
    "IAM (Identify & Access Management ):Azure identify and access management (IAM)is a comprehensive set of services and features that helps you manage who has access to what in Azure.\n",
    "Azure IAM enables you to:\n",
    "1. Grant and manage access to Azure resources based on the principle of least privilege.\n",
    "2. Securely store and manage access keys and other sensitive credentials.\n",
    "3. Monitor and audit access your Azure resources.\n",
    "4. Meet compliance requirements for access control and data security."
   ]
  }
 ],
 "metadata": {
  "kernelspec": {
   "display_name": "Python 3 (ipykernel)",
   "language": "python",
   "name": "python3"
  },
  "language_info": {
   "codemirror_mode": {
    "name": "ipython",
    "version": 3
   },
   "file_extension": ".py",
   "mimetype": "text/x-python",
   "name": "python",
   "nbconvert_exporter": "python",
   "pygments_lexer": "ipython3",
   "version": "3.11.7"
  }
 },
 "nbformat": 4,
 "nbformat_minor": 5
}
