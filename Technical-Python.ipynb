{
 "cells": [
  {
   "cell_type": "markdown",
   "id": "ceed2f15-95f4-4fab-8ac4-efa9988b3082",
   "metadata": {},
   "source": [
    "Most asked technical python programming question"
   ]
  },
  {
   "cell_type": "markdown",
   "id": "6b1b5a01-e2b2-41a9-b0a2-2f6f2ff20418",
   "metadata": {},
   "source": [
    "1.Positive r Negative number"
   ]
  },
  {
   "cell_type": "code",
   "execution_count": 4,
   "id": "f8abca1c-a7c2-4c73-9bec-a583fdacb734",
   "metadata": {},
   "outputs": [
    {
     "name": "stdin",
     "output_type": "stream",
     "text": [
      "Enter number : 8\n"
     ]
    },
    {
     "name": "stdout",
     "output_type": "stream",
     "text": [
      "Number is positive\n"
     ]
    }
   ],
   "source": [
    "num=int(input('Enter number :'))\n",
    "if num>0:\n",
    "    print('Number is positive')\n",
    "else:\n",
    "    print('Number is negative')"
   ]
  },
  {
   "cell_type": "code",
   "execution_count": null,
   "id": "56ab5a0e-2393-42cc-a6a2-efd71d3b8ee9",
   "metadata": {},
   "outputs": [],
   "source": []
  },
  {
   "cell_type": "markdown",
   "id": "058d0cb9-9ae2-4cb4-83f5-d1d0e6639091",
   "metadata": {},
   "source": [
    "2.Even r Odd number"
   ]
  },
  {
   "cell_type": "code",
   "execution_count": 6,
   "id": "5a7bd761-b18b-4ec7-8557-064ff066dcc0",
   "metadata": {},
   "outputs": [
    {
     "name": "stdin",
     "output_type": "stream",
     "text": [
      "Enter the number : 5\n"
     ]
    },
    {
     "name": "stdout",
     "output_type": "stream",
     "text": [
      "Number is Odd\n"
     ]
    }
   ],
   "source": [
    "num=int(input('Enter the number :'))\n",
    "if num%2==0:\n",
    "    print('Number is Even')\n",
    "else:\n",
    "    print('Number is Odd')"
   ]
  },
  {
   "cell_type": "code",
   "execution_count": null,
   "id": "2f3c8509-c14b-4250-a96b-9747cd80177d",
   "metadata": {},
   "outputs": [],
   "source": []
  },
  {
   "cell_type": "markdown",
   "id": "7e2da787-1e06-4249-806e-b06e3a61a5e0",
   "metadata": {},
   "source": [
    "3.Greatest of 2 number"
   ]
  },
  {
   "cell_type": "code",
   "execution_count": 11,
   "id": "87a89ace-6a23-443a-a812-ba0134abdd45",
   "metadata": {},
   "outputs": [
    {
     "name": "stdin",
     "output_type": "stream",
     "text": [
      "Enter 1st number : 3\n",
      "Enter 2nd number :  6\n"
     ]
    },
    {
     "name": "stdout",
     "output_type": "stream",
     "text": [
      "6 is greater\n"
     ]
    }
   ],
   "source": [
    "num1=int(input('Enter 1st number :'))\n",
    "num2=int(input('Enter 2nd number : '))\n",
    "if num2>num1:\n",
    "    print(f'{num2} is greater')\n",
    "else:\n",
    "    print(f'{num1} is greater')"
   ]
  },
  {
   "cell_type": "code",
   "execution_count": null,
   "id": "814e7a1b-2ecb-4979-bbaa-f1c410721b91",
   "metadata": {},
   "outputs": [],
   "source": []
  },
  {
   "cell_type": "markdown",
   "id": "2564cf4f-d50f-488e-bc8d-3e7eb618bd0a",
   "metadata": {},
   "source": [
    "4.Greatest of 3 number"
   ]
  },
  {
   "cell_type": "code",
   "execution_count": 22,
   "id": "33baadea-27e1-45bb-9452-f36089b9faf0",
   "metadata": {},
   "outputs": [
    {
     "name": "stdin",
     "output_type": "stream",
     "text": [
      "Enter 1st number:  30\n",
      "Enter 2nd number:  40\n",
      "Enter 3rd number:  59\n"
     ]
    },
    {
     "name": "stdout",
     "output_type": "stream",
     "text": [
      "59 is Greater\n"
     ]
    }
   ],
   "source": [
    "def greatest(num1, num2, num3):\n",
    "    if num1 >= num2 and num1 >= num3:\n",
    "        return f'{num1} is Greater'\n",
    "    elif num2 >= num1 and num2 >= num3:\n",
    "        return f'{num2} is Greater'\n",
    "    else:\n",
    "        return f'{num3} is Greater'\n",
    "\n",
    "# Taking user input\n",
    "num1 = int(input('Enter 1st number: '))\n",
    "num2 = int(input('Enter 2nd number: '))\n",
    "num3 = int(input('Enter 3rd number: '))\n",
    "\n",
    "# Printing the greatest number\n",
    "print(greatest(num1, num2, num3))\n"
   ]
  },
  {
   "cell_type": "code",
   "execution_count": null,
   "id": "1fbdced4-8fc4-4777-ac0c-ff4988ac4b71",
   "metadata": {},
   "outputs": [],
   "source": []
  },
  {
   "cell_type": "markdown",
   "id": "4bf32155-133e-4ea6-bde3-5660ddfb9ae1",
   "metadata": {},
   "source": [
    "5.Sum of N natural number "
   ]
  },
  {
   "cell_type": "code",
   "execution_count": 17,
   "id": "22925686-cc58-47c1-b835-009c6e3015fe",
   "metadata": {},
   "outputs": [
    {
     "name": "stdin",
     "output_type": "stream",
     "text": [
      "Enter the number : 4\n"
     ]
    },
    {
     "name": "stdout",
     "output_type": "stream",
     "text": [
      "the sum of first 4 natural number is 10\n"
     ]
    }
   ],
   "source": [
    "num=int(input('Enter the number :'))\n",
    "sum=0\n",
    "i=0\n",
    "\n",
    "while(i<=num):\n",
    "    sum+=i\n",
    "    i+=1\n",
    "print(f'the sum of first {num} natural number is {sum}')"
   ]
  },
  {
   "cell_type": "code",
   "execution_count": null,
   "id": "8adb7414-72d8-4331-9a9b-d25020caebb3",
   "metadata": {},
   "outputs": [],
   "source": [
    "num=5\n",
    "sum=0\n",
    "for i in range(num+1):\n",
    "    sum+=i\n",
    "print(sum)"
   ]
  },
  {
   "cell_type": "code",
   "execution_count": 35,
   "id": "b8b6224b-f178-47e3-870a-9a7cfec317c8",
   "metadata": {},
   "outputs": [
    {
     "name": "stdin",
     "output_type": "stream",
     "text": [
      "Enter the number 45\n"
     ]
    },
    {
     "data": {
      "text/plain": [
       "1035"
      ]
     },
     "execution_count": 35,
     "metadata": {},
     "output_type": "execute_result"
    }
   ],
   "source": [
    "def sum(num):\n",
    "    if num==0:\n",
    "        return 0\n",
    "    else:\n",
    "        return num + sum(num-1)\n",
    "num=int(input('Enter the number'))\n",
    "sum(num)"
   ]
  },
  {
   "cell_type": "code",
   "execution_count": null,
   "id": "92fece8b-e2b5-44e9-8b93-601b7be502a7",
   "metadata": {},
   "outputs": [],
   "source": []
  },
  {
   "cell_type": "markdown",
   "id": "1b960ec4-b701-4a05-8c23-046f827db6c3",
   "metadata": {},
   "source": [
    "6.Leap Year"
   ]
  },
  {
   "cell_type": "code",
   "execution_count": 19,
   "id": "9f4c0f00-e4d6-4b34-add5-4096b5396259",
   "metadata": {},
   "outputs": [
    {
     "name": "stdin",
     "output_type": "stream",
     "text": [
      "Enter the year: 400\n"
     ]
    },
    {
     "name": "stdout",
     "output_type": "stream",
     "text": [
      "400 is not leap year\n"
     ]
    }
   ],
   "source": [
    "year=int(input('Enter the year:'))\n",
    "if year%400==0 and year%100!=0:\n",
    "    print(f'{year} is Leap year')\n",
    "else:\n",
    "    print(f'{year} is not leap year')"
   ]
  },
  {
   "cell_type": "code",
   "execution_count": 21,
   "id": "ef0b69c8-dc82-4074-bf79-363e389b0265",
   "metadata": {},
   "outputs": [
    {
     "name": "stdin",
     "output_type": "stream",
     "text": [
      "Enter the year:  40\n"
     ]
    },
    {
     "name": "stdout",
     "output_type": "stream",
     "text": [
      "40 is a Leap year\n"
     ]
    }
   ],
   "source": [
    "def leap(year):\n",
    "    if (year % 4 == 0 and year % 100 != 0) or (year % 400 == 0):\n",
    "        return f\"{year} is a Leap year\"\n",
    "    else:\n",
    "        return f\"{year} is not a leap year\"\n",
    "\n",
    "year = int(input(\"Enter the year: \"))\n",
    "print(leap(year))\n"
   ]
  },
  {
   "cell_type": "code",
   "execution_count": 1,
   "id": "0d6ed8ed-6c4f-47ff-b127-7a877bb4a5c9",
   "metadata": {},
   "outputs": [
    {
     "name": "stdin",
     "output_type": "stream",
     "text": [
      "Enter year : 30\n"
     ]
    },
    {
     "name": "stdout",
     "output_type": "stream",
     "text": [
      "30 is not leap year\n"
     ]
    }
   ],
   "source": [
    "import calendar\n",
    "year=int(input('Enter year :'))\n",
    "if calendar.isleap(year):\n",
    "    print(year,'is leap year')\n",
    "else:\n",
    "    print(year,'is not leap year')"
   ]
  },
  {
   "cell_type": "code",
   "execution_count": null,
   "id": "ea7e5814-e26d-45d4-bd12-231dcc4f9ec7",
   "metadata": {},
   "outputs": [],
   "source": []
  },
  {
   "cell_type": "markdown",
   "id": "5a0c9440-c148-4b4b-97b8-79c77948263c",
   "metadata": {},
   "source": [
    "7.Prime Number"
   ]
  },
  {
   "cell_type": "code",
   "execution_count": 33,
   "id": "e7663d3b-fe7e-4a7e-91b7-f1690f2764eb",
   "metadata": {},
   "outputs": [
    {
     "name": "stdin",
     "output_type": "stream",
     "text": [
      "Enter the number:  3\n"
     ]
    },
    {
     "name": "stdout",
     "output_type": "stream",
     "text": [
      "3 is  prime number \n"
     ]
    }
   ],
   "source": [
    "num=int(input(\"Enter the number: \"))\n",
    "for i in range(2,num):\n",
    "    if (num%i==0):\n",
    "        print(f\"{num} is not prime number \")\n",
    "        break\n",
    "else:\n",
    "    print(f\"{num} is  prime number \")"
   ]
  },
  {
   "cell_type": "code",
   "execution_count": 32,
   "id": "c9518226-3e4d-41c0-bb50-74b7df9d5aeb",
   "metadata": {},
   "outputs": [
    {
     "name": "stdin",
     "output_type": "stream",
     "text": [
      "Enter a number:  3\n"
     ]
    },
    {
     "name": "stdout",
     "output_type": "stream",
     "text": [
      "3 is a prime number.\n"
     ]
    }
   ],
   "source": [
    "# Function to check if a number is prime\n",
    "def is_prime(num):\n",
    "    # Prime numbers must be greater than 1\n",
    "    if num <= 1:\n",
    "        return False\n",
    "    # Check for factors from 2 to the square root of num\n",
    "    for i in range(2, int(num**0.5) + 1):\n",
    "        if num % i == 0:\n",
    "            return False\n",
    "    return True\n",
    "\n",
    "# Get user input\n",
    "number = int(input(\"Enter a number: \"))\n",
    "\n",
    "# Check if the number is prime and print the result\n",
    "if is_prime(number):\n",
    "    print(f\"{number} is a prime number.\")\n",
    "else:\n",
    "    print(f\"{number} is not a prime number.\")\n"
   ]
  },
  {
   "cell_type": "code",
   "execution_count": null,
   "id": "d062a1a5-cc22-49ec-b5b9-c08c2c045dee",
   "metadata": {},
   "outputs": [],
   "source": []
  },
  {
   "cell_type": "markdown",
   "id": "03f84f2e-0502-42d8-b625-00a9e1136ba6",
   "metadata": {},
   "source": [
    "8.Sum of Digit number"
   ]
  },
  {
   "cell_type": "code",
   "execution_count": 34,
   "id": "10b04d7c-64c6-4686-aab2-5c1895063a28",
   "metadata": {},
   "outputs": [
    {
     "name": "stdin",
     "output_type": "stream",
     "text": [
      "Enter the number:  45\n"
     ]
    },
    {
     "name": "stdout",
     "output_type": "stream",
     "text": [
      "Sum of digits: 9\n"
     ]
    }
   ],
   "source": [
    "num = input('Enter the number: ')\n",
    "sum = 0\n",
    "for i in num:\n",
    "    sum += int(i)\n",
    "print(\"Sum of digits:\", sum)"
   ]
  },
  {
   "cell_type": "code",
   "execution_count": null,
   "id": "723ec9a4-7a6e-4661-b67c-7f82aa8a060d",
   "metadata": {},
   "outputs": [],
   "source": []
  },
  {
   "cell_type": "markdown",
   "id": "bcb2b896-1b61-4049-b914-6c75c40f09e7",
   "metadata": {},
   "source": [
    "9.Factorial of Number"
   ]
  },
  {
   "cell_type": "code",
   "execution_count": 43,
   "id": "11c8cdaa-4910-458d-badb-4f14762258e9",
   "metadata": {},
   "outputs": [
    {
     "name": "stdin",
     "output_type": "stream",
     "text": [
      "Enter the number :  4\n"
     ]
    },
    {
     "data": {
      "text/plain": [
       "24"
      ]
     },
     "execution_count": 43,
     "metadata": {},
     "output_type": "execute_result"
    }
   ],
   "source": [
    "#Recursive\n",
    "def factorial(num):\n",
    "    if num<=1:\n",
    "        return 1 \n",
    "    else:\n",
    "        return num * factorial(num-1)\n",
    "num=int(input('Enter the number : '))\n",
    "factorial(num)"
   ]
  },
  {
   "cell_type": "code",
   "execution_count": 41,
   "id": "a290b369-226e-4f8f-9b4f-09fec9d608d6",
   "metadata": {},
   "outputs": [
    {
     "name": "stdout",
     "output_type": "stream",
     "text": [
      "Factorial of 6 is 720\n"
     ]
    }
   ],
   "source": [
    "#Iterative\n",
    "num = 6\n",
    "fact = 1\n",
    "if num < 0:\n",
    "    print('Factorial is not defined for negative numbers')\n",
    "else:\n",
    "    for i in range(1, num + 1):\n",
    "        fact = fact * i\n",
    "print(\"Factorial of\", num, \"is\", fact)"
   ]
  },
  {
   "cell_type": "code",
   "execution_count": 7,
   "id": "a0b7cf8f-407f-4e45-b57d-f6c9efd023e8",
   "metadata": {},
   "outputs": [
    {
     "name": "stdin",
     "output_type": "stream",
     "text": [
      "Enter the number 4\n"
     ]
    },
    {
     "data": {
      "text/plain": [
       "24"
      ]
     },
     "execution_count": 7,
     "metadata": {},
     "output_type": "execute_result"
    }
   ],
   "source": [
    "def factorial_iterative(n):\n",
    "    result=1\n",
    "    for i in range(1,n+1):\n",
    "        result*=i\n",
    "    return result\n",
    "\n",
    "num=int(input('Enter the number'))\n",
    "factorial_iterative(num)"
   ]
  },
  {
   "cell_type": "code",
   "execution_count": null,
   "id": "1893d4a8-c989-4574-a3fc-c0ceef8f2a16",
   "metadata": {},
   "outputs": [],
   "source": []
  },
  {
   "cell_type": "markdown",
   "id": "20b4c9e3-8c75-4a48-bbf5-e1e76c427ef0",
   "metadata": {},
   "source": [
    "10.Fibonacci Series"
   ]
  },
  {
   "cell_type": "code",
   "execution_count": 48,
   "id": "0bba58e0-5707-4e96-8f58-4f12ca90cf46",
   "metadata": {},
   "outputs": [
    {
     "name": "stdin",
     "output_type": "stream",
     "text": [
      "How many fibonacci numbers you want to generate - 5\n"
     ]
    },
    {
     "name": "stdout",
     "output_type": "stream",
     "text": [
      "0\n",
      "1\n",
      "1\n",
      "2\n",
      "3\n"
     ]
    }
   ],
   "source": [
    "def fiboacci(num):\n",
    "   if num <= 0:\n",
    "       return num\n",
    "   if num == 1:\n",
    "       return 1\n",
    "   else: \n",
    "       return(fiboacci(num-1) + fiboacci(num-2)) \n",
    "nums = int(input(\"How many fibonacci numbers you want to generate -\"))\n",
    "fiboacci(nums) \n",
    "for i in range(nums):\n",
    "  print(fiboacci(i)) "
   ]
  },
  {
   "cell_type": "code",
   "execution_count": 49,
   "id": "e31a7a2a-93ce-40eb-9cf8-92e4685443e9",
   "metadata": {},
   "outputs": [
    {
     "name": "stdout",
     "output_type": "stream",
     "text": [
      "Fibonacci series: 0 1 1 2 3 5 8 13 21 34 \n"
     ]
    }
   ],
   "source": [
    "num=10\n",
    "n1,n2=0,1\n",
    "print('Fibonacci series:',n1,n2,end=' ')\n",
    "for i in range(2,num):\n",
    "    n3=n1+n2\n",
    "    n1=n2\n",
    "    n2=n3\n",
    "    print(n3,end=' ')\n",
    "print()"
   ]
  },
  {
   "cell_type": "code",
   "execution_count": null,
   "id": "0e7e945d-bcbc-47c3-ae9b-e051e7f7ea60",
   "metadata": {},
   "outputs": [],
   "source": []
  },
  {
   "cell_type": "markdown",
   "id": "c0d5b6dd-86ce-49cc-9f4d-6955bcc6f723",
   "metadata": {},
   "source": [
    "11.Swapping of two numbers"
   ]
  },
  {
   "cell_type": "code",
   "execution_count": 50,
   "id": "74b9f7fb-d1cc-4fd9-8891-6efb4dfbfd38",
   "metadata": {},
   "outputs": [
    {
     "name": "stdin",
     "output_type": "stream",
     "text": [
      "Enter the first number:  34\n",
      "Enter the second number:  43\n"
     ]
    },
    {
     "name": "stdout",
     "output_type": "stream",
     "text": [
      "Before swapping: a = 34, b = 43\n",
      "After swapping: a = 43, b = 34\n"
     ]
    }
   ],
   "source": [
    "# Swapping using tuple unpacking\n",
    "a = int(input(\"Enter the first number: \"))\n",
    "b = int(input(\"Enter the second number: \"))\n",
    "\n",
    "# Display before swap\n",
    "print(f\"Before swapping: a = {a}, b = {b}\")\n",
    "\n",
    "# Swap\n",
    "a, b = b, a\n",
    "\n",
    "# Display after swap\n",
    "print(f\"After swapping: a = {a}, b = {b}\")"
   ]
  },
  {
   "cell_type": "code",
   "execution_count": null,
   "id": "c78a21fb-9cd1-4729-8639-4e6cebe73863",
   "metadata": {},
   "outputs": [],
   "source": []
  },
  {
   "cell_type": "markdown",
   "id": "a8b9c0a6-7c36-4491-bf28-e334e08d7a1e",
   "metadata": {},
   "source": [
    "12.Reverse a number"
   ]
  },
  {
   "cell_type": "code",
   "execution_count": 53,
   "id": "04228d78-048f-46cd-9cba-c34c36a24372",
   "metadata": {},
   "outputs": [
    {
     "name": "stdout",
     "output_type": "stream",
     "text": [
      "4321\n"
     ]
    }
   ],
   "source": [
    "num = 1234\n",
    "temp = num\n",
    "reverse = 0\n",
    "\n",
    "while num > 0:\n",
    "    remainder = num % 10\n",
    "    reverse = (reverse * 10) + remainder\n",
    "    num = num // 10\n",
    "num=1223\n",
    "\n",
    "print(reverse)"
   ]
  },
  {
   "cell_type": "code",
   "execution_count": 56,
   "id": "588f4951-d088-4d65-bfae-5ac92fcfd8a7",
   "metadata": {},
   "outputs": [
    {
     "name": "stdout",
     "output_type": "stream",
     "text": [
      "0202\n"
     ]
    }
   ],
   "source": [
    "# Reverse the number by converting it to a string and slicing\n",
    "num=2020\n",
    "reversed_num_str = str(num)[::-1]\n",
    "\n",
    "# Print the reversed string\n",
    "print(reversed_num_str)"
   ]
  },
  {
   "cell_type": "code",
   "execution_count": 57,
   "id": "0415cc7f-b815-44a3-915b-d47db3fe3c3d",
   "metadata": {},
   "outputs": [
    {
     "name": "stdout",
     "output_type": "stream",
     "text": [
      "4321\n"
     ]
    }
   ],
   "source": [
    "def recursum(number,reverse):\n",
    "  if number==0:\n",
    "    return reverse\n",
    "  remainder = int(number%10)\n",
    "  reverse = (reverse*10)+remainder\n",
    "  return recursum(int(number/10),reverse)\n",
    "\n",
    "num = 1234\n",
    "reverse = 0\n",
    "print(recursum(num,reverse))"
   ]
  },
  {
   "cell_type": "code",
   "execution_count": null,
   "id": "613e9f4f-dbe3-440e-8681-1e66e5ef70c8",
   "metadata": {},
   "outputs": [],
   "source": []
  },
  {
   "cell_type": "markdown",
   "id": "15c2ab4f-2968-4813-a348-a695c6b743b6",
   "metadata": {},
   "source": [
    "13.Reverse a string "
   ]
  },
  {
   "cell_type": "code",
   "execution_count": 59,
   "id": "8f01e720-083a-4103-9249-cacdbe400479",
   "metadata": {},
   "outputs": [
    {
     "name": "stdin",
     "output_type": "stream",
     "text": [
      "Enter string: heb\n"
     ]
    },
    {
     "name": "stdout",
     "output_type": "stream",
     "text": [
      "beh\n"
     ]
    }
   ],
   "source": [
    "string=input('Enter string:')\n",
    "reversed_string=string[::-1]\n",
    "print(reversed_string)"
   ]
  },
  {
   "cell_type": "code",
   "execution_count": null,
   "id": "36d73797-40ee-4b1f-bdd6-d028bc13cbde",
   "metadata": {},
   "outputs": [],
   "source": []
  },
  {
   "cell_type": "markdown",
   "id": "8c4b1bc6-e057-4609-94c1-69729736fbb9",
   "metadata": {},
   "source": [
    "14.Palindrome Number"
   ]
  },
  {
   "cell_type": "code",
   "execution_count": 66,
   "id": "a53215d0-8199-4589-ad04-83ec073f232c",
   "metadata": {},
   "outputs": [
    {
     "name": "stdout",
     "output_type": "stream",
     "text": [
      "Not Palindrome\n"
     ]
    }
   ],
   "source": [
    "num=2342\n",
    "reverse=int(str(num)[::-1])\n",
    "if num==reverse:\n",
    "    print('Palindrome')\n",
    "else:\n",
    "    print('Not Palindrome')"
   ]
  },
  {
   "cell_type": "code",
   "execution_count": 67,
   "id": "d657698c-37dd-425b-bef0-2bb450ffa676",
   "metadata": {},
   "outputs": [
    {
     "name": "stdout",
     "output_type": "stream",
     "text": [
      "Not palindrome\n"
     ]
    }
   ],
   "source": [
    "num=1221\n",
    "temp=num\n",
    "reverse=0\n",
    "while temp>0:\n",
    "    remainder=temp%10\n",
    "    reverse=(reverse*10)\n",
    "    temp=temp//10\n",
    "if num==reverse:\n",
    "    print('palindrome')\n",
    "else:\n",
    "    print('Not palindrome')"
   ]
  },
  {
   "cell_type": "code",
   "execution_count": null,
   "id": "3db53099-502c-4630-b090-2b643bc1024f",
   "metadata": {},
   "outputs": [],
   "source": []
  },
  {
   "cell_type": "markdown",
   "id": "3786008c-f3d8-4cc9-b3a6-f33026378073",
   "metadata": {},
   "source": [
    "15.Palindrome String"
   ]
  },
  {
   "cell_type": "code",
   "execution_count": 68,
   "id": "a4c6e645-077f-407f-9351-d4febdf051f3",
   "metadata": {},
   "outputs": [
    {
     "name": "stdin",
     "output_type": "stream",
     "text": [
      "Enter a string:  tbe\n"
     ]
    },
    {
     "name": "stdout",
     "output_type": "stream",
     "text": [
      "\"tbe\" is not a palindrome.\n"
     ]
    }
   ],
   "source": [
    "# Function to check if a string is a palindrome\n",
    "def is_palindrome(s):\n",
    "    s = s.replace(\" \", \"\").lower()\n",
    "    return s == s[::-1]\n",
    "\n",
    "string = input(\"Enter a string: \")\n",
    "if is_palindrome(string):\n",
    "    print(f'\"{string}\" is a palindrome.')\n",
    "else:\n",
    "    print(f'\"{string}\" is not a palindrome.')"
   ]
  },
  {
   "cell_type": "code",
   "execution_count": null,
   "id": "c97b6dfb-4daa-4eaa-ab24-7063bb5ba38a",
   "metadata": {},
   "outputs": [],
   "source": []
  },
  {
   "cell_type": "markdown",
   "id": "6a994a86-a061-4bee-adae-39883c74ffcf",
   "metadata": {},
   "source": [
    "16.Power of Number"
   ]
  },
  {
   "cell_type": "code",
   "execution_count": 69,
   "id": "8fa48417-9259-4a73-9882-9d4fd6c774c6",
   "metadata": {},
   "outputs": [
    {
     "name": "stdin",
     "output_type": "stream",
     "text": [
      "Enter the base number:  4\n",
      "Enter the exponent (a non-negative integer):  5\n"
     ]
    },
    {
     "name": "stdout",
     "output_type": "stream",
     "text": [
      "4 raised to the power of 5 is: 1024\n"
     ]
    }
   ],
   "source": [
    "def power(base, exponent):\n",
    "    # Base case: any number raised to the power of 0 is 1\n",
    "    if exponent == 0:\n",
    "        return 1\n",
    "    # Recursive case: multiply base by itself exponent times\n",
    "    else:\n",
    "        return base * power(base, exponent - 1)\n",
    "\n",
    "# Example usage:\n",
    "base = int(input(\"Enter the base number: \"))\n",
    "exponent = int(input(\"Enter the exponent (a non-negative integer): \"))\n",
    "\n",
    "result = power(base, exponent)\n",
    "print(f\"{base} raised to the power of {exponent} is: {result}\")"
   ]
  },
  {
   "cell_type": "code",
   "execution_count": null,
   "id": "3b2125b4-6ef2-46e4-afce-4e0885ad269e",
   "metadata": {},
   "outputs": [],
   "source": []
  },
  {
   "cell_type": "markdown",
   "id": "3ad6fff0-1354-4d46-b2ee-4255d9e1cf3d",
   "metadata": {},
   "source": [
    "17.Anagrams python program"
   ]
  },
  {
   "cell_type": "code",
   "execution_count": 70,
   "id": "2c473365-f9c0-4dcc-a205-4d44c48d4149",
   "metadata": {},
   "outputs": [
    {
     "name": "stdin",
     "output_type": "stream",
     "text": [
      "Enter the 1st string:  57\n",
      "Enter the 2nd string:  58\n"
     ]
    },
    {
     "name": "stdout",
     "output_type": "stream",
     "text": [
      "Strings are not anagrams\n"
     ]
    }
   ],
   "source": [
    "# Take user input\n",
    "String1 = input(\"Enter the 1st string: \")\n",
    "String2 = input(\"Enter the 2nd string: \")\n",
    "\n",
    "# Check if length matches\n",
    "if len(String1) != len(String2):\n",
    "    # If lengths are different, they are not anagrams\n",
    "    print(\"Strings are not anagrams\")\n",
    "else:\n",
    "    # Sorted function sorts the string by characters\n",
    "    if sorted(String1) == sorted(String2):\n",
    "        # If True\n",
    "        print(\"Strings are anagrams\")\n",
    "    else:\n",
    "        print(\"Strings are not anagrams\")"
   ]
  },
  {
   "cell_type": "code",
   "execution_count": null,
   "id": "dacd822b-a4df-43e4-a0cb-e9e519fbcb95",
   "metadata": {},
   "outputs": [],
   "source": []
  },
  {
   "cell_type": "markdown",
   "id": "9bf3933b-05c2-4d5e-b5a5-268ad4448821",
   "metadata": {},
   "source": [
    "18.Perfect Number"
   ]
  },
  {
   "cell_type": "code",
   "execution_count": 71,
   "id": "daff87c5-cc89-4009-8980-1de8223a5177",
   "metadata": {},
   "outputs": [
    {
     "name": "stdout",
     "output_type": "stream",
     "text": [
      "The number is not a Perfect number\n"
     ]
    }
   ],
   "source": [
    "n = 7\n",
    "sum = 0\n",
    "for i in range(1, n):\n",
    "    if n % i == 0:\n",
    "        sum = sum + i\n",
    "if sum == n:\n",
    "    print(\"The number is a Perfect number\")\n",
    "else:\n",
    "    print(\"The number is not a Perfect number\")"
   ]
  },
  {
   "cell_type": "code",
   "execution_count": null,
   "id": "297639bf-7f05-4a75-a703-1f77f127705a",
   "metadata": {},
   "outputs": [],
   "source": []
  },
  {
   "cell_type": "markdown",
   "id": "14467a25-f4fb-4faa-a461-465184942ab3",
   "metadata": {},
   "source": [
    "19.Armstrong"
   ]
  },
  {
   "cell_type": "code",
   "execution_count": 73,
   "id": "c6dfb66c-c1fe-4c55-b5e4-2d8adbd5b578",
   "metadata": {},
   "outputs": [
    {
     "name": "stdout",
     "output_type": "stream",
     "text": [
      "Armstrong\n"
     ]
    }
   ],
   "source": [
    "number = 371\n",
    "num = number\n",
    "digit, sum = 0, 0\n",
    "length = len(str(num))\n",
    "for i in range(length):\n",
    "  digit = int(num%10)\n",
    "  num = num/10\n",
    "  sum += pow(digit,length)\n",
    "if sum==number:\n",
    "  print(\"Armstrong\")\n",
    "else:\n",
    "  print(\"Not Armstrong\")\n",
    "    "
   ]
  },
  {
   "cell_type": "code",
   "execution_count": 72,
   "id": "b5bccf6c-f76c-4cd1-b55c-6cbb4688ecb8",
   "metadata": {},
   "outputs": [
    {
     "name": "stdout",
     "output_type": "stream",
     "text": [
      "Armstrong\n"
     ]
    }
   ],
   "source": [
    "number = 371\n",
    "num = number\n",
    "sum =0\n",
    "length = len(str(num))\n",
    "def checkArmstrong(num,length,sum):\n",
    "  if num==0:\n",
    "    return sum\n",
    "  sum+=pow(int(num%10),length)\n",
    "  return checkArmstrong(num/10,length,sum)\n",
    "\n",
    "if checkArmstrong(num,length,sum)==number:\n",
    "  print('Armstrong')\n",
    "else:\n",
    "  print(\"Not Armstrong\")"
   ]
  },
  {
   "cell_type": "markdown",
   "id": "bc7bc9a3-2a13-413f-b13d-ed4d8c2d3a26",
   "metadata": {},
   "source": [
    "20.Fizz_buzz"
   ]
  },
  {
   "cell_type": "code",
   "execution_count": null,
   "id": "db9b06a9-af37-4569-8ebb-f87f278b4fab",
   "metadata": {},
   "outputs": [],
   "source": [
    "def fizz_buzz():\n",
    "    for i in range(1,101):\n",
    "        if i %15==0:\n",
    "            print('FizzBuzz')\n",
    "        elif i % 3==0:\n",
    "            print('Fizz')\n",
    "        elif i % 5==0:\n",
    "            print('Buzz')\n",
    "        else:\n",
    "            print(i)\n",
    "fizz_buzz()"
   ]
  },
  {
   "cell_type": "markdown",
   "id": "5ccb1f35-e23b-4505-8d9e-043d30db6cec",
   "metadata": {},
   "source": [
    "21.Find the missing number in list"
   ]
  },
  {
   "cell_type": "code",
   "execution_count": 12,
   "id": "a50409bb-6587-4920-9b56-7cfe176a6df9",
   "metadata": {},
   "outputs": [
    {
     "name": "stdout",
     "output_type": "stream",
     "text": [
      "32\n"
     ]
    }
   ],
   "source": [
    "def find_missing_number(nums):\n",
    "    n=len(nums)+1\n",
    "    total_sum=n*(n+1)//2\n",
    "    return total_sum-sum(nums)\n",
    "numbers=list(range(1,101))\n",
    "numbers.remove(32)\n",
    "print(find_missing_number(numbers))"
   ]
  },
  {
   "cell_type": "markdown",
   "id": "ff712ba2-9e00-44fc-a087-215c4d5e942d",
   "metadata": {},
   "source": [
    "22.Multiplication Number"
   ]
  },
  {
   "cell_type": "code",
   "execution_count": 2,
   "id": "5b517f16-4c02-481b-95b1-4b3a363baadc",
   "metadata": {},
   "outputs": [
    {
     "name": "stdin",
     "output_type": "stream",
     "text": [
      "Enter the number:  3\n"
     ]
    },
    {
     "name": "stdout",
     "output_type": "stream",
     "text": [
      "3 x 1 = 3\n",
      "3 x 2 = 6\n",
      "3 x 3 = 9\n",
      "3 x 4 = 12\n",
      "3 x 5 = 15\n",
      "3 x 6 = 18\n",
      "3 x 7 = 21\n",
      "3 x 8 = 24\n",
      "3 x 9 = 27\n",
      "3 x 10 = 30\n"
     ]
    }
   ],
   "source": [
    "# Get user input\n",
    "n = int(input(\"Enter the number: \"))\n",
    "\n",
    "# Print the multiplication table in ascending order\n",
    "for j in range(1, 11):\n",
    "    result = n * j\n",
    "    print(f\"{n} x {j} = {result}\")\n"
   ]
  },
  {
   "cell_type": "markdown",
   "id": "10aed2f9-cf2f-473c-808e-08dad4f830fb",
   "metadata": {},
   "source": [
    " 23.Create a list using input functions in python."
   ]
  },
  {
   "cell_type": "code",
   "execution_count": 15,
   "id": "d84a2e5a-c12f-40a1-bda6-4be971fe6ca2",
   "metadata": {},
   "outputs": [
    {
     "name": "stdin",
     "output_type": "stream",
     "text": [
      "How many items do you want to add to this list? 2\n",
      "Enter item1: 1\n",
      "Enter item2: r\n"
     ]
    },
    {
     "name": "stdout",
     "output_type": "stream",
     "text": [
      "The Created list is : ['1', 'r']\n"
     ]
    }
   ],
   "source": [
    "def create_list():\n",
    "    user_list=[]\n",
    "    num_items=int(input('How many items do you want to add to this list?'))\n",
    "    for i in range(num_items):\n",
    "        item=input(f'Enter item{i+1}:')\n",
    "        user_list.append(item)\n",
    "    return user_list\n",
    "resulting_list=create_list()\n",
    "print('The Created list is :',resulting_list)"
   ]
  },
  {
   "cell_type": "code",
   "execution_count": null,
   "id": "542a617d-1d72-47d5-b1e3-add6d2735c9c",
   "metadata": {},
   "outputs": [],
   "source": []
  },
  {
   "cell_type": "code",
   "execution_count": null,
   "id": "738f95f5-4ba5-458b-8a10-65fa4af2f0ec",
   "metadata": {},
   "outputs": [],
   "source": []
  },
  {
   "cell_type": "code",
   "execution_count": null,
   "id": "daa58fe9-16ca-419d-877c-6f8934a1507a",
   "metadata": {},
   "outputs": [],
   "source": []
  },
  {
   "cell_type": "code",
   "execution_count": null,
   "id": "2e958e66-fbf2-43f0-bff3-fa454f2131c5",
   "metadata": {},
   "outputs": [],
   "source": []
  },
  {
   "cell_type": "code",
   "execution_count": 99,
   "id": "df1f7231-0c0a-4773-9deb-935e95d0b87e",
   "metadata": {},
   "outputs": [
    {
     "name": "stdout",
     "output_type": "stream",
     "text": [
      "1\t2\t3\t4\t5\t6\t7\t8\t9\t10\t\n",
      "2\t4\t6\t8\t10\t12\t14\t16\t18\t20\t\n",
      "3\t6\t9\t12\t15\t18\t21\t24\t27\t30\t\n",
      "4\t8\t12\t16\t20\t24\t28\t32\t36\t40\t\n",
      "5\t10\t15\t20\t25\t30\t35\t40\t45\t50\t\n",
      "6\t12\t18\t24\t30\t36\t42\t48\t54\t60\t\n",
      "7\t14\t21\t28\t35\t42\t49\t56\t63\t70\t\n",
      "8\t16\t24\t32\t40\t48\t56\t64\t72\t80\t\n",
      "9\t18\t27\t36\t45\t54\t63\t72\t81\t90\t\n",
      "10\t20\t30\t40\t50\t60\t70\t80\t90\t100\t\n"
     ]
    }
   ],
   "source": [
    "for i in range(1,11):\n",
    "    for j in range(1,11):\n",
    "        print(i*j,end=\"\\t\")\n",
    "    print()"
   ]
  },
  {
   "cell_type": "code",
   "execution_count": null,
   "id": "9ca0ed7f-e219-4d70-86f6-2ee152572c82",
   "metadata": {},
   "outputs": [],
   "source": []
  },
  {
   "cell_type": "markdown",
   "id": "8f82a817-f387-4186-9b1a-5d8c4a3e9917",
   "metadata": {},
   "source": [
    "Pattern printing"
   ]
  },
  {
   "cell_type": "code",
   "execution_count": 74,
   "id": "628fdc7d-f2bf-42c4-b2cc-68fe7839212b",
   "metadata": {},
   "outputs": [
    {
     "name": "stdout",
     "output_type": "stream",
     "text": [
      "Normal pyramid \n",
      "          \n",
      "    *     \n",
      "   * *    \n",
      "  * * *   \n",
      " * * * *  \n"
     ]
    }
   ],
   "source": [
    "print('Normal pyramid ')\n",
    "for i in range(5):\n",
    "    x=\"* \"\n",
    "    x=x*i\n",
    "    print(f'{x: ^10}')"
   ]
  },
  {
   "cell_type": "code",
   "execution_count": 75,
   "id": "52864e2d-7254-47c9-be4b-f637253c1208",
   "metadata": {},
   "outputs": [
    {
     "name": "stdout",
     "output_type": "stream",
     "text": [
      "Invert Pyramid\n",
      "\n",
      "* * * * * \n",
      " * * * *  \n",
      "  * * *   \n",
      "   * *    \n",
      "    *     \n"
     ]
    }
   ],
   "source": [
    "print('Invert Pyramid\\n')\n",
    "for i in range(5):\n",
    "    x='* '\n",
    "    x=x*(5-i)\n",
    "    print(f'{x: ^10}')"
   ]
  },
  {
   "cell_type": "code",
   "execution_count": 76,
   "id": "f6cf10e5-412e-44d8-bf4e-bce6f13d1b82",
   "metadata": {},
   "outputs": [
    {
     "name": "stdout",
     "output_type": "stream",
     "text": [
      "Left sided Pyramid\n",
      "          \n",
      "        * \n",
      "      * * \n",
      "    * * * \n",
      "  * * * * \n"
     ]
    }
   ],
   "source": [
    "print('Left sided Pyramid')\n",
    "for i in range(5):\n",
    "    x='* '\n",
    "    x=x*i\n",
    "    print(f'{x: >10}')"
   ]
  },
  {
   "cell_type": "code",
   "execution_count": 91,
   "id": "957cf1f5-031d-470b-9b99-03daa32899aa",
   "metadata": {},
   "outputs": [
    {
     "name": "stdout",
     "output_type": "stream",
     "text": [
      "Right sided Pyramid\n",
      "\n",
      "* \n",
      "* * \n",
      "* * * \n",
      "* * * * \n",
      "* * * * * \n"
     ]
    }
   ],
   "source": [
    "print('Right sided Pyramid')\n",
    "n=5  \n",
    "for i in range(n+1): \n",
    "    for j in range(i):\n",
    "        print(\"*\",end=' ')\n",
    "    print()"
   ]
  },
  {
   "cell_type": "code",
   "execution_count": 92,
   "id": "5a8072d1-3200-4379-9597-599d68c0114c",
   "metadata": {},
   "outputs": [
    {
     "name": "stdout",
     "output_type": "stream",
     "text": [
      "* * * * * \n",
      "* * * * \n",
      "* * * \n",
      "* * \n",
      "* \n"
     ]
    }
   ],
   "source": [
    "n=5\n",
    "for i in range(n,0,-1):\n",
    "    for j in range(i):\n",
    "        print(\"*\",end=' ')\n",
    "    print()"
   ]
  },
  {
   "cell_type": "code",
   "execution_count": 85,
   "id": "695b3937-f0ee-4692-b777-186f0e7a9713",
   "metadata": {},
   "outputs": [
    {
     "name": "stdout",
     "output_type": "stream",
     "text": [
      "*\n",
      "**\n",
      "***\n",
      "****\n",
      "*****\n",
      "****\n",
      "***\n",
      "**\n",
      "*\n",
      "\n"
     ]
    }
   ],
   "source": [
    "mystring=\"*****\"\n",
    "x=0\n",
    "for i in mystring:\n",
    "    x=x+1\n",
    "    print(mystring[0:x])\n",
    "for i in mystring:\n",
    "    x=x-1\n",
    "    print(mystring[0:x])"
   ]
  },
  {
   "cell_type": "code",
   "execution_count": 97,
   "id": "8ee5b7dc-fb16-45bc-a467-a5d318a31067",
   "metadata": {},
   "outputs": [
    {
     "name": "stdout",
     "output_type": "stream",
     "text": [
      "* * * * * * * \n",
      "* * * * * * * \n",
      "* * * * * * * \n",
      "* * * * * * * \n",
      "* * * * * * * \n",
      "* * * * * * * \n",
      "* * * * * * * \n"
     ]
    }
   ],
   "source": [
    "n=6 \n",
    "for i in range(n+1):\n",
    "    for j in range(n+1):\n",
    "        print('*',end=\" \")\n",
    "    print()"
   ]
  },
  {
   "cell_type": "code",
   "execution_count": 96,
   "id": "6beaaa46-45fc-425f-8cef-f6d2da068a3e",
   "metadata": {},
   "outputs": [
    {
     "name": "stdout",
     "output_type": "stream",
     "text": [
      "* * * * * * \n",
      "*       * \n",
      "*     * \n",
      "*   * \n",
      "* * \n",
      "* \n"
     ]
    }
   ],
   "source": [
    "n=6 \n",
    "for i in range(n):\n",
    "    for j in range(n-i):\n",
    "        if(i==0 or i==5 or j==0 or j==n-i-1):\n",
    "            print(\"*\", end=\" \")\n",
    "        else: \n",
    "            print(\" \",end=\" \")\n",
    "    print()"
   ]
  },
  {
   "cell_type": "code",
   "execution_count": 2,
   "id": "23e8fb47-3c5c-40a8-9b86-f04d5f5687d9",
   "metadata": {},
   "outputs": [
    {
     "name": "stdout",
     "output_type": "stream",
     "text": [
      "    *\n",
      "   ***\n",
      "  *****\n",
      " *******\n",
      "*********\n"
     ]
    }
   ],
   "source": [
    "# Number of levels in the pyramid\n",
    "n = 5\n",
    "# Outer loop for each level of the pyramid\n",
    "for i in range(n):\n",
    "    # Print leading spaces\n",
    "    for j in range(n - i - 1):\n",
    "        print(\" \", end=\"\")\n",
    "    # Print stars for the pyramid level\n",
    "    for k in range(2 * i + 1):\n",
    "        print(\"*\", end=\"\")\n",
    "    # Move to the next line after each level\n",
    "    print()"
   ]
  },
  {
   "cell_type": "code",
   "execution_count": 3,
   "id": "61eeb9ff-aef6-4bb2-a3ec-1704878f0bb3",
   "metadata": {},
   "outputs": [
    {
     "name": "stdout",
     "output_type": "stream",
     "text": [
      "*********\n",
      " *******\n",
      "  *****\n",
      "   ***\n",
      "    *\n"
     ]
    }
   ],
   "source": [
    "# Number of levels in the inverted pyramid\n",
    "n = 5\n",
    "# Outer loop for each level of the inverted pyramid\n",
    "for i in range(n):\n",
    "    # Print leading spaces\n",
    "    for j in range(i):\n",
    "        print(\" \", end=\"\")\n",
    "    # Print stars for the inverted pyramid level\n",
    "    for k in range(2 * (n - i) - 1):\n",
    "        print(\"*\", end=\"\")\n",
    "    # Move to the next line after each level\n",
    "    print()"
   ]
  },
  {
   "cell_type": "code",
   "execution_count": null,
   "id": "ff39448a-a87b-4fb4-845a-fff512475567",
   "metadata": {},
   "outputs": [],
   "source": []
  }
 ],
 "metadata": {
  "kernelspec": {
   "display_name": "Python 3 (ipykernel)",
   "language": "python",
   "name": "python3"
  },
  "language_info": {
   "codemirror_mode": {
    "name": "ipython",
    "version": 3
   },
   "file_extension": ".py",
   "mimetype": "text/x-python",
   "name": "python",
   "nbconvert_exporter": "python",
   "pygments_lexer": "ipython3",
   "version": "3.11.7"
  }
 },
 "nbformat": 4,
 "nbformat_minor": 5
}
