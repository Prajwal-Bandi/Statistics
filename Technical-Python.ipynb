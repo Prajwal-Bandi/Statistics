{
 "cells": [
  {
   "cell_type": "markdown",
   "id": "ceed2f15-95f4-4fab-8ac4-efa9988b3082",
   "metadata": {},
   "source": [
    "Most asked technical python programming question"
   ]
  },
  {
   "cell_type": "markdown",
   "id": "6b1b5a01-e2b2-41a9-b0a2-2f6f2ff20418",
   "metadata": {},
   "source": [
    "1.Positive r Negative number"
   ]
  },
  {
   "cell_type": "code",
   "execution_count": 4,
   "id": "f8abca1c-a7c2-4c73-9bec-a583fdacb734",
   "metadata": {},
   "outputs": [
    {
     "name": "stdin",
     "output_type": "stream",
     "text": [
      "Enter number : 8\n"
     ]
    },
    {
     "name": "stdout",
     "output_type": "stream",
     "text": [
      "Number is positive\n"
     ]
    }
   ],
   "source": [
    "num=int(input('Enter number :'))\n",
    "if num>0:\n",
    "    print('Number is positive')\n",
    "else:\n",
    "    print('Number is negative')"
   ]
  },
  {
   "cell_type": "code",
   "execution_count": null,
   "id": "56ab5a0e-2393-42cc-a6a2-efd71d3b8ee9",
   "metadata": {},
   "outputs": [],
   "source": []
  },
  {
   "cell_type": "markdown",
   "id": "058d0cb9-9ae2-4cb4-83f5-d1d0e6639091",
   "metadata": {},
   "source": [
    "2.Even r Odd number"
   ]
  },
  {
   "cell_type": "code",
   "execution_count": 6,
   "id": "5a7bd761-b18b-4ec7-8557-064ff066dcc0",
   "metadata": {},
   "outputs": [
    {
     "name": "stdin",
     "output_type": "stream",
     "text": [
      "Enter the number : 5\n"
     ]
    },
    {
     "name": "stdout",
     "output_type": "stream",
     "text": [
      "Number is Odd\n"
     ]
    }
   ],
   "source": [
    "num=int(input('Enter the number :'))\n",
    "if num%2==0:\n",
    "    print('Number is Even')\n",
    "else:\n",
    "    print('Number is Odd')"
   ]
  },
  {
   "cell_type": "code",
   "execution_count": null,
   "id": "2f3c8509-c14b-4250-a96b-9747cd80177d",
   "metadata": {},
   "outputs": [],
   "source": []
  },
  {
   "cell_type": "markdown",
   "id": "7e2da787-1e06-4249-806e-b06e3a61a5e0",
   "metadata": {},
   "source": [
    "3.Greatest of 2 number"
   ]
  },
  {
   "cell_type": "code",
   "execution_count": 11,
   "id": "87a89ace-6a23-443a-a812-ba0134abdd45",
   "metadata": {},
   "outputs": [
    {
     "name": "stdin",
     "output_type": "stream",
     "text": [
      "Enter 1st number : 3\n",
      "Enter 2nd number :  6\n"
     ]
    },
    {
     "name": "stdout",
     "output_type": "stream",
     "text": [
      "6 is greater\n"
     ]
    }
   ],
   "source": [
    "num1=int(input('Enter 1st number :'))\n",
    "num2=int(input('Enter 2nd number : '))\n",
    "if num2>num1:\n",
    "    print(f'{num2} is greater')\n",
    "else:\n",
    "    print(f'{num1} is greater')"
   ]
  },
  {
   "cell_type": "code",
   "execution_count": null,
   "id": "814e7a1b-2ecb-4979-bbaa-f1c410721b91",
   "metadata": {},
   "outputs": [],
   "source": []
  },
  {
   "cell_type": "markdown",
   "id": "2564cf4f-d50f-488e-bc8d-3e7eb618bd0a",
   "metadata": {},
   "source": [
    "4.Greatest of 3 number"
   ]
  },
  {
   "cell_type": "code",
   "execution_count": 22,
   "id": "33baadea-27e1-45bb-9452-f36089b9faf0",
   "metadata": {},
   "outputs": [
    {
     "name": "stdin",
     "output_type": "stream",
     "text": [
      "Enter 1st number:  30\n",
      "Enter 2nd number:  40\n",
      "Enter 3rd number:  59\n"
     ]
    },
    {
     "name": "stdout",
     "output_type": "stream",
     "text": [
      "59 is Greater\n"
     ]
    }
   ],
   "source": [
    "def greatest(num1, num2, num3):\n",
    "    if num1 >= num2 and num1 >= num3:\n",
    "        return f'{num1} is Greater'\n",
    "    elif num2 >= num1 and num2 >= num3:\n",
    "        return f'{num2} is Greater'\n",
    "    else:\n",
    "        return f'{num3} is Greater'\n",
    "\n",
    "# Taking user input\n",
    "num1 = int(input('Enter 1st number: '))\n",
    "num2 = int(input('Enter 2nd number: '))\n",
    "num3 = int(input('Enter 3rd number: '))\n",
    "\n",
    "# Printing the greatest number\n",
    "print(greatest(num1, num2, num3))"
   ]
  },
  {
   "cell_type": "code",
   "execution_count": null,
   "id": "1fbdced4-8fc4-4777-ac0c-ff4988ac4b71",
   "metadata": {},
   "outputs": [],
   "source": []
  },
  {
   "cell_type": "markdown",
   "id": "4bf32155-133e-4ea6-bde3-5660ddfb9ae1",
   "metadata": {},
   "source": [
    "5.Sum of N natural number "
   ]
  },
  {
   "cell_type": "code",
   "execution_count": 17,
   "id": "22925686-cc58-47c1-b835-009c6e3015fe",
   "metadata": {},
   "outputs": [
    {
     "name": "stdin",
     "output_type": "stream",
     "text": [
      "Enter the number : 4\n"
     ]
    },
    {
     "name": "stdout",
     "output_type": "stream",
     "text": [
      "the sum of first 4 natural number is 10\n"
     ]
    }
   ],
   "source": [
    "num=int(input('Enter the number :'))\n",
    "sum=0\n",
    "i=0\n",
    "\n",
    "while(i<=num):\n",
    "    sum+=i\n",
    "    i+=1\n",
    "print(f'the sum of first {num} natural number is {sum}')"
   ]
  },
  {
   "cell_type": "code",
   "execution_count": 1,
   "id": "8adb7414-72d8-4331-9a9b-d25020caebb3",
   "metadata": {},
   "outputs": [
    {
     "name": "stdout",
     "output_type": "stream",
     "text": [
      "15\n"
     ]
    }
   ],
   "source": [
    "num=5\n",
    "sum=0\n",
    "for i in range(num+1):\n",
    "    sum+=i\n",
    "print(sum)"
   ]
  },
  {
   "cell_type": "code",
   "execution_count": 7,
   "id": "b8b6224b-f178-47e3-870a-9a7cfec317c8",
   "metadata": {},
   "outputs": [
    {
     "name": "stdin",
     "output_type": "stream",
     "text": [
      "Enter the number:  9\n"
     ]
    },
    {
     "data": {
      "text/plain": [
       "45"
      ]
     },
     "execution_count": 7,
     "metadata": {},
     "output_type": "execute_result"
    }
   ],
   "source": [
    "def recursive_sum(num):\n",
    "    if num == 0:\n",
    "        return 0\n",
    "    else:\n",
    "        return num + recursive_sum(num - 1)\n",
    "\n",
    "num = int(input('Enter the number: '))\n",
    "recursive_sum(num)"
   ]
  },
  {
   "cell_type": "code",
   "execution_count": null,
   "id": "92fece8b-e2b5-44e9-8b93-601b7be502a7",
   "metadata": {},
   "outputs": [],
   "source": []
  },
  {
   "cell_type": "markdown",
   "id": "1b960ec4-b701-4a05-8c23-046f827db6c3",
   "metadata": {},
   "source": [
    "6.Leap Year"
   ]
  },
  {
   "cell_type": "code",
   "execution_count": 2,
   "id": "9f4c0f00-e4d6-4b34-add5-4096b5396259",
   "metadata": {},
   "outputs": [
    {
     "name": "stdin",
     "output_type": "stream",
     "text": [
      "Enter the year: 2000\n"
     ]
    },
    {
     "name": "stdout",
     "output_type": "stream",
     "text": [
      "2000 is Leap year\n"
     ]
    }
   ],
   "source": [
    "year=int(input('Enter the year:'))\n",
    "if (year%400==0 and year%100!=0) or year%4==0:\n",
    "    print(f'{year} is Leap year')\n",
    "else:\n",
    "    print(f'{year} is not leap year')"
   ]
  },
  {
   "cell_type": "code",
   "execution_count": 21,
   "id": "ef0b69c8-dc82-4074-bf79-363e389b0265",
   "metadata": {},
   "outputs": [
    {
     "name": "stdin",
     "output_type": "stream",
     "text": [
      "Enter the year:  40\n"
     ]
    },
    {
     "name": "stdout",
     "output_type": "stream",
     "text": [
      "40 is a Leap year\n"
     ]
    }
   ],
   "source": [
    "def leap(year):\n",
    "    if (year % 4 == 0 and year % 100 != 0) or (year % 400 == 0):\n",
    "        return f\"{year} is a Leap year\"\n",
    "    else:\n",
    "        return f\"{year} is not a leap year\"\n",
    "    \n",
    "year = int(input(\"Enter the year: \"))\n",
    "print(leap(year))"
   ]
  },
  {
   "cell_type": "code",
   "execution_count": 1,
   "id": "0d6ed8ed-6c4f-47ff-b127-7a877bb4a5c9",
   "metadata": {},
   "outputs": [
    {
     "name": "stdin",
     "output_type": "stream",
     "text": [
      "Enter year : 30\n"
     ]
    },
    {
     "name": "stdout",
     "output_type": "stream",
     "text": [
      "30 is not leap year\n"
     ]
    }
   ],
   "source": [
    "import calendar\n",
    "year=int(input('Enter year :'))\n",
    "if calendar.isleap(year):\n",
    "    print(year,'is leap year')\n",
    "else:\n",
    "    print(year,'is not leap year')"
   ]
  },
  {
   "cell_type": "markdown",
   "id": "d683279b-73c1-4832-a590-7727654f6147",
   "metadata": {},
   "source": []
  },
  {
   "cell_type": "markdown",
   "id": "5a0c9440-c148-4b4b-97b8-79c77948263c",
   "metadata": {},
   "source": [
    "7.Prime Number"
   ]
  },
  {
   "cell_type": "code",
   "execution_count": 33,
   "id": "e7663d3b-fe7e-4a7e-91b7-f1690f2764eb",
   "metadata": {},
   "outputs": [
    {
     "name": "stdin",
     "output_type": "stream",
     "text": [
      "Enter the number:  3\n"
     ]
    },
    {
     "name": "stdout",
     "output_type": "stream",
     "text": [
      "3 is  prime number \n"
     ]
    }
   ],
   "source": [
    "num=int(input(\"Enter the number: \"))\n",
    "for i in range(2,num):\n",
    "    if (num%i==0):\n",
    "        print(f\"{num} is not prime number \")\n",
    "        break\n",
    "else: \n",
    "    print(f\"{num} is  prime number \")"
   ]
  },
  {
   "cell_type": "code",
   "execution_count": 1,
   "id": "afc1a88a-9fda-4315-8e03-0cb829b3777d",
   "metadata": {},
   "outputs": [
    {
     "name": "stdin",
     "output_type": "stream",
     "text": [
      " 4\n"
     ]
    },
    {
     "name": "stdout",
     "output_type": "stream",
     "text": [
      "Not prime\n"
     ]
    }
   ],
   "source": [
    "def prime(num):\n",
    "    for i in range(2,num):\n",
    "        if num%i==0:\n",
    "            print('Not prime')\n",
    "            break\n",
    "        else:\n",
    "            print('Prime')\n",
    "num=int(input())\n",
    "prime(num)"
   ]
  },
  {
   "cell_type": "code",
   "execution_count": 32,
   "id": "c9518226-3e4d-41c0-bb50-74b7df9d5aeb",
   "metadata": {},
   "outputs": [
    {
     "name": "stdin",
     "output_type": "stream",
     "text": [
      "Enter a number:  3\n"
     ]
    },
    {
     "name": "stdout",
     "output_type": "stream",
     "text": [
      "3 is a prime number.\n"
     ]
    }
   ],
   "source": [
    "# Function to check if a number is prime\n",
    "def is_prime(num):\n",
    "    # Prime numbers must be greater than 1\n",
    "    if num <= 1:\n",
    "        return False\n",
    "    # Check for factors from 2 to the square root of num\n",
    "    for i in range(2, int(num**0.5) + 1):\n",
    "        if num % i == 0:\n",
    "            return False\n",
    "    return True\n",
    "\n",
    "# Get user input\n",
    "number = int(input(\"Enter a number: \"))\n",
    "\n",
    "# Check if the number is prime and print the result\n",
    "if is_prime(number):\n",
    "    print(f\"{number} is a prime number.\")\n",
    "else:\n",
    "    print(f\"{number} is not a prime number.\")"
   ]
  },
  {
   "cell_type": "code",
   "execution_count": null,
   "id": "d062a1a5-cc22-49ec-b5b9-c08c2c045dee",
   "metadata": {},
   "outputs": [],
   "source": []
  },
  {
   "cell_type": "markdown",
   "id": "03f84f2e-0502-42d8-b625-00a9e1136ba6",
   "metadata": {},
   "source": [
    "8.Sum of Digit number"
   ]
  },
  {
   "cell_type": "code",
   "execution_count": 34,
   "id": "10b04d7c-64c6-4686-aab2-5c1895063a28",
   "metadata": {},
   "outputs": [
    {
     "name": "stdin",
     "output_type": "stream",
     "text": [
      "Enter the number:  45\n"
     ]
    },
    {
     "name": "stdout",
     "output_type": "stream",
     "text": [
      "Sum of digits: 9\n"
     ]
    }
   ],
   "source": [
    "num = input('Enter the number: ')\n",
    "sum = 0\n",
    "for i in num:\n",
    "    sum += int(i)\n",
    "print(\"Sum of digits:\", sum)"
   ]
  },
  {
   "cell_type": "code",
   "execution_count": null,
   "id": "723ec9a4-7a6e-4661-b67c-7f82aa8a060d",
   "metadata": {},
   "outputs": [],
   "source": []
  },
  {
   "cell_type": "markdown",
   "id": "bcb2b896-1b61-4049-b914-6c75c40f09e7",
   "metadata": {},
   "source": [
    "9.Factorial of Number"
   ]
  },
  {
   "cell_type": "code",
   "execution_count": 2,
   "id": "11c8cdaa-4910-458d-badb-4f14762258e9",
   "metadata": {},
   "outputs": [
    {
     "name": "stdin",
     "output_type": "stream",
     "text": [
      "Enter the number :  3\n"
     ]
    },
    {
     "data": {
      "text/plain": [
       "6"
      ]
     },
     "execution_count": 2,
     "metadata": {},
     "output_type": "execute_result"
    }
   ],
   "source": [
    "#Recursive\n",
    "def factorial(num):\n",
    "    if num<=1:\n",
    "        return 1 \n",
    "    else:\n",
    "        return num * factorial(num-1)\n",
    "num=int(input('Enter the number : '))\n",
    "factorial(num)"
   ]
  },
  {
   "cell_type": "code",
   "execution_count": 41,
   "id": "a290b369-226e-4f8f-9b4f-09fec9d608d6",
   "metadata": {},
   "outputs": [
    {
     "name": "stdout",
     "output_type": "stream",
     "text": [
      "Factorial of 6 is 720\n"
     ]
    }
   ],
   "source": [
    "#Iterative\n",
    "num = 6\n",
    "fact = 1\n",
    "if num < 0:\n",
    "    print('Factorial is not defined for negative numbers')\n",
    "else:\n",
    "    for i in range(1, num + 1):\n",
    "        fact = fact * i\n",
    "print(\"Factorial of\", num, \"is\", fact)"
   ]
  },
  {
   "cell_type": "code",
   "execution_count": 1,
   "id": "a0b7cf8f-407f-4e45-b57d-f6c9efd023e8",
   "metadata": {},
   "outputs": [
    {
     "name": "stdin",
     "output_type": "stream",
     "text": [
      "Enter the number 45\n"
     ]
    },
    {
     "data": {
      "text/plain": [
       "119622220865480194561963161495657715064383733760000000000"
      ]
     },
     "execution_count": 1,
     "metadata": {},
     "output_type": "execute_result"
    }
   ],
   "source": [
    "def factorial_iterative(n):\n",
    "    result=1\n",
    "    for i in range(1,n+1):\n",
    "        result*=i\n",
    "    return result\n",
    "\n",
    "num=int(input('Enter the number'))\n",
    "factorial_iterative(num)"
   ]
  },
  {
   "cell_type": "code",
   "execution_count": null,
   "id": "1893d4a8-c989-4574-a3fc-c0ceef8f2a16",
   "metadata": {},
   "outputs": [],
   "source": []
  },
  {
   "cell_type": "markdown",
   "id": "20b4c9e3-8c75-4a48-bbf5-e1e76c427ef0",
   "metadata": {},
   "source": [
    "10.Fibonacci Series"
   ]
  },
  {
   "cell_type": "code",
   "execution_count": 1,
   "id": "0bba58e0-5707-4e96-8f58-4f12ca90cf46",
   "metadata": {},
   "outputs": [
    {
     "name": "stdin",
     "output_type": "stream",
     "text": [
      "How many fibonacci numbers you want to generate - 4\n"
     ]
    },
    {
     "name": "stdout",
     "output_type": "stream",
     "text": [
      "0\n",
      "1\n",
      "1\n",
      "2\n"
     ]
    }
   ],
   "source": [
    "def fiboacci(num):\n",
    "   if num <= 0:\n",
    "       return num\n",
    "   if num == 1:\n",
    "       return 1\n",
    "   else: \n",
    "       return(fiboacci(num-1) + fiboacci(num-2)) \n",
    "nums = int(input(\"How many fibonacci numbers you want to generate -\"))\n",
    "fiboacci(nums) \n",
    "for i in range(nums):\n",
    "  print(fiboacci(i)) "
   ]
  },
  {
   "cell_type": "code",
   "execution_count": 2,
   "id": "7fe0d1e0-6e0f-4629-ac1c-86088503bbcb",
   "metadata": {},
   "outputs": [
    {
     "name": "stdin",
     "output_type": "stream",
     "text": [
      "Enter the number:  10\n"
     ]
    },
    {
     "name": "stdout",
     "output_type": "stream",
     "text": [
      "Sum of the first 10 Fibonacci numbers is: 88\n"
     ]
    }
   ],
   "source": [
    "def fibonacci(num):\n",
    "    if num <= 0:\n",
    "        return 0\n",
    "    elif num == 1:\n",
    "        return 1\n",
    "    else:\n",
    "        return fibonacci(num - 1) + fibonacci(num - 2)\n",
    "\n",
    "# Function to calculate the sum of the first `n` Fibonacci numbers\n",
    "def sum_of_fibonacci(n):\n",
    "    total_sum = 0\n",
    "    for i in range(n):\n",
    "        total_sum += fibonacci(i)\n",
    "    return total_sum\n",
    "\n",
    "num = int(input('Enter the number: '))\n",
    "print(f'Sum of the first {num} Fibonacci numbers is:', sum_of_fibonacci(num))\n"
   ]
  },
  {
   "cell_type": "code",
   "execution_count": 49,
   "id": "e31a7a2a-93ce-40eb-9cf8-92e4685443e9",
   "metadata": {},
   "outputs": [
    {
     "name": "stdout",
     "output_type": "stream",
     "text": [
      "Fibonacci series: 0 1 1 2 3 5 8 13 21 34 \n"
     ]
    }
   ],
   "source": [
    "num=10\n",
    "n1,n2=0,1\n",
    "print('Fibonacci series:',n1,n2,end=' ')\n",
    "for i in range(2,num):\n",
    "    n3=n1+n2\n",
    "    n1=n2\n",
    "    n2=n3\n",
    "    print(n3,end=' ')\n",
    "print()"
   ]
  },
  {
   "cell_type": "code",
   "execution_count": null,
   "id": "0e7e945d-bcbc-47c3-ae9b-e051e7f7ea60",
   "metadata": {},
   "outputs": [],
   "source": [
    "def fibonacci(num):\n",
    "    if num <= 0:\n",
    "        return 0\n",
    "    elif num == 1:\n",
    "        return 1\n",
    "    else:\n",
    "        return fibonacci(num-1) + fibonacci(num-2)\n",
    "\n",
    "num = int(input('Enter the number: '))\n",
    "\n",
    "# Generate the Fibonacci sequence in a list format\n",
    "fib_sequence = [fibonacci(i) for i in range(num)]\n",
    "print(fib_sequence)"
   ]
  },
  {
   "cell_type": "markdown",
   "id": "c0d5b6dd-86ce-49cc-9f4d-6955bcc6f723",
   "metadata": {},
   "source": [
    "11.Swapping of two numbers"
   ]
  },
  {
   "cell_type": "code",
   "execution_count": 3,
   "id": "74b9f7fb-d1cc-4fd9-8891-6efb4dfbfd38",
   "metadata": {},
   "outputs": [
    {
     "name": "stdin",
     "output_type": "stream",
     "text": [
      "Enter the first number:  2\n",
      "Enter the second number:  3\n"
     ]
    },
    {
     "name": "stdout",
     "output_type": "stream",
     "text": [
      "Before swapping: a = 2, b = 3\n",
      "After swapping: a = 3, b = 2\n"
     ]
    }
   ],
   "source": [
    "# Swapping using tuple unpacking\n",
    "a = int(input(\"Enter the first number: \"))\n",
    "b = int(input(\"Enter the second number: \"))\n",
    "\n",
    "# Display before swap\n",
    "print(f\"Before swapping: a = {a}, b = {b}\")\n",
    "\n",
    "# Swap\n",
    "a, b = b, a\n",
    "\n",
    "# Display after swap\n",
    "print(f\"After swapping: a = {a}, b = {b}\")"
   ]
  },
  {
   "cell_type": "code",
   "execution_count": null,
   "id": "c78a21fb-9cd1-4729-8639-4e6cebe73863",
   "metadata": {},
   "outputs": [],
   "source": [
    "# Using a temporary variable\n",
    "a = int(input('Enter the first number: '))\n",
    "b = int(input('Enter the second number: '))\n",
    "\n",
    "# Swap using a temporary variable\n",
    "temp = a\n",
    "a = b\n",
    "b = temp\n",
    "\n",
    "print(f'Swapped values: a = {a}, b = {b}')\n"
   ]
  },
  {
   "cell_type": "markdown",
   "id": "a8b9c0a6-7c36-4491-bf28-e334e08d7a1e",
   "metadata": {},
   "source": [
    "12.Reverse a number"
   ]
  },
  {
   "cell_type": "code",
   "execution_count": 4,
   "id": "04228d78-048f-46cd-9cba-c34c36a24372",
   "metadata": {},
   "outputs": [
    {
     "name": "stdout",
     "output_type": "stream",
     "text": [
      "34321\n"
     ]
    }
   ],
   "source": [
    "num = 12343\n",
    "temp = num\n",
    "reverse = 0\n",
    "\n",
    "while num > 0:\n",
    "    remainder = num % 10\n",
    "    reverse = (reverse * 10) + remainder\n",
    "    num = num // 10\n",
    "print(reverse)"
   ]
  },
  {
   "cell_type": "code",
   "execution_count": 5,
   "id": "588f4951-d088-4d65-bfae-5ac92fcfd8a7",
   "metadata": {},
   "outputs": [
    {
     "name": "stdout",
     "output_type": "stream",
     "text": [
      "0202\n"
     ]
    }
   ],
   "source": [
    "# Reverse the number by converting it to a string and slicing\n",
    "num=2020\n",
    "reversed = str(num)[::-1]\n",
    "\n",
    "# Print the reversed string\n",
    "print(reversed)"
   ]
  },
  {
   "cell_type": "code",
   "execution_count": 57,
   "id": "0415cc7f-b815-44a3-915b-d47db3fe3c3d",
   "metadata": {},
   "outputs": [
    {
     "name": "stdout",
     "output_type": "stream",
     "text": [
      "4321\n"
     ]
    }
   ],
   "source": [
    "def recursum(number,reverse):\n",
    "  if number==0:\n",
    "    return reverse\n",
    "  remainder = int(number%10)\n",
    "  reverse = (reverse*10)+remainder\n",
    "  return recursum(int(number/10),reverse)\n",
    "\n",
    "num = 1234\n",
    "reverse = 0\n",
    "print(recursum(num,reverse))"
   ]
  },
  {
   "cell_type": "code",
   "execution_count": null,
   "id": "613e9f4f-dbe3-440e-8681-1e66e5ef70c8",
   "metadata": {},
   "outputs": [],
   "source": []
  },
  {
   "cell_type": "markdown",
   "id": "15c2ab4f-2968-4813-a348-a695c6b743b6",
   "metadata": {},
   "source": [
    "13.Reverse a string "
   ]
  },
  {
   "cell_type": "code",
   "execution_count": 59,
   "id": "8f01e720-083a-4103-9249-cacdbe400479",
   "metadata": {},
   "outputs": [
    {
     "name": "stdin",
     "output_type": "stream",
     "text": [
      "Enter string: heb\n"
     ]
    },
    {
     "name": "stdout",
     "output_type": "stream",
     "text": [
      "beh\n"
     ]
    }
   ],
   "source": [
    "string=input('Enter string:')\n",
    "reversed_string=string[::-1]\n",
    "print(reversed_string)"
   ]
  },
  {
   "cell_type": "code",
   "execution_count": null,
   "id": "36d73797-40ee-4b1f-bdd6-d028bc13cbde",
   "metadata": {},
   "outputs": [],
   "source": []
  },
  {
   "cell_type": "markdown",
   "id": "8c4b1bc6-e057-4609-94c1-69729736fbb9",
   "metadata": {},
   "source": [
    "14.Palindrome Number"
   ]
  },
  {
   "cell_type": "code",
   "execution_count": 66,
   "id": "a53215d0-8199-4589-ad04-83ec073f232c",
   "metadata": {},
   "outputs": [
    {
     "name": "stdout",
     "output_type": "stream",
     "text": [
      "Not Palindrome\n"
     ]
    }
   ],
   "source": [
    "num=2342\n",
    "reverse=int(str(num)[::-1])\n",
    "if num==reverse:\n",
    "    print('Palindrome')\n",
    "else:\n",
    "    print('Not Palindrome')"
   ]
  },
  {
   "cell_type": "code",
   "execution_count": 1,
   "id": "d657698c-37dd-425b-bef0-2bb450ffa676",
   "metadata": {},
   "outputs": [
    {
     "name": "stdout",
     "output_type": "stream",
     "text": [
      "Not palindrome\n"
     ]
    }
   ],
   "source": [
    "num = 1221\n",
    "temp = num\n",
    "reverse = 0\n",
    "\n",
    "while temp > 0:\n",
    "    remainder = temp % 10\n",
    "    reverse = (reverse * 10) + remainder  # Update reverse with the remainder\n",
    "    temp = temp // 10\n",
    "\n",
    "if num == reverse:\n",
    "    print('Palindrome')\n",
    "else:\n",
    "    print('Not palindrome')\n"
   ]
  },
  {
   "cell_type": "code",
   "execution_count": null,
   "id": "3db53099-502c-4630-b090-2b643bc1024f",
   "metadata": {},
   "outputs": [],
   "source": []
  },
  {
   "cell_type": "markdown",
   "id": "3786008c-f3d8-4cc9-b3a6-f33026378073",
   "metadata": {},
   "source": [
    "15.Palindrome String"
   ]
  },
  {
   "cell_type": "code",
   "execution_count": 68,
   "id": "a4c6e645-077f-407f-9351-d4febdf051f3",
   "metadata": {},
   "outputs": [
    {
     "name": "stdin",
     "output_type": "stream",
     "text": [
      "Enter a string:  tbe\n"
     ]
    },
    {
     "name": "stdout",
     "output_type": "stream",
     "text": [
      "\"tbe\" is not a palindrome.\n"
     ]
    }
   ],
   "source": [
    "# Function to check if a string is a palindrome\n",
    "def is_palindrome(s):\n",
    "    s = s.replace(\" \", \"\").lower()\n",
    "    return s == s[::-1]\n",
    "\n",
    "string = input(\"Enter a string: \")\n",
    "if is_palindrome(string):\n",
    "    print(f'\"{string}\" is a palindrome.')\n",
    "else:\n",
    "    print(f'\"{string}\" is not a palindrome.')"
   ]
  },
  {
   "cell_type": "code",
   "execution_count": null,
   "id": "c97b6dfb-4daa-4eaa-ab24-7063bb5ba38a",
   "metadata": {},
   "outputs": [],
   "source": []
  },
  {
   "cell_type": "markdown",
   "id": "6a994a86-a061-4bee-adae-39883c74ffcf",
   "metadata": {},
   "source": [
    "16.Power of Number"
   ]
  },
  {
   "cell_type": "code",
   "execution_count": 69,
   "id": "8fa48417-9259-4a73-9882-9d4fd6c774c6",
   "metadata": {},
   "outputs": [
    {
     "name": "stdin",
     "output_type": "stream",
     "text": [
      "Enter the base number:  4\n",
      "Enter the exponent (a non-negative integer):  5\n"
     ]
    },
    {
     "name": "stdout",
     "output_type": "stream",
     "text": [
      "4 raised to the power of 5 is: 1024\n"
     ]
    }
   ],
   "source": [
    "def power(base, exponent):\n",
    "    # Base case: any number raised to the power of 0 is 1\n",
    "    if exponent == 0:\n",
    "        return 1\n",
    "    # Recursive case: multiply base by itself exponent times\n",
    "    else:\n",
    "        return base * power(base, exponent - 1)\n",
    "\n",
    "# Example usage:\n",
    "base = int(input(\"Enter the base number: \"))\n",
    "exponent = int(input(\"Enter the exponent (a non-negative integer): \"))\n",
    "\n",
    "result = power(base, exponent)\n",
    "print(f\"{base} raised to the power of {exponent} is: {result}\")"
   ]
  },
  {
   "cell_type": "code",
   "execution_count": null,
   "id": "3b2125b4-6ef2-46e4-afce-4e0885ad269e",
   "metadata": {},
   "outputs": [],
   "source": []
  },
  {
   "cell_type": "markdown",
   "id": "3ad6fff0-1354-4d46-b2ee-4255d9e1cf3d",
   "metadata": {},
   "source": [
    "17.Anagrams python program"
   ]
  },
  {
   "cell_type": "code",
   "execution_count": 2,
   "id": "2c473365-f9c0-4dcc-a205-4d44c48d4149",
   "metadata": {},
   "outputs": [
    {
     "name": "stdin",
     "output_type": "stream",
     "text": [
      "Enter the 1st string:  appa\n",
      "Enter the 2nd string:  amma\n"
     ]
    },
    {
     "name": "stdout",
     "output_type": "stream",
     "text": [
      "Strings are not anagrams\n"
     ]
    }
   ],
   "source": [
    "# Take user input\n",
    "String1 = input(\"Enter the 1st string: \").replace(\" \", \"\").lower()\n",
    "String2 = input(\"Enter the 2nd string: \").replace(\" \", \"\").lower()\n",
    "\n",
    "# Check if length matches\n",
    "if len(String1) != len(String2):\n",
    "    # If lengths are different, they are not anagrams\n",
    "    print(\"Strings are not anagrams\")\n",
    "else:\n",
    "    # Sorted function sorts the string by characters\n",
    "    if sorted(String1) == sorted(String2):\n",
    "        # If True\n",
    "        print(\"Strings are anagrams\")\n",
    "    else:\n",
    "        print(\"Strings are not anagrams\")\n"
   ]
  },
  {
   "cell_type": "code",
   "execution_count": null,
   "id": "dacd822b-a4df-43e4-a0cb-e9e519fbcb95",
   "metadata": {},
   "outputs": [],
   "source": []
  },
  {
   "cell_type": "markdown",
   "id": "9bf3933b-05c2-4d5e-b5a5-268ad4448821",
   "metadata": {},
   "source": [
    "18.Perfect Number"
   ]
  },
  {
   "cell_type": "code",
   "execution_count": 13,
   "id": "daff87c5-cc89-4009-8980-1de8223a5177",
   "metadata": {},
   "outputs": [
    {
     "name": "stdout",
     "output_type": "stream",
     "text": [
      "1\n",
      "3\n",
      "7\n",
      "14\n",
      "28\n",
      "The number is a Perfect number\n"
     ]
    }
   ],
   "source": [
    "n = 28  # Number to check\n",
    "sum = 0  # Initialize sum of divisors\n",
    "\n",
    "# Loop through possible divisors\n",
    "for i in range(1, n):\n",
    "    if n % i == 0:  # Check if i is a divisor of n\n",
    "        sum += i  # Add the divisor to sum\n",
    "        print(sum)\n",
    "# Check if sum of divisors equals the number itself\n",
    "if sum == n:\n",
    "    print(\"The number is a Perfect number\")\n",
    "else:\n",
    "    print(\"The number is not a Perfect number\")\n",
    "\n",
    "# n = 28 (Perfect number; divisors are 1, 2, 4, 7, 14, and their sum is 28).\n",
    "# n = 45 (Not perfect number ; divisors are 1,3,5,9,15, and their sum is 33)"
   ]
  },
  {
   "cell_type": "code",
   "execution_count": null,
   "id": "297639bf-7f05-4a75-a703-1f77f127705a",
   "metadata": {},
   "outputs": [],
   "source": []
  },
  {
   "cell_type": "markdown",
   "id": "14467a25-f4fb-4faa-a461-465184942ab3",
   "metadata": {},
   "source": [
    "19.Armstrong"
   ]
  },
  {
   "cell_type": "code",
   "execution_count": 73,
   "id": "c6dfb66c-c1fe-4c55-b5e4-2d8adbd5b578",
   "metadata": {},
   "outputs": [
    {
     "name": "stdout",
     "output_type": "stream",
     "text": [
      "Armstrong\n"
     ]
    }
   ],
   "source": [
    "number = 371\n",
    "num = number\n",
    "digit, sum = 0, 0\n",
    "length = len(str(num))\n",
    "for i in range(length):\n",
    "  digit = int(num%10)\n",
    "  num = num/10\n",
    "  sum += pow(digit,length)\n",
    "if sum==number:\n",
    "  print(\"Armstrong\")\n",
    "else:\n",
    "  print(\"Not Armstrong\")\n",
    "    "
   ]
  },
  {
   "cell_type": "code",
   "execution_count": 18,
   "id": "b5bccf6c-f76c-4cd1-b55c-6cbb4688ecb8",
   "metadata": {},
   "outputs": [
    {
     "name": "stdin",
     "output_type": "stream",
     "text": [
      " 371\n"
     ]
    },
    {
     "name": "stdout",
     "output_type": "stream",
     "text": [
      "Armstrong\n"
     ]
    }
   ],
   "source": [
    "def is_armstrong_number(num):\n",
    "    order = len(str(num))  # Determine the number of digits\n",
    "    sum_of_powers = 0\n",
    "    temp = num\n",
    "\n",
    "    # Calculate the sum of each digit raised to the power of the number of digits\n",
    "    while temp > 0:\n",
    "        digit = temp % 10\n",
    "        sum_of_powers += digit ** order\n",
    "        temp //= 10\n",
    "\n",
    "    # Check if the original number is equal to the sum of the powers\n",
    "    return num == sum_of_powers\n",
    "\n",
    "# Example usage\n",
    "number = int(input(\"Enter a number: \"))\n",
    "if is_armstrong_number(number):\n",
    "    print(number, \"is an Armstrong number\")\n",
    "else:\n",
    "    print(number, \"is not an Armstrong number\")\n",
    "\n",
    "\n",
    "# 153 is an Armstrong number because cube of each number sum is 153 "
   ]
  },
  {
   "cell_type": "code",
   "execution_count": 3,
   "id": "478bebec-5bf5-4c3b-8873-ed6568331736",
   "metadata": {},
   "outputs": [
    {
     "name": "stdout",
     "output_type": "stream",
     "text": [
      "Armstrong number \n"
     ]
    }
   ],
   "source": [
    "temp=0\n",
    "n=0\n",
    "sum=0\n",
    "while n>0:\n",
    "    r=n%10\n",
    "    n=n//10\n",
    "    sum+=r**3\n",
    "if temp==sum:\n",
    "    print(\"Armstrong number \")\n",
    "else:\n",
    "    print('Not an Armstrong number')"
   ]
  },
  {
   "cell_type": "markdown",
   "id": "bc7bc9a3-2a13-413f-b13d-ed4d8c2d3a26",
   "metadata": {},
   "source": [
    "20.Fizz_buzz"
   ]
  },
  {
   "cell_type": "code",
   "execution_count": null,
   "id": "db9b06a9-af37-4569-8ebb-f87f278b4fab",
   "metadata": {},
   "outputs": [],
   "source": [
    "def fizz_buzz():\n",
    "    for i in range(1,101):\n",
    "        if i %15==0:\n",
    "            print('FizzBuzz')\n",
    "        elif i % 3==0:\n",
    "            print('Fizz')\n",
    "        elif i % 5==0:\n",
    "            print('Buzz')\n",
    "        else:\n",
    "            print(i)\n",
    "fizz_buzz()"
   ]
  },
  {
   "cell_type": "markdown",
   "id": "5ccb1f35-e23b-4505-8d9e-043d30db6cec",
   "metadata": {},
   "source": [
    "21.Find the missing number in list"
   ]
  },
  {
   "cell_type": "code",
   "execution_count": 1,
   "id": "a50409bb-6587-4920-9b56-7cfe176a6df9",
   "metadata": {},
   "outputs": [
    {
     "name": "stdout",
     "output_type": "stream",
     "text": [
      "32\n"
     ]
    }
   ],
   "source": [
    "def find_missing_number(nums):\n",
    "    n = len(nums) + 1  # Total number of elements including the missing number\n",
    "    total_sum = n * (n + 1) // 2  # Sum of the first n natural numbers\n",
    "    return total_sum - sum(nums)  # Missing number\n",
    "\n",
    "# Example usage\n",
    "numbers = list(range(1, 101))  # Create a list of numbers from 1 to 100\n",
    "numbers.remove(32)  # Remove the number 32 to simulate the missing number\n",
    "\n",
    "# Find and print the missing number\n",
    "print(find_missing_number(numbers))"
   ]
  },
  {
   "cell_type": "markdown",
   "id": "ff712ba2-9e00-44fc-a087-215c4d5e942d",
   "metadata": {},
   "source": [
    "22.Multiplication Number"
   ]
  },
  {
   "cell_type": "code",
   "execution_count": 2,
   "id": "5b517f16-4c02-481b-95b1-4b3a363baadc",
   "metadata": {},
   "outputs": [
    {
     "name": "stdin",
     "output_type": "stream",
     "text": [
      "Enter the number:  3\n"
     ]
    },
    {
     "name": "stdout",
     "output_type": "stream",
     "text": [
      "3 x 1 = 3\n",
      "3 x 2 = 6\n",
      "3 x 3 = 9\n",
      "3 x 4 = 12\n",
      "3 x 5 = 15\n",
      "3 x 6 = 18\n",
      "3 x 7 = 21\n",
      "3 x 8 = 24\n",
      "3 x 9 = 27\n",
      "3 x 10 = 30\n"
     ]
    }
   ],
   "source": [
    "# Get user input\n",
    "n = int(input(\"Enter the number: \"))\n",
    "\n",
    "# Print the multiplication table in ascending order\n",
    "for i in range(1, 11):\n",
    "    result = n * i\n",
    "    print(f\"{n} x {i} = {result}\")"
   ]
  },
  {
   "cell_type": "code",
   "execution_count": 5,
   "id": "b8763749-93f2-4fb6-8957-0b5606da10b6",
   "metadata": {},
   "outputs": [
    {
     "name": "stdin",
     "output_type": "stream",
     "text": [
      "Enter the number:  5\n"
     ]
    },
    {
     "name": "stdout",
     "output_type": "stream",
     "text": [
      "5 x 10 = 50\n",
      "5 x 9 = 45\n",
      "5 x 8 = 40\n",
      "5 x 7 = 35\n",
      "5 x 6 = 30\n",
      "5 x 5 = 25\n",
      "5 x 4 = 20\n",
      "5 x 3 = 15\n",
      "5 x 2 = 10\n",
      "5 x 1 = 5\n"
     ]
    }
   ],
   "source": [
    "# Get user input\n",
    "n = int(input(\"Enter the number: \"))\n",
    "\n",
    "# Print the multiplication table in reverse order\n",
    "for i in range(10, 0, -1):\n",
    "    result = n * i\n",
    "    print(f\"{n} x {i} = {result}\")\n"
   ]
  },
  {
   "cell_type": "code",
   "execution_count": 25,
   "id": "c1199753-eeb9-4d74-a559-d2ac3e3bde66",
   "metadata": {},
   "outputs": [
    {
     "name": "stdin",
     "output_type": "stream",
     "text": [
      "Enter the number : 5\n"
     ]
    },
    {
     "name": "stdout",
     "output_type": "stream",
     "text": [
      "5 X 1 = 5\n",
      "5 X 2 = 10\n",
      "5 X 3 = 15\n",
      "5 X 4 = 20\n",
      "5 X 5 = 25\n",
      "5 X 6 = 30\n",
      "5 X 7 = 35\n",
      "5 X 8 = 40\n",
      "5 X 9 = 45\n",
      "5 X 10 = 50\n"
     ]
    }
   ],
   "source": [
    "def multiple(num):\n",
    "    for i in range(1,11):\n",
    "        result=num*i\n",
    "        print(f'{num} X {i} = {result}')\n",
    "num=int(input('Enter the number :'))\n",
    "multiple(num)"
   ]
  },
  {
   "cell_type": "markdown",
   "id": "10aed2f9-cf2f-473c-808e-08dad4f830fb",
   "metadata": {},
   "source": [
    " 23.Create a list using input functions in python."
   ]
  },
  {
   "cell_type": "code",
   "execution_count": 15,
   "id": "d84a2e5a-c12f-40a1-bda6-4be971fe6ca2",
   "metadata": {},
   "outputs": [
    {
     "name": "stdin",
     "output_type": "stream",
     "text": [
      "How many items do you want to add to this list? 2\n",
      "Enter item1: 1\n",
      "Enter item2: r\n"
     ]
    },
    {
     "name": "stdout",
     "output_type": "stream",
     "text": [
      "The Created list is : ['1', 'r']\n"
     ]
    }
   ],
   "source": [
    "def create_list():\n",
    "    user_list=[]\n",
    "    num_items=int(input('How many items do you want to add to this list?'))\n",
    "    for i in range(num_items):\n",
    "        item=input(f'Enter item{i+1}:')\n",
    "        user_list.append(item)\n",
    "    return user_list\n",
    "resulting_list=create_list()\n",
    "print('The Created list is :',resulting_list)"
   ]
  },
  {
   "cell_type": "markdown",
   "id": "d4efe8c7-7299-46e1-8408-a80260e33de7",
   "metadata": {},
   "source": [
    "24.Print minimum divisible number "
   ]
  },
  {
   "cell_type": "code",
   "execution_count": 5,
   "id": "738f95f5-4ba5-458b-8a10-65fa4af2f0ec",
   "metadata": {},
   "outputs": [
    {
     "name": "stdout",
     "output_type": "stream",
     "text": [
      "10\n"
     ]
    }
   ],
   "source": [
    "nums=[10,16,18,21,26]\n",
    "for num in nums:\n",
    "    if num%5==0:\n",
    "        print(num)\n",
    "        break\n",
    "else:\n",
    "    print('Not Found')"
   ]
  },
  {
   "cell_type": "markdown",
   "id": "9368d4f2-c7fe-4709-8c57-199d3ed7674e",
   "metadata": {},
   "source": [
    "25.Create an array with user input and access index value "
   ]
  },
  {
   "cell_type": "code",
   "execution_count": 6,
   "id": "2e958e66-fbf2-43f0-bff3-fa454f2131c5",
   "metadata": {},
   "outputs": [
    {
     "name": "stdin",
     "output_type": "stream",
     "text": [
      "Enter the length of the array:  3\n",
      "Enter the next value:  2\n",
      "Enter the next value:  3\n",
      "Enter the next value:  4\n"
     ]
    },
    {
     "name": "stdout",
     "output_type": "stream",
     "text": [
      "array('i', [2, 3, 4])\n"
     ]
    },
    {
     "name": "stdin",
     "output_type": "stream",
     "text": [
      "Enter the value for search:  5\n"
     ]
    },
    {
     "name": "stdout",
     "output_type": "stream",
     "text": [
      "The value 5 is not found in the array.\n"
     ]
    }
   ],
   "source": [
    "from array import array\n",
    "\n",
    "# Initialize an empty array of integers\n",
    "arr = array('i', [])\n",
    "\n",
    "# Input the length of the array\n",
    "n = int(input('Enter the length of the array: '))\n",
    "\n",
    "# Input the elements of the array\n",
    "for i in range(n):\n",
    "    x = int(input('Enter the next value: '))\n",
    "    arr.append(x)\n",
    "\n",
    "# Print the array\n",
    "print(arr)\n",
    "\n",
    "# Input the value to search for in the array\n",
    "val = int(input('Enter the value for search: '))\n",
    "\n",
    "# Search for the value in the array\n",
    "k = 0\n",
    "found = False\n",
    "for e in arr:\n",
    "    if e == val:\n",
    "        print(f'The value {val} is found at index: {k}')\n",
    "        found = True\n",
    "        break\n",
    "    k += 1\n",
    "\n",
    "# If the value is not found in the loop, print a message\n",
    "if not found:\n",
    "    print(f'The value {val} is not found in the array.')"
   ]
  },
  {
   "cell_type": "markdown",
   "id": "87ff8c83-f5f6-4d56-b9bb-9725b99edb39",
   "metadata": {},
   "source": [
    "26.Create a list to add item and search value "
   ]
  },
  {
   "cell_type": "code",
   "execution_count": 7,
   "id": "651a6793-9033-4496-b59f-f3156f7f52f7",
   "metadata": {},
   "outputs": [
    {
     "name": "stdin",
     "output_type": "stream",
     "text": [
      "Enter the size of the list:  2\n",
      "Enter the value:  3\n",
      "Enter the value:  4\n"
     ]
    },
    {
     "name": "stdout",
     "output_type": "stream",
     "text": [
      "[3, 4]\n"
     ]
    },
    {
     "name": "stdin",
     "output_type": "stream",
     "text": [
      "Enter the value to search:  4\n"
     ]
    },
    {
     "name": "stdout",
     "output_type": "stream",
     "text": [
      "4 found at index 1\n"
     ]
    }
   ],
   "source": [
    "num = []\n",
    "size = int(input('Enter the size of the list: '))\n",
    "\n",
    "for i in range(size):\n",
    "    x = int(input('Enter the value: '))\n",
    "    num.append(x)\n",
    "\n",
    "print(num)\n",
    "\n",
    "# Search the element\n",
    "val = int(input('Enter the value to search: '))\n",
    "found = False  # Corrected initialization\n",
    "k=0\n",
    "for e in num:  # Using enumerate to get index and value\n",
    "    if e == val:\n",
    "        print(f'{val} found at index {k}')\n",
    "        found = True\n",
    "        break\n",
    "    k+=1\n",
    "if not found:\n",
    "    print(f'{val} is not found in the array')"
   ]
  },
  {
   "cell_type": "code",
   "execution_count": 6,
   "id": "df1f7231-0c0a-4773-9deb-935e95d0b87e",
   "metadata": {},
   "outputs": [
    {
     "name": "stdout",
     "output_type": "stream",
     "text": [
      "1x1=1\n",
      "1x2=2\n",
      "1x3=3\n",
      "1x4=4\n",
      "1x5=5\n",
      "1x6=6\n",
      "1x7=7\n",
      "1x8=8\n",
      "1x9=9\n",
      "1x10=10\n",
      "\n",
      "2x1=2\n",
      "2x2=4\n",
      "2x3=6\n",
      "2x4=8\n",
      "2x5=10\n",
      "2x6=12\n",
      "2x7=14\n",
      "2x8=16\n",
      "2x9=18\n",
      "2x10=20\n",
      "\n",
      "3x1=3\n",
      "3x2=6\n",
      "3x3=9\n",
      "3x4=12\n",
      "3x5=15\n",
      "3x6=18\n",
      "3x7=21\n",
      "3x8=24\n",
      "3x9=27\n",
      "3x10=30\n",
      "\n",
      "4x1=4\n",
      "4x2=8\n",
      "4x3=12\n",
      "4x4=16\n",
      "4x5=20\n",
      "4x6=24\n",
      "4x7=28\n",
      "4x8=32\n",
      "4x9=36\n",
      "4x10=40\n",
      "\n",
      "5x1=5\n",
      "5x2=10\n",
      "5x3=15\n",
      "5x4=20\n",
      "5x5=25\n",
      "5x6=30\n",
      "5x7=35\n",
      "5x8=40\n",
      "5x9=45\n",
      "5x10=50\n",
      "\n",
      "6x1=6\n",
      "6x2=12\n",
      "6x3=18\n",
      "6x4=24\n",
      "6x5=30\n",
      "6x6=36\n",
      "6x7=42\n",
      "6x8=48\n",
      "6x9=54\n",
      "6x10=60\n",
      "\n",
      "7x1=7\n",
      "7x2=14\n",
      "7x3=21\n",
      "7x4=28\n",
      "7x5=35\n",
      "7x6=42\n",
      "7x7=49\n",
      "7x8=56\n",
      "7x9=63\n",
      "7x10=70\n",
      "\n",
      "8x1=8\n",
      "8x2=16\n",
      "8x3=24\n",
      "8x4=32\n",
      "8x5=40\n",
      "8x6=48\n",
      "8x7=56\n",
      "8x8=64\n",
      "8x9=72\n",
      "8x10=80\n",
      "\n",
      "9x1=9\n",
      "9x2=18\n",
      "9x3=27\n",
      "9x4=36\n",
      "9x5=45\n",
      "9x6=54\n",
      "9x7=63\n",
      "9x8=72\n",
      "9x9=81\n",
      "9x10=90\n",
      "\n",
      "10x1=10\n",
      "10x2=20\n",
      "10x3=30\n",
      "10x4=40\n",
      "10x5=50\n",
      "10x6=60\n",
      "10x7=70\n",
      "10x8=80\n",
      "10x9=90\n",
      "10x10=100\n",
      "\n"
     ]
    }
   ],
   "source": [
    "for i in range(1,11):\n",
    "    for j in range(1,11):\n",
    "        print(f'{i}x{j}={i*j}')\n",
    "    print()"
   ]
  },
  {
   "cell_type": "code",
   "execution_count": 4,
   "id": "9ca0ed7f-e219-4d70-86f6-2ee152572c82",
   "metadata": {},
   "outputs": [
    {
     "name": "stdin",
     "output_type": "stream",
     "text": [
      "Enter numbers separated by spaces:  12 23 34 54\n"
     ]
    },
    {
     "name": "stdout",
     "output_type": "stream",
     "text": [
      "Sum of even numbers: 100\n",
      "Sum of odd numbers: 23\n"
     ]
    }
   ],
   "source": [
    "# Function to separate and sum even and odd numbers\n",
    "def separate_and_sum(numbers):\n",
    "    even_sum = 0\n",
    "    odd_sum = 0\n",
    "                  \n",
    "    # Iterate through the list and separate even and odd numbers\n",
    "    for num in numbers:\n",
    "        if num % 2 == 0:\n",
    "            even_sum += num\n",
    "        else:\n",
    "            odd_sum += num\n",
    "    \n",
    "    return even_sum, odd_sum\n",
    "   \n",
    "# Ask user to input numbers\n",
    "input_numbers = input(\"Enter numbers separated by spaces: \")\n",
    " \n",
    "# Convert input string to a list of integers\n",
    "number_list = list(map(int, input_numbers.split()))\n",
    "\n",
    "# Separate and sum the numbers\n",
    "even_sum, odd_sum = separate_and_sum(number_list)\n",
    "\n",
    "# Print the results\n",
    "print(f\"Sum of even numbers: {even_sum}\")\n",
    "print(f\"Sum of odd numbers: {odd_sum}\")"
   ]
  },
  {
   "cell_type": "code",
   "execution_count": 9,
   "id": "44808f82-b228-4c03-bec1-ca4dfd382ed9",
   "metadata": {},
   "outputs": [
    {
     "name": "stdin",
     "output_type": "stream",
     "text": [
      "Enter the number:  2765498\n"
     ]
    },
    {
     "name": "stdout",
     "output_type": "stream",
     "text": [
      "Even digits: 2,6,4,8\n",
      "Odd digits: 7,5,9\n",
      "Sum of even digits: 20\n",
      "Sum of odd digits: 21\n"
     ]
    }
   ],
   "source": [
    "# Get user input\n",
    "number = input(\"Enter the number: \")\n",
    "\n",
    "# Initialize variables to store even and odd digits\n",
    "even_digits = []\n",
    "odd_digits = []\n",
    "sum_even = 0\n",
    "sum_odd = 0\n",
    "\n",
    "# Process each digit in the number\n",
    "for digit in number:\n",
    "    if digit.isdigit():\n",
    "        digit_value = int(digit)\n",
    "        if digit_value % 2 == 0:\n",
    "            even_digits.append(digit)\n",
    "            sum_even += digit_value\n",
    "        else:\n",
    "            odd_digits.append(digit)\n",
    "            sum_odd += digit_value\n",
    "\n",
    "# Print results\n",
    "print(f\"Even digits: {','.join(even_digits)}\")\n",
    "print(f\"Odd digits: {','.join(odd_digits)}\")\n",
    "print(f\"Sum of even digits: {sum_even}\")\n",
    "print(f\"Sum of odd digits: {sum_odd}\")"
   ]
  },
  {
   "cell_type": "markdown",
   "id": "8f82a817-f387-4186-9b1a-5d8c4a3e9917",
   "metadata": {},
   "source": [
    "Pattern printing"
   ]
  },
  {
   "cell_type": "code",
   "execution_count": 74,
   "id": "628fdc7d-f2bf-42c4-b2cc-68fe7839212b",
   "metadata": {},
   "outputs": [
    {
     "name": "stdout",
     "output_type": "stream",
     "text": [
      "Normal pyramid \n",
      "          \n",
      "    *     \n",
      "   * *    \n",
      "  * * *   \n",
      " * * * *  \n"
     ]
    }
   ],
   "source": [
    "print('Normal pyramid ')\n",
    "for i in range(5):\n",
    "    x=\"* \"\n",
    "    x=x*i\n",
    "    print(f'{x: ^10}')"
   ]
  },
  {
   "cell_type": "code",
   "execution_count": 75,
   "id": "52864e2d-7254-47c9-be4b-f637253c1208",
   "metadata": {},
   "outputs": [
    {
     "name": "stdout",
     "output_type": "stream",
     "text": [
      "Invert Pyramid\n",
      "\n",
      "* * * * * \n",
      " * * * *  \n",
      "  * * *   \n",
      "   * *    \n",
      "    *     \n"
     ]
    }
   ],
   "source": [
    "print('Invert Pyramid\\n')\n",
    "for i in range(5):\n",
    "    x='* '\n",
    "    x=x*(5-i)\n",
    "    print(f'{x: ^10}')"
   ]
  },
  {
   "cell_type": "code",
   "execution_count": 76,
   "id": "f6cf10e5-412e-44d8-bf4e-bce6f13d1b82",
   "metadata": {},
   "outputs": [
    {
     "name": "stdout",
     "output_type": "stream",
     "text": [
      "Left sided Pyramid\n",
      "          \n",
      "        * \n",
      "      * * \n",
      "    * * * \n",
      "  * * * * \n"
     ]
    }
   ],
   "source": [
    "print('Left sided Pyramid')\n",
    "for i in range(5):\n",
    "    x='* '\n",
    "    x=x*i\n",
    "    print(f'{x: >10}')"
   ]
  },
  {
   "cell_type": "code",
   "execution_count": 1,
   "id": "957cf1f5-031d-470b-9b99-03daa32899aa",
   "metadata": {},
   "outputs": [
    {
     "name": "stdout",
     "output_type": "stream",
     "text": [
      "Right sided Pyramid\n",
      "* \n",
      "* * \n",
      "* * * \n",
      "* * * * \n",
      "* * * * * \n"
     ]
    }
   ],
   "source": [
    "print('Right sided Pyramid')\n",
    "n=5  \n",
    "for i in range(n): \n",
    "    for j in range(i+1):\n",
    "        print(\"*\",end=' ')\n",
    "    print()"
   ]
  },
  {
   "cell_type": "code",
   "execution_count": 4,
   "id": "5a8072d1-3200-4379-9597-599d68c0114c",
   "metadata": {},
   "outputs": [
    {
     "name": "stdout",
     "output_type": "stream",
     "text": [
      "Left Sided Pyramid\n",
      "* * * * * \n",
      "* * * * \n",
      "* * * \n",
      "* * \n",
      "* \n"
     ]
    }
   ],
   "source": [
    "print('Left Sided Pyramid')\n",
    "n=5\n",
    "for i in range(n):\n",
    "    for j in range(n-i):\n",
    "        print(\"*\",end=' ')\n",
    "    print()"
   ]
  },
  {
   "cell_type": "code",
   "execution_count": 85,
   "id": "695b3937-f0ee-4692-b777-186f0e7a9713",
   "metadata": {},
   "outputs": [
    {
     "name": "stdout",
     "output_type": "stream",
     "text": [
      "*\n",
      "**\n",
      "***\n",
      "****\n",
      "*****\n",
      "****\n",
      "***\n",
      "**\n",
      "*\n",
      "\n"
     ]
    }
   ],
   "source": [
    "mystring=\"*****\"\n",
    "x=0\n",
    "for i in mystring:\n",
    "    x=x+1\n",
    "    print(mystring[0:x])\n",
    "for i in mystring:\n",
    "    x=x-1\n",
    "    print(mystring[0:x])"
   ]
  },
  {
   "cell_type": "code",
   "execution_count": 97,
   "id": "8ee5b7dc-fb16-45bc-a467-a5d318a31067",
   "metadata": {},
   "outputs": [
    {
     "name": "stdout",
     "output_type": "stream",
     "text": [
      "* * * * * * * \n",
      "* * * * * * * \n",
      "* * * * * * * \n",
      "* * * * * * * \n",
      "* * * * * * * \n",
      "* * * * * * * \n",
      "* * * * * * * \n"
     ]
    }
   ],
   "source": [
    "n=6 \n",
    "for i in range(n+1):\n",
    "    for j in range(n+1):\n",
    "        print('*',end=\" \")\n",
    "    print()"
   ]
  },
  {
   "cell_type": "code",
   "execution_count": 96,
   "id": "6beaaa46-45fc-425f-8cef-f6d2da068a3e",
   "metadata": {},
   "outputs": [
    {
     "name": "stdout",
     "output_type": "stream",
     "text": [
      "* * * * * * \n",
      "*       * \n",
      "*     * \n",
      "*   * \n",
      "* * \n",
      "* \n"
     ]
    }
   ],
   "source": [
    "n=6 \n",
    "for i in range(n):\n",
    "    for j in range(n-i):\n",
    "        if(i==0 or i==5 or j==0 or j==n-i-1):\n",
    "            print(\"*\", end=\" \")\n",
    "        else: \n",
    "            print(\" \",end=\" \")\n",
    "    print()"
   ]
  },
  {
   "cell_type": "code",
   "execution_count": 2,
   "id": "23e8fb47-3c5c-40a8-9b86-f04d5f5687d9",
   "metadata": {},
   "outputs": [
    {
     "name": "stdout",
     "output_type": "stream",
     "text": [
      "    *\n",
      "   ***\n",
      "  *****\n",
      " *******\n",
      "*********\n"
     ]
    }
   ],
   "source": [
    "# Number of levels in the pyramid\n",
    "n = 5\n",
    "# Outer loop for each level of the pyramid\n",
    "for i in range(n):\n",
    "    # Print leading spaces\n",
    "    for j in range(n - i - 1):\n",
    "        print(\" \", end=\"\")\n",
    "    # Print stars for the pyramid level\n",
    "    for k in range(2 * i + 1):\n",
    "        print(\"*\", end=\"\")\n",
    "    # Move to the next line after each level\n",
    "    print()"
   ]
  },
  {
   "cell_type": "code",
   "execution_count": 3,
   "id": "61eeb9ff-aef6-4bb2-a3ec-1704878f0bb3",
   "metadata": {},
   "outputs": [
    {
     "name": "stdout",
     "output_type": "stream",
     "text": [
      "*********\n",
      " *******\n",
      "  *****\n",
      "   ***\n",
      "    *\n"
     ]
    }
   ],
   "source": [
    "# Number of levels in the inverted pyramid\n",
    "n = 5\n",
    "# Outer loop for each level of the inverted pyramid\n",
    "for i in range(n):\n",
    "    # Print leading spaces\n",
    "    for j in range(i):\n",
    "        print(\" \", end=\"\")\n",
    "    # Print stars for the inverted pyramid level\n",
    "    for k in range(2 * (n - i) - 1):\n",
    "        print(\"*\", end=\"\")\n",
    "    # Move to the next line after each level\n",
    "    print()"
   ]
  },
  {
   "cell_type": "markdown",
   "id": "409ad61a-9bc0-4d31-9864-93a56e47c75f",
   "metadata": {},
   "source": [
    "Find Largest element in an array using Python"
   ]
  },
  {
   "cell_type": "code",
   "execution_count": 11,
   "id": "e8d23b40-3bb5-40fb-a1f0-650dd5103324",
   "metadata": {},
   "outputs": [
    {
     "name": "stdout",
     "output_type": "stream",
     "text": [
      "89\n",
      "89\n",
      "89\n"
     ]
    }
   ],
   "source": [
    "a = [10, 89, 9, 56, 4, 80, 8]\n",
    "max_element = a[0]\n",
    "\n",
    "for i in range(len(a)):\n",
    "  if a[i] > max_element:\n",
    "     max_element = a[i]\n",
    "\n",
    "print (max_element)\n",
    "\n",
    "# Method 1 : Using Iteration.\n",
    "# Method 2 : Using Sort() function.\n",
    "# Method 3 : Using max() and min() function\n",
    "\n",
    "a = [10, 89, 9, 56, 4, 80, 8]\n",
    "a.sort()\n",
    "\n",
    "print (a[-1])\n",
    "\n",
    "arr = [10, 89, 9, 56, 4, 80, 8]\n",
    "print (max(arr))\n"
   ]
  },
  {
   "cell_type": "code",
   "execution_count": null,
   "id": "ba027076-7d36-4df8-a0cb-ca896a6f6d81",
   "metadata": {},
   "outputs": [],
   "source": []
  },
  {
   "cell_type": "markdown",
   "id": "ccabcec0-af9b-4d7f-8625-d22625349674",
   "metadata": {},
   "source": [
    "Find Smallest element in an array using Python"
   ]
  },
  {
   "cell_type": "code",
   "execution_count": 9,
   "id": "edde31ba-48a0-4070-afbe-9f04986bed10",
   "metadata": {},
   "outputs": [
    {
     "name": "stdout",
     "output_type": "stream",
     "text": [
      "4\n",
      "4\n",
      "4\n"
     ]
    }
   ],
   "source": [
    "arr = [10, 89, 9, 56, 4, 80, 8]\n",
    "mini = arr[0]\n",
    "\n",
    "for i in range(len(arr)):\n",
    "  if arr[i] < mini:\n",
    "     mini = arr[i]\n",
    "\n",
    "print (mini)\n",
    "\n",
    "arr = [10, 89, 9, 56, 4, 80, 8]\n",
    "arr.sort()\n",
    "\n",
    "print (arr[0])\n",
    "\n",
    "arr = [10, 89, 9, 56, 4, 80, 8]\n",
    "print (min(arr))"
   ]
  },
  {
   "cell_type": "code",
   "execution_count": null,
   "id": "190f655e-9d93-47e6-a7a6-6466bfbee043",
   "metadata": {},
   "outputs": [],
   "source": []
  },
  {
   "cell_type": "markdown",
   "id": "b76bb3be-7ac0-4061-acee-76feb0dd2d58",
   "metadata": {},
   "source": [
    "Find the Smallest and largest element in an array using Python"
   ]
  },
  {
   "cell_type": "code",
   "execution_count": 2,
   "id": "6b6915a3-af45-44d5-bd95-25fbd9410093",
   "metadata": {},
   "outputs": [
    {
     "name": "stdout",
     "output_type": "stream",
     "text": [
      "4\n",
      "89\n",
      "4\n",
      "89\n",
      "4\n",
      "89\n"
     ]
    }
   ],
   "source": [
    "arr = [10, 89, 9, 56, 4, 80, 8]\n",
    "mini = arr[0]\n",
    "maxi = arr[0]\n",
    "\n",
    "for i in range(len(arr)):\n",
    "  if arr[i] < mini: \n",
    "    mini = arr[i] \n",
    "  \n",
    "  if arr[i] > maxi: \n",
    "    maxi = arr[i]\n",
    "\n",
    "print (mini)\n",
    "print (maxi)\n",
    "\n",
    "\n",
    "arr = [10, 89, 9, 56, 4, 80, 8]\n",
    "arr.sort()\n",
    "\n",
    "print (arr[0])\n",
    "print (arr[-1])\n",
    "\n",
    "\n",
    "arr = [10, 89, 9, 56, 4, 80, 8]\n",
    "\n",
    "print (min(arr))\n",
    "print (max(arr))"
   ]
  },
  {
   "cell_type": "code",
   "execution_count": null,
   "id": "611b99dd-d75f-4482-8704-c85d4f6338c9",
   "metadata": {},
   "outputs": [],
   "source": []
  },
  {
   "cell_type": "markdown",
   "id": "fe197f92-a97b-4a96-b6fc-f36c2902bf10",
   "metadata": {},
   "source": [
    "Calculate the sum of elements in an array using Python"
   ]
  },
  {
   "cell_type": "code",
   "execution_count": 1,
   "id": "f08cb13d-9e10-4797-87fa-166b76cb0757",
   "metadata": {},
   "outputs": [
    {
     "name": "stdout",
     "output_type": "stream",
     "text": [
      "256\n",
      "100\n",
      "100\n"
     ]
    }
   ],
   "source": [
    "arr = [10, 89, 9, 56, 4, 80, 8]\n",
    "Sum = 0\n",
    "\n",
    "for i in range(len(arr)):\n",
    "   Sum = Sum + arr[i]\n",
    "print (Sum)\n",
    "\n",
    "\n",
    "def getSum(arr, n):\n",
    "   if n == 0:\n",
    "     return 0\n",
    "   return arr[n-1] + getSum(arr, n-1)\n",
    "arr = [10, 20, 30, 40]\n",
    "print(getSum(arr, len(arr)))\n",
    "\n",
    "\n",
    "\n",
    "arr = [10, 20, 30, 40]\n",
    "print(sum(arr))"
   ]
  },
  {
   "cell_type": "code",
   "execution_count": 3,
   "id": "24aa8012-76bc-4da4-96f6-66f175583667",
   "metadata": {},
   "outputs": [
    {
     "name": "stdout",
     "output_type": "stream",
     "text": [
      "1st Problem\n",
      "150\n",
      "50\n"
     ]
    }
   ],
   "source": [
    "'''Write a Python program that defines a class Rectangle with properties width and height. \n",
    "Include methods to calculate the area and perimeter. Then, create an instance of the Rectangle\n",
    " class and print both the area and perimeter.'''\n",
    "\n",
    "class Rectangle:\n",
    "    def __init__(self,width,height):\n",
    "        self.width=width\n",
    "        self.height=height\n",
    "    def area(self):\n",
    "        return self.width*self.height\n",
    "    def perimeter(self):\n",
    "        return 2*(self.width+self.height)\n",
    "rectangle=Rectangle(width=10,height=15)\n",
    "print(rectangle.area())      \n",
    "print(rectangle.perimeter())  "
   ]
  },
  {
   "cell_type": "code",
   "execution_count": 5,
   "id": "a57cbb26-e3b9-404e-b345-85e5b4fb2c4a",
   "metadata": {},
   "outputs": [
    {
     "name": "stdout",
     "output_type": "stream",
     "text": [
      "[4, 27, 16, 125, 36, 343, 64]\n"
     ]
    }
   ],
   "source": [
    "''' Write a Python function that accepts a list of integers and returns a new list where each element is squared if\n",
    "it’s even, and cubed if it’s odd. Use list comprehension and operators to implement this.'''\n",
    "\n",
    "\n",
    "list1=[2,3,4,5,6,7,8]\n",
    "new_list=[x**2 if x%2==0 else x**3 for x in list1]\n",
    "print(new_list)\n",
    "\n"
   ]
  },
  {
   "cell_type": "code",
   "execution_count": 6,
   "id": "e2818909-fc30-4752-ab4d-6b351776e9ae",
   "metadata": {},
   "outputs": [
    {
     "name": "stdout",
     "output_type": "stream",
     "text": [
      "{'Alice': 84.33333333333333, 'Bob': 83.66666666666667, 'Charlie': 89.66666666666667}\n"
     ]
    }
   ],
   "source": [
    "''' Write a Python function that takes a list of dictionaries, each containing a student's name and their marks in three subjects.\n",
    " The function should return a dictionary with the student’s name as the key and their average marks as the value.'''\n",
    "\n",
    "def calculate_avg(students):\n",
    "    avg={}\n",
    "    for student in students:\n",
    "        name=student['name']\n",
    "        marks=student['marks']\n",
    "        avg[name]=sum(marks)/len(marks)\n",
    "    return avg\n",
    "\n",
    "students_list = [\n",
    "    {'name': 'Alice', 'marks': [85, 90, 78]},\n",
    "    {'name': 'Bob', 'marks': [72, 88, 91]},\n",
    "    {'name': 'Charlie', 'marks': [89, 87, 93]}\n",
    "]\n",
    "avg=calculate_avg(students_list)\n",
    "print(avg)\n"
   ]
  },
  {
   "cell_type": "code",
   "execution_count": 7,
   "id": "2d62f4d8-831d-49bd-9a05-689e0157ffb3",
   "metadata": {},
   "outputs": [
    {
     "name": "stdout",
     "output_type": "stream",
     "text": [
      "[16, 25, 36, 49, 64, 81]\n",
      "3657830400\n"
     ]
    }
   ],
   "source": [
    "'''Write a Python program that uses map(), filter(), and reduce() functions to:\n",
    "Square each element of a list.\n",
    "Filter out all elements that are less than 10.\n",
    "Find the product of all the remaining elements in the list.'''\n",
    "''' > Greater than\n",
    "    < less than \n",
    "'''\n",
    "from functools import reduce\n",
    "num = [1, 2, 3, 4, 5, 6, 7, 8, 9]\n",
    "squared_list = map(lambda x: x**2, num)\n",
    "squared_list = list(squared_list)\n",
    "\n",
    "filtered_list = list(filter(lambda x: x > 10, squared_list))\n",
    "print(filtered_list)\n",
    "\n",
    "product = reduce(lambda x, y: x * y, filtered_list)\n",
    "print(product)\n",
    "\n"
   ]
  },
  {
   "cell_type": "code",
   "execution_count": 8,
   "id": "0f1d6135-c2ad-4bf5-85a5-889e171cc55a",
   "metadata": {},
   "outputs": [
    {
     "name": "stdout",
     "output_type": "stream",
     "text": [
      "5th Program\n"
     ]
    },
    {
     "name": "stdin",
     "output_type": "stream",
     "text": [
      "Enter your age:  3\n"
     ]
    },
    {
     "name": "stdout",
     "output_type": "stream",
     "text": [
      "Your age is 3.\n"
     ]
    }
   ],
   "source": [
    "'''Write a Python program that accepts a user’s age and checks if the age is a valid number. \n",
    "If the input is invalid, raise a custom exception InvalidAgeError and print a meaningful error message'''\n",
    "\n",
    "''' statement is a null operation — it does nothing when executed. It is used as a placeholder in situations \n",
    "where the syntax requires a statement but you don’t want to execute any code.'''\n",
    "class InvalidAgeError(Exception):\n",
    "    pass\n",
    "\n",
    "def get_age():\n",
    "    try:\n",
    "        age = int(input(\"Enter your age: \"))\n",
    "        if age <= 0:\n",
    "            raise InvalidAgeError(\"Age must be a positive number.\")\n",
    "\n",
    "        print(f\"Your age is {age}.\")\n",
    "    \n",
    "    except ValueError:\n",
    "        raise InvalidAgeError(\"Please enter a valid number for age.\")\n",
    "    except Exception as e:\n",
    "        print(f\"Error: {e}\")\n",
    "get_age()\n"
   ]
  },
  {
   "cell_type": "code",
   "execution_count": 9,
   "id": "7b865966-f4fe-4ccd-ade9-adfb19d9be2d",
   "metadata": {},
   "outputs": [
    {
     "name": "stdout",
     "output_type": "stream",
     "text": [
      "Starting time-consuming operation...\n",
      "Operation complete.\n",
      "[HIGH LEVEL] Function  executed in 2.0019 seconds.\n",
      "None\n"
     ]
    }
   ],
   "source": [
    "'''Create a decorator that accepts a parameter level and prints the execution time of a function depending on its level\n",
    "(e.g., \"high\", \"medium\", \"low\"). Apply the decorator to a sample function that performs some time-consuming operation.'''\n",
    "\n",
    "''' flexible tool that allows you to modify or enhance the behavior of functions or methods without changing their actual code.'''\n",
    "import time\n",
    "def timing_decorator(level=\"medium\"):\n",
    "    def decorator(func):\n",
    "        def wrapper(*args, **kwargs):\n",
    "            start_time = time.time()\n",
    "            result = func(*args, **kwargs)\n",
    "            end_time = time.time()\n",
    "            execution_time = end_time - start_time\n",
    "            if level == \"high\":\n",
    "                print(f\"[HIGH LEVEL] Function  executed in {execution_time:.4f} seconds.\")\n",
    "            elif level == \"medium\":\n",
    "                print(f\"[MEDIUM LEVEL] Function  executed in {execution_time:.4f} seconds.\")\n",
    "            else:  \n",
    "                print(f\"[LOW LEVEL]Function Execution time: {execution_time:.4f} seconds.\")\n",
    "            return result\n",
    "        return wrapper\n",
    "    return decorator\n",
    "@timing_decorator(level=\"high\")\n",
    "def time_consuming_function():\n",
    "    print(\"Starting time-consuming operation...\")\n",
    "    time.sleep(2) \n",
    "    print(\"Operation complete.\")\n",
    "print(time_consuming_function())\n"
   ]
  },
  {
   "cell_type": "code",
   "execution_count": 10,
   "id": "99be979c-8440-4e2a-ab53-8aad626b05ee",
   "metadata": {},
   "outputs": [
    {
     "name": "stdin",
     "output_type": "stream",
     "text": [
      "Enter the number: 3\n"
     ]
    },
    {
     "name": "stdout",
     "output_type": "stream",
     "text": [
      "Fibonacci numbers for n = 3:\n",
      "0 1 1 "
     ]
    }
   ],
   "source": [
    "'''Write a Python generator function fibonacci(n) that yields the first n Fibonacci numbers.\n",
    "Write a program that prints the Fibonacci numbers generated for n = 10'''\n",
    "def fibonacci(n):\n",
    "    a, b = 0, 1  \n",
    "    for _ in range(n):\n",
    "        yield a \n",
    "        a, b = b, a + b \n",
    "\n",
    "n =int(input('Enter the number:'))\n",
    "print(f\"Fibonacci numbers for n = {n}:\")\n",
    "for number in fibonacci(n):\n",
    "    print(number, end=\" \")"
   ]
  },
  {
   "cell_type": "code",
   "execution_count": 11,
   "id": "b5c9b34a-ca0c-4d25-80a5-609f470b416f",
   "metadata": {},
   "outputs": [
    {
     "name": "stdout",
     "output_type": "stream",
     "text": [
      "source.txt not exist\n",
      "None\n"
     ]
    }
   ],
   "source": [
    "\"\"\"Write a Python program that reads from a file and writes its contents to another file.\n",
    "Use a context manager (with statement) for handling file operations, and ensure that the program handles any I/O errors properly\"\"\"\n",
    "def file_handling(source,destination):\n",
    "    try:\n",
    "        with  open(destination,'w') as dest,open(source,'r') as src:\n",
    "           content=src.read()\n",
    "           content+='\\n This is new line'\n",
    "           dest.write(content)\n",
    "           print(f'successfully copies from{source} to{destination}')\n",
    "    except FileNotFoundError:\n",
    "        print(f'{source} not exist')\n",
    "    except IOError as e:\n",
    "        print(f'Error:{e}')\n",
    "\n",
    "source='source.txt'\n",
    "destination='destination.txt'\n",
    "print(file_handling(source,destination))\n"
   ]
  },
  {
   "cell_type": "code",
   "execution_count": 12,
   "id": "95e31fbd-0d8f-45f6-89ff-5ee3bffbb80d",
   "metadata": {},
   "outputs": [
    {
     "name": "stdout",
     "output_type": "stream",
     "text": [
      "'487386295' is NOT a valid phone number.\n"
     ]
    }
   ],
   "source": [
    "'''Write a Python program that validates a given string to check if it matches the pattern for a\n",
    "valid phone number (e.g., (123) 456-7890), using regular expressions.'''\n",
    "# 987-1243 (3346)\n",
    "import re\n",
    "def validate_phone_number(phone_number):\n",
    "    pattern1=r'^\\d{3}-\\d{4} (\\d{4}\\)$'\n",
    "    pattern = r\"^\\(\\d{3}\\) \\d{3}-\\d{4}$\"\n",
    "    if re.match(pattern, phone_number):\n",
    "        return f\"'{phone_number}' is a valid phone number.\"\n",
    "    else:\n",
    "        return f\"'{phone_number}' is NOT a valid phone number.\"\n",
    "phone_number = '487386295' \n",
    "print(validate_phone_number(phone_number))\n",
    "\n"
   ]
  },
  {
   "cell_type": "code",
   "execution_count": 13,
   "id": "ad3238f3-1f4f-46d9-a533-151518da37ae",
   "metadata": {},
   "outputs": [
    {
     "name": "stdout",
     "output_type": "stream",
     "text": [
      "Circle:\n",
      "Area: 78.54\n",
      "Perimeter: 31.42\n",
      "\n",
      "Square:\n",
      "Area: 16\n",
      "Perimeter: 16\n"
     ]
    }
   ],
   "source": [
    "'''Create a base class Shape with methods area() and perimeter(). Create two derived classes, Circle and Square, that override the area()\n",
    "    and perimeter() methods. Instantiate both classes and demonstrate method overriding.'''\n",
    "import math\n",
    "class Shape:\n",
    "    def area(self):\n",
    "        return\n",
    "    \n",
    "    def perimeter(self):\n",
    "        return \n",
    "# Derived class: Circle\n",
    "class Circle(Shape):\n",
    "    def __init__(self, radius):\n",
    "        self.radius = radius\n",
    "\n",
    "    def area(self): \n",
    "        return math.pi * self.radius ** 2\n",
    "\n",
    "    def perimeter(self):\n",
    "        return 2 * math.pi * self.radius\n",
    "\n",
    "# Derived class: Square\n",
    "class Square(Shape):\n",
    "    def __init__(self, side):\n",
    "        self.side = side\n",
    "\n",
    "    def area(self):\n",
    "        return self.side ** 2\n",
    "\n",
    "    def perimeter(self):\n",
    "        return 4 * self.side\n",
    "\n",
    "circle = Circle(radius=5)\n",
    "square = Square(side=4)\n",
    "\n",
    "print(\"Circle:\")\n",
    "print(f\"Area: {circle.area():.2f}\")\n",
    "print(f\"Perimeter: {circle.perimeter():.2f}\")\n",
    "\n",
    "print(\"\\nSquare:\")\n",
    "print(f\"Area: {square.area()}\")\n",
    "print(f\"Perimeter: {square.perimeter()}\")"
   ]
  },
  {
   "cell_type": "code",
   "execution_count": 14,
   "id": "aea72585-1b58-417f-b86d-314d437ae87a",
   "metadata": {},
   "outputs": [
    {
     "name": "stdout",
     "output_type": "stream",
     "text": [
      "   Age   Salary\n",
      "0   25  51000.0\n",
      "1   30  59000.0\n",
      "2   35  66500.0\n",
      "3   40  71000.0\n",
      "Original DataFrame:\n",
      "   Age   Salary\n",
      "0   25  51000.0\n",
      "1   30  59000.0\n",
      "2   35  66500.0\n",
      "3   40  71000.0\n",
      "\n",
      "Average Salary by Age Group:\n",
      "   Age  Average Salary\n",
      "0   25         51000.0\n",
      "1   30         59000.0\n",
      "2   35         66500.0\n",
      "3   40         71000.0\n"
     ]
    }
   ],
   "source": [
    "'''Using the Pandas library, create a DataFrame with columns Name, Age, and Salary. \n",
    "Write a function that calculates the average salary for each age group and returns the results in a new DataFrame.'''\n",
    "import pandas as pd \n",
    "data = {\n",
    "    'Name': ['Alice', 'Bob', 'Charlie', 'David', 'Eve', 'Frank', 'Grace', 'Hannah'],\n",
    "    'Age': [25, 30, 25, 30, 35, 40, 35, 40],\n",
    "    'Salary': [50000, 60000, 52000, 58000, 65000, 70000, 68000, 72000]\n",
    "}\n",
    "df = pd.DataFrame(data)\n",
    "df = df.groupby('Age')['Salary'].mean().reset_index()\n",
    "print(df)\n",
    "\n",
    "\n",
    "def average_salary_by_age_group(dataframe):\n",
    "    result = dataframe.groupby('Age')['Salary'].mean().reset_index()\n",
    "    result.rename(columns={'Salary': 'Average Salary'}, inplace=True)\n",
    "    return result\n",
    "\n",
    "avg_salary_df = average_salary_by_age_group(df)\n",
    "print(\"Original DataFrame:\")\n",
    "print(df)\n",
    "\n",
    "print(\"\\nAverage Salary by Age Group:\")\n",
    "print(avg_salary_df)\n",
    "\n"
   ]
  },
  {
   "cell_type": "code",
   "execution_count": 19,
   "id": "42652127-3103-4642-ac93-de6cc6550f04",
   "metadata": {},
   "outputs": [
    {
     "name": "stdout",
     "output_type": "stream",
     "text": [
      "Permutations of the list:\n",
      "(1, 2, 3)\n",
      "(1, 3, 2)\n",
      "(2, 1, 3)\n",
      "(2, 3, 1)\n",
      "(3, 1, 2)\n",
      "(3, 2, 1)\n",
      "\n",
      "Cartesian product:\n",
      "(1, 'a')\n",
      "(1, 'b')\n",
      "(1, 'c')\n",
      "(2, 'a')\n",
      "(2, 'b')\n",
      "(2, 'c')\n",
      "\n",
      "Cartesian product of a and b: [(1, 3), (1, 4), (2, 3), (2, 4), (3, 3), (3, 4)]\n",
      "\n",
      "Permutations of list a: [(1, 2, 3), (1, 3, 2), (2, 1, 3), (2, 3, 1), (3, 1, 2), (3, 2, 1)]\n"
     ]
    }
   ],
   "source": [
    "import itertools\n",
    "def generate_permutations(lst):\n",
    "    permutations = list(itertools.permutations(lst))\n",
    "    return permutations\n",
    "data = [1, 2, 3]\n",
    "permutations = generate_permutations(data)\n",
    "\n",
    "print(\"Permutations of the list:\")\n",
    "for perm in permutations:\n",
    "    print(perm)\n",
    "\n",
    "\n",
    "def compute_cartesian_product(list1, list2):\n",
    "    cartesian_product = list(itertools.product(list1, list2))\n",
    "    print(\"\\nCartesian product:\")\n",
    "    for pair in cartesian_product:\n",
    "        print(pair)\n",
    "list_a = [1, 2]\n",
    "list_b = ['a', 'b', 'c']\n",
    "compute_cartesian_product(list_a, list_b)\n",
    "\n",
    "\n",
    "a = [1, 2, 3]\n",
    "b = [3, 4]\n",
    "\n",
    "cartesian_prod = list(itertools.product(a, b))\n",
    "print(\"\\nCartesian product of a and b:\", cartesian_prod)\n",
    "\n",
    "permutations_a = list(itertools.permutations(a))\n",
    "print(\"\\nPermutations of list a:\", permutations_a)\n"
   ]
  },
  {
   "cell_type": "code",
   "execution_count": 20,
   "id": "ab281ca1-b133-46de-93fc-fa301371df8b",
   "metadata": {},
   "outputs": [
    {
     "name": "stdout",
     "output_type": "stream",
     "text": [
      "13th Program\n",
      "1\n",
      "a\n",
      "2b\n",
      "\n",
      "c3\n",
      "\n",
      "4\n",
      "d\n",
      "e5\n",
      "\n",
      "Threads have completed execution.\n"
     ]
    }
   ],
   "source": [
    "\n",
    "'''Write a Python program that creates two threads. One thread should print numbers from 1 to 5 with a 1-second delay between each number,\n",
    " while the other thread should print the alphabet from a to e. Use the threading module.'''\n",
    "\n",
    "'''Threading in Python refers to the concurrent execution of more than one part of a program, \n",
    "or thread, to perform tasks simultaneously.'''\n",
    "\n",
    "print('13th Program')\n",
    "import threading\n",
    "import time\n",
    "def print_numbers():\n",
    "    for i in range(1, 6):\n",
    "        print(i)\n",
    "        time.sleep(1)\n",
    "\n",
    "def print_alphabets():\n",
    "    for letter in ['a', 'b', 'c', 'd', 'e']:\n",
    "        print(letter)\n",
    "        time.sleep(1) \n",
    "\n",
    "thread1 = threading.Thread(target=print_numbers)\n",
    "thread2 = threading.Thread(target=print_alphabets)\n",
    "\n",
    "thread1.start()\n",
    "thread2.start()\n",
    "\n",
    "thread1.join()\n",
    "thread2.join()\n",
    "\n",
    "print(\"Threads have completed execution.\")  "
   ]
  },
  {
   "cell_type": "code",
   "execution_count": 21,
   "id": "2c416dd0-66a3-4e32-9697-5a0fb90752a6",
   "metadata": {},
   "outputs": [
    {
     "name": "stdout",
     "output_type": "stream",
     "text": [
      "23\n",
      "30\n",
      "Hello from Child!\n"
     ]
    }
   ],
   "source": [
    "'''method overloading : Method overloading refers to defining multiple methods with\n",
    " the same name function but different arguments (number or type).'''\n",
    "\n",
    "class Calculator:\n",
    "    def add(self,*args):\n",
    "        return sum(args)\n",
    "\n",
    "calc = Calculator()       \n",
    "print(calc.add(3,20))      \n",
    "print(calc.add(5, 10, 15))\n",
    "'''method overriding : occurs when a child class defines a method \n",
    "that has the same name and parameters as a method in its parent class'''\n",
    "\n",
    "class Parent:\n",
    "    def greet(self):\n",
    "        print(\"Hello from Parent!\")\n",
    "\n",
    "class Child(Parent):\n",
    "    def greet(self):\n",
    "        print(\"Hello from Child!\")  \n",
    "\n",
    "obj = Child()\n",
    "obj.greet()  \n"
   ]
  },
  {
   "cell_type": "code",
   "execution_count": 22,
   "id": "c8c7c259-13a8-42c5-aeb2-750e2bca18c3",
   "metadata": {},
   "outputs": [
    {
     "name": "stdout",
     "output_type": "stream",
     "text": [
      "Account balance: 10\n",
      "Deposited 50. New balance: 60\n",
      "Insufficient funds. Cannot withdraw more than the current balance.\n",
      "Insufficient funds. Cannot withdraw more than the current balance.\n",
      "Account balance: 60\n"
     ]
    }
   ],
   "source": [
    "''' Create a Python class BankAccount that has methods to deposit, withdraw, and check balance. Ensure that withdrawal cannot exceed the balance.'''\n",
    "class BankAccount:\n",
    "    def __init__(self, initial_balance=0):\n",
    "        self.balance = initial_balance\n",
    "\n",
    "    def deposit(self, amount):\n",
    "        if amount > 0:\n",
    "            self.balance += amount\n",
    "            print(f\"Deposited {amount}. New balance: {self.balance}\")\n",
    "        else:\n",
    "            print(\"Deposit amount must be positive.\")\n",
    "\n",
    "    def withdraw(self, amount):\n",
    "        if amount <= 0:\n",
    "            print(\"Withdrawal amount must be positive.\")\n",
    "        elif amount > self.balance:\n",
    "            print(\"Insufficient funds. Cannot withdraw more than the current balance.\")\n",
    "        else:\n",
    "            self.balance -= amount\n",
    "            print(f\"Withdrew {amount}. New balance: {self.balance}\")\n",
    "\n",
    "    def check_balance(self):\n",
    "        print(f\"Account balance: {self.balance}\")\n",
    "\n",
    "account = BankAccount(10)\n",
    "account.check_balance()\n",
    "account.deposit(50)\n",
    "account.withdraw(300)\n",
    "account.withdraw(1500)\n",
    "account.check_balance()\n",
    "\n",
    "# def main():\n",
    "#     initial_balance = float(input(\"Enter initial balance for the account: \"))\n",
    "#     account = BankAccount(initial_balance)\n",
    "    \n",
    "#     while True:\n",
    "#         print(\"\\nMenu:\")\n",
    "#         print(\"1. Check Balance\")\n",
    "#         print(\"2. Deposit\")\n",
    "#         print(\"3. Withdraw\")\n",
    "#         print(\"4. Exit\")\n",
    "        \n",
    "#         choice = input(\"Choose an option: \")\n",
    "#         if choice == \"1\":\n",
    "#             account.check_balance()\n",
    "#         elif choice == \"2\":\n",
    "#             amount = float(input(\"Enter amount to deposit: \"))\n",
    "#             account.deposit(amount)\n",
    "#         elif choice == \"3\":\n",
    "#             amount = float(input(\"Enter amount to withdraw: \"))\n",
    "#             account.withdraw(amount)\n",
    "#         elif choice == \"4\":\n",
    "#             print(\"Exiting. Thank you for using the bank account service.\")\n",
    "#             break\n",
    "#         else:\n",
    "#             print(\"Invalid choice. Please select a valid option.\")\n",
    "\n",
    "# main()"
   ]
  },
  {
   "cell_type": "code",
   "execution_count": 23,
   "id": "91de0163-06a1-4f5b-b446-0d207381a1e1",
   "metadata": {},
   "outputs": [
    {
     "name": "stdout",
     "output_type": "stream",
     "text": [
      "[19, 18, 17, 16, 15, 14, 13, 12, 11]\n"
     ]
    }
   ],
   "source": [
    "''' Write a function reverse_and_add that reverses a list and adds 10 to each element using list comprehension.'''\n",
    "def reverse_and_add(lst):\n",
    "    return [i+10 for i in lst[::-1]]\n",
    "lst=[1,2,3,4,5,6,7,8,9]\n",
    "print(reverse_and_add(lst))"
   ]
  },
  {
   "cell_type": "code",
   "execution_count": 24,
   "id": "2c47ed54-5691-44a6-b103-acdf5746d9b1",
   "metadata": {},
   "outputs": [
    {
     "name": "stdout",
     "output_type": "stream",
     "text": [
      "{'math': 71, 'science': 83, 'english': 76}\n"
     ]
    }
   ],
   "source": [
    "''' Create a function average_marks_by_subject that takes a list of students with their marks in three\n",
    " subjects and returns a dictionary of average marks for each subject.'''\n",
    "\n",
    "def average_marks_by_subject(students):\n",
    "    subjects=['math','science','english']\n",
    "    new={}\n",
    "    for subject in subjects:\n",
    "        total_marks=0\n",
    "        for student in students:\n",
    "            total_marks+=student[subject]\n",
    "        avg=int(total_marks/len(students))\n",
    "        new[subject] = avg\n",
    "    return new\n",
    "students=[\n",
    "    {\"name\": \"Aliya\", \"math\": 85, \"science\": 90, \"english\": 80},\n",
    "    {'name':'Prajwal','math':50,'science':80,'english':70},\n",
    "     {'name':'Nikhil','math':80,'science':80,'english':80  }\n",
    "         \n",
    "]\n",
    "avg=average_marks_by_subject(students)\n",
    "print(avg)"
   ]
  },
  {
   "cell_type": "code",
   "execution_count": 25,
   "id": "95cde951-0b3d-4628-8020-6420f9511024",
   "metadata": {},
   "outputs": [
    {
     "name": "stdout",
     "output_type": "stream",
     "text": [
      "[5, 3, 7, 2, 1, 4, 8]\n",
      "[5, 3, 7, 2, 1, 4, 8]\n",
      "30\n"
     ]
    }
   ],
   "source": [
    "'''Use map(), filter(), and reduce() to convert a list of numbers to their absolute values, \n",
    "filter out negative numbers, and find the sum of the remaining elements'''\n",
    "numbers = [-5, -3, 7, 2, -1, 4, -8]\n",
    "abs_numbers = list(map(abs, numbers))\n",
    "print(abs_numbers)\n",
    "filtered_numbers = list(filter(lambda x: x > 0, abs_numbers))\n",
    "print(filtered_numbers)\n",
    "sum_numbers = sum(filtered_numbers)\n",
    "print(sum_numbers)"
   ]
  },
  {
   "cell_type": "code",
   "execution_count": 26,
   "id": "5bf99352-48db-4f34-88d3-36ff297dbb1f",
   "metadata": {},
   "outputs": [
    {
     "name": "stdin",
     "output_type": "stream",
     "text": [
      "Enter the age: 3\n"
     ]
    },
    {
     "name": "stdout",
     "output_type": "stream",
     "text": [
      "3\n"
     ]
    }
   ],
   "source": [
    "''' Create a custom exception InvalidAgeError that gets raised if the user enters a negative age.'''\n",
    "class InvalidAgeError(Exception):\n",
    "    pass\n",
    "def validate_age():\n",
    "    try:\n",
    "        age=int(input('Enter the age:'))\n",
    "        if age<0:\n",
    "            raise InvalidAgeError('Age can not be negative')\n",
    "        else:\n",
    "            return age\n",
    "    except ValueError:\n",
    "        raise ValueError('Invalid Input')\n",
    "    except Exception as e:\n",
    "        print(f'Error:{e}')\n",
    "print(validate_age())\n"
   ]
  },
  {
   "cell_type": "code",
   "execution_count": 27,
   "id": "e700008f-8b3e-428d-b7f1-86556daf0807",
   "metadata": {},
   "outputs": [
    {
     "name": "stdout",
     "output_type": "stream",
     "text": [
      "Random number: 3\n",
      "done\n",
      "None\n"
     ]
    }
   ],
   "source": [
    "''' Write a decorator retry that retries a function up to 3 times if it raises an exception.'''\n",
    "import time\n",
    "import random\n",
    "def retry(func):\n",
    "    def wrapper():\n",
    "        for i in range(1, 4):  \n",
    "            try:\n",
    "                return func()\n",
    "            except Exception as e:\n",
    "                print(f\"Attempt {i} failed with error: {e}\")\n",
    "                time.sleep(1)  \n",
    "                if i == 3: \n",
    "                    raise\n",
    "    return wrapper\n",
    "@retry\n",
    "def unreliable_function():\n",
    "    x = random.randint(1, 4)\n",
    "    print(f\"Random number: {x}\")\n",
    "    if x != 3:\n",
    "        raise Exception(\"Error\")\n",
    "    print(\"done\")\n",
    "try:\n",
    "    print(unreliable_function())\n",
    "except Exception as e:\n",
    "    print(f\"Function failed after 3 retries: {e}\")"
   ]
  },
  {
   "cell_type": "code",
   "execution_count": 28,
   "id": "1d5d05a7-47e7-4ebd-94fa-2e6b0d209172",
   "metadata": {},
   "outputs": [
    {
     "name": "stdin",
     "output_type": "stream",
     "text": [
      "Enter the number of even numbers to generate:  4\n"
     ]
    },
    {
     "name": "stdout",
     "output_type": "stream",
     "text": [
      "The first 4 even numbers are:\n",
      "0 2 4 6 0\n",
      "2\n",
      "4\n",
      "6\n",
      "8\n",
      "10\n",
      "12\n",
      "14\n",
      "16\n",
      "18\n"
     ]
    }
   ],
   "source": [
    "'''Write a Python generator even_numbers(n) that yields the first n even numbers.'''\n",
    "def even_numbers(n):\n",
    "    num = 0  \n",
    "    for _ in range(n):\n",
    "        yield num  \n",
    "        num += 2   \n",
    "\n",
    "# Example usage:\n",
    "n = int(input(\"Enter the number of even numbers to generate: \"))\n",
    "print(\"The first\", n, \"even numbers are:\")\n",
    "for even in even_numbers(n):\n",
    "    print(even, end=\" \")\n",
    "\n",
    "def even(n):\n",
    "    for i in range(n):\n",
    "        yield i*2\n",
    "for num in even(10):\n",
    "    print(num)"
   ]
  },
  {
   "cell_type": "code",
   "execution_count": 29,
   "id": "fcfe2ff3-c0ad-4d4d-9c25-9f92f8f613d3",
   "metadata": {},
   "outputs": [
    {
     "name": "stdout",
     "output_type": "stream",
     "text": [
      "Error: The file 'input.txt' does not exist.\n"
     ]
    }
   ],
   "source": [
    "''' Write a Python program that reads a file input.txt, counts the number of 'lines,\n",
    " and writes the result to another file output.txt.'''\n",
    "    \n",
    "def count_lines(input_filename):\n",
    "    try:\n",
    "        with open(input_filename, 'r') as infile:\n",
    "            lines = infile.readlines()\n",
    "            line_count = len(lines)\n",
    "        \n",
    "        with open('output.txt', 'w') as outfile:\n",
    "            outfile.write(f\"Number of lines: {line_count}\")\n",
    "            print(\"The number of lines has been saved to 'output.txt'.\")\n",
    "    \n",
    "    except FileNotFoundError:\n",
    "        print(f\"Error: The file '{input_filename}' does not exist.\")\n",
    "filename = 'input.txt'\n",
    "count_lines(filename)"
   ]
  },
  {
   "cell_type": "code",
   "execution_count": 30,
   "id": "f5822c9e-d067-4378-bf4c-80891bd5a1fd",
   "metadata": {},
   "outputs": [
    {
     "name": "stdout",
     "output_type": "stream",
     "text": [
      "['12-04-2002', '29-02-2024', '31-12-2024']\n"
     ]
    }
   ],
   "source": [
    "\n",
    "'''Write a regular expression pattern to validate a date in the format DD/MM/YYYY.'''\n",
    "\n",
    "\n",
    "'''\n",
    "^(0[1-9]|[12][0-9]|3[01]): Matches the day part:\n",
    "0[1-9]: Matches days 01 to 09.\n",
    "[12][0-9]: Matches days 10 to 29.\n",
    "3[01]: Matches days 30 and 31.\n",
    "/(0[1-9]|1[0-2])/: Matches the month part:\n",
    "0[1-9]: Matches months 01 to 09.\n",
    "1[0-2]: Matches months 10 to 12.\n",
    "\\d{4}$: Matches the year part:\n",
    "\\d{4}: Matches any four digits, ensuring the year is in the form YYYY.\n",
    "'''\n",
    "import re\n",
    "def is_leap_year(year):\n",
    "    if (year% 4 == 0 and year % 100 != 0) or (year % 400 == 0):\n",
    "        return True\n",
    "    return False\n",
    "\n",
    "def validate_date(date):\n",
    "    pattern = r'^(0[1-9]|[12][0-9]|3[01])[-/](0[1-9]|1[0-2])[-/](\\d{4})$'\n",
    "    match = re.match(pattern, date)\n",
    "    \n",
    "    if not match:\n",
    "        return False  \n",
    "    \n",
    "    day, month, year = map(int, match.groups())\n",
    "    days_in_month = [31, 28, 31, 30, 31, 30, 31, 31, 30, 31, 30, 31]\n",
    "    \n",
    "    if is_leap_year(year):\n",
    "        days_in_month[1] = 29\n",
    "    \n",
    "    if day > days_in_month[month - 1]:\n",
    "        return False\n",
    "    return True\n",
    "\n",
    "dates = ['12-04-2002', '29-02-2024', '31-04-2022', '31-12-2024']\n",
    "\n",
    "valid_dates = list(filter(validate_date, dates))\n",
    "print(valid_dates)"
   ]
  },
  {
   "cell_type": "code",
   "execution_count": 31,
   "id": "ea01fc71-e78f-4384-8dd3-90c74d135681",
   "metadata": {},
   "outputs": [
    {
     "name": "stdout",
     "output_type": "stream",
     "text": [
      "Rectangle\n",
      "Area: 50\n",
      "Perimeter: 30\n",
      "\n",
      "Triangle\n",
      "Area: 25.0\n",
      "Perimeter: 15\n"
     ]
    },
    {
     "data": {
      "text/plain": [
       "' Self : instance of the object'"
      ]
     },
     "execution_count": 31,
     "metadata": {},
     "output_type": "execute_result"
    }
   ],
   "source": [
    "''' Write a program to calculate the area and perimeter of a triangle by using a base class Polygon\n",
    " and derived classes Rectangle and Triangle.'''\n",
    "\n",
    "class Polygon:\n",
    "    def area(self):\n",
    "        return\n",
    "    def perimeter(self):\n",
    "        return\n",
    "class Rectangle(Polygon):\n",
    "    def __init__(self, width, height):\n",
    "        self.width = width\n",
    "        self.height = height\n",
    "\n",
    "    def area(self):\n",
    "        return self.width * self.height\n",
    "\n",
    "    def perimeter(self):\n",
    "        return 2 * (self.width + self.height)\n",
    "    \n",
    "class Triangle(Polygon):\n",
    "    def __init__(self, base, height, side1, side2, side3):\n",
    "        self.base = base\n",
    "        self.height = height\n",
    "        self.side1 = side1\n",
    "        self.side2 = side2\n",
    "        self.side3 = side3\n",
    "\n",
    "    def area(self):\n",
    "        return 0.5 * self.base * self.height\n",
    "\n",
    "    def perimeter(self):\n",
    "        return self.side1 + self.side2 + self.side3\n",
    "\n",
    "# Example usage\n",
    "rectangle = Rectangle(5, 10)\n",
    "triangle = Triangle(5, 10, 5, 5, 5)\n",
    "\n",
    "print(\"Rectangle\")\n",
    "print(\"Area:\", rectangle.area())\n",
    "print(\"Perimeter:\", rectangle.perimeter())\n",
    "\n",
    "print(\"\\nTriangle\")\n",
    "print(\"Area:\", triangle.area())\n",
    "print(\"Perimeter:\", triangle.perimeter())\n",
    "\n",
    "'''The super() function allows you to call a method from a parent (or base) class.\n",
    "\n",
    "super().__init__ is used to call the __init__ method of the base class (Polygon) from the derived\n",
    " classes (Rectangle and Triangle).'''\n",
    "\n",
    "''' Self : instance of the object'''"
   ]
  },
  {
   "cell_type": "code",
   "execution_count": 32,
   "id": "218fb31e-3dd6-4b3d-b9ab-e4a915dc2c51",
   "metadata": {},
   "outputs": [
    {
     "name": "stdout",
     "output_type": "stream",
     "text": [
      "2\n",
      "1\n",
      "4\n",
      "3\n",
      "6\n",
      "5\n",
      "8\n",
      "7\n",
      "910\n",
      "\n",
      "Over the program\n"
     ]
    }
   ],
   "source": [
    "'''Create a program that creates two threads. One thread prints even numbers from 1 to 10, and the \n",
    "other prints odd numbers from 1 to 10.'''\n",
    "import threading\n",
    "import time\n",
    "def even():\n",
    "    for i in range(2,11,2):\n",
    "            print(i)\n",
    "            time.sleep(1)\n",
    "\n",
    "def odd():\n",
    "    for i in range(1,10,2):\n",
    "            print(i)\n",
    "            time.sleep(1)\n",
    "\n",
    "thread1=threading.Thread(target=even)\n",
    "thread2=threading.Thread(target=odd)\n",
    "\n",
    "thread1.start()\n",
    "thread2.start()\n",
    "\n",
    "thread1.join()\n",
    "thread2.join()\n",
    "print('Over the program')"
   ]
  },
  {
   "cell_type": "code",
   "execution_count": 34,
   "id": "a457c1a9-d46f-4900-80fa-e34ad969c419",
   "metadata": {},
   "outputs": [
    {
     "name": "stdout",
     "output_type": "stream",
     "text": [
      "department\n",
      "FInance    35000.0\n",
      "HR         35000.0\n",
      "IT         10000.0\n",
      "Name: salary, dtype: float64\n"
     ]
    }
   ],
   "source": [
    "''' Write a Pandas program that reads a CSV file and calculates the average salary for each department.'''\n",
    "import pandas as pd\n",
    "df={\n",
    "    'name':['Prajwal','Nikhil','Raghu','Kumar','Vinayaka','Rohan'],\n",
    "    'salary':[10000,20000,30000,10000,50000,40000],\n",
    "    'department':['IT','HR','FInance','IT','HR','FInance']\n",
    "}\n",
    "df=pd.DataFrame(df)\n",
    "df=df.to_csv('salary.csv')\n",
    "df = pd.read_csv('salary.csv')\n",
    "# Group by department and calculate the average salary\n",
    "df_grouped = df.groupby('department')['salary'].mean()  \n",
    "print(df_grouped)"
   ]
  },
  {
   "cell_type": "code",
   "execution_count": 35,
   "id": "16208a17-0df0-4736-9994-5239898b5b42",
   "metadata": {},
   "outputs": [
    {
     "name": "stdout",
     "output_type": "stream",
     "text": [
      "All combinations:\n",
      "(1,)\n",
      "(2,)\n",
      "(3,)\n",
      "(4,)\n",
      "(5,)\n",
      "(1, 2)\n",
      "(1, 3)\n",
      "(1, 4)\n",
      "(1, 5)\n",
      "(2, 3)\n",
      "(2, 4)\n",
      "(2, 5)\n",
      "(3, 4)\n",
      "(3, 5)\n",
      "(4, 5)\n",
      "(1, 2, 3)\n",
      "(1, 2, 4)\n",
      "(1, 2, 5)\n",
      "(1, 3, 4)\n",
      "(1, 3, 5)\n",
      "(1, 4, 5)\n",
      "(2, 3, 4)\n",
      "(2, 3, 5)\n",
      "(2, 4, 5)\n",
      "(3, 4, 5)\n",
      "(1, 2, 3, 4)\n",
      "(1, 2, 3, 5)\n",
      "(1, 2, 4, 5)\n",
      "(1, 3, 4, 5)\n",
      "(2, 3, 4, 5)\n",
      "(1, 2, 3, 4, 5)\n"
     ]
    }
   ],
   "source": [
    "''' Write a Python program using itertools.combinations to find all unique combinations of a list.'''\n",
    "import itertools\n",
    "\n",
    "def find_combination(lst):\n",
    "    all_combination = []\n",
    "    for i in range(1, len(lst) + 1):\n",
    "        all_combination.extend(itertools.combinations(lst, i))\n",
    "    return all_combination\n",
    "\n",
    "lst = [1, 2, 3, 4, 5]\n",
    "result = find_combination(lst)\n",
    "print('All combinations:')\n",
    "for comb in result:\n",
    "    print(comb)"
   ]
  },
  {
   "cell_type": "code",
   "execution_count": 39,
   "id": "d623760e-906f-4c19-bd4a-68d2b75130d3",
   "metadata": {},
   "outputs": [
    {
     "name": "stdout",
     "output_type": "stream",
     "text": [
      "['Raghudas', 'Prajwal', 'Nikhileshwar']\n"
     ]
    }
   ],
   "source": [
    "'''Given a list of strings, write a list comprehension that:\n",
    "Removes all strings that are shorter than 5 characters.\n",
    "Capitalizes all the remaining strings.\n",
    "Sorts them in reverse alphabetical order '''\n",
    "\n",
    "def process_strings(list1):\n",
    "    # List comprehension to capitalize strings longer than 5 characters and sort them in reverse alphabetical order\n",
    "    result = sorted([x.capitalize() for x in list1 if len(x) > 5], reverse=True)\n",
    "    return result\n",
    "\n",
    "# Example list\n",
    "list1 = ['prajwal', 'Nikhileshwar', 'Raghudas', 'Kumar']\n",
    "\n",
    "# Print the result of the function\n",
    "print(process_strings(list1))\n"
   ]
  },
  {
   "cell_type": "code",
   "execution_count": 40,
   "id": "d8833893-fa56-4cce-b957-4462785054f7",
   "metadata": {},
   "outputs": [
    {
     "name": "stdout",
     "output_type": "stream",
     "text": [
      "20\n"
     ]
    }
   ],
   "source": [
    "''' Write a function process_numbers(nums) that:\n",
    "Doubles every positive number in a list using map().\n",
    "Filters out all negative numbers using filter().\n",
    "Returns the sum of the remaining numbers using reduce().\n",
    "\n",
    "Example input: [-1, 2, 3, -4, 5]\n",
    "Expected output: 20 (2 * 2 + 3 * 2 + 5 * 2)'''\n",
    "\n",
    "from functools import reduce\n",
    "\n",
    "def process_numbers(nums):\n",
    "    positive_nums = filter(lambda x: x > 0, nums)\n",
    "    doubled_nums = map(lambda x: x * 2, positive_nums)\n",
    "    result = reduce(lambda x, y: x + y, doubled_nums)\n",
    "    return result\n",
    "\n",
    "nums = [-1, 2, 3, -4, 5]\n",
    "print(process_numbers(nums)) "
   ]
  },
  {
   "cell_type": "code",
   "execution_count": 41,
   "id": "17a3050e-1139-4d6e-a805-0848b88b0cb5",
   "metadata": {},
   "outputs": [
    {
     "name": "stdin",
     "output_type": "stream",
     "text": [
      "Enter the 1st number:  94\n",
      "Enter the 2nd number:  4e\n"
     ]
    },
    {
     "name": "stdout",
     "output_type": "stream",
     "text": [
      "Invalid input! Please enter valid numbers.\n"
     ]
    }
   ],
   "source": [
    "'''\n",
    "Write a function divide_numbers(a, b) that:\n",
    "Divides a by b and returns the result.\n",
    "Handles division by zero by raising a custom exception ZeroDivisionError.\n",
    "If the inputs are not numbers, raise a ValueError with an appropriate message.'''\n",
    "class ZeroDivisionError(Exception):\n",
    "    pass\n",
    "\n",
    "def divide_numbers(a, b):\n",
    "    try:\n",
    "        return a / b\n",
    "    except ZeroDivisionError:\n",
    "        raise ZeroDivisionError(\"Cannot divide by zero.\")\n",
    "    except Exception as e:\n",
    "        print(f\"Error: {e}\")\n",
    "        return None\n",
    "\n",
    "try: \n",
    " a = int(input('Enter the 1st number: '))\n",
    " b = int(input('Enter the 2nd number: '))\n",
    " result = divide_numbers(a, b)\n",
    " if result is not None:\n",
    "    print(f\"The result of {a} divided by {b} is: {result}\")\n",
    "except ValueError:\n",
    "    print(\"Invalid input! Please enter valid numbers.\")\n",
    "except ZeroDivisionError:\n",
    "    raise ZeroDivisionError\n",
    "except Exception as e:\n",
    "    print(f'Error:{e}')"
   ]
  },
  {
   "cell_type": "code",
   "execution_count": 43,
   "id": "997c5ad9-9f60-49f6-aa69-6c377de5abcd",
   "metadata": {},
   "outputs": [
    {
     "name": "stdout",
     "output_type": "stream",
     "text": [
      "Phone number is valid\n",
      "None\n"
     ]
    }
   ],
   "source": [
    "'''\n",
    ". Write a function validate_phone_number(phone) that validates a phone number. The phone number should:\n",
    "\n",
    "Be in the format XXX-XXX-XXXX where X is a digit.\n",
    "Return True if the phone number is valid, and False otherwise.\n",
    "\n",
    "Example input:\n",
    "validate_phone_number(\"123-456-7890\")\n",
    "validate_phone_number(\"1234567890\")\n",
    "'''\n",
    "\n",
    "import re\n",
    "def validate_phone_number(phone):\n",
    "    pattern=r'^\\d{3}-\\d{3}-\\d{4}$'\n",
    "    if re.match(pattern,phone):\n",
    "        print('Phone number is valid')\n",
    "    else:\n",
    "        print('Phone number is invalid')\n",
    "phone='123-456-7890'\n",
    "result=validate_phone_number(phone)\n",
    "print(result)\n"
   ]
  },
  {
   "cell_type": "code",
   "execution_count": 44,
   "id": "e7971b72-5a71-4885-a7c5-fc2e2eecd7cf",
   "metadata": {},
   "outputs": [
    {
     "name": "stdout",
     "output_type": "stream",
     "text": [
      "Circle Area: 12.566370614359172\n",
      "Circle Perimeter: 12.566370614359172\n",
      "Rectangle Area: 40\n",
      "Rectangle Perimeter: 28\n"
     ]
    }
   ],
   "source": [
    "'''Create a base class Shape with methods to calculate area and perimeter. Then, create two derived classes: Circle and Rectangle.\n",
    "\n",
    "The Circle class should have a method to calculate the area (π * r²) and perimeter (2 * π * r).\n",
    "The Rectangle class should have a method to calculate the area (width * height) and perimeter (2 * (width + height)).\n",
    "Use polymorphism to call the same methods on different objects and print the results.'''\n",
    "\n",
    "import math\n",
    "class Shape:\n",
    "    def area(self):\n",
    "        return\n",
    "    def perimeter(self):\n",
    "        return\n",
    "class Circle(Shape):\n",
    "    def __init__(self,radius):\n",
    "        self.radius=radius\n",
    "    def area(self):\n",
    "        return math.pi * (self.radius ** 2)\n",
    "    def perimeter(self):\n",
    "        return 2*math.pi*self.radius\n",
    "class Rectangle(Shape):\n",
    "    def __init__(self,width,height):\n",
    "        self.width=width\n",
    "        self.height=height\n",
    "\n",
    "    def area(self):\n",
    "        return self.width*self.height\n",
    "    def perimeter(self):\n",
    "        return 2*(self.width+self.height)\n",
    "circle=Circle(2)\n",
    "rectangle=Rectangle(10,4)\n",
    "print(\"Circle Area:\", circle.area())         \n",
    "print(\"Circle Perimeter:\", circle.perimeter())  \n",
    "print(\"Rectangle Area:\", rectangle.area())     \n",
    "print(\"Rectangle Perimeter:\", rectangle.perimeter())     "
   ]
  },
  {
   "cell_type": "code",
   "execution_count": 46,
   "id": "67554216-4238-4cfb-82c1-c240b670c884",
   "metadata": {},
   "outputs": [
    {
     "name": "stdout",
     "output_type": "stream",
     "text": [
      "Error:[Errno 2] No such file or directory: 'input.txt'\n",
      "None\n"
     ]
    }
   ],
   "source": [
    "\n",
    "''' Write a function copy_and_reverse_lines(input_file, output_file) that:\n",
    "\n",
    "Reads the content of a file (input_file).\n",
    "Reverses the order of the lines.\n",
    "Writes the reversed lines into another file (output_file).\n",
    "Make sure to handle scenarios where the input file does not exist.'''\n",
    "\n",
    "def copy_and_reverse_lines(input_file, output_file):\n",
    "    try:\n",
    "        with open(input_file,'r') as input:\n",
    "            file=input.readlines()\n",
    "            reverse=file[::-1]\n",
    "        with open(output_file,'w') as output:\n",
    "            output.writelines(reverse)\n",
    "            print('Success')\n",
    "    except FileNotFoundError as e:\n",
    "        print(f'Error:{e}')\n",
    "    \n",
    "input_file='input.txt'\n",
    "output_file='output.txt'\n",
    "resule=copy_and_reverse_lines(input_file,output_file)\n",
    "print(resule)\n"
   ]
  },
  {
   "cell_type": "code",
   "execution_count": 47,
   "id": "3ce7089b-1490-4f25-9db5-a28b8f0f17d2",
   "metadata": {},
   "outputs": [
    {
     "name": "stdout",
     "output_type": "stream",
     "text": [
      "Error: The file was not found.\n",
      "Executed  in 0.0018 seconds.\n"
     ]
    },
    {
     "ename": "KeyError",
     "evalue": "'quantity_sold'",
     "output_type": "error",
     "traceback": [
      "\u001b[1;31m---------------------------------------------------------------------------\u001b[0m",
      "\u001b[1;31mKeyError\u001b[0m                                  Traceback (most recent call last)",
      "Cell \u001b[1;32mIn[47], line 113\u001b[0m\n\u001b[0;32m    110\u001b[0m valid_data \u001b[38;5;241m=\u001b[39m filter_valid_data(sales_data)\n\u001b[0;32m    112\u001b[0m \u001b[38;5;66;03m# Step 3: Process data using pandas (total sales and apply discount)\u001b[39;00m\n\u001b[1;32m--> 113\u001b[0m processed_data \u001b[38;5;241m=\u001b[39m \u001b[43mprocess_with_pandas\u001b[49m\u001b[43m(\u001b[49m\u001b[43mvalid_data\u001b[49m\u001b[43m)\u001b[49m\n\u001b[0;32m    115\u001b[0m \u001b[38;5;66;03m# Step 4: Serialize cleaned data to a pickle file\u001b[39;00m\n\u001b[0;32m    116\u001b[0m output_file \u001b[38;5;241m=\u001b[39m \u001b[38;5;124m'\u001b[39m\u001b[38;5;124mcleaned_sales_data.pkl\u001b[39m\u001b[38;5;124m'\u001b[39m\n",
      "Cell \u001b[1;32mIn[47], line 12\u001b[0m, in \u001b[0;36mlog_execution_time.<locals>.wrapper\u001b[1;34m(*args, **kwargs)\u001b[0m\n\u001b[0;32m     10\u001b[0m \u001b[38;5;28;01mdef\u001b[39;00m \u001b[38;5;21mwrapper\u001b[39m(\u001b[38;5;241m*\u001b[39margs, \u001b[38;5;241m*\u001b[39m\u001b[38;5;241m*\u001b[39mkwargs):\n\u001b[0;32m     11\u001b[0m     start_time \u001b[38;5;241m=\u001b[39m time\u001b[38;5;241m.\u001b[39mtime()\n\u001b[1;32m---> 12\u001b[0m     result \u001b[38;5;241m=\u001b[39m \u001b[43mfunc\u001b[49m\u001b[43m(\u001b[49m\u001b[38;5;241;43m*\u001b[39;49m\u001b[43margs\u001b[49m\u001b[43m,\u001b[49m\u001b[43m \u001b[49m\u001b[38;5;241;43m*\u001b[39;49m\u001b[38;5;241;43m*\u001b[39;49m\u001b[43mkwargs\u001b[49m\u001b[43m)\u001b[49m\n\u001b[0;32m     13\u001b[0m     end_time \u001b[38;5;241m=\u001b[39m time\u001b[38;5;241m.\u001b[39mtime()\n\u001b[0;32m     14\u001b[0m     execution_time \u001b[38;5;241m=\u001b[39m end_time \u001b[38;5;241m-\u001b[39m start_time\n",
      "Cell \u001b[1;32mIn[47], line 71\u001b[0m, in \u001b[0;36mprocess_with_pandas\u001b[1;34m(sales_data)\u001b[0m\n\u001b[0;32m     68\u001b[0m df \u001b[38;5;241m=\u001b[39m pd\u001b[38;5;241m.\u001b[39mDataFrame(sales_data)\n\u001b[0;32m     70\u001b[0m \u001b[38;5;66;03m# Convert columns to numeric, forcing errors to NaN, then drop rows with NaN values\u001b[39;00m\n\u001b[1;32m---> 71\u001b[0m df[\u001b[38;5;124m'\u001b[39m\u001b[38;5;124mquantity_sold\u001b[39m\u001b[38;5;124m'\u001b[39m] \u001b[38;5;241m=\u001b[39m pd\u001b[38;5;241m.\u001b[39mto_numeric(\u001b[43mdf\u001b[49m\u001b[43m[\u001b[49m\u001b[38;5;124;43m'\u001b[39;49m\u001b[38;5;124;43mquantity_sold\u001b[39;49m\u001b[38;5;124;43m'\u001b[39;49m\u001b[43m]\u001b[49m, errors\u001b[38;5;241m=\u001b[39m\u001b[38;5;124m'\u001b[39m\u001b[38;5;124mcoerce\u001b[39m\u001b[38;5;124m'\u001b[39m)\n\u001b[0;32m     72\u001b[0m df[\u001b[38;5;124m'\u001b[39m\u001b[38;5;124mprice_per_unit\u001b[39m\u001b[38;5;124m'\u001b[39m] \u001b[38;5;241m=\u001b[39m pd\u001b[38;5;241m.\u001b[39mto_numeric(df[\u001b[38;5;124m'\u001b[39m\u001b[38;5;124mprice_per_unit\u001b[39m\u001b[38;5;124m'\u001b[39m], errors\u001b[38;5;241m=\u001b[39m\u001b[38;5;124m'\u001b[39m\u001b[38;5;124mcoerce\u001b[39m\u001b[38;5;124m'\u001b[39m)\n\u001b[0;32m     73\u001b[0m df \u001b[38;5;241m=\u001b[39m df\u001b[38;5;241m.\u001b[39mdropna(subset\u001b[38;5;241m=\u001b[39m[\u001b[38;5;124m'\u001b[39m\u001b[38;5;124mquantity_sold\u001b[39m\u001b[38;5;124m'\u001b[39m, \u001b[38;5;124m'\u001b[39m\u001b[38;5;124mprice_per_unit\u001b[39m\u001b[38;5;124m'\u001b[39m])\n",
      "File \u001b[1;32m~\\anaconda\\Lib\\site-packages\\pandas\\core\\frame.py:4102\u001b[0m, in \u001b[0;36mDataFrame.__getitem__\u001b[1;34m(self, key)\u001b[0m\n\u001b[0;32m   4100\u001b[0m \u001b[38;5;28;01mif\u001b[39;00m \u001b[38;5;28mself\u001b[39m\u001b[38;5;241m.\u001b[39mcolumns\u001b[38;5;241m.\u001b[39mnlevels \u001b[38;5;241m>\u001b[39m \u001b[38;5;241m1\u001b[39m:\n\u001b[0;32m   4101\u001b[0m     \u001b[38;5;28;01mreturn\u001b[39;00m \u001b[38;5;28mself\u001b[39m\u001b[38;5;241m.\u001b[39m_getitem_multilevel(key)\n\u001b[1;32m-> 4102\u001b[0m indexer \u001b[38;5;241m=\u001b[39m \u001b[38;5;28;43mself\u001b[39;49m\u001b[38;5;241;43m.\u001b[39;49m\u001b[43mcolumns\u001b[49m\u001b[38;5;241;43m.\u001b[39;49m\u001b[43mget_loc\u001b[49m\u001b[43m(\u001b[49m\u001b[43mkey\u001b[49m\u001b[43m)\u001b[49m\n\u001b[0;32m   4103\u001b[0m \u001b[38;5;28;01mif\u001b[39;00m is_integer(indexer):\n\u001b[0;32m   4104\u001b[0m     indexer \u001b[38;5;241m=\u001b[39m [indexer]\n",
      "File \u001b[1;32m~\\anaconda\\Lib\\site-packages\\pandas\\core\\indexes\\range.py:417\u001b[0m, in \u001b[0;36mRangeIndex.get_loc\u001b[1;34m(self, key)\u001b[0m\n\u001b[0;32m    415\u001b[0m         \u001b[38;5;28;01mraise\u001b[39;00m \u001b[38;5;167;01mKeyError\u001b[39;00m(key) \u001b[38;5;28;01mfrom\u001b[39;00m \u001b[38;5;21;01merr\u001b[39;00m\n\u001b[0;32m    416\u001b[0m \u001b[38;5;28;01mif\u001b[39;00m \u001b[38;5;28misinstance\u001b[39m(key, Hashable):\n\u001b[1;32m--> 417\u001b[0m     \u001b[38;5;28;01mraise\u001b[39;00m \u001b[38;5;167;01mKeyError\u001b[39;00m(key)\n\u001b[0;32m    418\u001b[0m \u001b[38;5;28mself\u001b[39m\u001b[38;5;241m.\u001b[39m_check_indexing_error(key)\n\u001b[0;32m    419\u001b[0m \u001b[38;5;28;01mraise\u001b[39;00m \u001b[38;5;167;01mKeyError\u001b[39;00m(key)\n",
      "\u001b[1;31mKeyError\u001b[0m: 'quantity_sold'"
     ]
    }
   ],
   "source": [
    "import csv\n",
    "import pickle\n",
    "import time\n",
    "import pandas as pd\n",
    "from functools import partial\n",
    "\n",
    "\n",
    "# Decorator to log function calls and execution time\n",
    "def log_execution_time(func):\n",
    "    def wrapper(*args, **kwargs):\n",
    "        start_time = time.time()\n",
    "        result = func(*args, **kwargs)\n",
    "        end_time = time.time()\n",
    "        execution_time = end_time - start_time\n",
    "        print(f\"Executed  in {execution_time:.4f} seconds.\")\n",
    "        return result\n",
    "    return wrapper\n",
    "\n",
    "\n",
    "# 1. Read CSV using context manager\n",
    "@log_execution_time\n",
    "def read_csv(file_name):\n",
    "    sales_data = []\n",
    "    try:\n",
    "        with open(file_name, 'r') as file:\n",
    "            reader = csv.DictReader(file)\n",
    "            for row in reader:\n",
    "                sales_data.append(row)\n",
    "    except FileNotFoundError:\n",
    "        print(\"Error: The file was not found.\")\n",
    "    except Exception as e:\n",
    "        print(f\"Error: {e}\")\n",
    "    return sales_data\n",
    "\n",
    "\n",
    "# 2. Calculate total sales for each transaction\n",
    "def calculate_total_sales(transaction):\n",
    "    try:\n",
    "        quantity = int(transaction['quantity_sold'])\n",
    "        price = float(transaction['price_per_unit'])\n",
    "        if quantity < 0 or price < 0:\n",
    "            return 0  # Invalid transaction\n",
    "        return quantity * price\n",
    "    except ValueError:\n",
    "        return 0  # Invalid transaction\n",
    "\n",
    "\n",
    "# 3. Filter out invalid data (negative quantities or prices)\n",
    "def filter_valid_data(sales_data):\n",
    "    valid_data = []\n",
    "    for transaction in sales_data:\n",
    "        if int(transaction['quantity_sold']) >= 0 and float(transaction['price_per_unit']) >= 0:\n",
    "            valid_data.append(transaction)\n",
    "        else:\n",
    "            print(f\"Invalid data in transaction {transaction['id']}, skipping.\")\n",
    "    return valid_data\n",
    "\n",
    "\n",
    "# 4. Apply 10% discount using partial function\n",
    "def apply_discount(price, discount=0.10):\n",
    "    return price * (1 - discount)\n",
    "\n",
    "\n",
    "# 5. Process data using pandas\n",
    "@log_execution_time\n",
    "def process_with_pandas(sales_data):\n",
    "    # Convert to DataFrame\n",
    "    df = pd.DataFrame(sales_data)\n",
    "\n",
    "    # Convert columns to numeric, forcing errors to NaN, then drop rows with NaN values\n",
    "    df['quantity_sold'] = pd.to_numeric(df['quantity_sold'], errors='coerce')\n",
    "    df['price_per_unit'] = pd.to_numeric(df['price_per_unit'], errors='coerce')\n",
    "    df = df.dropna(subset=['quantity_sold', 'price_per_unit'])\n",
    "\n",
    "    # Calculate total sales and apply the discount\n",
    "    df['total_sales'] = df['quantity_sold'] * df['price_per_unit']\n",
    "    df['discounted_sales'] = df['total_sales'].apply(partial(apply_discount))\n",
    "\n",
    "    return df\n",
    "\n",
    "\n",
    "# 6. Serialize the cleaned data using pickle\n",
    "def serialize_data(data, output_file):\n",
    "    try:\n",
    "        with open(output_file, 'wb') as f:\n",
    "            pickle.dump(data, f)\n",
    "    except Exception as e:\n",
    "        print(f\"Error serializing data: {e}\")\n",
    "\n",
    "\n",
    "# 7. Deserialize the data using pickle\n",
    "def deserialize_data(input_file):\n",
    "    try:\n",
    "        with open(input_file, 'rb') as f:\n",
    "            return pickle.load(f)\n",
    "    except FileNotFoundError:\n",
    "        print(f\"Error: The file {input_file} does not exist.\")\n",
    "        return []\n",
    "    except pickle.UnpicklingError:\n",
    "        print(\"Error: Failed to deserialize data.\")\n",
    "        return []\n",
    "\n",
    "\n",
    "# Main program flow\n",
    "if __name__ == \"__main__\":\n",
    "    file_name = 'sales_data.csv'  \n",
    "    sales_data = read_csv(file_name)\n",
    "\n",
    "    # Step 2: Filter valid data and calculate total sales\n",
    "    valid_data = filter_valid_data(sales_data)\n",
    "\n",
    "    # Step 3: Process data using pandas (total sales and apply discount)\n",
    "    processed_data = process_with_pandas(valid_data)\n",
    "\n",
    "    # Step 4: Serialize cleaned data to a pickle file\n",
    "    output_file = 'cleaned_sales_data.pkl'\n",
    "    serialize_data(processed_data, output_file)\n",
    "\n",
    "    # Step 5: Deserialize the data and print the total_sales column\n",
    "    cleaned_data = deserialize_data(output_file)\n",
    "    \n",
    "   \n",
    "    if isinstance(cleaned_data, pd.DataFrame):\n",
    "        if 'total_sales' in cleaned_data.columns:\n",
    "            print(f\"Total Sales:\\n{cleaned_data}\")\n",
    "        else:\n",
    "            print(\"Column 'total_sales' not found in the deserialized data.\")\n",
    "    else:\n",
    "        print(\"No data found or failed to deserialize.\")\n"
   ]
  }
 ],
 "metadata": {
  "kernelspec": {
   "display_name": "Python 3 (ipykernel)",
   "language": "python",
   "name": "python3"
  },
  "language_info": {
   "codemirror_mode": {
    "name": "ipython",
    "version": 3
   },
   "file_extension": ".py",
   "mimetype": "text/x-python",
   "name": "python",
   "nbconvert_exporter": "python",
   "pygments_lexer": "ipython3",
   "version": "3.11.7"
  }
 },
 "nbformat": 4,
 "nbformat_minor": 5
}
