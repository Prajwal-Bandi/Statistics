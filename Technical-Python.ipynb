{
 "cells": [
  {
   "cell_type": "markdown",
   "id": "f675e78d-5cea-40a3-b40c-588cfc831cb4",
   "metadata": {},
   "source": [
    "1. Python is open source high level,interpreted,object programming language used for web development,software development machine learning application,and data analysis.\n",
    "2. Easy to learn and execute\n",
    "3. It contains many inbuilt library\n",
    "4. Easiers to learn,best for beginners,data science and rapid development\n",
    "5. Python is called interpreted language because it executes code line by line using intrepreter rather than compiling the entire code into machine language at once before execution.\n",
    "6. Java is called compiler language,code is first translated into machine language by a compiler creating executable file\n",
    "7. Variable : Name given to a memory location.\n",
    "8. Variable must start with letter or underscore character\n",
    "9. variable can not start with number\n",
    "10. Reserved words can not used as variable\n",
    "11. Numeric data type: int ,float,complex\n",
    "12. Sequence type : list,tuple,range\n",
    "13. Mapping type : dict\n",
    "14. Set type : set ,frozenset\n",
    "15. Boolean type\n",
    "16. Arithmatic operator +,-,/,*,\n",
    "17. Assignment operator =,>=,<=,!=\n",
    "18. comparision operator : ==,+=,-=\n",
    "19. Logical operator : and,or,not \n",
    "20. membership operator : in,not in\n",
    "21. Slicing : taking part of it \n",
    "22. String : anything written inside the quotation i.e string\n",
    "23. strings are immutable ordered with index value\n",
    "24. string function : lower,uppper,replace,count,split,strip,startwith,endwith\n",
    "25. List : Ordered collection of different data type\n",
    "26. Lists are mutable ,allows duplicates elements,slicing \n",
    "27. List function : append,insert,remove,pop,count,extend,reverse,sort\n",
    "28. tuple : grouping of similer data elements as same in list excepts tuple are immutable.\n",
    "29. Tuple: ordered,allows duplicates,slicing\n",
    "30. Sets : unordered  and unindexed collection different data type\n",
    "31. Sets : duplicates are not allowed,immutable but set itself can we mutable\n",
    "32. sets : Union(all elements from both sets),intersection (common element from both sets )\n",
    "33. Dict : Collection of key and value pairs separated by a colon enclosed in curly braces\n",
    "34. Dict : mutable,duplicated are not allowed(key must be unique)\n",
    "35. Dict function : update,pop,clear,popitem\n",
    "36. List comprehensive : concise way to create new list in single line\n",
    "37. Conditional statement : If executes when condition is true else no\n",
    "38. Looping statement : Fundamental aspect of programming language that provide a way to execute a block of code repeatedly.\n",
    "39. For loop : For loop iterates over a sequence of any character.it executes a block of code once for each element in the sequence\n",
    "40. While loop: repeatedly executes a block of statements as long as a specified condition evaluate to true.\n",
    "41. Break statement : It is used to break or exit the loop when condition gets true\n",
    "42. Continue statement : It is used to skip certain iterations of a loop based on a condition without exiting the loop entirely\n",
    "43. Pass statement : In python, the pass statement is typically used as a placeholder for future code or as a temporary placeholder in code development.\n",
    "44. Range(): The range function returns a sequence of numbers,starting from 0 by default and increments by 1 and ends at a specified number.\n",
    "45. Function : It is a block of code used to perform specific tasks.a function is block of code which only runs when it is called.\n",
    "46. Information can be passed into functions as arguments.\n",
    "47. Pass by Value : Changes to the parameter inside the function do not affect the original variable outside the the function.\n",
    "48. Pass by Reference : Changes to the parameter inside the function affect the original variable outside the function.\n",
    "49. Lambda function : lambda function is an anonymous function which written in single line for code.Lambda function can have any number of arguments but only one expression.\n",
    "50. Map : The map function applies a given function to each item of an iterable and returns a list of the results.\n",
    "51. Filter : Filters items in an iterable based on a condition(returns only items where the condition is True)\n",
    "52. Reduce : Applies a function cumulatively to the items of an iterable,reducing it to a single value.\n",
    "53. Array : The container which container only same data types\n",
    "54. Modules : it is a python file containing python definitions function and class\n",
    "55. Package: A package is a way of organizing related modules r bunch of module files\n",
    "56. OOP's: Object-Oriented-Programming is a programming paradigm that uses objects and classes in programming.Key word of OOPs are encapsulation,polymorphism,Inheritance,abstraction\n",
    "57. Class : Blueprint for creating object\n",
    "58. Object : Collection of data function r instance of class (in python everything is treated as object)\n",
    "59. Constructor : It is a special method used for initializing newly created objects.It is called automaticallly when you create a new instance of a class.\n",
    "60. Inheritance : It is a process of creating new class from existing class.\n",
    "61. Polymorphism : It means many forms,it allows the same interface or function to behave differently depending on the object or data it is applied too.\n",
    "62. Encapsulation : bundling of data and methods that operate on that data within a single unit (class)\n",
    "63. Abstraction :  representing essential features and hiding unnecessary details to simplify the complexity\n",
    "64. Method loading : Method overloading refers to defining multiple methods with the same name function but different arguments (number or type).\n",
    "65. Method Overriding : occurs when a child class defines a method that has the same name and parameters as a method in its parent class\n",
    "66. Pandas : Pandas is an open-source, high-performance Python library used for data manipulation, analysis, and visualization. It provides flexible and easy-to-use data structures, such as DataFrames and Series, which are particularly useful for working with structured data (e.g., tabular data, time-series data, etc.).\n",
    "67. Numpy :NumPy (Numerical Python) is a powerful open-source Python library used for numerical and scientific computing. It provides support for working with large, multidimensional arrays and matrices, along with a collection of mathematical functions to operate on these arrays.\n",
    "68. Matplotlib : Matplotlib is a popular, open-source Python library used for creating static, interactive, and animated visualizations. It provides a variety of tools for producing high-quality plots and graphs, making it a fundamental library in data visualization.\n",
    "69. Seaborn : Seaborn is a Python data visualization library built on top of Matplotlib. It provides a high-level interface for creating attractive and informative statistical graphics. Seaborn makes it easier to generate complex plots and handle large datasets compared to Matplotlib\n",
    "70. Serialization and Deserialization are processes used to convert data structures or objects into a format that can be easily stored or transmitted and then reconstructed later.\n",
    "71. Recursion : Recursion is a programming concept where a function calls itself directly or indirectly to solve a problem. It is typically used to solve problems that can be divided into smaller, similar subproblems.\n",
    "72. Decorators: Decorators is a design pattern that allows you to modify the behavior of a function or class method without changing actual code.commonly used for tasks such as logging,enforcing access control,measuring execution time caching and more.\n",
    "73. Generator : Generator is a type of iterable that generates values one at a time as they needed, rather than computing and storing them all at once.this makes generators memory-efficient and particularly useful for working with large datasets or infinite sequences.(using yield keyword)\n",
    "74. Positional Arguments: These arguments are mandatory and should be passed in the correct order as defined in the function.\n",
    "75. Default Arguments : These arguments have default values, which are used if no value is provided during the function call.\n",
    "76. Methods : A method is similar to a function but is associated with an object (class instance).\n",
    "77. Self : Reference to the current instances of class."
   ]
  },
  {
   "cell_type": "markdown",
   "id": "b1f0d5a6-e199-40ac-86f7-70fed73deb55",
   "metadata": {},
   "source": [
    "1. Class : A class is a blueprint for creating objects (a logical entity\n",
    "2. Object : An object is an instance of a class (a physical entity).\n",
    "3. Encapsulation :Hiding internal data from outside access and only exposing what is necessary.\n",
    "4. Inheritance : One class can inherit attributes and methods from another class.\n",
    "5. Polymorphism : One function or method behaves differently based on input or context.\n",
    "6. Abstraction : Hiding implementation details and showing only the necessary features."
   ]
  },
  {
   "cell_type": "code",
   "execution_count": null,
   "id": "7c41507e-6d08-4108-bc9a-0814ece56d01",
   "metadata": {},
   "outputs": [],
   "source": [
    "# 1. Class and Object\n",
    "class Person:\n",
    "    def __init__(self, name, age):  # Constructor\n",
    "        self.name = name\n",
    "        self.age = age\n",
    "\n",
    "    def greet(self):  # Method\n",
    "        print(f\"Hello, my name is {self.name} and I am {self.age} years old.\")\n",
    "\n",
    "# Creating an object\n",
    "person1 = Person(\"Alice\", 25)\n",
    "person1.greet()  # Output: Hello, my name is Alice and I am 25 years old."
   ]
  },
  {
   "cell_type": "code",
   "execution_count": null,
   "id": "14402f94-b7ad-4240-9bcc-b83d9ee60aaf",
   "metadata": {},
   "outputs": [],
   "source": [
    "# Encapsulation Example\n",
    "class BankAccount:\n",
    "    def __init__(self, balance):\n",
    "        self.__balance = balance  # Private variable\n",
    "\n",
    "    def deposit(self, amount):\n",
    "        self.__balance += amount\n",
    "\n",
    "    def get_balance(self):\n",
    "        return self.__balance\n",
    "\n",
    "account = BankAccount(1000)\n",
    "account.deposit(500)\n",
    "print(account.get_balance())  # Output: 1500\n",
    "# print(account.__balance)    # Error: private variable\n"
   ]
  },
  {
   "cell_type": "code",
   "execution_count": null,
   "id": "7cb75498-1b16-4532-8e53-a4cb1ee9e951",
   "metadata": {},
   "outputs": [],
   "source": [
    "# Inheritance Example\n",
    "class Animal:\n",
    "    def speak(self):\n",
    "        print(\"Animal speaks\")\n",
    "\n",
    "class Dog(Animal):  # Inheriting from Animal\n",
    "    def speak(self):\n",
    "        print(\"Dog barks\")\n",
    "\n",
    "dog = Dog()\n",
    "dog.speak()  # Output: Dog barks"
   ]
  },
  {
   "cell_type": "code",
   "execution_count": 3,
   "id": "77b9338c-c96b-4428-b8bd-63bf6b2cd790",
   "metadata": {},
   "outputs": [
    {
     "data": {
      "text/plain": [
       "'Prajwal'"
      ]
     },
     "execution_count": 3,
     "metadata": {},
     "output_type": "execute_result"
    }
   ],
   "source": [
    "#Polymorphism\n",
    "class Bird:\n",
    "    def fly(self):\n",
    "        print(\"Bird can fly\")\n",
    "\n",
    "class Penguin(Bird):\n",
    "    def fly(self):\n",
    "        print(\"Penguin cannot fly\")\n",
    "\n",
    "def flying_test(bird):\n",
    "    bird.fly()\n",
    "\n",
    "bird1 = Bird()\n",
    "bird2 = Penguin()\n",
    "\n",
    "flying_test(bird1)   # Output: Bird can fly\n",
    "flying_test(bird2)   # Output: Penguin cannot fly\n"
   ]
  },
  {
   "cell_type": "code",
   "execution_count": null,
   "id": "f81d6a93-ffea-4604-852a-457d730185c7",
   "metadata": {},
   "outputs": [],
   "source": [
    "# Abstraction \n",
    "from abc import ABC, abstractmethod\n",
    "\n",
    "class Shape(ABC):\n",
    "    @abstractmethod\n",
    "    def area(self):\n",
    "        pass\n",
    "\n",
    "class Rectangle(Shape):\n",
    "    def __init__(self, width, height):\n",
    "        self.width = width\n",
    "        self.height = height\n",
    "\n",
    "    def area(self):\n",
    "        return self.width * self.height\n",
    "\n",
    "rect = Rectangle(10, 5)\n",
    "print(rect.area())  # Output: 50"
   ]
  },
  {
   "cell_type": "code",
   "execution_count": 2,
   "id": "9dcce897-9c74-4778-88b2-2a78b6e01688",
   "metadata": {},
   "outputs": [],
   "source": [
    "'''What is Serialization?\n",
    "Serialization is the process of converting an in-memory object into a format that can be saved to disk, sent over a network, or used in a distributed system.\n",
    "Examples of serialized formats include JSON, XML, and binary data (like Python's pickle).\n",
    "\n",
    "pickle serialization : machine readable file\n",
    "Json Serialization : Human readable file \n",
    "'''\n",
    "import pickle\n",
    "data = {\"name\": \"Prajwal\", \"skills\": [\"Python\", \"Machine Learning\"]}\n",
    "with open(\"data.pkl\", \"wb\") as file:  # Save object to file\n",
    "    pickle.dump(data, file)\n",
    "\n",
    "import json\n",
    "data = {\"name\": \"Prajwal\", \"skills\": [\"Python\", \"Machine Learning\"]}\n",
    "with open(\"data.json\", \"w\") as file:  # Save as JSON file\n",
    "    json.dump(data, file)"
   ]
  },
  {
   "cell_type": "code",
   "execution_count": 5,
   "id": "2633f3c9-d480-4975-b88e-2be72faec70d",
   "metadata": {},
   "outputs": [
    {
     "name": "stdout",
     "output_type": "stream",
     "text": [
      "{'name': 'Prajwal', 'skills': ['Python', 'Machine Learning']}\n",
      "{'name': 'Prajwal', 'skills': ['Python', 'Machine Learning']}\n"
     ]
    }
   ],
   "source": [
    "'''what is Deserialization?\n",
    "Deserialization is the reverse of serialization: reconstructing the object from the serialized format into a usable in-memory object.'''\n",
    "\n",
    "import pickle\n",
    "with open(\"data.pkl\", \"rb\") as file:  # Load object from file\n",
    "    loaded_data = pickle.load(file)\n",
    "print(loaded_data)  # {'name': 'Prajwal', 'skills': ['Python', 'Machine Learning']}\n",
    "\n",
    "with open(\"data.json\", \"r\") as file:  # Load from JSON file\n",
    "    loaded_data = json.load(file)\n",
    "\n",
    "print(loaded_data)  # {'name': 'Prajwal', 'skills': ['Python', 'Machine Learning']}"
   ]
  },
  {
   "cell_type": "code",
   "execution_count": null,
   "id": "e99d2a99-c91f-4623-8c06-71325a8e84a8",
   "metadata": {},
   "outputs": [],
   "source": [
    "from sklearn.ensemble import RandomForestClassifier\n",
    "# Example model\n",
    "model = RandomForestClassifier()\n",
    "model.fit(X_train, y_train)\n",
    "\n",
    "# Save the model\n",
    "with open(\"model.pkl\", \"wb\") as file:\n",
    "    pickle.dump(model, file)\n",
    "\n",
    "# Load the model\n",
    "with open(\"model.pkl\", \"rb\") as file:\n",
    "    loaded_model = pickle.load(file)\n",
    "\n",
    "# Predict with the loaded model\n",
    "predictions = loaded_model.predict(X_test)"
   ]
  },
  {
   "cell_type": "code",
   "execution_count": 2,
   "id": "0a9a8dc3-c2c5-4cf3-b2ed-2e547607bd15",
   "metadata": {},
   "outputs": [
    {
     "name": "stdout",
     "output_type": "stream",
     "text": [
      "Hello, my name is Prajwal and I am 23 years old.\n",
      "Hello, my name is 23 and I am Prajwal years old.\n"
     ]
    }
   ],
   "source": [
    "# Positional Arguments: These arguments are mandatory and should be passed in the correct order as defined in the function.\n",
    "def greet(name, age):\n",
    "    print(f\"Hello, my name is {name} and I am {age} years old.\")\n",
    "\n",
    "greet(\"Prajwal\", 23)  # Correct order\n",
    "# Output: Hello, my name is Prajwal and I am 23 years old.\n",
    "\n",
    "greet(23, \"Prajwal\")  # Incorrect order\n",
    "# Output: Hello, my name is 23 and I am Prajwal years old. (Wrong!)"
   ]
  },
  {
   "cell_type": "code",
   "execution_count": 1,
   "id": "964e18a4-73cd-478b-9df8-0f3707bdf522",
   "metadata": {},
   "outputs": [
    {
     "name": "stdout",
     "output_type": "stream",
     "text": [
      "Hello, my name is Prajwal and I am 25 years old.\n",
      "Hello, my name is Prajwal and I am 23 years old.\n"
     ]
    }
   ],
   "source": [
    "#Default Arguments : These arguments have default values, which are used if no value is provided during the function call.\n",
    "def greet(name, age=25):  # Default age is 25\n",
    "    print(f\"Hello, my name is {name} and I am {age} years old.\")\n",
    "\n",
    "greet(\"Prajwal\")  # Uses default age\n",
    "# Output: Hello, my name is Prajwal and I am 25 years old.\n",
    "\n",
    "greet(\"Prajwal\", 23)  # Overrides default value\n",
    "# Output: Hello, my name is Prajwal and I am 23 years old."
   ]
  },
  {
   "cell_type": "code",
   "execution_count": 15,
   "id": "917da92e-7de1-42f1-9c84-c194ae57ca3b",
   "metadata": {},
   "outputs": [
    {
     "name": "stdout",
     "output_type": "stream",
     "text": [
      "5\n",
      "15\n",
      "30\n",
      "5\n",
      "15\n",
      "30\n",
      "50\n"
     ]
    }
   ],
   "source": [
    " # Method overloading : Method overloading refers to defining multiple methods with the same function name  but different arguments (number or type).\n",
    "class Calculator:\n",
    "    def add(self, a, b=0, c=0):\n",
    "        return a + b + c\n",
    "\n",
    "calc = Calculator()\n",
    "print(calc.add(5))          # Output: 5\n",
    "print(calc.add(5, 10))      # Output: 15\n",
    "print(calc.add(5, 10, 15))  # Output: 30\n",
    "\n",
    "\n",
    "class Calculator:\n",
    "    def add(self, *args):\n",
    "        return sum(args)\n",
    "\n",
    "calc = Calculator()\n",
    "print(calc.add(5))           # Output: 5\n",
    "print(calc.add(5, 10))       # Output: 15\n",
    "print(calc.add(5, 10, 15))   # Output: 30\n",
    "print(calc.add(5, 10, 15, 20))  # Output: 50"
   ]
  },
  {
   "cell_type": "code",
   "execution_count": 16,
   "id": "fab5b710-0b02-493d-9da5-3fba2d8a6ddd",
   "metadata": {},
   "outputs": [
    {
     "name": "stdout",
     "output_type": "stream",
     "text": [
      "Bark\n",
      "Meow\n"
     ]
    }
   ],
   "source": [
    "# Method Overriding : occurs when a child class defines a method that has the same name and parameters as a method in its parent class\n",
    "# Parent class\n",
    "class Animal:\n",
    "    def speak(self):\n",
    "        return \"Some sound\"\n",
    "\n",
    "# Child class overriding the speak method\n",
    "class Dog(Animal):\n",
    "    def speak(self):  # Overriding the parent class method\n",
    "        return \"Bark\"\n",
    "\n",
    "# Another child class overriding the speak method\n",
    "class Cat(Animal):\n",
    "    def speak(self):\n",
    "        return \"Meow\"\n",
    "\n",
    "# Creating objects\n",
    "dog = Dog()\n",
    "cat = Cat()\n",
    "\n",
    "# Calling the overridden methods\n",
    "print(dog.speak())  # Output: Bark\n",
    "print(cat.speak())  # Output: Meow"
   ]
  },
  {
   "cell_type": "code",
   "execution_count": 1,
   "id": "64be2191-7c35-4ad6-b917-c6dff712ce21",
   "metadata": {},
   "outputs": [
    {
     "name": "stdout",
     "output_type": "stream",
     "text": [
      "Inside function: 10\n",
      "Outside function: 5\n"
     ]
    }
   ],
   "source": [
    "# Pass by Value : changes to the parameter inside the function do not affect the original variable outside the function.\n",
    "\n",
    "def modify_value(x):\n",
    "    x = 10  # This creates a new local variable\n",
    "    print(\"Inside function:\", x)\n",
    "\n",
    "num = 5\n",
    "modify_value(num)\n",
    "print(\"Outside function:\", num)  # Original value remains unchanged\n"
   ]
  },
  {
   "cell_type": "code",
   "execution_count": 1,
   "id": "998d5cc1-2358-469e-8392-6c868d0016d8",
   "metadata": {},
   "outputs": [
    {
     "name": "stdout",
     "output_type": "stream",
     "text": [
      "Inside function: [1, 2, 3, 4]\n",
      "Outside function: [1, 2, 3, 4]\n"
     ]
    }
   ],
   "source": [
    "# Pass by Reference : changes to the parameter inside the function does affect the original variable inside the function\n",
    "def modify_list(lst):\n",
    "    lst.append(4)  # Modifying the existing list\n",
    "    print(\"Inside function:\", lst)\n",
    "\n",
    "numbers = [1, 2, 3]\n",
    "modify_list(numbers)\n",
    "print(\"Outside function:\", numbers)  # Original list is modified"
   ]
  },
  {
   "cell_type": "code",
   "execution_count": 2,
   "id": "4835b51b-9a9c-41e9-8616-936ab0173ac3",
   "metadata": {},
   "outputs": [
    {
     "name": "stdout",
     "output_type": "stream",
     "text": [
      "25\n"
     ]
    }
   ],
   "source": [
    "# Lambda function : it is an anonymous function which is function without name written in single line code \n",
    "square = lambda x: x ** 2\n",
    "print(square(5))  # Output: 25"
   ]
  },
  {
   "cell_type": "code",
   "execution_count": 3,
   "id": "fe6e0b81-ffdb-47f2-b252-e6b3589785c8",
   "metadata": {},
   "outputs": [
    {
     "data": {
      "text/plain": [
       "[1, 4, 16]"
      ]
     },
     "execution_count": 3,
     "metadata": {},
     "output_type": "execute_result"
    }
   ],
   "source": [
    "# Map : applies given function to each element of iterable \n",
    "lst=[1,2,4]\n",
    "std=list(map(lambda x:x**2,lst))\n",
    "std"
   ]
  },
  {
   "cell_type": "code",
   "execution_count": 11,
   "id": "8f18d6c3-22f5-4198-894e-33960b9e41fc",
   "metadata": {},
   "outputs": [
    {
     "data": {
      "text/plain": [
       "(['Even', 'Even', 'Odd', 'Even', 'Odd', 'Even', 'Even', 'Odd', 'Odd'],\n",
       " [2, 4, 6, 8, 76])"
      ]
     },
     "execution_count": 11,
     "metadata": {},
     "output_type": "execute_result"
    }
   ],
   "source": [
    "# Filter : Filters in an iterable items based on condition (returns only where the condition is true)\n",
    "lst=[2,4,5,6,7,8,76,55,3]\n",
    "std1=['Even' if x%2==0 else \"Odd\" for x in lst]\n",
    "std=list(filter(lambda x:x%2==0,lst))\n",
    "std1,std\n",
    "         "
   ]
  },
  {
   "cell_type": "code",
   "execution_count": 13,
   "id": "473a2750-ae96-4af9-9e9f-210369c4748e",
   "metadata": {},
   "outputs": [
    {
     "name": "stdout",
     "output_type": "stream",
     "text": [
      "15\n"
     ]
    }
   ],
   "source": [
    "# Reduce: applies function cumulatively to the items of an iterable reducing it to a single value\n",
    "from functools import reduce\n",
    "numbers=[1,2,3,4,5]\n",
    "result=reduce(lambda x,y:x+y,numbers)\n",
    "print(result)"
   ]
  },
  {
   "cell_type": "code",
   "execution_count": null,
   "id": "9465c724-2e58-4c48-b566-ed5b5b4676fe",
   "metadata": {},
   "outputs": [],
   "source": [
    "# File's Handling: File handling in python allows us to read,write,and manipulate files stored on the system.\n",
    "# 'r' : read mode (default) opens file for reading\n",
    "# 'w' : write mode .overwrites file if it exists otherwise creates a new one\n",
    "# \"a\" : append mode. Adds data at the end of the file\n",
    "# 'x' : create mode.Creates a new file but gives an error if the file already exists.\n",
    "# 'b' : Binary mode (e.g. 'rb' for reading a binary file)\n",
    "# 't' : Text mod (default ,used for text file)"
   ]
  },
  {
   "cell_type": "code",
   "execution_count": 18,
   "id": "fc8890b8-79d1-4e2f-a14f-6398abf53f28",
   "metadata": {},
   "outputs": [
    {
     "ename": "FileNotFoundError",
     "evalue": "[Errno 2] No such file or directory: 'example.txt'",
     "output_type": "error",
     "traceback": [
      "\u001b[1;31m---------------------------------------------------------------------------\u001b[0m",
      "\u001b[1;31mFileNotFoundError\u001b[0m                         Traceback (most recent call last)",
      "Cell \u001b[1;32mIn[18], line 2\u001b[0m\n\u001b[0;32m      1\u001b[0m \u001b[38;5;66;03m# opening a file\u001b[39;00m\n\u001b[1;32m----> 2\u001b[0m file\u001b[38;5;241m=\u001b[39m\u001b[38;5;28;43mopen\u001b[39;49m\u001b[43m(\u001b[49m\u001b[38;5;124;43m'\u001b[39;49m\u001b[38;5;124;43mexample.txt\u001b[39;49m\u001b[38;5;124;43m'\u001b[39;49m\u001b[43m,\u001b[49m\u001b[38;5;124;43m'\u001b[39;49m\u001b[38;5;124;43mr\u001b[39;49m\u001b[38;5;124;43m'\u001b[39;49m\u001b[43m)\u001b[49m\n\u001b[0;32m      4\u001b[0m \u001b[38;5;66;03m# writing to a file\u001b[39;00m\n\u001b[0;32m      5\u001b[0m file\u001b[38;5;241m=\u001b[39m\u001b[38;5;28mopen\u001b[39m(\u001b[38;5;124m'\u001b[39m\u001b[38;5;124mexample.txt\u001b[39m\u001b[38;5;124m'\u001b[39m,\u001b[38;5;124m'\u001b[39m\u001b[38;5;124mw\u001b[39m\u001b[38;5;124m'\u001b[39m)\n",
      "File \u001b[1;32m~\\AppData\\Roaming\\Python\\Python311\\site-packages\\IPython\\core\\interactiveshell.py:284\u001b[0m, in \u001b[0;36m_modified_open\u001b[1;34m(file, *args, **kwargs)\u001b[0m\n\u001b[0;32m    277\u001b[0m \u001b[38;5;28;01mif\u001b[39;00m file \u001b[38;5;129;01min\u001b[39;00m {\u001b[38;5;241m0\u001b[39m, \u001b[38;5;241m1\u001b[39m, \u001b[38;5;241m2\u001b[39m}:\n\u001b[0;32m    278\u001b[0m     \u001b[38;5;28;01mraise\u001b[39;00m \u001b[38;5;167;01mValueError\u001b[39;00m(\n\u001b[0;32m    279\u001b[0m         \u001b[38;5;124mf\u001b[39m\u001b[38;5;124m\"\u001b[39m\u001b[38;5;124mIPython won\u001b[39m\u001b[38;5;124m'\u001b[39m\u001b[38;5;124mt let you open fd=\u001b[39m\u001b[38;5;132;01m{\u001b[39;00mfile\u001b[38;5;132;01m}\u001b[39;00m\u001b[38;5;124m by default \u001b[39m\u001b[38;5;124m\"\u001b[39m\n\u001b[0;32m    280\u001b[0m         \u001b[38;5;124m\"\u001b[39m\u001b[38;5;124mas it is likely to crash IPython. If you know what you are doing, \u001b[39m\u001b[38;5;124m\"\u001b[39m\n\u001b[0;32m    281\u001b[0m         \u001b[38;5;124m\"\u001b[39m\u001b[38;5;124myou can use builtins\u001b[39m\u001b[38;5;124m'\u001b[39m\u001b[38;5;124m open.\u001b[39m\u001b[38;5;124m\"\u001b[39m\n\u001b[0;32m    282\u001b[0m     )\n\u001b[1;32m--> 284\u001b[0m \u001b[38;5;28;01mreturn\u001b[39;00m \u001b[43mio_open\u001b[49m\u001b[43m(\u001b[49m\u001b[43mfile\u001b[49m\u001b[43m,\u001b[49m\u001b[43m \u001b[49m\u001b[38;5;241;43m*\u001b[39;49m\u001b[43margs\u001b[49m\u001b[43m,\u001b[49m\u001b[43m \u001b[49m\u001b[38;5;241;43m*\u001b[39;49m\u001b[38;5;241;43m*\u001b[39;49m\u001b[43mkwargs\u001b[49m\u001b[43m)\u001b[49m\n",
      "\u001b[1;31mFileNotFoundError\u001b[0m: [Errno 2] No such file or directory: 'example.txt'"
     ]
    }
   ],
   "source": [
    "# opening a file\n",
    "file=open('example.txt','r')\n",
    "\n",
    "# writing to a file\n",
    "file=open('example.txt','w')\n",
    "file.write('Hello world!')\n",
    "file.close()\n",
    "\n",
    "with open('example,txt','w')as file:\n",
    "    file.write('Hello world')\n",
    "\n",
    "# reading file\n",
    "with open(\"example.txt\", \"r\") as file:\n",
    "    content = file.read()\n",
    "    print(content)\n",
    "\n",
    "# appending file \n",
    "with open(\"example.txt\", \"a\") as file:\n",
    "    file.write(\"\\nThis is a new line!\")\n",
    "\n",
    "# deleting file\n",
    "import os\n",
    "\n",
    "if os.path.exists(\"example.txt\"):\n",
    "    os.remove(\"example.txt\")\n",
    "    print(\"File deleted!\")\n",
    "else:\n",
    "    print(\"File does not exist.\")\n",
    "\n",
    "# binary files\n",
    "# Writing to a binary file\n",
    "with open(\"image.jpg\", \"rb\") as file:\n",
    "    data = file.read()\n",
    "\n",
    "# Writing the binary data to another file\n",
    "with open(\"copy.jpg\", \"wb\") as file:\n",
    "    file.write(data)"
   ]
  },
  {
   "cell_type": "code",
   "execution_count": 7,
   "id": "b0eede72-3195-439e-9c24-7900c25469dd",
   "metadata": {},
   "outputs": [
    {
     "name": "stdin",
     "output_type": "stream",
     "text": [
      "Enter a number : 9\n"
     ]
    },
    {
     "name": "stdout",
     "output_type": "stream",
     "text": [
      "Result 1.1111111111111112\n",
      "Program running successfully\n"
     ]
    }
   ],
   "source": [
    "# Exception handling is a mechanism used in programming to manage and respond to runtime errors,\n",
    "# ensuring the application doesn't crash and provides meaningful error messages or alternative actions.\n",
    "try:\n",
    "    num=int(input('Enter a number :'))\n",
    "    result=10/num\n",
    "except Exception as e:\n",
    "    print('Error: Cannot divide by zero')\n",
    "except ValueError:\n",
    "    print('Error: Invalid input ! Please enter a number')\n",
    "else:\n",
    "    print('Result',result)\n",
    "finally:\n",
    "    print('Program running successfully')"
   ]
  },
  {
   "cell_type": "markdown",
   "id": "18960123-3a67-403c-8d29-4f41101b32a0",
   "metadata": {},
   "source": [
    "1.Positive r Negative number"
   ]
  },
  {
   "cell_type": "code",
   "execution_count": 6,
   "id": "71c6227a-acc0-4207-aae9-b25b72add856",
   "metadata": {},
   "outputs": [
    {
     "name": "stdin",
     "output_type": "stream",
     "text": [
      "Enter number : 2\n"
     ]
    },
    {
     "name": "stdout",
     "output_type": "stream",
     "text": [
      "Number is positive\n"
     ]
    }
   ],
   "source": [
    "num=int(input('Enter number :'))\n",
    "if num>0:\n",
    "    print('Number is positive')\n",
    "else:\n",
    "    print('Number is negative')"
   ]
  },
  {
   "cell_type": "markdown",
   "id": "00150940-867a-416e-a195-a4fb9411b237",
   "metadata": {},
   "source": [
    "2.Even r Odd number"
   ]
  },
  {
   "cell_type": "code",
   "execution_count": 7,
   "id": "d28f9031-62ba-4a44-adbe-c207415eab87",
   "metadata": {},
   "outputs": [
    {
     "name": "stdin",
     "output_type": "stream",
     "text": [
      "Enter the number : 3\n"
     ]
    },
    {
     "name": "stdout",
     "output_type": "stream",
     "text": [
      "Number is Odd\n"
     ]
    }
   ],
   "source": [
    "num=int(input('Enter the number :'))\n",
    "if num%2==0:\n",
    "    print('Number is Even')\n",
    "else:\n",
    "    print('Number is Odd')"
   ]
  },
  {
   "cell_type": "code",
   "execution_count": null,
   "id": "16ce31be-d875-49af-8d76-3cd3a27b26ab",
   "metadata": {},
   "outputs": [],
   "source": []
  },
  {
   "cell_type": "markdown",
   "id": "aa2cdeba-801c-4a47-b6d2-5129079b656f",
   "metadata": {},
   "source": [
    "3.Greatest of 2 number"
   ]
  },
  {
   "cell_type": "code",
   "execution_count": 8,
   "id": "c7cea7d2-0435-4953-bfcb-78b362ca6e54",
   "metadata": {},
   "outputs": [
    {
     "name": "stdin",
     "output_type": "stream",
     "text": [
      "Enter 1st number : 3\n",
      "Enter 2nd number :  5\n"
     ]
    },
    {
     "name": "stdout",
     "output_type": "stream",
     "text": [
      "5 is greater\n"
     ]
    }
   ],
   "source": [
    "num1=int(input('Enter 1st number :'))\n",
    "num2=int(input('Enter 2nd number : '))\n",
    "if num2>num1:\n",
    "    print(f'{num2} is greater')\n",
    "else:\n",
    "    print(f'{num1} is greater')"
   ]
  },
  {
   "cell_type": "code",
   "execution_count": null,
   "id": "7dcd8aa6-bea2-4564-8230-1d7ccd195e50",
   "metadata": {},
   "outputs": [],
   "source": []
  },
  {
   "cell_type": "markdown",
   "id": "f4c880b5-d1bd-4b33-a551-9e79c3222fea",
   "metadata": {},
   "source": [
    "4.Greatest of 3 number"
   ]
  },
  {
   "cell_type": "code",
   "execution_count": 9,
   "id": "83a5cd53-1de3-4d49-bc39-3f2891cd493a",
   "metadata": {},
   "outputs": [
    {
     "name": "stdin",
     "output_type": "stream",
     "text": [
      "Enter 1st number:  39\n",
      "Enter 2nd number:  49\n",
      "Enter 3rd number:  3\n"
     ]
    },
    {
     "name": "stdout",
     "output_type": "stream",
     "text": [
      "49 is Greater\n"
     ]
    }
   ],
   "source": [
    "def greatest(num1, num2, num3):\n",
    "    if num1 >= num2 and num1 >= num3:\n",
    "        return f'{num1} is Greater'\n",
    "    elif num2 >= num1 and num2 >= num3:\n",
    "        return f'{num2} is Greater'\n",
    "    else:\n",
    "        return f'{num3} is Greater'\n",
    "\n",
    "# Taking user input\n",
    "num1 = int(input('Enter 1st number: '))\n",
    "num2 = int(input('Enter 2nd number: '))\n",
    "num3 = int(input('Enter 3rd number: '))\n",
    "\n",
    "# Printing the greatest number\n",
    "print(greatest(num1, num2, num3))"
   ]
  },
  {
   "cell_type": "code",
   "execution_count": null,
   "id": "fc3df309-b01a-4fbf-87cc-a7363a996a7e",
   "metadata": {},
   "outputs": [],
   "source": []
  },
  {
   "cell_type": "markdown",
   "id": "bb13a6a2-2c36-4d0a-ac35-52ca2cee3800",
   "metadata": {},
   "source": [
    "5. Sum of N natural number "
   ]
  },
  {
   "cell_type": "code",
   "execution_count": 10,
   "id": "fcf6cd35-0da0-40ce-a4e1-1fce6fdf6e12",
   "metadata": {},
   "outputs": [
    {
     "name": "stdin",
     "output_type": "stream",
     "text": [
      "Enter the number : 34\n"
     ]
    },
    {
     "name": "stdout",
     "output_type": "stream",
     "text": [
      "the sum of first 34 natural number is 595\n"
     ]
    }
   ],
   "source": [
    "num=int(input('Enter the number :'))\n",
    "sum=0\n",
    "i=0\n",
    "\n",
    "while(i<=num):\n",
    "    sum+=i\n",
    "    i+=1\n",
    "print(f'the sum of first {num} natural number is {sum}')"
   ]
  },
  {
   "cell_type": "code",
   "execution_count": 11,
   "id": "5369e901-bc9d-4edd-8c4e-63d5205eac8b",
   "metadata": {},
   "outputs": [
    {
     "name": "stdout",
     "output_type": "stream",
     "text": [
      "15\n"
     ]
    }
   ],
   "source": [
    "num=5\n",
    "sum=0\n",
    "for i in range(num+1):\n",
    "    sum+=i\n",
    "print(sum)"
   ]
  },
  {
   "cell_type": "code",
   "execution_count": 1,
   "id": "4f6dffec-c7d3-4387-bb7c-465d6897d74c",
   "metadata": {},
   "outputs": [
    {
     "name": "stdin",
     "output_type": "stream",
     "text": [
      "Enter the number:  4\n"
     ]
    },
    {
     "data": {
      "text/plain": [
       "10"
      ]
     },
     "execution_count": 1,
     "metadata": {},
     "output_type": "execute_result"
    }
   ],
   "source": [
    "def recursive_sum(num):\n",
    "    if num == 0:\n",
    "        return 0\n",
    "    else:\n",
    "        return num + recursive_sum(num - 1)\n",
    "\n",
    "num = int(input('Enter the number: '))\n",
    "recursive_sum(num)"
   ]
  },
  {
   "cell_type": "code",
   "execution_count": null,
   "id": "a2bfea44-280a-4ac3-9d58-5c88b4f064bb",
   "metadata": {},
   "outputs": [],
   "source": []
  },
  {
   "cell_type": "markdown",
   "id": "47f940f9-3a79-472d-98a7-058f91e21843",
   "metadata": {},
   "source": [
    "6. Sum of N natural number in given range"
   ]
  },
  {
   "cell_type": "code",
   "execution_count": 13,
   "id": "58b03399-5c6f-4837-9a9c-85899774a2ce",
   "metadata": {},
   "outputs": [
    {
     "name": "stdout",
     "output_type": "stream",
     "text": [
      "18\n"
     ]
    }
   ],
   "source": [
    "num1,num2=3,6\n",
    "sum=0\n",
    "for i in range(num1,num2+1):\n",
    "    sum+=i\n",
    "print(sum)"
   ]
  },
  {
   "cell_type": "code",
   "execution_count": null,
   "id": "8f8a524f-040f-416c-9f12-041176ff6d8d",
   "metadata": {},
   "outputs": [],
   "source": []
  },
  {
   "cell_type": "markdown",
   "id": "6ff7b3ac-edc7-4919-af8f-3fff26ebc679",
   "metadata": {},
   "source": [
    "7. Leap Year"
   ]
  },
  {
   "cell_type": "code",
   "execution_count": 14,
   "id": "fc8bca18-eca4-4ce0-8337-40b52317bcf2",
   "metadata": {},
   "outputs": [
    {
     "name": "stdin",
     "output_type": "stream",
     "text": [
      "Enter the year: 3928\n"
     ]
    },
    {
     "name": "stdout",
     "output_type": "stream",
     "text": [
      "3928 is Leap year\n"
     ]
    }
   ],
   "source": [
    "year=int(input('Enter the year:'))\n",
    "if (year%400==0 and year%100!=0) or year%4==0:\n",
    "    print(f'{year} is Leap year')\n",
    "else:\n",
    "    print(f'{year} is not leap year')"
   ]
  },
  {
   "cell_type": "code",
   "execution_count": 15,
   "id": "69de2564-f92f-46d0-a110-ae98a567ddd4",
   "metadata": {},
   "outputs": [
    {
     "name": "stdin",
     "output_type": "stream",
     "text": [
      "Enter the year:  2024\n"
     ]
    },
    {
     "name": "stdout",
     "output_type": "stream",
     "text": [
      "2024 is a Leap year\n"
     ]
    }
   ],
   "source": [
    "def leap(year):\n",
    "    if (year % 4 == 0 and year % 100 != 0) or (year % 400 == 0):\n",
    "        return f\"{year} is a Leap year\"\n",
    "    else:\n",
    "        return f\"{year} is not a leap year\"\n",
    "    \n",
    "year = int(input(\"Enter the year: \"))\n",
    "print(leap(year))"
   ]
  },
  {
   "cell_type": "code",
   "execution_count": 16,
   "id": "6d9fc585-6a9e-4f70-8b9e-019d80a00279",
   "metadata": {},
   "outputs": [
    {
     "name": "stdin",
     "output_type": "stream",
     "text": [
      "Enter year : 2028\n"
     ]
    },
    {
     "name": "stdout",
     "output_type": "stream",
     "text": [
      "2028 is leap year\n"
     ]
    }
   ],
   "source": [
    "import calendar\n",
    "year=int(input('Enter year :'))\n",
    "if calendar.isleap(year):\n",
    "    print(year,'is leap year')\n",
    "else:\n",
    "    print(year,'is not leap year')"
   ]
  },
  {
   "cell_type": "code",
   "execution_count": null,
   "id": "3b9f441c-9e19-4353-911a-caf5b3bbf811",
   "metadata": {},
   "outputs": [],
   "source": []
  },
  {
   "cell_type": "markdown",
   "id": "6b1a67e9-4991-479a-86d1-ffd2fff39baf",
   "metadata": {},
   "source": [
    "7.Prime Number"
   ]
  },
  {
   "cell_type": "code",
   "execution_count": 18,
   "id": "2360005e-399f-43ac-9cde-82906b315ce9",
   "metadata": {},
   "outputs": [
    {
     "name": "stdout",
     "output_type": "stream",
     "text": [
      "Prime numbers between 1 and 100: [2, 3, 5, 7, 11, 13, 17, 19, 23, 29, 31, 37, 41, 43, 47, 53, 59, 61, 67, 71, 73, 79, 83, 89, 97]\n"
     ]
    }
   ],
   "source": [
    "# Prime number in range\n",
    "def is_prime(num):\n",
    "    if num < 2:\n",
    "        return False\n",
    "    for i in range(2, int(num ** 0.5) + 1):\n",
    "        if num % i == 0:\n",
    "            return False\n",
    "    return True\n",
    "# Generate prime numbers in the range 1 to 100\n",
    "prime_numbers = [n for n in range(1, 101) if is_prime(n)]\n",
    "print(\"Prime numbers between 1 and 100:\", prime_numbers)"
   ]
  },
  {
   "cell_type": "code",
   "execution_count": 1,
   "id": "b61d17da-ebf0-4b89-a6f7-83221caf247e",
   "metadata": {},
   "outputs": [
    {
     "name": "stdout",
     "output_type": "stream",
     "text": [
      "Prime\n"
     ]
    }
   ],
   "source": [
    "num = 5\n",
    "if num <= 1:  # Prime numbers are greater than 1\n",
    "    print('Not Prime')\n",
    "else:\n",
    "    for i in range(2, int(num ** 0.5) + 1):  # Check divisors from 2 to √num\n",
    "        if num % i == 0:\n",
    "            print('Not Prime')\n",
    "            break\n",
    "    else:\n",
    "        print('Prime')"
   ]
  },
  {
   "cell_type": "code",
   "execution_count": 5,
   "id": "49045cfa-0801-4acc-b594-51f97f056fa4",
   "metadata": {},
   "outputs": [
    {
     "name": "stdin",
     "output_type": "stream",
     "text": [
      "Enter a number:  3\n"
     ]
    },
    {
     "name": "stdout",
     "output_type": "stream",
     "text": [
      "Prime number\n",
      "Not a prime\n"
     ]
    }
   ],
   "source": [
    "def prime(num):\n",
    "    if num <= 1:\n",
    "        print('Not a prime number')  # Numbers <= 1 are not prime\n",
    "    for i in range(2, int(num**0.5) + 1):\n",
    "        if num % i == 0:\n",
    "            print('Not a prime number')  # If divisible, it's not a prime number\n",
    "            break\n",
    "    else:\n",
    "        print('Prime number')  # If loop completes, the number is prime\n",
    "\n",
    "num = int(input(\"Enter a number: \"))\n",
    "prime(num)"
   ]
  },
  {
   "cell_type": "code",
   "execution_count": null,
   "id": "83d8ddfb-7e29-41be-8603-776d6fc5ab98",
   "metadata": {},
   "outputs": [],
   "source": []
  },
  {
   "cell_type": "markdown",
   "id": "aca37379-2db9-4b32-89b3-dfd06c6028c7",
   "metadata": {},
   "source": [
    "8.Sum of Digit number"
   ]
  },
  {
   "cell_type": "code",
   "execution_count": 21,
   "id": "1f5796ca-0c26-4bcf-b6b4-af332a528755",
   "metadata": {},
   "outputs": [
    {
     "name": "stdin",
     "output_type": "stream",
     "text": [
      "Enter the number:  37\n"
     ]
    },
    {
     "name": "stdout",
     "output_type": "stream",
     "text": [
      "Sum of digits: 10\n"
     ]
    }
   ],
   "source": [
    "num = input('Enter the number: ')\n",
    "sum = 0\n",
    "for i in num:\n",
    "    sum += int(i)\n",
    "print(\"Sum of digits:\", sum)"
   ]
  },
  {
   "cell_type": "code",
   "execution_count": 22,
   "id": "94be3434-79dd-4e27-b533-f68d10d1b97f",
   "metadata": {},
   "outputs": [
    {
     "name": "stdout",
     "output_type": "stream",
     "text": [
      "9\n"
     ]
    }
   ],
   "source": [
    "def digit_sum(n):\n",
    "    sum=0\n",
    "    if n<0:\n",
    "        return 0\n",
    "    else:\n",
    "        for i in str(n):\n",
    "            sum+=int(i)\n",
    "        print(sum)\n",
    "num=234\n",
    "digit_sum(num)"
   ]
  },
  {
   "cell_type": "code",
   "execution_count": null,
   "id": "4b55b2ba-3a52-479e-9b7d-a7cbb47c4268",
   "metadata": {},
   "outputs": [],
   "source": []
  },
  {
   "cell_type": "markdown",
   "id": "d3016b40-e8a2-4722-8a7d-7fba57858707",
   "metadata": {},
   "source": [
    "9.Factorial of Number"
   ]
  },
  {
   "cell_type": "code",
   "execution_count": 24,
   "id": "a22ff223-f092-451f-b455-ca064f59b03a",
   "metadata": {},
   "outputs": [
    {
     "name": "stdin",
     "output_type": "stream",
     "text": [
      "Enter the number :  3\n"
     ]
    },
    {
     "data": {
      "text/plain": [
       "6"
      ]
     },
     "execution_count": 24,
     "metadata": {},
     "output_type": "execute_result"
    }
   ],
   "source": [
    "def factorial(num):\n",
    "    if num<=1:\n",
    "        return 1 \n",
    "    else:\n",
    "        return num * factorial(num-1)\n",
    "num=int(input('Enter the number : '))\n",
    "factorial(num)"
   ]
  },
  {
   "cell_type": "code",
   "execution_count": 25,
   "id": "18331b21-8e35-4b08-81d4-8cd82f906280",
   "metadata": {},
   "outputs": [
    {
     "name": "stdout",
     "output_type": "stream",
     "text": [
      "Factorial of 6 is 720\n"
     ]
    }
   ],
   "source": [
    "# Iterative\n",
    "num = 6\n",
    "fact = 1\n",
    "if num < 0:\n",
    "    print('Factorial is not defined for negative numbers')\n",
    "else:\n",
    "    for i in range(1, num + 1):\n",
    "        fact = fact *i\n",
    "print(\"Factorial of\", num, \"is\", fact)"
   ]
  },
  {
   "cell_type": "code",
   "execution_count": 27,
   "id": "f8e7e221-4e84-4c43-93b9-e550e7357729",
   "metadata": {},
   "outputs": [
    {
     "name": "stdin",
     "output_type": "stream",
     "text": [
      "Enter the number 10\n"
     ]
    },
    {
     "data": {
      "text/plain": [
       "3628800"
      ]
     },
     "execution_count": 27,
     "metadata": {},
     "output_type": "execute_result"
    }
   ],
   "source": [
    "def factorial_iterative(n):\n",
    "    result=1\n",
    "    for i in range(1,n+1):\n",
    "        result*=i\n",
    "    return result\n",
    "\n",
    "num=int(input('Enter the number'))\n",
    "factorial_iterative(num)"
   ]
  },
  {
   "cell_type": "code",
   "execution_count": null,
   "id": "16787b31-21a3-4e24-b76e-c6c1289a3f5f",
   "metadata": {},
   "outputs": [],
   "source": []
  },
  {
   "cell_type": "markdown",
   "id": "4385e75f-723f-4a05-b8fc-aa1ea59c94b2",
   "metadata": {},
   "source": [
    "10.Fibonacci Series"
   ]
  },
  {
   "cell_type": "code",
   "execution_count": 28,
   "id": "1750d185-473d-4ed7-a0cc-3578d185d4bc",
   "metadata": {},
   "outputs": [
    {
     "name": "stdin",
     "output_type": "stream",
     "text": [
      "How many fibonacci numbers you want to generate - 10\n"
     ]
    },
    {
     "name": "stdout",
     "output_type": "stream",
     "text": [
      "0\n",
      "1\n",
      "1\n",
      "2\n",
      "3\n",
      "5\n",
      "8\n",
      "13\n",
      "21\n",
      "34\n"
     ]
    }
   ],
   "source": [
    "def fiboacci(num):\n",
    "   if num <= 0:\n",
    "       return num\n",
    "   if num == 1:\n",
    "       return 1\n",
    "   else: \n",
    "       return(fiboacci(num-1) + fiboacci(num-2)) \n",
    "nums = int(input(\"How many fibonacci numbers you want to generate -\"))\n",
    "fiboacci(nums) \n",
    "for i in range(nums):\n",
    "  print(fiboacci(i)) "
   ]
  },
  {
   "cell_type": "code",
   "execution_count": 32,
   "id": "db058f89-1300-4baf-b2be-04aed4928e16",
   "metadata": {},
   "outputs": [
    {
     "name": "stdin",
     "output_type": "stream",
     "text": [
      "Enter the number:  10\n"
     ]
    },
    {
     "name": "stdout",
     "output_type": "stream",
     "text": [
      "Sum of the first 10 Fibonacci numbers is: 88\n"
     ]
    }
   ],
   "source": [
    "# Function to calculate the sum of the first `n` Fibonacci numbers\n",
    "def fibonacci(num):\n",
    "    if num <= 0:\n",
    "        return 0\n",
    "    elif num == 1:\n",
    "        return 1\n",
    "    else:\n",
    "        return fibonacci(num - 1) + fibonacci(num - 2)\n",
    "\n",
    "def sum_of_fibonacci(n):\n",
    "    total_sum = 0\n",
    "    for i in range(n):\n",
    "        total_sum += fibonacci(i)\n",
    "    return total_sum\n",
    "\n",
    "num = int(input('Enter the number: '))\n",
    "print(f'Sum of the first {num} Fibonacci numbers is:', sum_of_fibonacci(num))"
   ]
  },
  {
   "cell_type": "code",
   "execution_count": 4,
   "id": "93b3d33f-95a3-4970-a9c0-ce2c878277fa",
   "metadata": {},
   "outputs": [
    {
     "name": "stdout",
     "output_type": "stream",
     "text": [
      "Fibonacci series: 0 1 1 2 3 5 8 13 21 34 \n"
     ]
    }
   ],
   "source": [
    "num=10\n",
    "n1,n2=0,1\n",
    "print('Fibonacci series:',n1,n2,end=' ')\n",
    "for i in range(2,num):\n",
    "    n3=n1+n2\n",
    "    n1=n2\n",
    "    n2=n3\n",
    "    print(n3,end=' ')\n",
    "print()"
   ]
  },
  {
   "cell_type": "code",
   "execution_count": 31,
   "id": "d995a8a4-6142-4903-b6ae-fbec633e4858",
   "metadata": {},
   "outputs": [
    {
     "name": "stdin",
     "output_type": "stream",
     "text": [
      "Enter the number:  10\n"
     ]
    },
    {
     "name": "stdout",
     "output_type": "stream",
     "text": [
      "[0, 1, 1, 2, 3, 5, 8, 13, 21, 34]\n"
     ]
    }
   ],
   "source": [
    "def fibonacci(num):\n",
    "    if num <= 0:\n",
    "        return 0\n",
    "    elif num == 1:\n",
    "        return 1\n",
    "    else:\n",
    "        return fibonacci(num-1) + fibonacci(num-2)\n",
    "\n",
    "num = int(input('Enter the number: '))\n",
    "\n",
    "# Generate the Fibonacci sequence in a list format\n",
    "fib_sequence = [fibonacci(i) for i in range(num)]\n",
    "print(fib_sequence)"
   ]
  },
  {
   "cell_type": "code",
   "execution_count": null,
   "id": "53881d69-1230-4a8c-a94c-e8e5a7254764",
   "metadata": {},
   "outputs": [],
   "source": []
  },
  {
   "cell_type": "markdown",
   "id": "02157d31-4fc3-448e-9242-8bdda921e24a",
   "metadata": {},
   "source": [
    "11.Swapping of two numbers"
   ]
  },
  {
   "cell_type": "code",
   "execution_count": 2,
   "id": "a036c899-1718-460e-a3b5-45ea50d1592b",
   "metadata": {},
   "outputs": [
    {
     "name": "stdin",
     "output_type": "stream",
     "text": [
      "Enter the first number:  2\n",
      "Enter the second number:  3\n"
     ]
    },
    {
     "name": "stdout",
     "output_type": "stream",
     "text": [
      "Before swapping: a = 2, b = 3\n",
      "After swapping: a = 3, b = 2\n"
     ]
    }
   ],
   "source": [
    "# Swapping using tuple unpacking\n",
    "a = int(input(\"Enter the first number: \"))\n",
    "b = int(input(\"Enter the second number: \"))\n",
    "\n",
    "# Display before swap\n",
    "print(f\"Before swapping: a = {a}, b = {b}\")\n",
    "\n",
    "# Swap\n",
    "a, b = b, a\n",
    "# Display after swap\n",
    "print(f\"After swapping: a = {a}, b = {b}\")"
   ]
  },
  {
   "cell_type": "code",
   "execution_count": 3,
   "id": "216a39f2-101a-4b2d-859a-061ed0342cbc",
   "metadata": {},
   "outputs": [
    {
     "name": "stdin",
     "output_type": "stream",
     "text": [
      "Enter the first number:  3\n",
      "Enter the second number:  4\n"
     ]
    },
    {
     "name": "stdout",
     "output_type": "stream",
     "text": [
      "Swapped values: a = 4, b = 3\n"
     ]
    }
   ],
   "source": [
    "# Using a temporary variable\n",
    "a = int(input('Enter the first number: '))\n",
    "b = int(input('Enter the second number: '))\n",
    "\n",
    "# Swap using a temporary variable\n",
    "temp = a\n",
    "a = b\n",
    "b = temp\n",
    "\n",
    "print(f'Swapped values: a = {a}, b = {b}')"
   ]
  },
  {
   "cell_type": "code",
   "execution_count": null,
   "id": "9e997ca7-400e-48fc-ac74-181986723d39",
   "metadata": {},
   "outputs": [],
   "source": []
  },
  {
   "cell_type": "markdown",
   "id": "751c3d77-4eb7-4d84-a427-9b11905516e2",
   "metadata": {},
   "source": [
    "12.Reverse a number"
   ]
  },
  {
   "cell_type": "code",
   "execution_count": 33,
   "id": "d2c5c0d7-280d-4721-9075-50edad3b0420",
   "metadata": {},
   "outputs": [
    {
     "name": "stdout",
     "output_type": "stream",
     "text": [
      "34321\n"
     ]
    }
   ],
   "source": [
    "num = 12343\n",
    "temp = num\n",
    "reverse = 0\n",
    "\n",
    "while num > 0:\n",
    "    remainder = num % 10\n",
    "    reverse = (reverse * 10) + remainder\n",
    "    num = num // 10\n",
    "print(reverse)"
   ]
  },
  {
   "cell_type": "code",
   "execution_count": 34,
   "id": "5d2f3cd7-0945-4999-812b-cfad52da3ba3",
   "metadata": {},
   "outputs": [
    {
     "name": "stdout",
     "output_type": "stream",
     "text": [
      "0202\n"
     ]
    }
   ],
   "source": [
    "# Reverse the number by converting it to a string and slicing\n",
    "num=2020\n",
    "reversed = str(num)[::-1]\n",
    "\n",
    "# Print the reversed string\n",
    "print(reversed)"
   ]
  },
  {
   "cell_type": "code",
   "execution_count": 35,
   "id": "3caa336b-6f4f-4651-b7b5-03ff78452d25",
   "metadata": {},
   "outputs": [
    {
     "name": "stdout",
     "output_type": "stream",
     "text": [
      "4321\n"
     ]
    }
   ],
   "source": [
    "def recursum(number,reverse):\n",
    "  if number==0:\n",
    "    return reverse\n",
    "  remainder = int(number%10)\n",
    "  reverse = (reverse*10)+remainder\n",
    "  return recursum(int(number/10),reverse)\n",
    "\n",
    "num = 1234\n",
    "reverse = 0\n",
    "print(recursum(num,reverse))"
   ]
  },
  {
   "cell_type": "code",
   "execution_count": null,
   "id": "10887071-c0fc-44dc-a589-df63c23e8f5a",
   "metadata": {},
   "outputs": [],
   "source": []
  },
  {
   "cell_type": "markdown",
   "id": "14ed66d5-11d8-4273-99b1-2a41e98f5515",
   "metadata": {},
   "source": [
    "14.Palindrome Number"
   ]
  },
  {
   "cell_type": "code",
   "execution_count": 38,
   "id": "31075937-36ce-4103-b241-8d136fe56bc4",
   "metadata": {},
   "outputs": [
    {
     "name": "stdout",
     "output_type": "stream",
     "text": [
      "Not Palindrome\n"
     ]
    }
   ],
   "source": [
    "num=2342\n",
    "reverse=int(str(num)[::-1])\n",
    "if num==reverse:\n",
    "    print('Palindrome')\n",
    "else:\n",
    "    print('Not Palindrome')"
   ]
  },
  {
   "cell_type": "code",
   "execution_count": null,
   "id": "053a3ceb-60f6-4805-be1c-84be69573de9",
   "metadata": {},
   "outputs": [],
   "source": [
    "num = 1221\n",
    "temp = num\n",
    "reverse = 0\n",
    "\n",
    "while temp > 0:\n",
    "    remainder = temp % 10\n",
    "    reverse = (reverse * 10) + remainder  # Update reverse with the remainder\n",
    "    temp = temp // 10\n",
    "\n",
    "if num == reverse:\n",
    "    print('Palindrome')\n",
    "else:\n",
    "    print('Not palindrome')"
   ]
  },
  {
   "cell_type": "code",
   "execution_count": null,
   "id": "5544b7e0-e275-424c-b539-246f6007cab4",
   "metadata": {},
   "outputs": [],
   "source": []
  },
  {
   "cell_type": "markdown",
   "id": "19c16fbd-e84d-4d92-b3ee-8cb862384a6f",
   "metadata": {},
   "source": [
    "15.Palindrome String"
   ]
  },
  {
   "cell_type": "code",
   "execution_count": 40,
   "id": "898d2e90-7944-4288-8db2-d6f4df3a3556",
   "metadata": {},
   "outputs": [
    {
     "name": "stdin",
     "output_type": "stream",
     "text": [
      "Enter a string:  appa\n"
     ]
    },
    {
     "name": "stdout",
     "output_type": "stream",
     "text": [
      "\"appa\" is a palindrome.\n"
     ]
    }
   ],
   "source": [
    "# Function to check if a string is a palindrome\n",
    "def is_palindrome(s):\n",
    "    s = s.replace(\" \", \"\").lower()\n",
    "    return s == s[::-1]\n",
    "\n",
    "string = input(\"Enter a string: \")\n",
    "if is_palindrome(string):\n",
    "    print(f'\"{string}\" is a palindrome.')\n",
    "else:\n",
    "    print(f'\"{string}\" is not a palindrome.')"
   ]
  },
  {
   "cell_type": "code",
   "execution_count": 41,
   "id": "c200976b-daef-43cf-bc1d-edc6c3248a29",
   "metadata": {},
   "outputs": [
    {
     "name": "stdout",
     "output_type": "stream",
     "text": [
      "Not Palindrome\n"
     ]
    }
   ],
   "source": [
    "user='hello'\n",
    "reverse=str(user[::-1])\n",
    "if user==reverse:\n",
    "    print('Palindrome')\n",
    "else:\n",
    "    print('Not Palindrome')"
   ]
  },
  {
   "cell_type": "code",
   "execution_count": null,
   "id": "8ad4ecaa-a621-4025-a39b-6b6c1bcb0334",
   "metadata": {},
   "outputs": [],
   "source": []
  },
  {
   "cell_type": "markdown",
   "id": "1c7e6514-8c92-46dd-acde-5b8dcc0ea8c0",
   "metadata": {},
   "source": [
    "16.Power of Number"
   ]
  },
  {
   "cell_type": "code",
   "execution_count": 42,
   "id": "b0a0d97f-3251-4510-b41d-9cbbc1c30e44",
   "metadata": {},
   "outputs": [
    {
     "name": "stdin",
     "output_type": "stream",
     "text": [
      "Enter the base number:  2\n",
      "Enter the exponent (a non-negative integer):  3\n"
     ]
    },
    {
     "name": "stdout",
     "output_type": "stream",
     "text": [
      "2 raised to the power of 3 is: 8\n"
     ]
    }
   ],
   "source": [
    "def power(base, exponent):\n",
    "    # Base case: any number raised to the power of 0 is 1\n",
    "    if exponent == 0:\n",
    "        return 1\n",
    "    # Recursive case: multiply base by itself exponent times\n",
    "    else:\n",
    "        return base * power(base, exponent - 1)\n",
    "\n",
    "# Example usage:\n",
    "base = int(input(\"Enter the base number: \"))\n",
    "exponent = int(input(\"Enter the exponent (a non-negative integer): \"))\n",
    "\n",
    "result = power(base, exponent)\n",
    "print(f\"{base} raised to the power of {exponent} is: {result}\")"
   ]
  },
  {
   "cell_type": "code",
   "execution_count": null,
   "id": "737017e2-ce13-499f-9e9a-5c3172035809",
   "metadata": {},
   "outputs": [],
   "source": []
  },
  {
   "cell_type": "markdown",
   "id": "374efd83-7e11-4b12-aba0-c26ac240f264",
   "metadata": {},
   "source": [
    "17.Anagrams python program"
   ]
  },
  {
   "cell_type": "code",
   "execution_count": 1,
   "id": "420c32cf-92a4-40af-ba89-18aff2d2e70a",
   "metadata": {},
   "outputs": [
    {
     "name": "stdin",
     "output_type": "stream",
     "text": [
      "Enter the 1st string:  appa\n",
      "Enter the 2nd string:  appa\n"
     ]
    },
    {
     "name": "stdout",
     "output_type": "stream",
     "text": [
      "Strings are anagrams\n"
     ]
    }
   ],
   "source": [
    "# Take user input\n",
    "String1 = input(\"Enter the 1st string: \").replace(\" \", \"\").lower()\n",
    "String2 = input(\"Enter the 2nd string: \").replace(\" \", \"\").lower()\n",
    "\n",
    "# Check if length matches\n",
    "if len(String1) != len(String2):\n",
    "    # If lengths are different, they are not anagrams\n",
    "    print(\"Strings are not anagrams\")\n",
    "else:\n",
    "    # Sorted function sorts the string by characters\n",
    "    if sorted(String1) == sorted(String2):\n",
    "        # If True\n",
    "        print(\"Strings are anagrams\")\n",
    "    else:\n",
    "        print(\"Strings are not anagrams\")"
   ]
  },
  {
   "cell_type": "code",
   "execution_count": null,
   "id": "a7348faf-e870-42b7-a307-7404d54c7cd4",
   "metadata": {},
   "outputs": [],
   "source": []
  },
  {
   "cell_type": "markdown",
   "id": "8e15b18b-f8c0-47cb-9c3c-92eb796ba17d",
   "metadata": {},
   "source": [
    "Perfect number"
   ]
  },
  {
   "cell_type": "code",
   "execution_count": 44,
   "id": "583267b0-da1d-4c73-bfe1-94e98be63142",
   "metadata": {},
   "outputs": [
    {
     "name": "stdout",
     "output_type": "stream",
     "text": [
      "1\n",
      "3\n",
      "7\n",
      "14\n",
      "28\n",
      "The number is a Perfect number\n"
     ]
    }
   ],
   "source": [
    "n = 28  # Number to check\n",
    "sum = 0  # Initialize sum of divisors\n",
    "\n",
    "# Loop through possible divisors\n",
    "for i in range(1, n):\n",
    "    if n % i == 0:  # Check if i is a divisor of n\n",
    "        sum += i  # Add the divisor to sum\n",
    "        print(sum)\n",
    "# Check if sum of divisors equals the number itself\n",
    "if sum == n:\n",
    "    print(\"The number is a Perfect number\")\n",
    "else:\n",
    "    print(\"The number is not a Perfect number\")\n",
    "\n",
    "# n = 28 (Perfect number; divisors are 1, 2, 4, 7, 14, and their sum is 28).\n",
    "# n = 45 (Not perfect number ; divisors are 1,3,5,9,15, and their sum is 33)"
   ]
  },
  {
   "cell_type": "code",
   "execution_count": null,
   "id": "f18155b6-c17f-4dc5-9e16-fd650143e372",
   "metadata": {},
   "outputs": [],
   "source": []
  },
  {
   "cell_type": "markdown",
   "id": "5cb5cdd2-7368-421e-92e7-edb5ae455e88",
   "metadata": {},
   "source": [
    "Strong number"
   ]
  },
  {
   "cell_type": "code",
   "execution_count": 45,
   "id": "055e1ee9-ecf4-4a19-b971-d27ddb2f3192",
   "metadata": {},
   "outputs": [
    {
     "name": "stdin",
     "output_type": "stream",
     "text": [
      "Enter a number:  145\n"
     ]
    },
    {
     "name": "stdout",
     "output_type": "stream",
     "text": [
      "145 is a Strong Number.\n"
     ]
    }
   ],
   "source": [
    "import math  # Ensure the math module is imported\n",
    "\n",
    "# Function to check if a number is a strong number\n",
    "def is_strong_number(num):\n",
    "    total = 0\n",
    "    for digit in str(num):\n",
    "        total += math.factorial(int(digit))  # Use math.factorial correctly\n",
    "    return total == num\n",
    "\n",
    "# Input number\n",
    "number = int(input(\"Enter a number: \"))\n",
    "\n",
    "# Check and print result\n",
    "if is_strong_number(number):\n",
    "    print(f\"{number} is a Strong Number.\")\n",
    "else:\n",
    "    print(f\"{number} is not a Strong Number.\")"
   ]
  },
  {
   "cell_type": "code",
   "execution_count": null,
   "id": "5af0b250-ac27-4cd6-b303-488dc4ebc5bf",
   "metadata": {},
   "outputs": [],
   "source": []
  },
  {
   "cell_type": "markdown",
   "id": "cc1a31db-4123-4e21-bbdb-9ec0093dc003",
   "metadata": {},
   "source": [
    "Armstrong number"
   ]
  },
  {
   "cell_type": "code",
   "execution_count": 46,
   "id": "b0c83e43-01e9-4b06-b9c3-046e41e54fc9",
   "metadata": {},
   "outputs": [
    {
     "name": "stdout",
     "output_type": "stream",
     "text": [
      "Armstrong\n"
     ]
    }
   ],
   "source": [
    "number = 371\n",
    "num = number\n",
    "digit, sum = 0, 0\n",
    "length = len(str(num))\n",
    "for i in range(length):\n",
    "  digit = int(num%10)\n",
    "  num = num/10\n",
    "  sum += pow(digit,length)\n",
    "if sum==number:\n",
    "  print(\"Armstrong\")\n",
    "else:\n",
    "  print(\"Not Armstrong\") "
   ]
  },
  {
   "cell_type": "code",
   "execution_count": 104,
   "id": "658e8240-b5ee-4e44-91f1-886fb3cb39f3",
   "metadata": {},
   "outputs": [
    {
     "name": "stdin",
     "output_type": "stream",
     "text": [
      "Enter a number:  23\n"
     ]
    },
    {
     "name": "stdout",
     "output_type": "stream",
     "text": [
      "23 is not an Armstrong number\n"
     ]
    }
   ],
   "source": [
    "def is_armstrong_number(num):\n",
    "    order = len(str(num))  # Determine the number of digits\n",
    "    sum_of_powers = 0\n",
    "    temp = num\n",
    "\n",
    "    # Calculate the sum of each digit raised to the power of the number of digits\n",
    "    while temp > 0:\n",
    "        digit = temp % 10\n",
    "        sum_of_powers += digit ** order\n",
    "        temp //= 10\n",
    "\n",
    "    # Check if the original number is equal to the sum of the powers\n",
    "    return num == sum_of_powers\n",
    "\n",
    "# Example usage\n",
    "number = int(input(\"Enter a number: \"))\n",
    "if is_armstrong_number(number):\n",
    "    print(number, \"is an Armstrong number\")\n",
    "else:\n",
    "    print(number, \"is not an Armstrong number\")\n",
    "\n",
    "# 153 is an Armstrong number because cube of each number sum is 153 "
   ]
  },
  {
   "cell_type": "code",
   "execution_count": 103,
   "id": "bc00bed4-66b9-43d2-a8c7-17ce4d24be6f",
   "metadata": {},
   "outputs": [
    {
     "name": "stdout",
     "output_type": "stream",
     "text": [
      "371 is an Armstrong number.\n"
     ]
    }
   ],
   "source": [
    "temp = 371\n",
    "n = temp\n",
    "total = 0\n",
    "\n",
    "# Determine the number of digits\n",
    "num = len(str(temp))\n",
    "\n",
    "while n > 0:\n",
    "    r = n % 10\n",
    "    n = n // 10\n",
    "    total += r ** num\n",
    "\n",
    "if temp == total:\n",
    "    print(f\"{temp} is an Armstrong number.\")\n",
    "else:\n",
    "    print(f\"{temp} is not an Armstrong number.\")"
   ]
  },
  {
   "cell_type": "code",
   "execution_count": null,
   "id": "dc572f05-e870-4dde-bbc7-1897d15569db",
   "metadata": {},
   "outputs": [],
   "source": []
  },
  {
   "cell_type": "markdown",
   "id": "509e811c-d997-4548-a6d7-fbc1f0a46317",
   "metadata": {},
   "source": [
    "20.Fizz_buzz"
   ]
  },
  {
   "cell_type": "code",
   "execution_count": 102,
   "id": "08ab543e-244f-4f8e-9d33-88bef7bc71e3",
   "metadata": {},
   "outputs": [
    {
     "name": "stdout",
     "output_type": "stream",
     "text": [
      "1\n",
      "2\n",
      "Fizz\n",
      "4\n",
      "Buzz\n",
      "Fizz\n",
      "7\n",
      "8\n",
      "Fizz\n",
      "Buzz\n",
      "11\n",
      "Fizz\n",
      "13\n",
      "14\n",
      "FizzBuzz\n",
      "16\n",
      "17\n",
      "Fizz\n",
      "19\n",
      "Buzz\n",
      "Fizz\n",
      "22\n",
      "23\n",
      "Fizz\n",
      "Buzz\n",
      "26\n",
      "Fizz\n",
      "28\n",
      "29\n",
      "FizzBuzz\n",
      "31\n",
      "32\n",
      "Fizz\n",
      "34\n",
      "Buzz\n",
      "Fizz\n",
      "37\n",
      "38\n",
      "Fizz\n",
      "Buzz\n",
      "41\n",
      "Fizz\n",
      "43\n",
      "44\n",
      "FizzBuzz\n",
      "46\n",
      "47\n",
      "Fizz\n",
      "49\n",
      "Buzz\n",
      "Fizz\n",
      "52\n",
      "53\n",
      "Fizz\n",
      "Buzz\n",
      "56\n",
      "Fizz\n",
      "58\n",
      "59\n",
      "FizzBuzz\n",
      "61\n",
      "62\n",
      "Fizz\n",
      "64\n",
      "Buzz\n",
      "Fizz\n",
      "67\n",
      "68\n",
      "Fizz\n",
      "Buzz\n",
      "71\n",
      "Fizz\n",
      "73\n",
      "74\n",
      "FizzBuzz\n",
      "76\n",
      "77\n",
      "Fizz\n",
      "79\n",
      "Buzz\n",
      "Fizz\n",
      "82\n",
      "83\n",
      "Fizz\n",
      "Buzz\n",
      "86\n",
      "Fizz\n",
      "88\n",
      "89\n",
      "FizzBuzz\n",
      "91\n",
      "92\n",
      "Fizz\n",
      "94\n",
      "Buzz\n",
      "Fizz\n",
      "97\n",
      "98\n",
      "Fizz\n",
      "Buzz\n"
     ]
    }
   ],
   "source": [
    "def fizz_buzz():\n",
    "    for i in range(1,101):\n",
    "        if i %15==0:\n",
    "            print('FizzBuzz')\n",
    "        elif i % 3==0:\n",
    "            print('Fizz')\n",
    "        elif i % 5==0:\n",
    "            print('Buzz')\n",
    "        else:\n",
    "            print(i)\n",
    "fizz_buzz()"
   ]
  },
  {
   "cell_type": "markdown",
   "id": "dfb63080-ef59-4303-9fa0-c9f30c03c47b",
   "metadata": {},
   "source": [
    "HCF of two numbers"
   ]
  },
  {
   "cell_type": "code",
   "execution_count": 47,
   "id": "1066e032-0ed4-447a-aa0f-765c2361faf5",
   "metadata": {},
   "outputs": [
    {
     "name": "stdout",
     "output_type": "stream",
     "text": [
      "Hcf of 36 and 60 is 12\n"
     ]
    }
   ],
   "source": [
    "def findHCF(num1, num2):\n",
    "    # Everything divides 0\n",
    "    if num1 == 0 or num2 == 0:\n",
    "        return num1 + num2\n",
    "    # base case\n",
    "    if num1 == num2:\n",
    "        return num1\n",
    "    \n",
    "    # num1>num2\n",
    "    if num1 > num2:\n",
    "        return findHCF(num1 - num2, num2)\n",
    "    else:\n",
    "        return findHCF(num1, num2 - num1)\n",
    "num1 = 36\n",
    "num2 = 60\n",
    "\n",
    "print(\"Hcf of\", num1, \"and\", num2, \"is\", findHCF(num1, num2))"
   ]
  },
  {
   "cell_type": "markdown",
   "id": "f710dcd0-e126-47e3-a01b-b66f727787f9",
   "metadata": {},
   "source": [
    "LCM of two numbers"
   ]
  },
  {
   "cell_type": "code",
   "execution_count": 48,
   "id": "7d59d6f4-e247-4fdf-b5db-0572ba840f39",
   "metadata": {},
   "outputs": [
    {
     "name": "stdout",
     "output_type": "stream",
     "text": [
      "LCM of 12 and 14 is 84\n"
     ]
    }
   ],
   "source": [
    "num1 = 12\n",
    "num2 = 14\n",
    "\n",
    "# Loop to find the LCM\n",
    "for i in range(max(num1, num2), 1 + (num1 * num2), max(num1, num2)):\n",
    "    if i % num1 == 0 and i % num2 == 0:\n",
    "        lcm = i\n",
    "        break\n",
    "\n",
    "print(\"LCM of\", num1, \"and\", num2, \"is\", lcm)"
   ]
  },
  {
   "cell_type": "markdown",
   "id": "2f0794a2-4ee4-49f0-8637-f2ab4f2be441",
   "metadata": {},
   "source": [
    "22.Multiplication Number"
   ]
  },
  {
   "cell_type": "code",
   "execution_count": 1,
   "id": "c824c600-beee-4bf4-bfeb-71f45e5dcbff",
   "metadata": {},
   "outputs": [
    {
     "name": "stdin",
     "output_type": "stream",
     "text": [
      "Enter the number:  3\n"
     ]
    },
    {
     "name": "stdout",
     "output_type": "stream",
     "text": [
      "3 x 1 = 3\n",
      "3 x 2 = 6\n",
      "3 x 3 = 9\n",
      "3 x 4 = 12\n",
      "3 x 5 = 15\n",
      "3 x 6 = 18\n",
      "3 x 7 = 21\n",
      "3 x 8 = 24\n",
      "3 x 9 = 27\n",
      "3 x 10 = 30\n"
     ]
    }
   ],
   "source": [
    "# Get user input\n",
    "n = int(input(\"Enter the number: \"))\n",
    "\n",
    "# Print the multiplication table in ascending order\n",
    "for i in range(1, 11):\n",
    "    result = n * i\n",
    "    print(f\"{n} x {i} = {result}\")"
   ]
  },
  {
   "cell_type": "code",
   "execution_count": null,
   "id": "e9214fe7-a9be-48ee-9f76-6d12a4d3f063",
   "metadata": {},
   "outputs": [],
   "source": [
    "for i in range(1,11):\n",
    "    for j in range(1,11):\n",
    "        print(f'{i}x{j}={i*j}')\n",
    "    print(end=' ')\n",
    "\n",
    "def is_prime(num):\n",
    "    if num<=1:\n",
    "        return 1\n",
    "    else:\n",
    "        for i in range(2,int(num**0.2)+1):\n",
    "            if num*i==0:\n",
    "                print('Not prime')\n",
    "                break\n",
    "           else:\n"
   ]
  },
  {
   "cell_type": "code",
   "execution_count": 101,
   "id": "524767bc-9b59-4107-bfec-43317a9f0097",
   "metadata": {},
   "outputs": [
    {
     "name": "stdin",
     "output_type": "stream",
     "text": [
      "Enter the number:  3\n"
     ]
    },
    {
     "name": "stdout",
     "output_type": "stream",
     "text": [
      "3 x 10 = 30\n",
      "3 x 9 = 27\n",
      "3 x 8 = 24\n",
      "3 x 7 = 21\n",
      "3 x 6 = 18\n",
      "3 x 5 = 15\n",
      "3 x 4 = 12\n",
      "3 x 3 = 9\n",
      "3 x 2 = 6\n",
      "3 x 1 = 3\n"
     ]
    }
   ],
   "source": [
    "# Get user input\n",
    "n = int(input(\"Enter the number: \"))\n",
    "\n",
    "# Print the multiplication table in reverse order\n",
    "for i in range(10, 0, -1):\n",
    "    result = n * i\n",
    "    print(f\"{n} x {i} = {result}\")"
   ]
  },
  {
   "cell_type": "code",
   "execution_count": 99,
   "id": "76bf0cd3-e7b0-4f98-a9d6-4f16ff1be849",
   "metadata": {},
   "outputs": [
    {
     "name": "stdin",
     "output_type": "stream",
     "text": [
      "Enter the number : 3\n"
     ]
    },
    {
     "name": "stdout",
     "output_type": "stream",
     "text": [
      "3 X 1 = 3\n",
      "3 X 2 = 6\n",
      "3 X 3 = 9\n",
      "3 X 4 = 12\n",
      "3 X 5 = 15\n",
      "3 X 6 = 18\n",
      "3 X 7 = 21\n",
      "3 X 8 = 24\n",
      "3 X 9 = 27\n",
      "3 X 10 = 30\n"
     ]
    }
   ],
   "source": [
    "def multiple(num):\n",
    "    for i in range(1,11):\n",
    "        result=num*i\n",
    "        print(f'{num} X {i} = {result}')\n",
    "num=int(input('Enter the number :'))\n",
    "multiple(num)"
   ]
  },
  {
   "cell_type": "markdown",
   "id": "274ff119-4387-4147-aa80-77f9d7d21ec9",
   "metadata": {},
   "source": [
    "23.Create a list using input functions in python."
   ]
  },
  {
   "cell_type": "code",
   "execution_count": 49,
   "id": "11c250d2-d319-411a-89fa-0aee6fe2014f",
   "metadata": {},
   "outputs": [
    {
     "name": "stdin",
     "output_type": "stream",
     "text": [
      "How many items do you want to add to this list? 3\n",
      "Enter item1: 2\n",
      "Enter item2: 4\n",
      "Enter item3: 5\n"
     ]
    },
    {
     "name": "stdout",
     "output_type": "stream",
     "text": [
      "The Created list is : ['2', '4', '5']\n"
     ]
    }
   ],
   "source": [
    "def create_list():\n",
    "    user_list=[]\n",
    "    num_items=int(input('How many items do you want to add to this list?'))\n",
    "    for i in range(num_items):\n",
    "        item=input(f'Enter item{i+1}:')\n",
    "        user_list.append(item)\n",
    "    return user_list\n",
    "resulting_list=create_list()\n",
    "print('The Created list is :',resulting_list)"
   ]
  },
  {
   "cell_type": "code",
   "execution_count": null,
   "id": "8c2e8977-8336-4872-b75b-0458ad2cd6f2",
   "metadata": {},
   "outputs": [],
   "source": []
  },
  {
   "cell_type": "markdown",
   "id": "e261f314-24a0-4242-ad4f-791345fe91dd",
   "metadata": {},
   "source": [
    "24.Print minimum divisible number"
   ]
  },
  {
   "cell_type": "code",
   "execution_count": 50,
   "id": "eea678e8-be2e-436b-b112-a65265ba1cc0",
   "metadata": {},
   "outputs": [
    {
     "name": "stdout",
     "output_type": "stream",
     "text": [
      "10\n"
     ]
    }
   ],
   "source": [
    "nums=[10,16,18,21,26]\n",
    "for num in nums:\n",
    "    if num%5==0:\n",
    "        print(num)\n",
    "        break\n",
    "else:\n",
    "    print('Not Found')"
   ]
  },
  {
   "cell_type": "code",
   "execution_count": null,
   "id": "ab791224-e4c4-4f88-a860-74a1bef33f7b",
   "metadata": {},
   "outputs": [],
   "source": []
  },
  {
   "cell_type": "markdown",
   "id": "84676f98-4aa1-432b-8df8-2cce9b17defb",
   "metadata": {},
   "source": [
    "25.Create an array with user input and access index value "
   ]
  },
  {
   "cell_type": "code",
   "execution_count": 51,
   "id": "50e42cb0-0807-49e7-a093-010353c223cb",
   "metadata": {},
   "outputs": [
    {
     "name": "stdin",
     "output_type": "stream",
     "text": [
      "Enter the length of the array:  4\n",
      "Enter the next value:  2\n",
      "Enter the next value:  5\n",
      "Enter the next value:  6\n",
      "Enter the next value:  8\n"
     ]
    },
    {
     "name": "stdout",
     "output_type": "stream",
     "text": [
      "array('i', [2, 5, 6, 8])\n"
     ]
    },
    {
     "name": "stdin",
     "output_type": "stream",
     "text": [
      "Enter the value for search:  8\n"
     ]
    },
    {
     "name": "stdout",
     "output_type": "stream",
     "text": [
      "The value 8 is found at index: 3\n"
     ]
    }
   ],
   "source": [
    "from array import array\n",
    "\n",
    "# Initialize an empty array of integers\n",
    "arr = array('i', [])\n",
    "\n",
    "# Input the length of the array\n",
    "n = int(input('Enter the length of the array: '))\n",
    "\n",
    "# Input the elements of the array\n",
    "for i in range(n):\n",
    "    x = int(input('Enter the next value: '))\n",
    "    arr.append(x)\n",
    "\n",
    "# Print the array\n",
    "print(arr)\n",
    "\n",
    "# Input the value to search for in the array\n",
    "val = int(input('Enter the value for search: '))\n",
    "\n",
    "# Search for the value in the array\n",
    "k = 0\n",
    "found = False\n",
    "for e in arr:\n",
    "    if e == val:\n",
    "        print(f'The value {val} is found at index: {k}')\n",
    "        found = True\n",
    "        break\n",
    "    k += 1\n",
    "\n",
    "# If the value is not found in the loop, print a message\n",
    "if not found:\n",
    "    print(f'The value {val} is not found in the array.')"
   ]
  },
  {
   "cell_type": "markdown",
   "id": "59045ed1-a531-4eee-9bc7-5c4fe708a64e",
   "metadata": {},
   "source": [
    "26.Create a list to add item and search value "
   ]
  },
  {
   "cell_type": "code",
   "execution_count": 52,
   "id": "05444e93-e0f5-4d11-a603-59eec38c0d82",
   "metadata": {},
   "outputs": [
    {
     "name": "stdin",
     "output_type": "stream",
     "text": [
      "Enter the size of the list:  2\n",
      "Enter the value:  3\n",
      "Enter the value:  4\n"
     ]
    },
    {
     "name": "stdout",
     "output_type": "stream",
     "text": [
      "[3, 4]\n"
     ]
    },
    {
     "name": "stdin",
     "output_type": "stream",
     "text": [
      "Enter the value to search:  7\n"
     ]
    },
    {
     "name": "stdout",
     "output_type": "stream",
     "text": [
      "7 is not found in the array\n"
     ]
    }
   ],
   "source": [
    "num = []\n",
    "size = int(input('Enter the size of the list: '))\n",
    "\n",
    "for i in range(size):\n",
    "    x = int(input('Enter the value: '))\n",
    "    num.append(x)\n",
    "print(num)\n",
    "\n",
    "# Search the element\n",
    "val = int(input('Enter the value to search: '))\n",
    "found = False  # Corrected initialization\n",
    "k=0\n",
    "for e in num:  # Using enumerate to get index and value\n",
    "    if e == val:\n",
    "        print(f'{val} found at index {k}')\n",
    "        found = True\n",
    "        break\n",
    "    k+=1\n",
    "if not found:\n",
    "    print(f'{val} is not found in the array')"
   ]
  },
  {
   "cell_type": "code",
   "execution_count": null,
   "id": "f8e32043-8d64-494b-870d-f8b02fff77f7",
   "metadata": {},
   "outputs": [],
   "source": []
  },
  {
   "cell_type": "code",
   "execution_count": 97,
   "id": "fd2effd1-bfd7-47fc-91bd-59b112d0cb31",
   "metadata": {},
   "outputs": [
    {
     "name": "stdout",
     "output_type": "stream",
     "text": [
      "Pairs that sum to 15: [(5, 10), (6, 9), (7, 8)]\n"
     ]
    }
   ],
   "source": [
    "arr = [1, 2, 3, 4, 5, 6, 7, 8, 9, 10]\n",
    "target_sum = 15\n",
    "result = []\n",
    "\n",
    "for i in arr:\n",
    "    complement = target_sum - i\n",
    "    if complement in arr and (complement, i) not in result:\n",
    "        result.append((i, complement))\n",
    "print(\"Pairs that sum to 15:\", result)"
   ]
  },
  {
   "cell_type": "markdown",
   "id": "7f18d14c-a44c-467d-b3e7-30c7d1632337",
   "metadata": {},
   "source": [
    "Function to separate and sum even and odd numbers"
   ]
  },
  {
   "cell_type": "code",
   "execution_count": 53,
   "id": "5754adc4-48e7-4ed8-8b77-a0412a7c2d42",
   "metadata": {},
   "outputs": [
    {
     "name": "stdin",
     "output_type": "stream",
     "text": [
      "Enter numbers separated by spaces:  2 3 4 5 6 7 8 9 65 43 \n"
     ]
    },
    {
     "name": "stdout",
     "output_type": "stream",
     "text": [
      "Sum of even numbers: 20\n",
      "Sum of odd numbers: 132\n"
     ]
    }
   ],
   "source": [
    "def separate_and_sum(numbers):\n",
    "    even_sum = 0\n",
    "    odd_sum = 0\n",
    "                  \n",
    "    # Iterate through the list and separate even and odd numbers    \n",
    "    for num in numbers:\n",
    "        if num % 2 == 0:\n",
    "            even_sum += num\n",
    "        else:\n",
    "            odd_sum += num\n",
    "    \n",
    "    return even_sum, odd_sum\n",
    "   \n",
    "# Ask user to input numbers\n",
    "input_numbers = input(\"Enter numbers separated by spaces: \")\n",
    " \n",
    "# Convert input string to a list of integers\n",
    "number_list = list(map(int, input_numbers.split()))\n",
    "\n",
    "# Separate and sum the numbers\n",
    "even_sum, odd_sum = separate_and_sum(number_list)\n",
    "\n",
    "# Print the results\n",
    "print(f\"Sum of even numbers: {even_sum}\")\n",
    "print(f\"Sum of odd numbers: {odd_sum}\")"
   ]
  },
  {
   "cell_type": "code",
   "execution_count": 58,
   "id": "f83d1eb3-0080-4010-8e93-5380832101e5",
   "metadata": {},
   "outputs": [
    {
     "name": "stdin",
     "output_type": "stream",
     "text": [
      "Enter the number:  12 23 45 67\n"
     ]
    },
    {
     "name": "stdout",
     "output_type": "stream",
     "text": [
      "Even digits: 2,2,4,6\n",
      "Odd digits: 1,3,5,7\n",
      "Sum of even digits: 14\n",
      "Sum of odd digits: 16\n"
     ]
    }
   ],
   "source": [
    "# Get user input\n",
    "number = input(\"Enter the number: \")\n",
    "# Initialize variables to store even and odd digits\n",
    "even_digits = []\n",
    "odd_digits = []\n",
    "sum_even = 0\n",
    "sum_odd = 0\n",
    "\n",
    "# Process each digit in the number\n",
    "for digit in number:\n",
    "    if digit.isdigit():\n",
    "        digit_value = int(digit)\n",
    "        if digit_value % 2 == 0:\n",
    "            even_digits.append(digit)\n",
    "            sum_even += digit_value\n",
    "        else:\n",
    "            odd_digits.append(digit)\n",
    "            sum_odd += digit_value\n",
    "\n",
    "# Print results\n",
    "print(f\"Even digits: {','.join(even_digits)}\")\n",
    "print(f\"Odd digits: {','.join(odd_digits)}\")\n",
    "print(f\"Sum of even digits: {sum_even}\")\n",
    "print(f\"Sum of odd digits: {sum_odd}\")"
   ]
  },
  {
   "cell_type": "code",
   "execution_count": 4,
   "id": "c6e5ddf7-3c93-4891-a039-6c566e7f89ff",
   "metadata": {},
   "outputs": [
    {
     "name": "stdin",
     "output_type": "stream",
     "text": [
      "Enter numbers separated by spaces:  2 3 4 5 6 7 87 65 45 34 67 56 54\n"
     ]
    },
    {
     "name": "stdout",
     "output_type": "stream",
     "text": [
      "Even Numbers: [2, 4, 6, 34, 56, 54]\n",
      "Odd Numbers: [3, 5, 7, 87, 65, 45, 67]\n",
      "Sum of Even Numbers: 156\n",
      "Sum of Odd Numbers: 279\n"
     ]
    }
   ],
   "source": [
    "def separate_even_odd(numbers_list):\n",
    "    even_numbers = []\n",
    "    odd_numbers = []\n",
    "    even_sum = 0\n",
    "    odd_sum = 0\n",
    "    \n",
    "    # Loop through the list and separate even and odd numbers\n",
    "    for num in numbers_list:\n",
    "        if num % 2 == 0:  # Check if the number is even\n",
    "            even_sum += num\n",
    "            even_numbers.append(num)\n",
    "        else:  # Otherwise, it's odd\n",
    "            odd_sum += num\n",
    "            odd_numbers.append(num)\n",
    "\n",
    "    return even_numbers, odd_numbers, even_sum, odd_sum\n",
    "\n",
    "# Ask user to input numbers\n",
    "input_numbers = input(\"Enter numbers separated by spaces: \")\n",
    " \n",
    "# Convert input string to a list of integers\n",
    "number_list = list(map(int, input_numbers.split()))\n",
    "\n",
    "even_numbers, odd_numbers, even_sum, odd_sum = separate_even_odd(number_list)\n",
    "print(f\"Even Numbers: {even_numbers}\")\n",
    "print(f\"Odd Numbers: {odd_numbers}\")\n",
    "print(f\"Sum of Even Numbers: {even_sum}\")\n",
    "print(f\"Sum of Odd Numbers: {odd_sum}\")"
   ]
  },
  {
   "cell_type": "code",
   "execution_count": 57,
   "id": "1c6ee468-0ba9-4a9d-8f3f-82ec71e35fcc",
   "metadata": {},
   "outputs": [
    {
     "name": "stdin",
     "output_type": "stream",
     "text": [
      " 1 2  3 4 5 \n"
     ]
    },
    {
     "name": "stdout",
     "output_type": "stream",
     "text": [
      "[2, 4]\n",
      "[1, 3, 5]\n",
      "6\n",
      "9\n"
     ]
    }
   ],
   "source": [
    "def even_odd(number):\n",
    "    even_sum=0\n",
    "    odd_sum=0\n",
    "    even=list(filter(lambda x:x%2==0,number))\n",
    "    odd=list(filter(lambda x:x%2!=0,number))\n",
    "    for i in even:\n",
    "        even_sum+=i\n",
    "    for i in odd:\n",
    "        odd_sum+=i\n",
    "    return even,odd,even_sum,odd_sum\n",
    "number=list(map(int,input().split()))\n",
    "even,odd,even_sum,odd_sum=even_odd(number)\n",
    "print(even)\n",
    "print(odd)\n",
    "print(even_sum)\n",
    "print(odd_sum)"
   ]
  },
  {
   "cell_type": "code",
   "execution_count": null,
   "id": "3932aa58-8bfd-4d06-b912-ac10c2c7cd44",
   "metadata": {},
   "outputs": [],
   "source": [
    "number = int(input(\"Enter the number: \"))\n",
    "\n",
    "# Initialize variables\n",
    "even_digits = [digit for digit in number if digit.isdigit() and int(digit) % 2 == 0]\n",
    "odd_digits = [digit for digit in number if digit.isdigit() and int(digit) % 2 != 0]\n",
    "\n",
    "# Calculate sums\n",
    "sum_even = sum(map(int, even_digits))\n",
    "sum_odd = sum(map(int, odd_digits))\n",
    "\n",
    "# Print results\n",
    "print(f\"Even digits: {','.join(even_digits)}\")\n",
    "print(f\"Odd digits: {','.join(odd_digits)}\")\n",
    "print(f\"Sum of even digits: {sum_even}\")\n",
    "print(f\"Sum of odd digits: {sum_odd}\")"
   ]
  },
  {
   "cell_type": "markdown",
   "id": "5ab982ea-1a5e-49e0-8bc3-fe8f348b541a",
   "metadata": {},
   "source": [
    "Remove duplicates element from list r array"
   ]
  },
  {
   "cell_type": "code",
   "execution_count": 1,
   "id": "b6a8d184-2510-4ae0-b399-1576f7b2e4ae",
   "metadata": {},
   "outputs": [
    {
     "data": {
      "text/plain": [
       "[1, 2, 3, 4, 5]"
      ]
     },
     "execution_count": 1,
     "metadata": {},
     "output_type": "execute_result"
    }
   ],
   "source": [
    "def duplicate(lst):\n",
    "    return list(set(lst))\n",
    "lst=[1,2,3,4,5,5,4,3,2,1]\n",
    "duplicate(lst)"
   ]
  },
  {
   "cell_type": "markdown",
   "id": "1e606f76-1eea-42f9-951a-4fa205efc26c",
   "metadata": {},
   "source": [
    "print only duplicate element"
   ]
  },
  {
   "cell_type": "code",
   "execution_count": 1,
   "id": "39780d0f-6cd6-4c8f-a50a-d7ab6a0cf6cc",
   "metadata": {},
   "outputs": [
    {
     "name": "stdout",
     "output_type": "stream",
     "text": [
      "([2, 4], {1, 2, 3, 4, 5})\n"
     ]
    }
   ],
   "source": [
    "def find_duplicates(lst):\n",
    "    seen = set()\n",
    "    duplicates = []\n",
    "    for item in lst:\n",
    "        if item in seen:\n",
    "            duplicates.append(item)\n",
    "        else:\n",
    "            seen.add(item)\n",
    "    return duplicates,seen\n",
    "num=[1, 2, 2, 3, 4, 4, 5]\n",
    "print(find_duplicates(num))"
   ]
  },
  {
   "cell_type": "markdown",
   "id": "0349b6a3-796b-432b-8c06-7bdb4afbda96",
   "metadata": {},
   "source": [
    "Count vowels and consonants in the string"
   ]
  },
  {
   "cell_type": "code",
   "execution_count": 65,
   "id": "5193763f-ffa8-41e6-a400-5e249e5037ce",
   "metadata": {},
   "outputs": [
    {
     "name": "stdin",
     "output_type": "stream",
     "text": [
      "Enter the string: Prajwal Bandi \n"
     ]
    },
    {
     "name": "stdout",
     "output_type": "stream",
     "text": [
      "Prajwal Bandi \n",
      "Vowels :4\n",
      "Consonants : 8\n"
     ]
    }
   ],
   "source": [
    "def count(input_string):\n",
    "    vowels='aeiouAEIOU'\n",
    "    vowel_count=0\n",
    "    consonant_count=0\n",
    "    for char in input_string:\n",
    "        if char.isalpha():  \n",
    "            if char in vowels: \n",
    "                vowel_count += 1\n",
    "            else:  \n",
    "                consonant_count += 1\n",
    "    return vowel_count, consonant_count\n",
    "user=input('Enter the string:')\n",
    "print(user)\n",
    "vowel,consonant=count(user)\n",
    "print(f'Vowels :{vowel}')\n",
    "print(f'Consonants : {consonant}')"
   ]
  },
  {
   "cell_type": "code",
   "execution_count": null,
   "id": "b43719de-7a85-4f50-8eb2-e6143aebaa44",
   "metadata": {},
   "outputs": [],
   "source": []
  },
  {
   "cell_type": "markdown",
   "id": "c1c03f4c-1ff0-4964-9e69-2be7781ea298",
   "metadata": {},
   "source": [
    "Pattern printing"
   ]
  },
  {
   "cell_type": "code",
   "execution_count": 11,
   "id": "1abb2db3-5e5e-4185-9fa0-135bec50a5b2",
   "metadata": {},
   "outputs": [
    {
     "name": "stdout",
     "output_type": "stream",
     "text": [
      "Normal pyramid \n",
      "          \n",
      "    X     \n",
      "   X X    \n",
      "  X X X   \n",
      " X X X X  \n",
      "X X X X X \n"
     ]
    }
   ],
   "source": [
    "print('Normal pyramid ')\n",
    "for i in range(6):\n",
    "    x=\"X \"\n",
    "    x=x*i\n",
    "    print(f'{x: ^10}')"
   ]
  },
  {
   "cell_type": "code",
   "execution_count": 10,
   "id": "d754b89e-6b10-4a7b-9af1-c5472ec91e72",
   "metadata": {},
   "outputs": [
    {
     "name": "stdout",
     "output_type": "stream",
     "text": [
      "Invert Pyramid\n",
      "\n",
      "X X X X X \n",
      " X X X X  \n",
      "  X X X   \n",
      "   X X    \n",
      "    X     \n"
     ]
    }
   ],
   "source": [
    "print('Invert Pyramid\\n')\n",
    "for i in range(5):\n",
    "    x='X '\n",
    "    x=x*(5-i)\n",
    "    print(f'{x: ^10}')"
   ]
  },
  {
   "cell_type": "code",
   "execution_count": 9,
   "id": "f96ee374-5afc-4698-b697-e4821470b034",
   "metadata": {},
   "outputs": [
    {
     "name": "stdout",
     "output_type": "stream",
     "text": [
      "Left sided Pyramid\n",
      "          \n",
      "        X \n",
      "      X X \n",
      "    X X X \n",
      "  X X X X \n"
     ]
    }
   ],
   "source": [
    "print('Left sided Pyramid')\n",
    "for i in range(5):\n",
    "    x='X '\n",
    "    x=x*i\n",
    "    print(f'{x: >10}')"
   ]
  },
  {
   "cell_type": "code",
   "execution_count": 8,
   "id": "e039eeae-5af0-4409-a28f-e00f61a1c715",
   "metadata": {},
   "outputs": [
    {
     "name": "stdout",
     "output_type": "stream",
     "text": [
      "Right sided Pyramid\n",
      "X \n",
      "X X \n",
      "X X X \n",
      "X X X X \n",
      "X X X X X \n"
     ]
    }
   ],
   "source": [
    "print('Right sided Pyramid')\n",
    "n=5  \n",
    "for i in range(n): \n",
    "    for j in range(i+1):\n",
    "        print('X',end=' ')\n",
    "    print()"
   ]
  },
  {
   "cell_type": "code",
   "execution_count": 7,
   "id": "4264a77a-589b-46f4-a63a-ccd34116895c",
   "metadata": {},
   "outputs": [
    {
     "name": "stdout",
     "output_type": "stream",
     "text": [
      "Left Sided Pyramid\n",
      "X X X X X \n",
      "X X X X \n",
      "X X X \n",
      "X X \n",
      "X \n"
     ]
    }
   ],
   "source": [
    "print('Left Sided Pyramid')\n",
    "n=5\n",
    "for i in range(n):\n",
    "    for j in range(n-i):\n",
    "        print(\"X\",end=' ')\n",
    "    print()"
   ]
  },
  {
   "cell_type": "code",
   "execution_count": 6,
   "id": "72c4904d-eb09-4a25-a1c7-23b122b964c6",
   "metadata": {},
   "outputs": [
    {
     "name": "stdout",
     "output_type": "stream",
     "text": [
      "X X X X X \n",
      "  X X X X \n",
      "    X X X \n",
      "      X X \n",
      "        X \n"
     ]
    }
   ],
   "source": [
    "n =5\n",
    "for i in range(n):\n",
    "  for j in range(i):\n",
    "    print(\" \", end =\" \")\n",
    "\n",
    "  for j in range(i,n):\n",
    "    print(\"X\" , end=\" \")\n",
    "\n",
    "  print()"
   ]
  },
  {
   "cell_type": "code",
   "execution_count": 2,
   "id": "2b70877a-3849-4821-870a-ab2c930e26bd",
   "metadata": {},
   "outputs": [
    {
     "name": "stdout",
     "output_type": "stream",
     "text": [
      "1 \n",
      "1 2 \n",
      "1 2 3 \n",
      "1 2 3 4 \n",
      "1 2 3 4 5 \n"
     ]
    }
   ],
   "source": [
    "n=5\n",
    "for i in range(1,n+1):\n",
    "    for j in range(1,i+1):\n",
    "        print(j,end=' ')\n",
    "    print()"
   ]
  },
  {
   "cell_type": "code",
   "execution_count": 3,
   "id": "0750f183-5b1c-4b5b-9eff-365eeee9c65e",
   "metadata": {},
   "outputs": [
    {
     "name": "stdout",
     "output_type": "stream",
     "text": [
      "X \n",
      "X X \n",
      "X X X \n",
      "X X X X \n",
      "X X X X X \n"
     ]
    }
   ],
   "source": [
    "n=5\n",
    "for i in range(1,n+1):\n",
    "    print('X '*i)"
   ]
  },
  {
   "cell_type": "code",
   "execution_count": 4,
   "id": "7ffa02a0-5664-41c2-b2f8-d039c228cdad",
   "metadata": {},
   "outputs": [
    {
     "name": "stdout",
     "output_type": "stream",
     "text": [
      "X X X X X \n",
      "X X X X \n",
      "X X X \n",
      "X X \n",
      "X \n"
     ]
    }
   ],
   "source": [
    "n=5\n",
    "for i in range(n,0,-1):\n",
    "    print('X '*i)"
   ]
  },
  {
   "cell_type": "code",
   "execution_count": 84,
   "id": "0487fa41-0836-4bd9-8e01-12503414a73e",
   "metadata": {},
   "outputs": [
    {
     "name": "stdout",
     "output_type": "stream",
     "text": [
      "*\n",
      "**\n",
      "***\n",
      "****\n",
      "*****\n",
      "****\n",
      "***\n",
      "**\n",
      "*\n",
      "\n"
     ]
    }
   ],
   "source": [
    "mystring=\"*****\"\n",
    "x=0\n",
    "for i in mystring:\n",
    "    x=x+1\n",
    "    print(mystring[0:x])\n",
    "for i in mystring:\n",
    "    x=x-1\n",
    "    print(mystring[0:x])"
   ]
  },
  {
   "cell_type": "code",
   "execution_count": 5,
   "id": "1ea69df7-96d6-4899-a48e-4928b061fc65",
   "metadata": {},
   "outputs": [
    {
     "name": "stdout",
     "output_type": "stream",
     "text": [
      "X X X X X \n",
      "X X X X X \n",
      "X X X X X \n",
      "X X X X X \n",
      "X X X X X \n"
     ]
    }
   ],
   "source": [
    "n=5\n",
    "for i in range(n):\n",
    "    for j in range(n):\n",
    "        print('X',end=\" \")\n",
    "    print()\n"
   ]
  },
  {
   "cell_type": "code",
   "execution_count": 81,
   "id": "abc1b86b-6d76-49c9-8e42-a461b78a5882",
   "metadata": {},
   "outputs": [
    {
     "name": "stdout",
     "output_type": "stream",
     "text": [
      "* * * * * * \n",
      "*       * \n",
      "*     * \n",
      "*   * \n",
      "* * \n",
      "* \n"
     ]
    }
   ],
   "source": [
    "n=6 \n",
    "for i in range(n):\n",
    "    for j in range(n-i):\n",
    "        if(i==0 or i==5 or j==0 or j==n-i-1):\n",
    "            print(\"*\", end=\" \")\n",
    "        else: \n",
    "            print(\" \",end=\" \")\n",
    "    print()"
   ]
  },
  {
   "cell_type": "code",
   "execution_count": 80,
   "id": "8d2aa890-a6ed-429c-bb4d-e8309aa769c4",
   "metadata": {},
   "outputs": [
    {
     "name": "stdout",
     "output_type": "stream",
     "text": [
      "    *\n",
      "   ***\n",
      "  *****\n",
      " *******\n",
      "*********\n"
     ]
    }
   ],
   "source": [
    "# Number of levels in the pyramid\n",
    "n = 5\n",
    "# Outer loop for each level of the pyramid\n",
    "for i in range(n):\n",
    "    # Print leading spaces\n",
    "    for j in range(n - i - 1):\n",
    "        print(\" \", end=\"\")\n",
    "    # Print stars for the pyramid level\n",
    "    for k in range(2 * i + 1):\n",
    "        print(\"*\", end=\"\")\n",
    "    # Move to the next line after each level\n",
    "    print()\n"
   ]
  },
  {
   "cell_type": "code",
   "execution_count": 79,
   "id": "09d34583-d36d-47b4-ad97-e98fb1d86ed1",
   "metadata": {},
   "outputs": [
    {
     "name": "stdout",
     "output_type": "stream",
     "text": [
      "*********\n",
      " *******\n",
      "  *****\n",
      "   ***\n",
      "    *\n"
     ]
    }
   ],
   "source": [
    "# Number of levels in the inverted pyramid\n",
    "n = 5\n",
    "# Outer loop for each level of the inverted pyramid\n",
    "for i in range(n):\n",
    "    # Print leading spaces\n",
    "    for j in range(i):\n",
    "        print(\" \", end=\"\")\n",
    "    # Print stars for the inverted pyramid level\n",
    "    for k in range(2 * (n - i) - 1):\n",
    "        print(\"*\", end=\"\")\n",
    "    # Move to the next line after each level\n",
    "    print()"
   ]
  },
  {
   "cell_type": "markdown",
   "id": "fe44e35c-8107-484a-b570-ebfb6b64d200",
   "metadata": {},
   "source": [
    "Find Largest element in an array using Python"
   ]
  },
  {
   "cell_type": "code",
   "execution_count": 66,
   "id": "b3c31eea-1d53-48c4-958f-1187e9e747b8",
   "metadata": {},
   "outputs": [
    {
     "name": "stdout",
     "output_type": "stream",
     "text": [
      "The largest element is: 99\n",
      "89\n",
      "89\n"
     ]
    }
   ],
   "source": [
    "arr = [10, 20, 4, 45, 99]\n",
    "largest = arr[0]\n",
    "\n",
    "for num in arr:\n",
    "    if num > largest:\n",
    "        largest = num\n",
    "\n",
    "print(\"The largest element is:\", largest)\n",
    "\n",
    "# Method 1 : Using Iteration.\n",
    "# Method 2 : Using Sort() function.\n",
    "# Method 3 : Using max() and min() function\n",
    "\n",
    "a = [10, 89, 9, 56, 4, 80, 8]\n",
    "a.sort()\n",
    "\n",
    "print (a[-1])\n",
    "\n",
    "arr = [10, 89, 9, 56, 4, 80, 8]\n",
    "print (max(arr))"
   ]
  },
  {
   "cell_type": "markdown",
   "id": "fbe2fb2a-3357-4fa0-8b15-379994cd0fc9",
   "metadata": {},
   "source": [
    "Find Smallest element in an array using Python"
   ]
  },
  {
   "cell_type": "code",
   "execution_count": 67,
   "id": "1385a672-df46-45a5-83d2-6f8ccbe0a3ef",
   "metadata": {},
   "outputs": [
    {
     "name": "stdout",
     "output_type": "stream",
     "text": [
      "The smallest number is: 4\n",
      "4\n",
      "4\n"
     ]
    }
   ],
   "source": [
    "arr = [10, 20, 4, 45, 99]\n",
    "smallest = arr[0]  # Initialize with the first element\n",
    "\n",
    "for num in arr:\n",
    "    if num < smallest:\n",
    "        smallest = num\n",
    "\n",
    "print(\"The smallest number is:\", smallest)\n",
    "\n",
    "arr = [10, 89, 9, 56, 4, 80, 8]\n",
    "arr.sort()\n",
    "\n",
    "print (arr[0])\n",
    "\n",
    "arr = [10, 89, 9, 56, 4, 80, 8]\n",
    "print (min(arr))"
   ]
  },
  {
   "cell_type": "markdown",
   "id": "a40c1484-5434-4ec6-9334-28089b7036e9",
   "metadata": {},
   "source": [
    "Reverse an array "
   ]
  },
  {
   "cell_type": "code",
   "execution_count": 68,
   "id": "f920b68b-637d-4382-91eb-948d77d964c7",
   "metadata": {},
   "outputs": [
    {
     "name": "stdout",
     "output_type": "stream",
     "text": [
      "Reversed array: [5, 4, 3, 2, 1]\n"
     ]
    }
   ],
   "source": [
    "def reverseArray(arr):\n",
    "    start = 0\n",
    "    end = len(arr) - 1\n",
    "\n",
    "    while start < end:\n",
    "        # Swap elements\n",
    "        arr[start], arr[end] = arr[end], arr[start]\n",
    "        start += 1\n",
    "        end -= 1\n",
    "# Example usage\n",
    "arr = [1, 2, 3, 4, 5]\n",
    "reverseArray(arr)\n",
    "print(\"Reversed array:\", arr) "
   ]
  },
  {
   "cell_type": "code",
   "execution_count": null,
   "id": "3ff7e344-64a1-4756-9f7d-353e6d063da8",
   "metadata": {},
   "outputs": [],
   "source": []
  },
  {
   "cell_type": "markdown",
   "id": "c8beee8c-2bb0-4c8f-bf9f-5038541d8049",
   "metadata": {},
   "source": [
    "Smallest and Largest element in the array"
   ]
  },
  {
   "cell_type": "code",
   "execution_count": 69,
   "id": "c2d92221-a150-4458-ab19-71d5bdad65b9",
   "metadata": {},
   "outputs": [
    {
     "name": "stdout",
     "output_type": "stream",
     "text": [
      "3\n",
      "67\n",
      "4\n",
      "89\n",
      "4\n",
      "89\n"
     ]
    }
   ],
   "source": [
    "arr=[10,20,30,45,32,67,54,3]\n",
    "smallest=arr[0]\n",
    "largest=arr[0]\n",
    "\n",
    "for num in arr:\n",
    "    if num>largest:\n",
    "        largest=num\n",
    "    if num<smallest:\n",
    "        smallest=num\n",
    "print(smallest)\n",
    "print(largest)\n",
    "\n",
    "arr = [10, 89,9, 56, 4, 80, 8]\n",
    "arr.sort()\n",
    "print (arr[0])\n",
    "print (arr[-1])\n",
    "\n",
    "arr = [10, 89, 9, 56, 4, 80, 8]\n",
    "print (min(arr))\n",
    "print (max(arr))"
   ]
  },
  {
   "cell_type": "markdown",
   "id": "883f0b8c-732d-4373-a05f-30c7cd1077e2",
   "metadata": {},
   "source": [
    "Program to print missing number in an array or list"
   ]
  },
  {
   "cell_type": "code",
   "execution_count": 8,
   "id": "31af1b8b-6502-4a64-9d08-7f3828451e69",
   "metadata": {},
   "outputs": [
    {
     "name": "stdout",
     "output_type": "stream",
     "text": [
      "32\n"
     ]
    }
   ],
   "source": [
    "def find_missing_number(num1):\n",
    "    n = len(num1) + 1  # Total number of elements including the missing number\n",
    "    total_sum = n * (n + 1) // 2  # Sum of the first n natural numbers\n",
    "    return total_sum - sum(num1)  # Missing number\n",
    "\n",
    "# Example usage\n",
    "numbers = list(range(1, 101))  # Create a list of numbers from 1 to 100\n",
    "numbers.remove(32)  # Remove the number 32 to simulate the missing number\n",
    "\n",
    "# Find and print the missing number\n",
    "print(find_missing_number(numbers))"
   ]
  },
  {
   "cell_type": "code",
   "execution_count": 5,
   "id": "bcddf609-3042-411c-93ec-455273241c2c",
   "metadata": {},
   "outputs": [
    {
     "name": "stdout",
     "output_type": "stream",
     "text": [
      "Missing Number: 3\n"
     ]
    }
   ],
   "source": [
    "def find_missing(arr, n):\n",
    "    expected_sum = n * (n + 1) // 2\n",
    "    actual_sum = sum(arr)\n",
    "    return expected_sum - actual_sum\n",
    "\n",
    "# Test\n",
    "arr = [1, 2, 4, 5, 6]\n",
    "n = 6\n",
    "result = find_missing(arr, n)\n",
    "print(\"Missing Number:\", result)"
   ]
  },
  {
   "cell_type": "code",
   "execution_count": null,
   "id": "152a4d07-edac-4653-80bd-7b1a0309db7e",
   "metadata": {},
   "outputs": [],
   "source": []
  },
  {
   "cell_type": "markdown",
   "id": "86090474-543c-4a67-a55c-f7cf32d3007f",
   "metadata": {},
   "source": [
    "Calculate the sum of elements in an array using Python"
   ]
  },
  {
   "cell_type": "code",
   "execution_count": 74,
   "id": "8d1f8092-b5e0-4c72-99fe-84796b695295",
   "metadata": {},
   "outputs": [
    {
     "name": "stdout",
     "output_type": "stream",
     "text": [
      "Sum of array: 15\n",
      "178\n"
     ]
    }
   ],
   "source": [
    "def sumArray(arr):\n",
    "    total = 0\n",
    "    for num in arr:\n",
    "        total += num\n",
    "    return total\n",
    "\n",
    "# Example usage\n",
    "arr = [1, 2, 3, 4, 5]\n",
    "result = sumArray(arr)\n",
    "print(\"Sum of array:\", result)\n",
    "\n",
    "def getSum(arr, n):\n",
    "   if n == 0:\n",
    "     return 0\n",
    "   return arr[n-1] + getSum(arr, n-1)\n",
    "arr = [10, 20, 4, 45, 99]\n",
    "print(getSum(arr, len(arr)))"
   ]
  },
  {
   "cell_type": "markdown",
   "id": "c8d5d036-68ec-415f-a5d3-142d148b05a8",
   "metadata": {},
   "source": [
    "second largest element in the array r list"
   ]
  },
  {
   "cell_type": "code",
   "execution_count": 75,
   "id": "06b83edf-9ba7-4720-8512-d01a7595fb53",
   "metadata": {},
   "outputs": [
    {
     "name": "stdout",
     "output_type": "stream",
     "text": [
      "The second largest number is: 45\n",
      "The second largest number is: 45\n",
      "The second largest number is: 45\n"
     ]
    }
   ],
   "source": [
    "arr = [10, 20, 4, 45, 99]\n",
    "max_element = max(arr)  # Find the maximum element\n",
    "arr.remove(max_element)  # Remove it from the array\n",
    "second_largest = max(arr)  # The new maximum is the second largest\n",
    "print(\"The second largest number is:\", second_largest)\n",
    "\n",
    "arr = [10, 20, 4, 45, 99]\n",
    "unique_arr = list(set(arr)) # removing duplicates\n",
    "unique_arr.sort(reverse=True)\n",
    "if len(unique_arr) < 2:\n",
    "    print(\"No second largest number exists.\")\n",
    "else:\n",
    "    print(\"The second largest number is:\", unique_arr[1])\n",
    "\n",
    "\n",
    "\n",
    "largest = second_largest = float('-inf')\n",
    "for num in arr:\n",
    "    if num > largest:\n",
    "        second_largest = largest\n",
    "        largest = num\n",
    "    elif num > second_largest and num != largest:\n",
    "        second_largest = num\n",
    "if second_largest == float('-inf'):\n",
    "    print(\"No second largest number exists.\")\n",
    "else:\n",
    "    print(\"The second largest number is:\", second_largest)"
   ]
  },
  {
   "cell_type": "code",
   "execution_count": null,
   "id": "9421f225-deae-4e6a-8852-c052939ea9c5",
   "metadata": {},
   "outputs": [],
   "source": []
  },
  {
   "cell_type": "markdown",
   "id": "797fd930-cc96-4420-8e41-36e30d4ab1fd",
   "metadata": {},
   "source": [
    "Length of the string without usning inbuilt function."
   ]
  },
  {
   "cell_type": "code",
   "execution_count": 76,
   "id": "f9a84f18-1624-4f30-9a6a-ad664e056787",
   "metadata": {},
   "outputs": [
    {
     "name": "stdout",
     "output_type": "stream",
     "text": [
      "5\n"
     ]
    }
   ],
   "source": [
    "string = 'Hello'\n",
    "count = 0\n",
    "for i in string:\n",
    "    count+=1\n",
    "print(count)"
   ]
  },
  {
   "cell_type": "markdown",
   "id": "02c7f55c-8fde-4f6c-ab28-efeb0cd2bd12",
   "metadata": {},
   "source": [
    "Try and Exception block"
   ]
  },
  {
   "cell_type": "code",
   "execution_count": null,
   "id": "c7654d3c-faf5-412c-b099-ef7733de6a29",
   "metadata": {},
   "outputs": [],
   "source": [
    "try:\n",
    "    num1 = int(input(\"Enter the numerator: \"))\n",
    "    num2 = int(input(\"Enter the denominator: \"))\n",
    "    result = num1 / num2\n",
    "    print(f\"The result is {result}\")\n",
    "except ZeroDivisionError:\n",
    "    print(\"Error: You cannot divide by zero!\")\n",
    "except ValueError:\n",
    "    print(\"Error: Please enter a valid number!\")"
   ]
  },
  {
   "cell_type": "code",
   "execution_count": 71,
   "id": "035b1e9b-69c0-4aaa-ba0d-3e8793dd6750",
   "metadata": {},
   "outputs": [
    {
     "name": "stdout",
     "output_type": "stream",
     "text": [
      "150\n",
      "50\n"
     ]
    }
   ],
   "source": [
    "'''Write a Python program that defines a class Rectangle with properties width and height. \n",
    "Include methods to calculate the area and perimeter. Then, create an instance of the Rectangle\n",
    " class and print both the area and perimeter.'''\n",
    "\n",
    "class Rectangle:\n",
    "    def __init__(self,width,height):\n",
    "        self.width=width\n",
    "        self.height=height\n",
    "    def area(self):\n",
    "        return self.width*self.height\n",
    "    def perimeter(self):\n",
    "        return 2*(self.width+self.height)\n",
    "rectangle=Rectangle(width=10,height=15)\n",
    "print(rectangle.area())      \n",
    "print(rectangle.perimeter())  "
   ]
  },
  {
   "cell_type": "code",
   "execution_count": 69,
   "id": "33717d4d-9649-49d2-b092-a6fa80c70024",
   "metadata": {},
   "outputs": [
    {
     "name": "stdout",
     "output_type": "stream",
     "text": [
      "[4, 27, 16, 125, 36, 343, 64]\n"
     ]
    }
   ],
   "source": [
    "''' Write a Python function that accepts a list of integers and returns a new list where each element is squared if\n",
    "it’s even, and cubed if it’s odd. Use list comprehension and operators to implement this.'''\n",
    "\n",
    "list1=[2,3,4,5,6,7,8]\n",
    "new_list=[x**2 if x%2==0 else x**3 for x in list1]\n",
    "print(new_list)"
   ]
  },
  {
   "cell_type": "code",
   "execution_count": 9,
   "id": "4cac665e-e6d1-466a-bc6c-da96fa705471",
   "metadata": {},
   "outputs": [
    {
     "name": "stdout",
     "output_type": "stream",
     "text": [
      "{'Alice': 84.33333333333333, 'Bob': 83.66666666666667, 'Charlie': 89.66666666666667}\n"
     ]
    }
   ],
   "source": [
    "''' Write a Python function that takes a list of dictionaries, each containing a student's name and their marks in three subjects.\n",
    " The function should return a dictionary with the student’s name as the key and their average marks as the value.'''\n",
    "\n",
    "def calculate_avg(students):\n",
    "    avg = {}\n",
    "    for student in students:\n",
    "        name = student['name']\n",
    "        marks = student['marks']\n",
    "        avg[name] = sum(marks) / len(marks)  # Calculate average marks\n",
    "    return avg\n",
    "\n",
    "students_list = [\n",
    "    {'name': 'Alice', 'marks': [85, 90, 78]},\n",
    "    {'name': 'Bob', 'marks': [72, 88, 91]},\n",
    "    {'name': 'Charlie', 'marks': [89, 87, 93]}\n",
    "]\n",
    "\n",
    "avg = calculate_avg(students_list)\n",
    "print(avg)"
   ]
  },
  {
   "cell_type": "code",
   "execution_count": 67,
   "id": "59a89935-9dee-463b-bd66-77d5fb378d1d",
   "metadata": {},
   "outputs": [
    {
     "name": "stdout",
     "output_type": "stream",
     "text": [
      "[16, 25, 36, 49, 64, 81]\n",
      "3657830400\n"
     ]
    }
   ],
   "source": [
    "'''Write a Python program that uses map(), filter(), and reduce() functions to:\n",
    "Square each element of a list.\n",
    "Filter out all elements that are less than 10.\n",
    "Find the product of all the remaining elements in the list.'''\n",
    "''' > Greater than\n",
    "    < less than \n",
    "'''\n",
    "from functools import reduce\n",
    "num = [1, 2, 3, 4, 5, 6, 7, 8, 9]\n",
    "squared_list = map(lambda x: x**2, num)\n",
    "squared_list = list(squared_list)\n",
    "\n",
    "filtered_list = list(filter(lambda x: x > 10, squared_list))\n",
    "print(filtered_list)\n",
    "\n",
    "product = reduce(lambda x, y: x * y, filtered_list)\n",
    "print(product)"
   ]
  },
  {
   "cell_type": "code",
   "execution_count": null,
   "id": "74e2f554-2136-4974-80e7-80662f808023",
   "metadata": {},
   "outputs": [],
   "source": [
    "'''Write a Python program that accepts a user’s age and checks if the age is a valid number. \n",
    "If the input is invalid, raise a custom exception InvalidAgeError and print a meaningful error message'''\n",
    "\n",
    "''' statement is a null operation — it does nothing when executed. It is used as a placeholder in situations \n",
    "where the syntax requires a statement but you don’t want to execute any code.'''\n",
    "class InvalidAgeError(Exception):\n",
    "    pass\n",
    "\n",
    "def get_age():\n",
    "    try:\n",
    "        age = int(input(\"Enter your age: \"))\n",
    "        if age <= 0:\n",
    "            raise InvalidAgeError(\"Age must be a positive number.\")\n",
    "\n",
    "        print(f\"Your age is {age}.\")\n",
    "    \n",
    "    except ValueError:\n",
    "        raise InvalidAgeError(\"Please enter a valid number for age.\")\n",
    "    except Exception as e:\n",
    "        print(f\"Error: {e}\")\n",
    "get_age()"
   ]
  },
  {
   "cell_type": "code",
   "execution_count": 66,
   "id": "bfb089d3-58a3-4d5f-9c70-d78a1e1530df",
   "metadata": {},
   "outputs": [
    {
     "name": "stdout",
     "output_type": "stream",
     "text": [
      "Starting time-consuming operation...\n",
      "Operation complete.\n",
      "[HIGH LEVEL] Function  executed in 2.0009 seconds.\n",
      "None\n"
     ]
    }
   ],
   "source": [
    "'''Create a decorator that accepts a parameter level and prints the execution time of a function depending on its level\n",
    "(e.g., \"high\", \"medium\", \"low\"). Apply the decorator to a sample function that performs some time-consuming operation.'''\n",
    "\n",
    "''' flexible tool that allows you to modify or enhance the behavior of functions or methods without changing their actual code.'''\n",
    "import time\n",
    "def timing_decorator(level=\"medium\"):\n",
    "    def decorator(func):\n",
    "        def wrapper(*args, **kwargs):\n",
    "            start_time = time.time()\n",
    "            result = func(*args, **kwargs)\n",
    "            end_time = time.time()\n",
    "            execution_time = end_time - start_time\n",
    "            if level == \"high\":\n",
    "                print(f\"[HIGH LEVEL] Function  executed in {execution_time:.4f} seconds.\")\n",
    "            elif level == \"medium\":\n",
    "                print(f\"[MEDIUM LEVEL] Function  executed in {execution_time:.4f} seconds.\")\n",
    "            else:  \n",
    "                print(f\"[LOW LEVEL]Function Execution time: {execution_time:.4f} seconds.\")\n",
    "            return result\n",
    "        return wrapper\n",
    "    return decorator\n",
    "@timing_decorator(level=\"high\")\n",
    "def time_consuming_function():\n",
    "    print(\"Starting time-consuming operation...\")\n",
    "    time.sleep(2) \n",
    "    print(\"Operation complete.\")\n",
    "print(time_consuming_function())"
   ]
  },
  {
   "cell_type": "code",
   "execution_count": 65,
   "id": "e077a34a-dbaf-4991-8132-a4d5337d33e7",
   "metadata": {},
   "outputs": [
    {
     "name": "stdin",
     "output_type": "stream",
     "text": [
      "Enter the number: 3\n"
     ]
    },
    {
     "name": "stdout",
     "output_type": "stream",
     "text": [
      "Fibonacci numbers for n = 3:\n",
      "0 1 1 "
     ]
    }
   ],
   "source": [
    "'''Write a Python generator function fibonacci(n) that yields the first n Fibonacci numbers.\n",
    "Write a program that prints the Fibonacci numbers generated for n = 10'''\n",
    "def fibonacci(n):\n",
    "    a, b = 0, 1  \n",
    "    for _ in range(n):\n",
    "        yield a \n",
    "        a, b = b, a + b \n",
    "\n",
    "n =int(input('Enter the number:'))\n",
    "print(f\"Fibonacci numbers for n = {n}:\")\n",
    "for number in fibonacci(n):\n",
    "    print(number, end=\" \")"
   ]
  },
  {
   "cell_type": "code",
   "execution_count": 64,
   "id": "7e07a139-cc8b-4790-9ee9-836f55569442",
   "metadata": {},
   "outputs": [
    {
     "name": "stdout",
     "output_type": "stream",
     "text": [
      "source.txt not exist\n",
      "None\n"
     ]
    }
   ],
   "source": [
    "\"\"\"Write a Python program that reads from a file and writes its contents to another file.\n",
    "Use a context manager (with statement) for handling file operations, and ensure that the program handles any I/O errors properly\"\"\"\n",
    "def file_handling(source,destination):\n",
    "    try:\n",
    "        with  open(destination,'w') as dest,open(source,'r') as src:\n",
    "           content=src.read()\n",
    "           content+='\\n This is new line'\n",
    "           dest.write(content)\n",
    "           print(f'successfully copies from{source} to{destination}')\n",
    "    except FileNotFoundError:\n",
    "        print(f'{source} not exist')\n",
    "    except IOError as e:\n",
    "        print(f'Error:{e}')\n",
    "\n",
    "source='source.txt'\n",
    "destination='destination.txt'\n",
    "print(file_handling(source,destination))"
   ]
  },
  {
   "cell_type": "code",
   "execution_count": 63,
   "id": "e8b55c32-90d1-43a7-b473-99854eb21c79",
   "metadata": {},
   "outputs": [
    {
     "name": "stdout",
     "output_type": "stream",
     "text": [
      "'487386295' is NOT a valid phone number.\n"
     ]
    }
   ],
   "source": [
    "\n",
    "'''Write a Python program that validates a given string to check if it matches the pattern for a\n",
    "valid phone number (e.g., (123) 456-7890), using regular expressions.'''\n",
    "# 987-1243 (3346)\n",
    "import re\n",
    "def validate_phone_number(phone_number):\n",
    "    pattern1=r'^\\d{3}-\\d{4} (\\d{4}\\)$'\n",
    "    pattern = r\"^\\(\\d{3}\\) \\d{3}-\\d{4}$\"\n",
    "    if re.match(pattern, phone_number):\n",
    "        return f\"'{phone_number}' is a valid phone number.\"\n",
    "    else:\n",
    "        return f\"'{phone_number}' is NOT a valid phone number.\"\n",
    "phone_number = '487386295' \n",
    "print(validate_phone_number(phone_number))"
   ]
  },
  {
   "cell_type": "code",
   "execution_count": 62,
   "id": "e31cb1cd-c8fd-46fe-be95-187ac6e8d938",
   "metadata": {},
   "outputs": [
    {
     "name": "stdout",
     "output_type": "stream",
     "text": [
      "Extracted Emails:\n",
      "test@example.com\n",
      "support@company.org\n",
      "admin@my-domain.co.in\n",
      "fake@domain..com\n"
     ]
    }
   ],
   "source": [
    "import re\n",
    "def extract_emails(text):\n",
    "    # Regular expression for email addresses\n",
    "    email_regex = r'[a-zA-Z0-9._%+-]+@[a-zA-Z0-9.-]+\\.[a-zA-Z]{2,}'\n",
    "    # Find all email addresses in the text\n",
    "    emails = re.findall(email_regex, text)\n",
    "    return emails\n",
    "\n",
    "# Example text\n",
    "text = \"\"\"\n",
    "Hello, you can contact me at test@example.com for more details.\n",
    "Alternatively, reach out to support at support@company.org or admin@my-domain.co.in.\n",
    "Avoid sending emails to fake@domain..com or invalid@domain.\n",
    "\"\"\"\n",
    "# Extract emails from the text\n",
    "emails = extract_emails(text)\n",
    "print(\"Extracted Emails:\")\n",
    "for email in emails:\n",
    "    print(email)"
   ]
  },
  {
   "cell_type": "code",
   "execution_count": null,
   "id": "ab0b3fa9-9f90-4cdd-b7e9-9488523f65f9",
   "metadata": {},
   "outputs": [],
   "source": [
    "'''Create a base class Shape with methods area() and perimeter(). Create two derived classes, Circle and Square, that override the area()\n",
    "    and perimeter() methods. Instantiate both classes and demonstrate method overriding.'''\n",
    "import math\n",
    "class Shape:\n",
    "    def area(self):\n",
    "        return\n",
    "    \n",
    "    def perimeter(self):\n",
    "        return \n",
    "# Derived class: Circle\n",
    "class Circle(Shape):\n",
    "    def __init__(self, radius):\n",
    "        self.radius = radius\n",
    "\n",
    "    def area(self): \n",
    "        return math.pi * self.radius ** 2\n",
    "\n",
    "    def perimeter(self):\n",
    "        return 2 * math.pi * self.radius\n",
    "\n",
    "# Derived class: Square\n",
    "class Square(Shape):\n",
    "    def __init__(self, side):\n",
    "        self.side = side\n",
    "\n",
    "    def area(self):\n",
    "        return self.side ** 2\n",
    "\n",
    "    def perimeter(self):\n",
    "        return 4 * self.side\n",
    "\n",
    "circle = Circle(radius=5)\n",
    "square = Square(side=4)\n",
    "\n",
    "print(\"Circle:\")\n",
    "print(f\"Area: {circle.area():.2f}\")\n",
    "print(f\"Perimeter: {circle.perimeter():.2f}\")\n",
    "\n",
    "print(\"\\nSquare:\")\n",
    "print(f\"Area: {square.area()}\")\n",
    "print(f\"Perimeter: {square.perimeter()}\")"
   ]
  },
  {
   "cell_type": "code",
   "execution_count": 61,
   "id": "3775c56b-76f2-4d9d-b45d-4201c8c9b7e3",
   "metadata": {},
   "outputs": [
    {
     "name": "stdout",
     "output_type": "stream",
     "text": [
      "   Age   Salary\n",
      "0   25  51000.0\n",
      "1   30  59000.0\n",
      "2   35  66500.0\n",
      "3   40  71000.0\n",
      "Original DataFrame:\n",
      "   Age   Salary\n",
      "0   25  51000.0\n",
      "1   30  59000.0\n",
      "2   35  66500.0\n",
      "3   40  71000.0\n",
      "\n",
      "Average Salary by Age Group:\n",
      "   Age  Average Salary\n",
      "0   25         51000.0\n",
      "1   30         59000.0\n",
      "2   35         66500.0\n",
      "3   40         71000.0\n"
     ]
    }
   ],
   "source": [
    "'''Using the Pandas library, create a DataFrame with columns Name, Age, and Salary. \n",
    "Write a function that calculates the average salary for each age group and returns the results in a new DataFrame.'''\n",
    "import pandas as pd \n",
    "data = {\n",
    "    'Name': ['Alice', 'Bob', 'Charlie', 'David', 'Eve', 'Frank', 'Grace', 'Hannah'],\n",
    "    'Age': [25, 30, 25, 30, 35, 40, 35, 40],\n",
    "    'Salary': [50000, 60000, 52000, 58000, 65000, 70000, 68000, 72000]\n",
    "}\n",
    "df = pd.DataFrame(data)\n",
    "df = df.groupby('Age')['Salary'].mean().reset_index()\n",
    "print(df)\n",
    "\n",
    "\n",
    "def average_salary_by_age_group(dataframe):\n",
    "    result = dataframe.groupby('Age')['Salary'].mean().reset_index()\n",
    "    result.rename(columns={'Salary': 'Average Salary'}, inplace=True)\n",
    "    return result\n",
    "\n",
    "avg_salary_df = average_salary_by_age_group(df)\n",
    "print(\"Original DataFrame:\")\n",
    "print(df)\n",
    "\n",
    "print(\"\\nAverage Salary by Age Group:\")\n",
    "print(avg_salary_df)"
   ]
  },
  {
   "cell_type": "code",
   "execution_count": null,
   "id": "2bcb1cc5-69e2-4a5b-9ea4-ad59ae5e1c3f",
   "metadata": {},
   "outputs": [],
   "source": [
    "import itertools\n",
    "def generate_permutations(lst):\n",
    "    permutations = list(itertools.permutations(lst))\n",
    "    return permutations\n",
    "data = [1, 2, 3]\n",
    "permutations = generate_permutations(data)\n",
    "\n",
    "print(\"Permutations of the list:\")\n",
    "for perm in permutations:\n",
    "    print(perm)\n",
    "\n",
    "\n",
    "def compute_cartesian_product(list1, list2):\n",
    "    cartesian_product = list(itertools.product(list1, list2))\n",
    "    print(\"\\nCartesian product:\")\n",
    "    for pair in cartesian_product:\n",
    "        print(pair)\n",
    "list_a = [1, 2]\n",
    "list_b = ['a', 'b', 'c']\n",
    "compute_cartesian_product(list_a, list_b)\n",
    "\n",
    "\n",
    "a = [1, 2, 3]\n",
    "b = [3, 4]\n",
    "\n",
    "cartesian_prod = list(itertools.product(a, b))\n",
    "print(\"\\nCartesian product of a and b:\", cartesian_prod)\n",
    "\n",
    "permutations_a = list(itertools.permutations(a))\n",
    "print(\"\\nPermutations of list a:\", permutations_a)"
   ]
  },
  {
   "cell_type": "code",
   "execution_count": 12,
   "id": "56bae3de-99ef-42c4-a649-7a354ae5e74f",
   "metadata": {},
   "outputs": [
    {
     "data": {
      "text/plain": [
       "11.0"
      ]
     },
     "execution_count": 12,
     "metadata": {},
     "output_type": "execute_result"
    }
   ],
   "source": [
    "class Student:\n",
    "    def __init__(self,name,marks):\n",
    "        self.name=name\n",
    "        self.marks=marks\n",
    "    def avg_sum(self):\n",
    "        sum=0\n",
    "        for val in self.marks:\n",
    "            sum+=val\n",
    "        return sum/3\n",
    "s=Student('Prajwal',[10,20,3])\n",
    "s.avg_sum()"
   ]
  },
  {
   "cell_type": "code",
   "execution_count": null,
   "id": "37429349-e194-4315-95f1-8397609b7812",
   "metadata": {},
   "outputs": [],
   "source": [
    "'''Write a Python program that creates two threads. One thread should print numbers from 1 to 5 with a 1-second delay between each number,\n",
    " while the other thread should print the alphabet from a to e. Use the threading module.'''\n",
    "\n",
    "'''Threading in Python refers to the concurrent execution of more than one part of a program, \n",
    "or thread, to perform tasks simultaneously.'''\n",
    "\n",
    "print('13th Program')\n",
    "import threading\n",
    "import time\n",
    "def print_numbers():\n",
    "    for i in range(1, 6):\n",
    "        print(i)\n",
    "        time.sleep(1)\n",
    "\n",
    "def print_alphabets():\n",
    "    for letter in ['a', 'b', 'c', 'd', 'e']:\n",
    "        print(letter)\n",
    "        time.sleep(1) \n",
    "\n",
    "thread1 = threading.Thread(target=print_numbers)\n",
    "thread2 = threading.Thread(target=print_alphabets)\n",
    "\n",
    "thread1.start()\n",
    "thread2.start()\n",
    "\n",
    "thread1.join()\n",
    "thread2.join()\n",
    "\n",
    "print(\"Threads have completed execution.\")  "
   ]
  },
  {
   "cell_type": "code",
   "execution_count": null,
   "id": "cb620045-dc21-4c66-b0f7-f8c3268d4588",
   "metadata": {},
   "outputs": [],
   "source": [
    "'''method overloading : Method overloading refers to defining multiple methods with\n",
    " the same name function but different arguments (number or type).'''\n",
    "\n",
    "class Calculator:\n",
    "    def add(self,*args):\n",
    "        return sum(args)\n",
    "\n",
    "calc = Calculator()       \n",
    "print(calc.add(3,20))      \n",
    "print(calc.add(5, 10, 15))\n",
    "    \n",
    "'''method overriding : occurs when a child class defines a method \n",
    "that has the same name and parameters as a method in its parent class'''\n",
    "\n",
    "class Parent:\n",
    "    def greet(self):\n",
    "        print(\"Hello from Parent!\")\n",
    "\n",
    "class Child(Parent):\n",
    "    def greet(self):\n",
    "        print(\"Hello from Child!\")  \n",
    "\n",
    "obj = Child()\n",
    "obj.greet() "
   ]
  },
  {
   "cell_type": "code",
   "execution_count": null,
   "id": "8e53f891-5419-4f30-97da-b26bc82c97c4",
   "metadata": {},
   "outputs": [],
   "source": [
    "def atm_machine():\n",
    "    # Initial balance\n",
    "    balance = 1000.0  # Set an initial balance\n",
    "    \n",
    "    print(\"Welcome to the ATM!\")\n",
    "    print(\"Please select an option:\")\n",
    "    \n",
    "    while True:\n",
    "        print(\"\\n1. Check Balance\")\n",
    "        print(\"2. Deposit Money\")\n",
    "        print(\"3. Withdraw Money\")\n",
    "        print(\"4. Exit\")\n",
    "\n",
    "        \n",
    "        choice = input(\"Enter your choice (1/2/3/4): \")\n",
    "        \n",
    "        if choice == \"1\":\n",
    "            # Check balance\n",
    "            print(f\"Your current balance is: ${balance:.2f}\")\n",
    "        \n",
    "        elif choice == \"2\":\n",
    "            # Deposit money\n",
    "            try:\n",
    "                deposit = float(input(\"Enter the amount to deposit: \"))\n",
    "                if deposit > 0:\n",
    "                    balance += deposit\n",
    "                    print(f\"Successfully deposited ${deposit:.2f}. New balance: ${balance:.2f}\")\n",
    "                else:\n",
    "                    print(\"Invalid amount. Please enter a positive number.\")\n",
    "            except ValueError:\n",
    "                print(\"Invalid input. Please enter a valid number.\")\n",
    "        \n",
    "        elif choice == \"3\":\n",
    "            # Withdraw money\n",
    "            try:\n",
    "                withdraw = float(input(\"Enter the amount to withdraw: \"))\n",
    "                if withdraw > 0:\n",
    "                    if withdraw <= balance:\n",
    "                        balance -= withdraw\n",
    "                        print(f\"Successfully withdrew ${withdraw:.2f}. Remaining balance: ${balance:.2f}\")\n",
    "                    else:\n",
    "                        print(\"Insufficient balance.\")\n",
    "                else:\n",
    "                    print(\"Invalid amount. Please enter a positive number.\")\n",
    "            except ValueError:\n",
    "                print(\"Invalid input. Please enter a valid number.\")\n",
    "        \n",
    "        elif choice == \"4\":\n",
    "            # Exit\n",
    "            print(\"Thank you for using the ATM. Goodbye!\")\n",
    "            break\n",
    "        \n",
    "        else:\n",
    "            # Invalid choice\n",
    "            print(\"Invalid choice. Please try again.\")\n",
    "\n",
    "# Run the ATM machine\n",
    "atm_machine()"
   ]
  },
  {
   "cell_type": "code",
   "execution_count": 59,
   "id": "3edb7674-d899-41ee-b561-32cfdc00fb16",
   "metadata": {},
   "outputs": [
    {
     "name": "stdout",
     "output_type": "stream",
     "text": [
      "Account balance: 10\n",
      "Deposited 50. New balance: 60\n",
      "Insufficient funds. Cannot withdraw more than the current balance.\n",
      "Insufficient funds. Cannot withdraw more than the current balance.\n",
      "Account balance: 60\n"
     ]
    }
   ],
   "source": [
    "''' Create a Python class BankAccount that has methods to deposit, withdraw, and check balance. Ensure that withdrawal cannot exceed the balance.'''\n",
    "class BankAccount:\n",
    "    def __init__(self, initial_balance=0):\n",
    "        self.balance = initial_balance\n",
    "\n",
    "    def deposit(self, amount):\n",
    "        if amount > 0:\n",
    "            self.balance += amount\n",
    "            print(f\"Deposited {amount}. New balance: {self.balance}\")\n",
    "        else:\n",
    "            print(\"Deposit amount must be positive.\")\n",
    "\n",
    "    def withdraw(self, amount):\n",
    "        if amount <= 0:\n",
    "            print(\"Withdrawal amount must be positive.\")\n",
    "        elif amount > self.balance:\n",
    "            print(\"Insufficient funds. Cannot withdraw more than the current balance.\")\n",
    "        else:\n",
    "            self.balance -= amount\n",
    "            print(f\"Withdrew {amount}. New balance: {self.balance}\")\n",
    "\n",
    "    def check_balance(self):\n",
    "        print(f\"Account balance: {self.balance}\")\n",
    "\n",
    "account = BankAccount(10)\n",
    "account.check_balance()\n",
    "account.deposit(50)\n",
    "account.withdraw(300)\n",
    "account.withdraw(1500)\n",
    "account.check_balance()\n",
    "\n",
    "# def main():\n",
    "#     initial_balance = float(input(\"Enter initial balance for the account: \"))\n",
    "#     account = BankAccount(initial_balance)\n",
    "    \n",
    "#     while True:\n",
    "#         print(\"\\nMenu:\")\n",
    "#         print(\"1. Check Balance\")\n",
    "#         print(\"2. Deposit\")\n",
    "#         print(\"3. Withdraw\")\n",
    "#         print(\"4. Exit\")\n",
    "        \n",
    "#         choice = input(\"Choose an option: \")\n",
    "#         if choice == \"1\":\n",
    "#             account.check_balance()\n",
    "#         elif choice == \"2\":\n",
    "#             amount = float(input(\"Enter amount to deposit: \"))\n",
    "#             account.deposit(amount)\n",
    "#         elif choice == \"3\":\n",
    "#             amount = float(input(\"Enter amount to withdraw: \"))\n",
    "#             account.withdraw(amount)\n",
    "#         elif choice == \"4\":\n",
    "#             print(\"Exiting. Thank you for using the bank account service.\")\n",
    "#             break\n",
    "#         else:\n",
    "#             print(\"Invalid choice. Please select a valid option.\")\n",
    "\n",
    "# main()"
   ]
  },
  {
   "cell_type": "code",
   "execution_count": null,
   "id": "82fefdb2-47c4-4519-a9d5-c22a3d3741c4",
   "metadata": {},
   "outputs": [],
   "source": [
    "def atm_machine():\n",
    "    # User data (username: [password, balance])\n",
    "    users = {\n",
    "        \"user1\": [\"password1\", 1000.0],\n",
    "        \"user2\": [\"password2\", 2000.0],\n",
    "        \"user3\": [\"password3\", 1500.0]\n",
    "    }\n",
    "\n",
    "    print(\"Welcome to the Multi-User ATM!\")\n",
    "    \n",
    "    # User login\n",
    "    username = input(\"Enter your username: \")\n",
    "    if username in users:\n",
    "        password = input(\"Enter your password: \")\n",
    "        if password == users[username][0]:\n",
    "            print(f\"Welcome, {username}!\")\n",
    "            balance = users[username][1]\n",
    "\n",
    "            # ATM operations\n",
    "            while True:\n",
    "                print(\"\\n1. Check Balance\")\n",
    "                print(\"2. Deposit Money\")\n",
    "                print(\"3. Withdraw Money\")\n",
    "                print(\"4. Logout\")\n",
    "                \n",
    "                choice = input(\"Enter your choice (1/2/3/4): \")\n",
    "\n",
    "                if choice == \"1\":\n",
    "                    # Check balance\n",
    "                    print(f\"Your current balance is: ${balance:.2f}\")\n",
    "\n",
    "                elif choice == \"2\":\n",
    "                    # Deposit money\n",
    "                    try:\n",
    "                        deposit = float(input(\"Enter the amount to deposit: \"))\n",
    "                        if deposit > 0:\n",
    "                            balance += deposit\n",
    "                            print(f\"Successfully deposited ${deposit:.2f}. New balance: ${balance:.2f}\")\n",
    "                        else:\n",
    "                            print(\"Invalid amount. Please enter a positive number.\")\n",
    "                    except ValueError:\n",
    "                        print(\"Invalid input. Please enter a valid number.\")\n",
    "\n",
    "                elif choice == \"3\":\n",
    "                    # Withdraw money\n",
    "                    try:\n",
    "                        withdraw = float(input(\"Enter the amount to withdraw: \"))\n",
    "                        if withdraw > 0:\n",
    "                            if withdraw <= balance:\n",
    "                                balance -= withdraw\n",
    "                                print(f\"Successfully withdrew ${withdraw:.2f}. Remaining balance: ${balance:.2f}\")\n",
    "                            else:\n",
    "                                print(\"Insufficient balance.\")\n",
    "                        else:\n",
    "                            print(\"Invalid amount. Please enter a positive number.\")\n",
    "                    except ValueError:\n",
    "                        print(\"Invalid input. Please enter a valid number.\")\n",
    "\n",
    "                elif choice == \"4\":\n",
    "                    # Logout\n",
    "                    users[username][1] = balance  # Save the updated balance\n",
    "                    print(f\"Goodbye, {username}!\")\n",
    "                    break\n",
    "\n",
    "                else:\n",
    "                    # Invalid choice\n",
    "                    print(\"Invalid choice. Please try again.\")\n",
    "        else:\n",
    "            print(\"Incorrect password. Access denied.\")\n",
    "    else:\n",
    "        print(\"Username not found. Please try again or register.\")\n",
    "\n",
    "# Run the ATM machine\n",
    "atm_machine()"
   ]
  },
  {
   "cell_type": "code",
   "execution_count": 58,
   "id": "5a74761f-79ea-4302-9acc-dcd3c1e78ed7",
   "metadata": {},
   "outputs": [
    {
     "name": "stdout",
     "output_type": "stream",
     "text": [
      "[19, 18, 17, 16, 15, 14, 13, 12, 11]\n"
     ]
    }
   ],
   "source": [
    "''' Write a function reverse_and_add that reverses a list and adds 10 to each element using list comprehension.'''\n",
    "def reverse_and_add(lst):\n",
    "    return [i+10 for i in lst[::-1]]\n",
    "lst=[1,2,3,4,5,6,7,8,9]\n",
    "print(reverse_and_add(lst))"
   ]
  },
  {
   "cell_type": "code",
   "execution_count": 57,
   "id": "58ababe4-acb9-4d79-b233-5b04d8b1973d",
   "metadata": {},
   "outputs": [
    {
     "name": "stdout",
     "output_type": "stream",
     "text": [
      "{'math': 71, 'science': 83, 'english': 76}\n"
     ]
    }
   ],
   "source": [
    "''' Create a function average_marks_by_subject that takes a list of students with their marks in three\n",
    " subjects and returns a dictionary of average marks for each subject.'''\n",
    "\n",
    "def average_marks_by_subject(students):\n",
    "    subjects=['math','science','english']\n",
    "    new={}\n",
    "    for subject in subjects:\n",
    "        total_marks=0\n",
    "        for student in students:\n",
    "            total_marks+=student[subject]\n",
    "        avg=int(total_marks/len(students))\n",
    "        new[subject] = avg\n",
    "    return new\n",
    "students=[\n",
    "    {\"name\": \"Aliya\", \"math\": 85, \"science\": 90, \"english\": 80},\n",
    "    {'name':'Prajwal','math':50,'science':80,'english':70},\n",
    "     {'name':'Nikhil','math':80,'science':80,'english':80  }\n",
    "         \n",
    "]\n",
    "avg=average_marks_by_subject(students)\n",
    "print(avg)"
   ]
  },
  {
   "cell_type": "code",
   "execution_count": 56,
   "id": "dbc7a375-5c42-495e-b252-d9525b226bdd",
   "metadata": {},
   "outputs": [
    {
     "name": "stdout",
     "output_type": "stream",
     "text": [
      "[5, 3, 7, 2, 1, 4, 8]\n",
      "[5, 3, 7, 2, 1, 4, 8]\n",
      "30\n"
     ]
    }
   ],
   "source": [
    "'''Use map(), filter(), and reduce() to convert a list of numbers to their absolute values, \n",
    "filter out negative numbers, and find the sum of the remaining elements'''\n",
    "numbers = [-5, -3, 7, 2, -1, 4, -8]\n",
    "abs_numbers = list(map(abs, numbers))\n",
    "print(abs_numbers)\n",
    "filtered_numbers = list(filter(lambda x: x > 0, abs_numbers))\n",
    "print(filtered_numbers)\n",
    "sum_numbers = reduce(lambda x,y:x+y,filtered_numbers)\n",
    "print(sum_numbers)"
   ]
  },
  {
   "cell_type": "code",
   "execution_count": 54,
   "id": "87cc2d87-7f9b-44f9-a35b-6312837bb73a",
   "metadata": {},
   "outputs": [
    {
     "name": "stdin",
     "output_type": "stream",
     "text": [
      "Enter the age: 3\n"
     ]
    },
    {
     "name": "stdout",
     "output_type": "stream",
     "text": [
      "3\n"
     ]
    }
   ],
   "source": [
    "''' Create a custom exception InvalidAgeError that gets raised if the user enters a negative age.'''\n",
    "class InvalidAgeError(Exception):\n",
    "    pass\n",
    "def validate_age():\n",
    "    try:\n",
    "        age=int(input('Enter the age:'))\n",
    "        if age<0:\n",
    "            raise InvalidAgeError('Age can not be negative')\n",
    "        else:\n",
    "            return age\n",
    "    except ValueError:\n",
    "        raise ValueError('Invalid Input')\n",
    "    except Exception as e:\n",
    "        print(f'Error:{e}')\n",
    "print(validate_age())"
   ]
  },
  {
   "cell_type": "code",
   "execution_count": 53,
   "id": "bbabb745-ba20-40ac-a756-5cd752b7cabe",
   "metadata": {},
   "outputs": [
    {
     "name": "stdout",
     "output_type": "stream",
     "text": [
      "Random number: 1\n",
      "Attempt 1 failed with error: Error\n",
      "Random number: 3\n",
      "done\n",
      "None\n"
     ]
    }
   ],
   "source": [
    "''' Write a decorator retry that retries a function up to 3 times if it raises an exception.'''\n",
    "import time\n",
    "import random\n",
    "def retry(func):\n",
    "    def wrapper():\n",
    "        for i in range(1, 4):  \n",
    "            try:\n",
    "                return func()\n",
    "            except Exception as e:\n",
    "                print(f\"Attempt {i} failed with error: {e}\")\n",
    "                time.sleep(1)  \n",
    "                if i == 3: \n",
    "                    raise\n",
    "    return wrapper\n",
    "@retry\n",
    "def unreliable_function():\n",
    "    x = random.randint(1, 4)\n",
    "    print(f\"Random number: {x}\")\n",
    "    if x != 3:\n",
    "        raise Exception(\"Error\")\n",
    "    print(\"done\")\n",
    "try:\n",
    "    print(unreliable_function())\n",
    "except Exception as e:\n",
    "    print(f\"Function failed after 3 retries: {e}\")"
   ]
  },
  {
   "cell_type": "code",
   "execution_count": 52,
   "id": "05504bbd-095d-43c5-ab9e-2c4f1e9493a6",
   "metadata": {},
   "outputs": [
    {
     "name": "stdin",
     "output_type": "stream",
     "text": [
      "Enter the number of even numbers to generate:  4\n"
     ]
    },
    {
     "name": "stdout",
     "output_type": "stream",
     "text": [
      "The first 4 even numbers are:\n",
      "0 2 4 6 0\n",
      "2\n",
      "4\n",
      "6\n",
      "8\n",
      "10\n",
      "12\n",
      "14\n",
      "16\n",
      "18\n"
     ]
    }
   ],
   "source": [
    "'''Write a Python generator even_numbers(n) that yields the first n even numbers.'''\n",
    "def even_numbers(n):\n",
    "    num = 0  \n",
    "    for _ in range(n):\n",
    "        yield num  \n",
    "        num += 2   \n",
    "# Example usage:\n",
    "n = int(input(\"Enter the number of even numbers to generate: \"))\n",
    "print(\"The first\", n, \"even numbers are:\")\n",
    "for even in even_numbers(n):\n",
    "    print(even, end=\" \")\n",
    "\n",
    "def even(n):\n",
    "    for i in range(n):\n",
    "        yield i*2\n",
    "for num in even(10):\n",
    "    print(num)"
   ]
  },
  {
   "cell_type": "code",
   "execution_count": 51,
   "id": "77769387-e008-4b5c-82d1-d81999fce080",
   "metadata": {},
   "outputs": [
    {
     "name": "stdout",
     "output_type": "stream",
     "text": [
      "Error: The file 'input.txt' does not exist.\n"
     ]
    }
   ],
   "source": [
    "''' Write a Python program that reads a file input.txt, counts the number of 'lines,\n",
    " and writes the result to another file output.txt.'''\n",
    "def count_lines(input_filename):\n",
    "    try:\n",
    "        with open(input_filename, 'r') as infile:\n",
    "            lines = infile.readlines()\n",
    "            line_count = len(lines)\n",
    "        \n",
    "        with open('output.txt', 'w') as outfile:\n",
    "            outfile.write(f\"Number of lines: {line_count}\")\n",
    "            print(\"The number of lines has been saved to 'output.txt'.\")\n",
    "    \n",
    "    except FileNotFoundError:\n",
    "        print(f\"Error: The file '{input_filename}' does not exist.\")\n",
    "filename = 'input.txt'\n",
    "count_lines(filename)"
   ]
  },
  {
   "cell_type": "code",
   "execution_count": 50,
   "id": "dadf3b71-38e2-465b-8831-3aee4ae46584",
   "metadata": {},
   "outputs": [
    {
     "name": "stdout",
     "output_type": "stream",
     "text": [
      "['12-04-2002', '29-02-2024', '31-12-2024']\n"
     ]
    }
   ],
   "source": [
    "\n",
    "'''Write a regular expression pattern to validate a date in the format DD/MM/YYYY.'''\n",
    "'''\n",
    "^(0[1-9]|[12][0-9]|3[01]): Matches the day part:\n",
    "0[1-9]: Matches days 01 to 09.\n",
    "[12][0-9]: Matches days 10 to 29.\n",
    "3[01]: Matches days 30 and 31.\n",
    "/(0[1-9]|1[0-2])/: Matches the month part:\n",
    "0[1-9]: Matches months 01 to 09.\n",
    "1[0-2]: Matches months 10 to 12.\n",
    "\\d{4}$: Matches the year part:\n",
    "\\d{4}: Matches any four digits, ensuring the year is in the form YYYY.\n",
    "'''\n",
    "import re\n",
    "def is_leap_year(year):\n",
    "    if (year% 4 == 0 and year % 100 != 0) or (year % 400 == 0):\n",
    "        return True\n",
    "    return False\n",
    "\n",
    "def validate_date(date):\n",
    "    pattern = r'^(0[1-9]|[12][0-9]|3[01])[-/](0[1-9]|1[0-2])[-/](\\d{4})$'\n",
    "    match = re.match(pattern, date)\n",
    "    \n",
    "    if not match:\n",
    "        return False  \n",
    "    \n",
    "    day, month, year = map(int, match.groups())\n",
    "    days_in_month = [31, 28, 31, 30, 31, 30, 31, 31, 30, 31, 30, 31]\n",
    "    \n",
    "    if is_leap_year(year):\n",
    "        days_in_month[1] = 29\n",
    "    \n",
    "    if day > days_in_month[month - 1]:\n",
    "        return False\n",
    "    return True\n",
    "\n",
    "dates = ['12-04-2002', '29-02-2024', '31-04-2022', '31-12-2024']\n",
    "\n",
    "valid_dates = list(filter(validate_date, dates))\n",
    "print(valid_dates)"
   ]
  },
  {
   "cell_type": "code",
   "execution_count": 49,
   "id": "d63874e2-057e-4482-84f0-d80f541b374f",
   "metadata": {},
   "outputs": [
    {
     "name": "stdout",
     "output_type": "stream",
     "text": [
      "Rectangle\n",
      "Area: 50\n",
      "Perimeter: 30\n",
      "\n",
      "Triangle\n",
      "Area: 25.0\n",
      "Perimeter: 15\n"
     ]
    },
    {
     "data": {
      "text/plain": [
       "' Self : instance of the object'"
      ]
     },
     "execution_count": 49,
     "metadata": {},
     "output_type": "execute_result"
    }
   ],
   "source": [
    "''' Write a program to calculate the area and perimeter of a triangle by using a base class Polygon\n",
    " and derived classes Rectangle and Triangle.'''\n",
    "\n",
    "class Polygon:\n",
    "    def area(self):\n",
    "        return\n",
    "    def perimeter(self):\n",
    "        return\n",
    "class Rectangle(Polygon):\n",
    "    def __init__(self, width, height):\n",
    "        self.width = width\n",
    "        self.height = height\n",
    "\n",
    "    def area(self):\n",
    "        return self.width * self.height\n",
    "\n",
    "    def perimeter(self):\n",
    "        return 2 * (self.width + self.height)\n",
    "    \n",
    "class Triangle(Polygon):\n",
    "    def __init__(self, base, height, side1, side2, side3):\n",
    "        self.base = base\n",
    "        self.height = height\n",
    "        self.side1 = side1\n",
    "        self.side2 = side2\n",
    "        self.side3 = side3\n",
    "\n",
    "    def area(self):\n",
    "        return 0.5 * self.base * self.height\n",
    "\n",
    "    def perimeter(self):\n",
    "        return self.side1 + self.side2 + self.side3\n",
    "\n",
    "# Example usage\n",
    "rectangle = Rectangle(5, 10)\n",
    "triangle = Triangle(5, 10, 5, 5, 5)\n",
    "\n",
    "print(\"Rectangle\")\n",
    "print(\"Area:\", rectangle.area())\n",
    "print(\"Perimeter:\", rectangle.perimeter())\n",
    "\n",
    "print(\"\\nTriangle\")\n",
    "print(\"Area:\", triangle.area())\n",
    "print(\"Perimeter:\", triangle.perimeter())\n",
    "\n",
    "'''The super() function allows you to call a method from a parent (or base) class.\n",
    "\n",
    "super().__init__ is used to call the __init__ method of the base class (Polygon) from the derived\n",
    " classes (Rectangle and Triangle).'''\n",
    "\n",
    "''' Self : instance of the object'''"
   ]
  },
  {
   "cell_type": "code",
   "execution_count": 48,
   "id": "a6cc7ff4-1656-4d27-970f-c14dfd75d764",
   "metadata": {},
   "outputs": [
    {
     "name": "stdout",
     "output_type": "stream",
     "text": [
      "2\n",
      "1\n",
      "4\n",
      "3\n",
      "65\n",
      "\n",
      "78\n",
      "\n",
      "910\n",
      "\n",
      "Over the program\n"
     ]
    }
   ],
   "source": [
    "'''Create a program that creates two threads. One thread prints even numbers from 1 to 10, and the \n",
    "other prints odd numbers from 1 to 10.'''\n",
    "import threading\n",
    "import time\n",
    "def even():\n",
    "    for i in range(2,11,2):\n",
    "            print(i)\n",
    "            time.sleep(1)\n",
    "\n",
    "def odd():\n",
    "    for i in range(1,10,2):\n",
    "            print(i)\n",
    "            time.sleep(1)\n",
    "\n",
    "thread1=threading.Thread(target=even)\n",
    "thread2=threading.Thread(target=odd)\n",
    "\n",
    "thread1.start()\n",
    "thread2.start()\n",
    "\n",
    "thread1.join()\n",
    "thread2.join()\n",
    "print('Over the program')"
   ]
  },
  {
   "cell_type": "code",
   "execution_count": 47,
   "id": "b63b6c12-fd2e-47f1-af84-d057a40d69ae",
   "metadata": {},
   "outputs": [
    {
     "name": "stdout",
     "output_type": "stream",
     "text": [
      "department\n",
      "FInance    35000.0\n",
      "HR         35000.0\n",
      "IT         10000.0\n",
      "Name: salary, dtype: float64\n"
     ]
    }
   ],
   "source": [
    "''' Write a Pandas program that reads a CSV file and calculates the average salary for each department.'''\n",
    "import pandas as pd\n",
    "df={\n",
    "    'name':['Prajwal','Nikhil','Raghu','Kumar','Vinayaka','Rohan'],\n",
    "    'salary':[10000,20000,30000,10000,50000,40000],\n",
    "    'department':['IT','HR','FInance','IT','HR','FInance']\n",
    "}\n",
    "df=pd.DataFrame(df)\n",
    "df=df.to_csv('salary.csv')\n",
    "df = pd.read_csv('salary.csv')\n",
    "# Group by department and calculate the average salary\n",
    "df_grouped = df.groupby('department')['salary'].mean()  \n",
    "print(df_grouped)"
   ]
  },
  {
   "cell_type": "code",
   "execution_count": 46,
   "id": "487f8983-345f-4098-88bf-bafd590bc12e",
   "metadata": {},
   "outputs": [
    {
     "name": "stdout",
     "output_type": "stream",
     "text": [
      "All combinations:\n",
      "(1,)\n",
      "(2,)\n",
      "(3,)\n",
      "(4,)\n",
      "(5,)\n",
      "(1, 2)\n",
      "(1, 3)\n",
      "(1, 4)\n",
      "(1, 5)\n",
      "(2, 3)\n",
      "(2, 4)\n",
      "(2, 5)\n",
      "(3, 4)\n",
      "(3, 5)\n",
      "(4, 5)\n",
      "(1, 2, 3)\n",
      "(1, 2, 4)\n",
      "(1, 2, 5)\n",
      "(1, 3, 4)\n",
      "(1, 3, 5)\n",
      "(1, 4, 5)\n",
      "(2, 3, 4)\n",
      "(2, 3, 5)\n",
      "(2, 4, 5)\n",
      "(3, 4, 5)\n",
      "(1, 2, 3, 4)\n",
      "(1, 2, 3, 5)\n",
      "(1, 2, 4, 5)\n",
      "(1, 3, 4, 5)\n",
      "(2, 3, 4, 5)\n",
      "(1, 2, 3, 4, 5)\n"
     ]
    }
   ],
   "source": [
    "''' Write a Python program using itertools.combinations to find all unique combinations of a list.'''\n",
    "import itertools\n",
    "\n",
    "def find_combination(lst):\n",
    "    all_combination = []\n",
    "    for i in range(1, len(lst) + 1):\n",
    "        all_combination.extend(itertools.combinations(lst, i))\n",
    "    return all_combination\n",
    "\n",
    "lst = [1, 2, 3, 4, 5]\n",
    "result = find_combination(lst)\n",
    "print('All combinations:')\n",
    "for comb in result:\n",
    "    print(comb)"
   ]
  },
  {
   "cell_type": "code",
   "execution_count": 45,
   "id": "487087b2-8313-486d-99ff-305cf6293954",
   "metadata": {},
   "outputs": [
    {
     "name": "stdout",
     "output_type": "stream",
     "text": [
      "['Raghudas', 'Prajwal', 'Nikhileshwar']\n"
     ]
    }
   ],
   "source": [
    "'''Given a list of strings, write a list comprehension that:\n",
    "Removes all strings that are shorter than 5 characters.\n",
    "Capitalizes all the remaining strings.\n",
    "Sorts them in reverse alphabetical order'''\n",
    "\n",
    "def process_strings(list1):\n",
    "    # List comprehension to capitalize strings longer than 5 characters and sort them in reverse alphabetical order\n",
    "    result = sorted([x.capitalize() for x in list1 if len(x) > 5], reverse=True)\n",
    "    return result\n",
    "\n",
    "# Example list\n",
    "list1 = ['prajwal', 'Nikhileshwar', 'Raghudas', 'Kumar']\n",
    "\n",
    "# Print the result of the function\n",
    "print(process_strings(list1))"
   ]
  },
  {
   "cell_type": "code",
   "execution_count": 44,
   "id": "b592dcb6-7f44-4bf0-a38d-8f3a908c3d59",
   "metadata": {},
   "outputs": [
    {
     "name": "stdout",
     "output_type": "stream",
     "text": [
      "20\n"
     ]
    }
   ],
   "source": [
    "''' Write a function process_numbers(nums) that:\n",
    "Doubles every positive number in a list using map().\n",
    "Filters out all negative numbers using filter().\n",
    "Returns the sum of the remaining numbers using reduce().\n",
    "\n",
    "Example input: [-1, 2, 3, -4, 5]\n",
    "Expected output: 20 (2 * 2 + 3 * 2 + 5 * 2)'''\n",
    "\n",
    "from functools import reduce\n",
    "\n",
    "def process_numbers(nums):\n",
    "    positive_nums = filter(lambda x: x > 0, nums)\n",
    "    doubled_nums = map(lambda x: x * 2, positive_nums)\n",
    "    result = reduce(lambda x, y: x + y, doubled_nums)\n",
    "    return result\n",
    "\n",
    "nums = [-1, 2, 3, -4, 5]\n",
    "print(process_numbers(nums)) "
   ]
  },
  {
   "cell_type": "code",
   "execution_count": 43,
   "id": "2f808354-abaf-4ff4-b6b0-6e0356f7542b",
   "metadata": {},
   "outputs": [
    {
     "name": "stdin",
     "output_type": "stream",
     "text": [
      "Enter the 1st number:  3\n",
      "Enter the 2nd number:  4\n"
     ]
    },
    {
     "name": "stdout",
     "output_type": "stream",
     "text": [
      "The result of 3 divided by 4 is: 0.75\n"
     ]
    }
   ],
   "source": [
    "'''\n",
    "Write a function divide_numbers(a, b) that:\n",
    "Divides a by b and returns the result.\n",
    "Handles division by zero by raising a custom exception ZeroDivisionError.\n",
    "If the inputs are not numbers, raise a ValueError with an appropriate message.'''\n",
    "class ZeroDivisionError(Exception):\n",
    "    pass\n",
    "\n",
    "def divide_numbers(a, b):\n",
    "    try:\n",
    "        return a / b\n",
    "    except ZeroDivisionError:\n",
    "        raise ZeroDivisionError(\"Cannot divide by zero.\")\n",
    "    except Exception as e:\n",
    "        print(f\"Error: {e}\")\n",
    "        return None\n",
    "try: \n",
    " a = int(input('Enter the 1st number: '))\n",
    " b = int(input('Enter the 2nd number: '))\n",
    " result = divide_numbers(a, b)\n",
    " if result is not None:\n",
    "    print(f\"The result of {a} divided by {b} is: {result}\")\n",
    "except ValueError:\n",
    "    print(\"Invalid input! Please enter valid numbers.\")\n",
    "except ZeroDivisionError:\n",
    "    raise ZeroDivisionError\n",
    "except Exception as e:\n",
    "    print(f'Error:{e}')"
   ]
  },
  {
   "cell_type": "code",
   "execution_count": 42,
   "id": "e9ac4ef3-b6ea-4581-9d9f-8c91956e48c8",
   "metadata": {},
   "outputs": [
    {
     "name": "stdout",
     "output_type": "stream",
     "text": [
      "Phone number is valid\n",
      "None\n"
     ]
    }
   ],
   "source": [
    "'''\n",
    ". Write a function validate_phone_number(phone) that validates a phone number. The phone number should:\n",
    "Return True if the phone number is valid, and False otherwise.\n",
    "\n",
    "Example input:\n",
    "validate_phone_number(\"123-456-7890\")\n",
    "validate_phone_number(\"1234567890\")\n",
    "'''\n",
    "\n",
    "import re\n",
    "def validate_phone_number(phone):\n",
    "    pattern=r'^\\d{3}-\\d{3}-\\d{4}$'\n",
    "    if re.match(pattern,phone):\n",
    "        print('Phone number is valid')\n",
    "    else:\n",
    "        print('Phone number is invalid')\n",
    "phone='123-456-7890'\n",
    "result=validate_phone_number(phone)\n",
    "print(result)"
   ]
  },
  {
   "cell_type": "code",
   "execution_count": 41,
   "id": "8365fcdc-04c1-4c75-b139-9009c38ff1c7",
   "metadata": {},
   "outputs": [
    {
     "name": "stdout",
     "output_type": "stream",
     "text": [
      "Extracted Emails: ['example1@gmail.com', 'work@example.co.in', 'support123@company.org']\n"
     ]
    }
   ],
   "source": [
    "import re\n",
    "def extract_emails(text):\n",
    "    email_pattern = r'[a-zA-Z0-9._%+-]+@[a-zA-Z0-9.-]+\\.[a-zA-Z]{2,}'\n",
    "    emails = re.findall(email_pattern, text)\n",
    "    return emails\n",
    "\n",
    "# Example usage\n",
    "sample_text = \"\"\"\n",
    "Hello Prajwal, you can reach out to me at example1@gmail.com or at work@example.co.in. \n",
    "Also, contact our support team via support123@company.org.\n",
    "Invalid emails like test@.com or abc@com won't be extracted.\n",
    "\"\"\"\n",
    "extracted_emails = extract_emails(sample_text)\n",
    "print(\"Extracted Emails:\", extracted_emails)"
   ]
  },
  {
   "cell_type": "code",
   "execution_count": null,
   "id": "701afc02-cd5a-4896-b9cf-ecfa199f3670",
   "metadata": {},
   "outputs": [],
   "source": [
    "'''Create a base class Shape with methods to calculate area and perimeter. Then, create two derived classes: Circle and Rectangle.\n",
    "\n",
    "The Circle class should have a method to calculate the area (π * r²) and perimeter (2 * π * r).\n",
    "The Rectangle class should have a method to calculate the area (width * height) and perimeter (2 * (width + height)).\n",
    "Use polymorphism to call the same methods on different objects and print the results.'''\n",
    "\n",
    "import math\n",
    "class Shape:\n",
    "    def area(self):\n",
    "        return\n",
    "    def perimeter(self):\n",
    "        return\n",
    "class Circle(Shape):\n",
    "    def __init__(self,radius):\n",
    "        self.radius=radius\n",
    "    def area(self):\n",
    "        return math.pi * (self.radius ** 2)\n",
    "    def perimeter(self):\n",
    "        return 2*math.pi*self.radius\n",
    "class Rectangle(Shape):\n",
    "    def __init__(self,width,height):\n",
    "        self.width=width\n",
    "        self.height=height\n",
    "\n",
    "    def area(self):\n",
    "        return self.width*self.height\n",
    "    def perimeter(self):\n",
    "        return 2*(self.width+self.height)\n",
    "circle=Circle(2)\n",
    "rectangle=Rectangle(10,4)\n",
    "print(\"Circle Area:\", circle.area())         \n",
    "print(\"Circle Perimeter:\", circle.perimeter())  \n",
    "print(\"Rectangle Area:\", rectangle.area())     \n",
    "print(\"Rectangle Perimeter:\", rectangle.perimeter())   "
   ]
  },
  {
   "cell_type": "code",
   "execution_count": 40,
   "id": "4405d807-3c87-47ba-9760-642a440b4ac6",
   "metadata": {},
   "outputs": [
    {
     "name": "stdout",
     "output_type": "stream",
     "text": [
      "Error:[Errno 2] No such file or directory: 'input.txt'\n",
      "None\n"
     ]
    }
   ],
   "source": [
    "''' Write a function copy_and_reverse_lines(input_file, output_file) that:\n",
    "Reads the content of a file (input_file).\n",
    "Reverses the order of the lines.\n",
    "Writes the reversed lines into another file (output_file).\n",
    "Make sure to handle scenarios where the input file does not exist.'''\n",
    "\n",
    "def copy_and_reverse_lines(input_file, output_file):\n",
    "    try:\n",
    "        with open(input_file,'r') as input:\n",
    "            file=input.readlines()\n",
    "            reverse=file[::-1]\n",
    "        with open(output_file,'w') as output:\n",
    "            output.writelines(reverse)\n",
    "            print('Success')\n",
    "    except FileNotFoundError as e:\n",
    "        print(f'Error:{e}')\n",
    "    \n",
    "input_file='input.txt'\n",
    "output_file='output.txt'\n",
    "resule=copy_and_reverse_lines(input_file,output_file)\n",
    "print(resule)"
   ]
  },
  {
   "cell_type": "code",
   "execution_count": 1,
   "id": "f1901489-29c6-45e9-8219-bf1e38b62e69",
   "metadata": {},
   "outputs": [
    {
     "name": "stdout",
     "output_type": "stream",
     "text": [
      "Error: The file was not found.\n",
      "Executed  in 0.0028 seconds.\n"
     ]
    },
    {
     "ename": "KeyError",
     "evalue": "'quantity_sold'",
     "output_type": "error",
     "traceback": [
      "\u001b[1;31m---------------------------------------------------------------------------\u001b[0m",
      "\u001b[1;31mKeyError\u001b[0m                                  Traceback (most recent call last)",
      "Cell \u001b[1;32mIn[1], line 113\u001b[0m\n\u001b[0;32m    110\u001b[0m valid_data \u001b[38;5;241m=\u001b[39m filter_valid_data(sales_data)\n\u001b[0;32m    112\u001b[0m \u001b[38;5;66;03m# Step 3: Process data using pandas (total sales and apply discount)\u001b[39;00m\n\u001b[1;32m--> 113\u001b[0m processed_data \u001b[38;5;241m=\u001b[39m \u001b[43mprocess_with_pandas\u001b[49m\u001b[43m(\u001b[49m\u001b[43mvalid_data\u001b[49m\u001b[43m)\u001b[49m\n\u001b[0;32m    115\u001b[0m \u001b[38;5;66;03m# Step 4: Serialize cleaned data to a pickle file\u001b[39;00m\n\u001b[0;32m    116\u001b[0m output_file \u001b[38;5;241m=\u001b[39m \u001b[38;5;124m'\u001b[39m\u001b[38;5;124mcleaned_sales_data.pkl\u001b[39m\u001b[38;5;124m'\u001b[39m\n",
      "Cell \u001b[1;32mIn[1], line 12\u001b[0m, in \u001b[0;36mlog_execution_time.<locals>.wrapper\u001b[1;34m(*args, **kwargs)\u001b[0m\n\u001b[0;32m     10\u001b[0m \u001b[38;5;28;01mdef\u001b[39;00m \u001b[38;5;21mwrapper\u001b[39m(\u001b[38;5;241m*\u001b[39margs, \u001b[38;5;241m*\u001b[39m\u001b[38;5;241m*\u001b[39mkwargs):\n\u001b[0;32m     11\u001b[0m     start_time \u001b[38;5;241m=\u001b[39m time\u001b[38;5;241m.\u001b[39mtime()\n\u001b[1;32m---> 12\u001b[0m     result \u001b[38;5;241m=\u001b[39m \u001b[43mfunc\u001b[49m\u001b[43m(\u001b[49m\u001b[38;5;241;43m*\u001b[39;49m\u001b[43margs\u001b[49m\u001b[43m,\u001b[49m\u001b[43m \u001b[49m\u001b[38;5;241;43m*\u001b[39;49m\u001b[38;5;241;43m*\u001b[39;49m\u001b[43mkwargs\u001b[49m\u001b[43m)\u001b[49m\n\u001b[0;32m     13\u001b[0m     end_time \u001b[38;5;241m=\u001b[39m time\u001b[38;5;241m.\u001b[39mtime()\n\u001b[0;32m     14\u001b[0m     execution_time \u001b[38;5;241m=\u001b[39m end_time \u001b[38;5;241m-\u001b[39m start_time\n",
      "Cell \u001b[1;32mIn[1], line 70\u001b[0m, in \u001b[0;36mprocess_with_pandas\u001b[1;34m(sales_data)\u001b[0m\n\u001b[0;32m     67\u001b[0m df \u001b[38;5;241m=\u001b[39m pd\u001b[38;5;241m.\u001b[39mDataFrame(sales_data)\n\u001b[0;32m     69\u001b[0m \u001b[38;5;66;03m# Convert columns to numeric, forcing errors to NaN, then drop rows with NaN values\u001b[39;00m\n\u001b[1;32m---> 70\u001b[0m df[\u001b[38;5;124m'\u001b[39m\u001b[38;5;124mquantity_sold\u001b[39m\u001b[38;5;124m'\u001b[39m] \u001b[38;5;241m=\u001b[39m pd\u001b[38;5;241m.\u001b[39mto_numeric(\u001b[43mdf\u001b[49m\u001b[43m[\u001b[49m\u001b[38;5;124;43m'\u001b[39;49m\u001b[38;5;124;43mquantity_sold\u001b[39;49m\u001b[38;5;124;43m'\u001b[39;49m\u001b[43m]\u001b[49m, errors\u001b[38;5;241m=\u001b[39m\u001b[38;5;124m'\u001b[39m\u001b[38;5;124mcoerce\u001b[39m\u001b[38;5;124m'\u001b[39m)\n\u001b[0;32m     71\u001b[0m df[\u001b[38;5;124m'\u001b[39m\u001b[38;5;124mprice_per_unit\u001b[39m\u001b[38;5;124m'\u001b[39m] \u001b[38;5;241m=\u001b[39m pd\u001b[38;5;241m.\u001b[39mto_numeric(df[\u001b[38;5;124m'\u001b[39m\u001b[38;5;124mprice_per_unit\u001b[39m\u001b[38;5;124m'\u001b[39m], errors\u001b[38;5;241m=\u001b[39m\u001b[38;5;124m'\u001b[39m\u001b[38;5;124mcoerce\u001b[39m\u001b[38;5;124m'\u001b[39m)\n\u001b[0;32m     72\u001b[0m df \u001b[38;5;241m=\u001b[39m df\u001b[38;5;241m.\u001b[39mdropna(subset\u001b[38;5;241m=\u001b[39m[\u001b[38;5;124m'\u001b[39m\u001b[38;5;124mquantity_sold\u001b[39m\u001b[38;5;124m'\u001b[39m, \u001b[38;5;124m'\u001b[39m\u001b[38;5;124mprice_per_unit\u001b[39m\u001b[38;5;124m'\u001b[39m])\n",
      "File \u001b[1;32m~\\anaconda\\Lib\\site-packages\\pandas\\core\\frame.py:4102\u001b[0m, in \u001b[0;36mDataFrame.__getitem__\u001b[1;34m(self, key)\u001b[0m\n\u001b[0;32m   4100\u001b[0m \u001b[38;5;28;01mif\u001b[39;00m \u001b[38;5;28mself\u001b[39m\u001b[38;5;241m.\u001b[39mcolumns\u001b[38;5;241m.\u001b[39mnlevels \u001b[38;5;241m>\u001b[39m \u001b[38;5;241m1\u001b[39m:\n\u001b[0;32m   4101\u001b[0m     \u001b[38;5;28;01mreturn\u001b[39;00m \u001b[38;5;28mself\u001b[39m\u001b[38;5;241m.\u001b[39m_getitem_multilevel(key)\n\u001b[1;32m-> 4102\u001b[0m indexer \u001b[38;5;241m=\u001b[39m \u001b[38;5;28;43mself\u001b[39;49m\u001b[38;5;241;43m.\u001b[39;49m\u001b[43mcolumns\u001b[49m\u001b[38;5;241;43m.\u001b[39;49m\u001b[43mget_loc\u001b[49m\u001b[43m(\u001b[49m\u001b[43mkey\u001b[49m\u001b[43m)\u001b[49m\n\u001b[0;32m   4103\u001b[0m \u001b[38;5;28;01mif\u001b[39;00m is_integer(indexer):\n\u001b[0;32m   4104\u001b[0m     indexer \u001b[38;5;241m=\u001b[39m [indexer]\n",
      "File \u001b[1;32m~\\anaconda\\Lib\\site-packages\\pandas\\core\\indexes\\range.py:417\u001b[0m, in \u001b[0;36mRangeIndex.get_loc\u001b[1;34m(self, key)\u001b[0m\n\u001b[0;32m    415\u001b[0m         \u001b[38;5;28;01mraise\u001b[39;00m \u001b[38;5;167;01mKeyError\u001b[39;00m(key) \u001b[38;5;28;01mfrom\u001b[39;00m \u001b[38;5;21;01merr\u001b[39;00m\n\u001b[0;32m    416\u001b[0m \u001b[38;5;28;01mif\u001b[39;00m \u001b[38;5;28misinstance\u001b[39m(key, Hashable):\n\u001b[1;32m--> 417\u001b[0m     \u001b[38;5;28;01mraise\u001b[39;00m \u001b[38;5;167;01mKeyError\u001b[39;00m(key)\n\u001b[0;32m    418\u001b[0m \u001b[38;5;28mself\u001b[39m\u001b[38;5;241m.\u001b[39m_check_indexing_error(key)\n\u001b[0;32m    419\u001b[0m \u001b[38;5;28;01mraise\u001b[39;00m \u001b[38;5;167;01mKeyError\u001b[39;00m(key)\n",
      "\u001b[1;31mKeyError\u001b[0m: 'quantity_sold'"
     ]
    }
   ],
   "source": [
    "import csv\n",
    "import pickle\n",
    "import time\n",
    "import pandas as pd\n",
    "from functools import partial\n",
    "\n",
    "\n",
    "# Decorator to log function calls and execution time\n",
    "def log_execution_time(func):\n",
    "    def wrapper(*args, **kwargs):\n",
    "        start_time = time.time()\n",
    "        result = func(*args, **kwargs)\n",
    "        end_time = time.time()\n",
    "        execution_time = end_time - start_time\n",
    "        print(f\"Executed  in {execution_time:.4f} seconds.\")\n",
    "        return result\n",
    "    return wrapper\n",
    "\n",
    "# 1. Read CSV using context manager\n",
    "@log_execution_time\n",
    "def read_csv(file_name):\n",
    "    sales_data = []\n",
    "    try:\n",
    "        with open(file_name, 'r') as file:\n",
    "            reader = csv.DictReader(file)\n",
    "            for row in reader:\n",
    "                sales_data.append(row)\n",
    "    except FileNotFoundError:\n",
    "        print(\"Error: The file was not found.\")\n",
    "    except Exception as e:\n",
    "        print(f\"Error: {e}\")\n",
    "    return sales_data\n",
    "\n",
    "\n",
    "# 2. Calculate total sales for each transaction\n",
    "def calculate_total_sales(transaction):\n",
    "    try:\n",
    "        quantity = int(transaction['quantity_sold'])\n",
    "        price = float(transaction['price_per_unit'])\n",
    "        if quantity < 0 or price < 0:\n",
    "            return 0  # Invalid transaction\n",
    "        return quantity * price\n",
    "    except ValueError:\n",
    "        return 0  # Invalid transaction\n",
    "\n",
    "\n",
    "# 3. Filter out invalid data (negative quantities or prices)\n",
    "def filter_valid_data(sales_data):\n",
    "    valid_data = []\n",
    "    for transaction in sales_data:\n",
    "        if int(transaction['quantity_sold']) >= 0 and float(transaction['price_per_unit']) >= 0:\n",
    "            valid_data.append(transaction)\n",
    "        else:\n",
    "            print(f\"Invalid data in transaction {transaction['id']}, skipping.\")\n",
    "    return valid_data\n",
    "\n",
    "\n",
    "# 4. Apply 10% discount using partial function\n",
    "def apply_discount(price, discount=0.10):\n",
    "    return price * (1 - discount)\n",
    "\n",
    "\n",
    "# 5. Process data using pandas\n",
    "@log_execution_time\n",
    "def process_with_pandas(sales_data):\n",
    "    # Convert to DataFrame\n",
    "    df = pd.DataFrame(sales_data)\n",
    "\n",
    "    # Convert columns to numeric, forcing errors to NaN, then drop rows with NaN values\n",
    "    df['quantity_sold'] = pd.to_numeric(df['quantity_sold'], errors='coerce')\n",
    "    df['price_per_unit'] = pd.to_numeric(df['price_per_unit'], errors='coerce')\n",
    "    df = df.dropna(subset=['quantity_sold', 'price_per_unit'])\n",
    "\n",
    "    # Calculate total sales and apply the discount\n",
    "    df['total_sales'] = df['quantity_sold'] * df['price_per_unit']\n",
    "    df['discounted_sales'] = df['total_sales'].apply(partial(apply_discount))\n",
    "\n",
    "    return df\n",
    "\n",
    "\n",
    "# 6. Serialize the cleaned data using pickle\n",
    "def serialize_data(data, output_file):\n",
    "    try:\n",
    "        with open(output_file, 'wb') as f:\n",
    "            pickle.dump(data, f)\n",
    "    except Exception as e:\n",
    "        print(f\"Error serializing data: {e}\")\n",
    "\n",
    "\n",
    "# 7. Deserialize the data using pickle\n",
    "def deserialize_data(input_file):\n",
    "    try:\n",
    "        with open(input_file, 'rb') as f:\n",
    "            return pickle.load(f)\n",
    "    except FileNotFoundError:\n",
    "        print(f\"Error: The file {input_file} does not exist.\")\n",
    "        return []\n",
    "    except pickle.UnpicklingError:\n",
    "        print(\"Error: Failed to deserialize data.\")\n",
    "        return []\n",
    "\n",
    "\n",
    "# Main program flow\n",
    "\n",
    "if __name__ == \"__main__\":\n",
    "    file_name = 'sales_data.csv'  \n",
    "    sales_data = read_csv(file_name)\n",
    "\n",
    "    # Step 2: Filter valid data and calculate total sales\n",
    "    valid_data = filter_valid_data(sales_data)\n",
    "\n",
    "    # Step 3: Process data using pandas (total sales and apply discount)\n",
    "    processed_data = process_with_pandas(valid_data)\n",
    "\n",
    "    # Step 4: Serialize cleaned data to a pickle file\n",
    "    output_file = 'cleaned_sales_data.pkl'\n",
    "    serialize_data(processed_data, output_file)\n",
    "\n",
    "    # Step 5: Deserialize the data and print the total_sales column\n",
    "    cleaned_data = deserialize_data(output_file)\n",
    "    \n",
    "   \n",
    "    if isinstance(cleaned_data, pd.DataFrame):\n",
    "        if 'total_sales' in cleaned_data.columns:\n",
    "            print(f\"Total Sales:\\n{cleaned_data}\")\n",
    "        else:\n",
    "            print(\"Column 'total_sales' not found in the deserialized data.\")\n",
    "    else:\n",
    "        print(\"No data found or failed to deserialize.\")"
   ]
  },
  {
   "cell_type": "markdown",
   "id": "058b02d0-7aad-43cb-addf-f4aa5aa62511",
   "metadata": {},
   "source": [
    "Pandas : Pandas is an open source python library primarily used for data manipulation and analysis.It provides high-level data structure like dataframe and series,making it easier to work with structured data.\n",
    "\n",
    "1. Data cleaning: Handling missing data,duplicates and outliers\n",
    "2. Data transformation: Filtering,merging,reshaping and aggregating data\n",
    "3. Data analysis: Performing descriptive statistics,data visualization and group-wise analysis.\n",
    "4. Data input/outpt: Reading and writing data from/to various file format"
   ]
  },
  {
   "cell_type": "code",
   "execution_count": 12,
   "id": "ae3bed7d-f2af-4708-a85a-5a683cd10f1b",
   "metadata": {},
   "outputs": [
    {
     "name": "stdout",
     "output_type": "stream",
     "text": [
      "Original DataFrame\n",
      "       Name   Age    Salary         City\n",
      "0    Alice  25.0   50000.0     New York\n",
      "1      Bob   NaN   70000.0  Los Angeles\n",
      "2  Charlie  35.0  120000.0      Chicago\n",
      "3    David  40.0   40000.0     New York\n",
      "4      Eve  29.0       NaN      Chicago\n",
      "5    Frank  50.0  150000.0  Los Angeles\n",
      "6     None  33.0   60000.0     New York\n",
      "7   Hannah  28.0   80000.0      Chicago\n",
      "Handling missing value\n",
      "       Name   Age         Salary         City\n",
      "0    Alice  25.0   50000.000000     New York\n",
      "1      Bob  33.0   70000.000000  Los Angeles\n",
      "2  Charlie  35.0  120000.000000      Chicago\n",
      "3    David  40.0   40000.000000     New York\n",
      "4      Eve  29.0   81428.571429      Chicago\n",
      "5    Frank  50.0  150000.000000  Los Angeles\n",
      "6  Unknown  33.0   60000.000000     New York\n",
      "7   Hannah  28.0   80000.000000      Chicago\n",
      "\n",
      "After Handling Outliers:\n",
      "       Name   Age         Salary         City\n",
      "0    Alice  25.0   50000.000000     New York\n",
      "1      Bob  33.0   70000.000000  Los Angeles\n",
      "2  Charlie  35.0  120000.000000      Chicago\n",
      "3    David  40.0   40000.000000     New York\n",
      "4      Eve  29.0   81428.571429      Chicago\n",
      "6  Unknown  33.0   60000.000000     New York\n",
      "7   Hannah  28.0   80000.000000      Chicago\n",
      "Values sorted by Salary       Name   Age         Salary         City\n",
      "2  Charlie  35.0  120000.000000      Chicago\n",
      "4      Eve  29.0   81428.571429      Chicago\n",
      "7   Hannah  28.0   80000.000000      Chicago\n",
      "1      Bob  33.0   70000.000000  Los Angeles\n",
      "6  Unknown  33.0   60000.000000     New York\n",
      "0    Alice  25.0   50000.000000     New York\n",
      "3    David  40.0   40000.000000     New York\n",
      "\n",
      "Grouped Data (Aggregated Stats by City):\n",
      "                    Age   Salary                       \n",
      "                  mean      min       max         mean\n",
      "City                                                  \n",
      "Chicago      30.666667  80000.0  120000.0  93809.52381\n",
      "Los Angeles  33.000000  70000.0   70000.0  70000.00000\n",
      "New York     32.666667  40000.0   60000.0  50000.00000\n"
     ]
    }
   ],
   "source": [
    "import pandas as pd\n",
    "import numpy as np\n",
    "\n",
    "# Sample Data\n",
    "data = {\n",
    "    \"Name\": [\"Alice\", \"Bob\", \"Charlie\", \"David\", \"Eve\", \"Frank\", None, \"Hannah\"],\n",
    "    \"Age\": [25, np.nan, 35, 40, 29, 50, 33, 28],\n",
    "    \"Salary\": [50000, 70000, 120000, 40000, np.nan, 150000, 60000, 80000],\n",
    "    \"City\": [\"New York\", \"Los Angeles\", \"Chicago\", \"New York\", \"Chicago\", \"Los Angeles\", \"New York\", \"Chicago\"]\n",
    "}\n",
    "df=pd.DataFrame(data)\n",
    "print('Original DataFrame\\n',df)\n",
    "\n",
    "#Handling missing value\n",
    "df.fillna({'Age':df['Age'].median(),'Salary':df['Salary'].mean(),'Name':'Unknown'},inplace=True)\n",
    "print('Handling missing value\\n',df)\n",
    "\n",
    "# 🔹 Handling Outliers (Removing salaries greater than 1.5 * IQR)\n",
    "Q1 = df[\"Salary\"].quantile(0.25)\n",
    "Q3 = df[\"Salary\"].quantile(0.75)\n",
    "IQR = Q3 - Q1\n",
    "df = df[(df[\"Salary\"] >= (Q1 - 1.5 * IQR)) & (df[\"Salary\"] <= (Q3 + 1.5 * IQR))]\n",
    "print(\"\\nAfter Handling Outliers:\\n\", df)\n",
    "\n",
    "# sorting  data\n",
    "df=df.sort_values(by='Salary',ascending=False)\n",
    "print('Values sorted by Salary',df)\n",
    "\n",
    "# 🔹 Aggregation (Grouping by City)\n",
    "grouped_df = df.groupby(\"City\").agg({\"Age\": \"mean\", \"Salary\": [\"min\", \"max\", \"mean\"]})\n",
    "print(\"\\nGrouped Data (Aggregated Stats by City):\\n\", grouped_df)"
   ]
  },
  {
   "cell_type": "code",
   "execution_count": 6,
   "id": "27877b27-7dcb-49ae-bb59-9a4291b95dc9",
   "metadata": {},
   "outputs": [
    {
     "name": "stdout",
     "output_type": "stream",
     "text": [
      "[1 2 3 4 5]\n"
     ]
    },
    {
     "data": {
      "text/plain": [
       "(5,)"
      ]
     },
     "execution_count": 6,
     "metadata": {},
     "output_type": "execute_result"
    }
   ],
   "source": [
    "import numpy as np\n",
    "my_lst=[1,2,3,4,5]\n",
    "arr=np.array(my_lst)\n",
    "print(arr)\n",
    "type(arr)\n",
    "arr.shape"
   ]
  },
  {
   "cell_type": "markdown",
   "id": "17c956f8-e296-4c15-8f5a-cc2877e2ce40",
   "metadata": {},
   "source": [
    "A 1-dimensional array (1D array) is a linear data structure that stores elements in a single row or column. It is like a list where each element is accessed using a single index."
   ]
  },
  {
   "cell_type": "markdown",
   "id": "ea3dc89e-2702-46ad-90df-9ea208a3ff05",
   "metadata": {},
   "source": [
    "A 2-dimensional array (2D array) is a data structure that stores elements in rows and columns, forming a table-like structure. It requires two indices to access an element."
   ]
  },
  {
   "cell_type": "code",
   "execution_count": 8,
   "id": "8249e043-1649-4121-adea-4c29eb54d55f",
   "metadata": {},
   "outputs": [
    {
     "name": "stdout",
     "output_type": "stream",
     "text": [
      "[[ 1  2  3  4  5]\n",
      " [ 6  7  8  9 10]\n",
      " [11 12 13 14 15]]\n"
     ]
    },
    {
     "data": {
      "text/plain": [
       "(3, 5)"
      ]
     },
     "execution_count": 8,
     "metadata": {},
     "output_type": "execute_result"
    }
   ],
   "source": [
    "my_lst1=[1,2,3,4,5]\n",
    "my_lst2=[6,7,8,9,10]\n",
    "my_lst3=[11,12,13,14,15]\n",
    "arr=np.array([my_lst1,my_lst2,my_lst3])\n",
    "print(arr)\n",
    "arr.shape"
   ]
  },
  {
   "cell_type": "code",
   "execution_count": 9,
   "id": "ccba5c2f-d8a1-47f3-817c-0c1bf765c1ce",
   "metadata": {},
   "outputs": [
    {
     "data": {
      "text/plain": [
       "array([[ 1,  2,  3],\n",
       "       [ 4,  5,  6],\n",
       "       [ 7,  8,  9],\n",
       "       [10, 11, 12],\n",
       "       [13, 14, 15]])"
      ]
     },
     "execution_count": 9,
     "metadata": {},
     "output_type": "execute_result"
    }
   ],
   "source": [
    "arr.reshape(5,3)"
   ]
  },
  {
   "cell_type": "code",
   "execution_count": 11,
   "id": "8e9b2d88-688a-4ecb-8842-d3959204647d",
   "metadata": {},
   "outputs": [
    {
     "name": "stdout",
     "output_type": "stream",
     "text": [
      "[0 2 4 6 8]\n"
     ]
    }
   ],
   "source": [
    "arr=np.arange(0,10,step=2)\n",
    "print(arr)"
   ]
  },
  {
   "cell_type": "code",
   "execution_count": 12,
   "id": "a44e6217-7667-4233-9449-9256e5c6cb27",
   "metadata": {},
   "outputs": [
    {
     "name": "stdout",
     "output_type": "stream",
     "text": [
      "[1, 2, 3, 4, 5, 6]\n"
     ]
    }
   ],
   "source": [
    "array1 = [1, 2, 3]\n",
    "array2 = [4, 5, 6]\n",
    "\n",
    "result = array1 + array2\n",
    "print(result)  # Output: [1, 2, 3, 4, 5, 6]\n"
   ]
  },
  {
   "cell_type": "code",
   "execution_count": 13,
   "id": "80381d13-39e2-4e50-8e0f-8323c16a1730",
   "metadata": {},
   "outputs": [
    {
     "name": "stdout",
     "output_type": "stream",
     "text": [
      "[[1. 1. 1. 1.]\n",
      " [1. 1. 1. 1.]\n",
      " [1. 1. 1. 1.]]\n"
     ]
    }
   ],
   "source": [
    "import numpy as np\n",
    "\n",
    "ones_array = np.ones((3, 4))  # Creates a 3x4 array filled with ones\n",
    "print(ones_array)\n"
   ]
  },
  {
   "cell_type": "code",
   "execution_count": 14,
   "id": "2a6697ea-f6ff-4af6-8a3f-3ff4a18c8a01",
   "metadata": {},
   "outputs": [
    {
     "name": "stdout",
     "output_type": "stream",
     "text": [
      "[[0. 0. 0. 0.]\n",
      " [0. 0. 0. 0.]\n",
      " [0. 0. 0. 0.]]\n"
     ]
    }
   ],
   "source": [
    "import numpy as np\n",
    "\n",
    "ones_array = np.zeros((3, 4))  # Creates a 3x4 array filled with ones\n",
    "print(ones_array)\n"
   ]
  },
  {
   "cell_type": "code",
   "execution_count": 16,
   "id": "c90aaa1e-9ebe-40c0-ac58-d70c1a9bf275",
   "metadata": {},
   "outputs": [
    {
     "data": {
      "text/plain": [
       "array([[0.13665667, 0.57467761, 0.74306119, 0.53490027],\n",
       "       [0.1775604 , 0.25268164, 0.64179281, 0.73933113],\n",
       "       [0.46184922, 0.97014716, 0.30285703, 0.67563002],\n",
       "       [0.40316618, 0.82074786, 0.91790962, 0.97650993]])"
      ]
     },
     "execution_count": 16,
     "metadata": {},
     "output_type": "execute_result"
    }
   ],
   "source": [
    "np.random.rand(4,4)"
   ]
  },
  {
   "cell_type": "code",
   "execution_count": 17,
   "id": "b43e0129-77e0-47b3-92fe-54c6503ab7eb",
   "metadata": {},
   "outputs": [
    {
     "name": "stdout",
     "output_type": "stream",
     "text": [
      "[[29 54 26]\n",
      " [50  0 40]\n",
      " [56  1 53]]\n"
     ]
    }
   ],
   "source": [
    "import numpy as np\n",
    "\n",
    "# Generate random integers between 0 and 100, and reshape into a 3x3 array\n",
    "random_array = np.random.randint(0, 101, size=(3, 3))\n",
    "print(random_array)\n"
   ]
  },
  {
   "cell_type": "code",
   "execution_count": 19,
   "id": "b4758254-e846-4f80-a9b6-422b5c5ba406",
   "metadata": {},
   "outputs": [
    {
     "name": "stdout",
     "output_type": "stream",
     "text": [
      "    A   B   C\n",
      "0  38  89  56\n",
      "1  58  82  85\n",
      "2  41  68  59\n"
     ]
    }
   ],
   "source": [
    "import pandas as pd\n",
    "import numpy as np\n",
    "\n",
    "# Create a DataFrame with random integers between 0 and 100\n",
    "df = pd.DataFrame(np.random.randint(0, 101, size=(3, 3)), columns=['A', 'B', 'C'])\n",
    "print(df)\n"
   ]
  },
  {
   "cell_type": "code",
   "execution_count": 21,
   "id": "0bda8a18-8ece-4511-ab4a-2ae466ae2830",
   "metadata": {},
   "outputs": [
    {
     "name": "stdout",
     "output_type": "stream",
     "text": [
      "      Name  Class     Contact\n",
      "A  Prajwal     12  9731633393\n",
      "B    Rohan     11  9876543210\n",
      "C    Sneha     10  8765432109\n",
      "D     Arya     12  7654321098\n",
      "E    Kiran     11  6543210987\n",
      "F    Megha     10  5432109876\n"
     ]
    }
   ],
   "source": [
    "import pandas as pd \n",
    "\n",
    "# Updated dictionary with 6 rows of data\n",
    "data = {\n",
    "    'Name': ['Prajwal', 'Rohan', 'Sneha', 'Arya', 'Kiran', 'Megha'],\n",
    "    'Class': [12, 11, 10, 12, 11, 10],\n",
    "    'Contact': [9731633393, 9876543210, 8765432109, 7654321098, 6543210987, 5432109876]\n",
    "}\n",
    "index=['A','B','C','D','E','F']\n",
    "# Creating the DataFrame\n",
    "df = pd.DataFrame(data,index=index)\n",
    "\n",
    "# Printing the DataFrame\n",
    "print(df)\n"
   ]
  },
  {
   "cell_type": "markdown",
   "id": "ef40a35d-dca4-41d2-a1b2-3d5c8648d3b3",
   "metadata": {},
   "source": [
    "A DataFrame is a two-dimensional, tabular data structure in Python provided by the Pandas library. It is similar to an Excel spreadsheet or SQL table, where data is organized in rows and columns."
   ]
  },
  {
   "cell_type": "markdown",
   "id": "5bde5151-931c-4cd0-acb9-721aacebd57b",
   "metadata": {},
   "source": [
    "A Series is a one-dimensional array-like object in Pandas. It is similar to a column in a DataFrame or a Python list, but with additional features such as indexing and support for heterogeneous data."
   ]
  },
  {
   "cell_type": "code",
   "execution_count": 4,
   "id": "d7d3e07f-b6a7-468f-94d3-be92ef6767bd",
   "metadata": {},
   "outputs": [],
   "source": []
  },
  {
   "cell_type": "markdown",
   "id": "1924704a-d8e3-487b-9c9e-b96d93ba08ef",
   "metadata": {},
   "source": [
    "1. What is ETL?\n",
    "ETL stands for Extract, Transform, Load, which is a traditional data integration process used to collect data from multiple sources, clean and process it, and load it into a data warehouse or data store.\n",
    "\n",
    "Stages:\n",
    "Extract: Data is collected from various sources like databases, APIs, flat files, or cloud storage.\n",
    "Examples: Pulling data from MySQL, Excel files, or web APIs.\n",
    "Transform: Data is cleaned, validated, and transformed into the desired format.\n",
    "Operations: Removing duplicates, converting formats, aggregating data, or applying business rules.\n",
    "Load: The processed data is stored in a data warehouse (e.g., Snowflake, Redshift, or SQL Server).\n",
    "The transformed data becomes ready for analysis.\n",
    "Key Features:\n",
    "\n",
    "Data is transformed before it is loaded into the target system.\n",
    "Used in traditional on-premises environments with smaller datasets."
   ]
  },
  {
   "cell_type": "markdown",
   "id": "bbb92765-f22f-41c9-af5f-bf6cf7e7ec30",
   "metadata": {},
   "source": [
    "ELT stands for Extract, Load, Transform, which is a modern approach where raw data is loaded into a data warehouse first, and transformation happens later, leveraging the processing power of the target system.\n",
    "\n",
    "Stages:\n",
    "\n",
    "Extract: Similar to ETL, data is collected from multiple sources.\n",
    "Load: Raw data is loaded directly into a cloud-based data warehouse or data lake (e.g., BigQuery, Snowflake, or Redshift).\n",
    "Transform: Transformations are performed inside the data warehouse using SQL or other processing engines.\n",
    "This is often done on-demand, enabling flexible and real-time transformations.\n",
    "Key Features:\n",
    "\n",
    "Data is loaded first and then transformed in the target system.\n",
    "Suitable for modern big data architectures, cloud platforms, and real-time analytics"
   ]
  },
  {
   "cell_type": "markdown",
   "id": "e584effd-8336-43f5-befb-e874244839a8",
   "metadata": {},
   "source": [
    "what is Flask :  Flask is a lightwight web framework written in python that is used to build web application and API's.It it known as micro-framework because it does not come with built-in tools like form validation or database abstraction layers\n",
    "\n",
    "Real-World uses of Flask:\n",
    "1. web apps(dashboard,forms)\n",
    "2. REST API(for mobile apps,frontend frameworks)\n",
    "3. Microservices\n",
    "4. Machine Learning model deployment"
   ]
  },
  {
   "cell_type": "code",
   "execution_count": 1,
   "id": "8fd2b3d9-2404-4df0-9b13-549b4f0601f3",
   "metadata": {},
   "outputs": [
    {
     "name": "stdout",
     "output_type": "stream",
     "text": [
      " * Serving Flask app '__main__'\n",
      " * Debug mode: on\n"
     ]
    },
    {
     "name": "stderr",
     "output_type": "stream",
     "text": [
      "WARNING: This is a development server. Do not use it in a production deployment. Use a production WSGI server instead.\n",
      " * Running on http://127.0.0.1:5000\n",
      "Press CTRL+C to quit\n",
      " * Restarting with watchdog (windowsapi)\n"
     ]
    },
    {
     "ename": "SystemExit",
     "evalue": "1",
     "output_type": "error",
     "traceback": [
      "An exception has occurred, use %tb to see the full traceback.\n",
      "\u001b[1;31mSystemExit\u001b[0m\u001b[1;31m:\u001b[0m 1\n"
     ]
    },
    {
     "name": "stderr",
     "output_type": "stream",
     "text": [
      "C:\\Users\\PRJAWAL\\AppData\\Roaming\\Python\\Python311\\site-packages\\IPython\\core\\interactiveshell.py:3516: UserWarning: To exit: use 'exit', 'quit', or Ctrl-D.\n",
      "  warn(\"To exit: use 'exit', 'quit', or Ctrl-D.\", stacklevel=1)\n"
     ]
    }
   ],
   "source": [
    "from flask import Flask\n",
    "\n",
    "app = Flask(__name__)\n",
    "\n",
    "@app.route('/')\n",
    "def hello():\n",
    "    return \"Hello, Flask!\"\n",
    "\n",
    "@app.route('/index',methods=['GET'])\n",
    "def indexs():\n",
    "    return render_template('Index.html')\n",
    "\n",
    "if __name__ == '__main__':\n",
    "    app.run(debug=True)\n"
   ]
  },
  {
   "cell_type": "code",
   "execution_count": null,
   "id": "052ca727-d3bb-4937-bfcf-6a0190593df5",
   "metadata": {},
   "outputs": [],
   "source": []
  },
  {
   "cell_type": "markdown",
   "id": "8f358e08-4d9c-4ef0-89b5-a6788d6f84a0",
   "metadata": {},
   "source": [
    "File/Folders\tPurpose\n",
    "1. run.py\tThe main file to run the server.\n",
    "2. app/__init__.py\tCreates and configures the Flask app.\n",
    "3. app/routes.py\tContains all route functions (@app.route(...))\n",
    "4. app/models.py\tDatabase models (if using SQLAlchemy)\n",
    "5. app/forms.py\tForm handling logic (if using Flask-WTF)\n",
    "6. templates/\tAll HTML files (used with render_template())\n",
    "7. static/\tCSS, JavaScript, images\n",
    "8. config.py\tApp configuration (debug mode, DB URI, etc.)\n",
    "9. requirements.txt\tLibraries required to run the project"
   ]
  },
  {
   "cell_type": "markdown",
   "id": "ba1d354c-7c27-4ae5-abb0-32280f94e79b",
   "metadata": {},
   "source": [
    "what is Django? Why is it used?\n",
    "Django is a high-level Python web framwork that follows the Model-View-Template(MVT) architectural pattern.It is used to build secure,scalable, and maintable web application quickly by providing built in features like authentication,ORM(Object-Relational Mapping),form handling,and security measures."
   ]
  },
  {
   "cell_type": "markdown",
   "id": "cca73c18-59b9-4098-a9b1-d6940dc05666",
   "metadata": {},
   "source": [
    "MVC (Model-View-Controller)\n",
    "Components of MVC:\n",
    "1. Model: Manages the business logic and data of the application.\n",
    "Communicates with the database to retrieve, store, and manipulate data.\n",
    "2. View: Handles the presentation layer.\n",
    "Displays data to users and captures their input.\n",
    "3. Controller: Handles user requests, processes data using the Model, and sends responses to the View.\n",
    "\n",
    "Acts as an intermediary between Model and View.\n",
    "MVC Workflow:\n",
    "1. User makes a request (e.g., clicking a button).\n",
    "2. The request is handled by the Controller, which interacts with the Model.\n",
    "3. The Model retrieves data and sends it back to the Controller.\n",
    "4. The Controller passes data to the View for presentation.\n",
    "5. The user sees the final output.\n",
    "Example of MVC in Web Development:\n",
    "If a user requests a blog post:\n",
    "1. Model: Retrieves the blog post from the database.\n",
    "2. Controller: Takes the blog ID from the URL, retrieves the post using the Model, and passes it to the View.\n",
    "3. View: Displays the blog post to the user."
   ]
  },
  {
   "cell_type": "markdown",
   "id": "0e00bc33-51bd-4f29-97e4-0da3f7b0d249",
   "metadata": {},
   "source": [
    "Django's MVT architecture.\n",
    "Django follows the Model-View-Template (MVT) pattern:\n",
    "1. Model: Handles data and database interactions (e.g., creating tables, querying data).\n",
    "2. View: Contains business logic and processes requests, fetching necessary data from the model and sending it to the template.\n",
    "3. Template: Manages the presentation layer and renders HTML pages based on context provided by the view.\n",
    "Example flow:\n",
    "A user makes a request → View processes it → Fetches data from Model → Passes data to Template → Response sent to user.\n",
    "\n",
    "MVT Workflow:\n",
    "User sends a request via a URL.\n",
    "Django’s built-in Controller (URL dispatcher) routes the request to the appropriate View.\n",
    "1. The View fetches data from the Model.\n",
    "2. The data is passed to the Template, which renders the response.\n",
    "3. The final HTML page is sent to the user.\n",
    "Example of MVT in Django:\n",
    "If a user requests a product page:\n",
    "\n",
    "Model: Retrieves product details from the database.\n",
    "View: Fetches product data and sends it to the template.\n",
    "Template: Displays product information on a webpage."
   ]
  },
  {
   "cell_type": "markdown",
   "id": "7b7eea91-a7d3-48cf-b814-ff53eea09d68",
   "metadata": {},
   "source": [
    "What is Django ORM? Explain its advantages.\n",
    "Answer:Django ORM (Object-Relational Mapping) allows interaction with the database using Python objects instead of raw SQL queries.\n",
    "\n",
    "Advantages:\n",
    "1. Easier and faster database operations\n",
    "2. Database-agnostic (supports PostgreSQL, MySQL, SQLite, etc.)\n",
    "3. Built-in security (protection against SQL injection)\n",
    "4. Automatic schema generation and management."
   ]
  },
  {
   "cell_type": "markdown",
   "id": "ad1d00fe-52e2-4ccc-bf89-3f0d11c59646",
   "metadata": {},
   "source": [
    "Static : Django provides a way to manage static files (CSS, JavaScript, images) and templates (HTML pages) efficiently, keeping them separate from the Python code. Let’s dive into both concepts in detail.\n",
    "\n",
    "Templates : Templates in Django are used to separate the presentation logic (HTML) from Python code. Django’s templating system provides features like variables, loops, and template inheritance to create dynamic web pages.\n",
    "\n",
    "1. Static files (CSS, JS, Images) are used to style and enhance web applications.\n",
    "2. Templates are used to render dynamic HTML content based on backend data.\n",
    "3. Django provides built-in tools to manage both efficiently."
   ]
  },
  {
   "cell_type": "markdown",
   "id": "dae7f627-2278-44ec-a3c7-81f423cf9269",
   "metadata": {},
   "source": [
    "1. python manage.py  runserver : Run the development server\n",
    "2. python manage.py  startapp  : Create a new app\n",
    "3. python manage.py makemigrations : Prepare database migrations\n",
    "4. python manage.py migrate : Apply migrations to the database\n",
    "5. python manage.py createsuperuser : Create an admin user\n",
    "6. python manage.py collectstatic\t: Collect static files for production"
   ]
  },
  {
   "cell_type": "markdown",
   "id": "134422be-2f55-4820-91bc-fed999f333e1",
   "metadata": {},
   "source": [
    "what is API : API stands for Application Programming Interface.It is a bridge that allows two software applications to talk to each other.\n",
    "An API is a set of protocols, definitions, and tools that allow different software components or systems to communicate with each other. It exposes certain functions, data, or services of an application to be used by other programs without exposing the internal code."
   ]
  },
  {
   "cell_type": "markdown",
   "id": "4df7043f-9855-48b2-809f-2abd078023be",
   "metadata": {},
   "source": [
    "REST API (Representational State Transfer - Application Programming Interface) is a way for different software systems to communicate over the web using HTTP (like your browser does).\n",
    "\n",
    "Imagine you’re ordering food online:\n",
    "1. You send your request (what food you want),\n",
    "2. The restaurant prepares it,\n",
    "3. You get the food in response.\n",
    "\n",
    "That’s how a REST API works — request → process → response."
   ]
  },
  {
   "cell_type": "markdown",
   "id": "b06d3c3f-7e38-4f55-bccb-845fb0b15569",
   "metadata": {},
   "source": [
    "A REST API is a stateless, client-server web service that follows the architectural constraints of REST (Representational State Transfer). It uses HTTP methods to perform operations on resources, which are represented as URIs (Uniform Resource Identifiers) and typically exchanged in JSON or XML format.\n",
    "REST APIs allow systems to interact over the web in a platform-independent, language-agnostic, and scalable manner.\n",
    "\n",
    "Term\tMeaning\n",
    "1. Client\t: The system sending the request (e.g., frontend app, Postman, browser).\n",
    "2. Server\t: The system processing the request and sending a response (e.g., Flask app).\n",
    "3. Endpoint\t: A specific URL that performs a function (like /users, /products).\n",
    "4. HTTP Methods : Defines the type of action to perform (GET, POST, PUT, DELETE).\n",
    "5. JSON\t: A common format for sending and receiving data (like a dictionary)."
   ]
  },
  {
   "cell_type": "markdown",
   "id": "def3fa0a-003a-498b-8ef3-a1931936edcb",
   "metadata": {},
   "source": [
    "Common HTTP Methods in REST API\n",
    "Method\tDescription\tExample Use\n",
    "1. GET\t- Retrieve data\t- Get user list\n",
    "2. POST\t - Send new data - Create a user\n",
    "3. PUT - Update existing data- Update a user profile\n",
    "4. DELETE - Delete data -Delete a user"
   ]
  },
  {
   "cell_type": "markdown",
   "id": "3dbb4964-cb89-4a30-957d-fb75ff5ed20a",
   "metadata": {},
   "source": [
    "1. GET METHOD : The GET method is used to retrieve or fetch data from a server without modifying it. It is the most commonly used HTTP method, and it is considered safe and idempotent, meaning multiple identical GET requests will have the same effect and won’t change the server's state. For example, when a user visits a web page or requests a list of users from a REST API, a GET request is sent to the server. The server responds with the requested data, usually in JSON or HTML format. Since GET does not carry a request body, any parameters are typically passed in the URL as query strings or path variables.\n",
    "   \n",
    "2.  POST METHOD : The POST method is used to send data to the server to create a new resource. It is not idempotent, which means sending the same POST request multiple times may result in multiple new resources being created. This method is typically used when submitting a form, registering a new user, or adding a new item to a database. The data is usually sent in the request body in JSON format. For example, when a client sends a POST request to /api/users with a JSON object containing user details, the server processes it and creates a new user record in the database, responding with the newly created data and a 201 Created status code.\n",
    "   \n",
    "3. PUT METHOD : The PUT method is used to update or replace an existing resource on the server. It is idempotent, meaning sending the same PUT request multiple times will always produce the same result. A PUT request typically targets a specific resource identified by its ID, such as /api/users/1, and replaces the entire content of that resource with the data provided in the request body. This method is suitable for full updates, where the entire object is redefined. If the resource does not exist, some APIs may create it, although this behavior can vary depending on implementation.\n",
    "\n",
    "4.  DELETE METHOD  : The DELETE method is used to remove a specific resource from the server. Like PUT, DELETE is also idempotent, meaning deleting the same resource multiple times will have the same effect — it remains deleted. For instance, a DELETE request to /api/users/1 will instruct the server to remove the user with ID 1 from the database. If the resource is successfully deleted, the server usually returns a 200 OK or 204 No Content status. If the resource doesn't exist, a 404 Not Found status might be returned. This method is crucial for resource management in RESTful services."
   ]
  },
  {
   "cell_type": "markdown",
   "id": "1fd45b21-e97a-4d39-80e3-0761a86fb2b6",
   "metadata": {},
   "source": [
    "what Git : Git is a version control system(VCS) used to track changes in source code during software development.It helps team or individual collaborate,manage,and maintain the history of code changes.\n",
    "\n",
    "Basic Git Commands\n",
    "1. git init  : Initialize a new Git Repository in the current directory.\n",
    "2. git clone : Download(clone) a remote repository to your local system\n",
    "3. git status : Show the current status of files(modified,staged,untracked)\n",
    "4. git add : stage a file for commit. Use . to add changes.\n",
    "5. git commit -m 'message' : commit staged changes with a message.\n",
    "6. git log : view the commit history\n",
    "7. git diff : See the changes between your working directory and the last commit.\\\n",
    "8. cd : to change directory\n",
    "9. git branch : List all branches.\n",
    "10. git branch : Create a new branch.\n",
    "11. git checkout : Switch to another branch.\n",
    "12. git checkout -b :create and switch to a new branch.\n",
    "13. git merge :\tMerge the specified branch into the current one.\n",
    "14. git branch -d : Delete a branch.\n",
    "\n",
    "what is Gitub : Github is a cloud-based platform that hosts Git repositories and provides tool for collaboration, code review, and project management.\n",
    "\n",
    "1. Remote Hosting: Share your Git repositories online.\n",
    "2. Collaboration: Multiple developers can contribute via pull requests.\n",
    "3. Code Review: Comment, review, and suggest changes before merging.\n",
    "4. CI/CD: Automate testing and deployment.\n",
    "5. Issue Tracking: Manage bugs, enhancements, and tasks.\n",
    "\n",
    "Command\tDescription\n",
    "1. git remote add origin <url>\t:Link your local repo to a remote GitHub repo.\n",
    "2. git push -u origin main\t: Push your commits to the main branch on GitHub.\n",
    "3. git pull origin main : Pull updates from the remote main branch.\n",
    "4. git fetch :Download changes from remote without merging.\n",
    "5. git push\t: Push changes to the remote repo."
   ]
  },
  {
   "cell_type": "markdown",
   "id": "fcb13eff-7506-42b6-9b60-f85f4485c003",
   "metadata": {},
   "source": [
    "Steps to Push local Project to GitHub\n",
    "1. git init : Initialize git\n",
    "2. git add . : Add files to staging\n",
    "3. git commit -m 'Initial commit' : Commit the changes\n",
    "4. git remote add origin <link> : Replacing link with github repository url\n",
    "5. git remote -v : verify the remote\n",
    "6. git branch -M main : Rename the current branch to main\n",
    "7. git push -u origin main : Push to GitHub"
   ]
  },
  {
   "cell_type": "code",
   "execution_count": null,
   "id": "4e6558d9-586c-4b6a-91a4-66bc74e2f73d",
   "metadata": {},
   "outputs": [],
   "source": []
  },
  {
   "cell_type": "code",
   "execution_count": null,
   "id": "8f6b1744-240d-49de-9507-e5f1c2111825",
   "metadata": {},
   "outputs": [],
   "source": []
  },
  {
   "cell_type": "code",
   "execution_count": null,
   "id": "cb3def62-6871-4551-b4c3-038ce6dd9aa0",
   "metadata": {},
   "outputs": [],
   "source": []
  }
 ],
 "metadata": {
  "kernelspec": {
   "display_name": "Python 3 (ipykernel)",
   "language": "python",
   "name": "python3"
  },
  "language_info": {
   "codemirror_mode": {
    "name": "ipython",
    "version": 3
   },
   "file_extension": ".py",
   "mimetype": "text/x-python",
   "name": "python",
   "nbconvert_exporter": "python",
   "pygments_lexer": "ipython3",
   "version": "3.11.7"
  }
 },
 "nbformat": 4,
 "nbformat_minor": 5
}
