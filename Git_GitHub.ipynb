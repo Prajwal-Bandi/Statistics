{
 "cells": [
  {
   "cell_type": "markdown",
   "id": "59de75f9-0fb6-43d7-a066-58b3d8d67491",
   "metadata": {},
   "source": [
    "Git is a version control system(VCS) that helps developers track changes in their code,collaborate with others, and manage different versions of their projects.it allow:\n",
    "1. Tracking changes : Helps record every modification made to the code.\n",
    "2. Branching and merging : Developers can work on different features simultaneously and merge them when ready.\n",
    "3. Collaboration : Multiple people can work on the same project without overwritting each other's work.\n",
    "4. Over 70% of developer's use Git\n",
    "5. Git and Github are different things.\n",
    "\n",
    "\n",
    "GiHub is a web-based platform that hosts Git repositories and provides collaboration features like \n",
    "1. Remote repository storage: Allows developers to store and share their Git projects.\n",
    "2. Collaboration tools:Issues,pull requests,code reviews, and team management.\n",
    "3. CI/CD Integration : Automates testing and deployment of applications.\n",
    "4. GitHUb makes tools that use Git."
   ]
  },
  {
   "cell_type": "markdown",
   "id": "ae12c46f-9c4c-45f2-9528-2a6c632dfe6b",
   "metadata": {},
   "source": [
    "1. Initialize Git : git init\n",
    "2. Check status : git status\n",
    "3. Add files : git add.\n",
    "4. Commit changes : git commit -m 'message'\n",
    "5. Connect to GitHub : git remote add origin <repo-url\n",
    "6. Push code : git push origin main\n",
    "7. Pull changes : git pull origin main\n",
    "8. Create branch : git branch new-branch\n",
    "9. clone repo  : git clone <repo-url>"
   ]
  },
  {
   "cell_type": "code",
   "execution_count": null,
   "id": "c63de8a6-618a-403e-8d9a-15b429faabe5",
   "metadata": {},
   "outputs": [],
   "source": [
    "# Before using Git, configure username and email\n",
    "git config --global user.name \"Your Name\"\n",
    "git config --global user.email \"your.email@example.com\""
   ]
  },
  {
   "cell_type": "code",
   "execution_count": null,
   "id": "dbf8ee6a-bb11-47fd-9bc2-2f8942739237",
   "metadata": {},
   "outputs": [],
   "source": [
    "# To push code to github follow these steps \n",
    "\n",
    "# Open terminal with project folder location\n",
    "1. cd Desktop/your-project-folder\n",
    "2. git init #This will create a hidden .git folder to track changes.\n",
    "3. git branch  # to initialize branch\n",
    "4. git branch -M main\n",
    "5. git git add . # to store all files \n",
    "6. git commit -m \"Initial commit\" # commmits changes with message\n",
    "7. git remote add origin https://github.com/your-username/my-project.git # add repo url\n",
    "8. git remote -v \n",
    "9. git push -u origin main # push the originx\n",
    "10.git status # to check status"
   ]
  },
  {
   "cell_type": "code",
   "execution_count": null,
   "id": "6583819d-4f73-430f-8876-144de6f0df95",
   "metadata": {},
   "outputs": [],
   "source": []
  },
  {
   "cell_type": "code",
   "execution_count": null,
   "id": "0b5c5ddd-6791-4bac-94cf-fb841b1e7bdb",
   "metadata": {},
   "outputs": [],
   "source": []
  }
 ],
 "metadata": {
  "kernelspec": {
   "display_name": "Python 3 (ipykernel)",
   "language": "python",
   "name": "python3"
  },
  "language_info": {
   "codemirror_mode": {
    "name": "ipython",
    "version": 3
   },
   "file_extension": ".py",
   "mimetype": "text/x-python",
   "name": "python",
   "nbconvert_exporter": "python",
   "pygments_lexer": "ipython3",
   "version": "3.11.7"
  }
 },
 "nbformat": 4,
 "nbformat_minor": 5
}
