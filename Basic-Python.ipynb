{
 "cells": [
  {
   "cell_type": "markdown",
   "id": "e46bc66a-dd02-45f5-829f-470006572b94",
   "metadata": {},
   "source": [
    "python : \n",
    "1. Python is open source  high level ,interpreted,object oriented programming language used for ,web development, software development server side web creation,and machine learning application \n",
    "2. Easy to learn and execute \n",
    "3. It contains many inbuilt library\n",
    "\n",
    "Application : \n",
    "1. Machine learning\n",
    "2. Artificial Intelligence\n",
    "3. Web scraping\n",
    "4. Data science and data analysis\n",
    "5. GUI(Graphical user interface)\n",
    "\n",
    "->Python was invented in the late 1980s by Guido van Rossum\n",
    "\r",
    "->(Object-Oriented Programming) is a programming paradigm based on the concept of objects, which can contain data in the form of fields (attributes or properties) and code in the form of procedures (methods or functions)sm->Python is called an interpreted language because it executes code line by line using an interpreter rather than compiling the entire code into machine language at once before execution. Here are the main reasons Python is classified as an interpreted language:\n",
    "\n",
    "->Interpreted Languages: Code is executed line-by-line by an interpreter at runtime. Ex; Python\n",
    "->Compiled Languages: Code is first translated into machine language by a compiler, creating an executable file, which is then run by the computer. Ex : Java\n",
    "\n",
    "->Python: Easier to learn, best for beginners, scripting, data science, and rapid development. Emphasizes simplicity and readability.\n",
    "\n",
    "->Java: Suitable for large-scale, high-performance applications, Android development, and enterprise solutions. Emphasizes performance, scalability, and robustness.\n",
    "\n",
    "->Yes, Python is a case-sensitive language. This means that Python distinguishes between uppercase and lowercase letters in identifiers such as variable names, function names, class names, and keywordsa "
   ]
  },
  {
   "cell_type": "code",
   "execution_count": 1,
   "id": "52a1a622-bfbf-4331-89c0-c1b050974278",
   "metadata": {},
   "outputs": [
    {
     "name": "stdout",
     "output_type": "stream",
     "text": [
      "Hello world\n"
     ]
    }
   ],
   "source": [
    "print('Hello world')"
   ]
  },
  {
   "cell_type": "markdown",
   "id": "8e959aaf-8e70-4aee-b956-4523735111d0",
   "metadata": {},
   "source": [
    "Comments : this can be used to explain the code this code will not run\n",
    "\n",
    "1. single line comment #\n",
    "2. multiline comment \"\"\" this is comment \"\"\""
   ]
  },
  {
   "cell_type": "code",
   "execution_count": 2,
   "id": "e596eaf6-6ea9-47a2-8e33-faac87742aae",
   "metadata": {},
   "outputs": [
    {
     "name": "stdout",
     "output_type": "stream",
     "text": [
      "This is single line comment\n"
     ]
    }
   ],
   "source": [
    "#this is single line comment\n",
    "print('This is single line comment')"
   ]
  },
  {
   "cell_type": "code",
   "execution_count": 4,
   "id": "95496700-99d6-4a91-895f-21fdbdc262a1",
   "metadata": {},
   "outputs": [
    {
     "name": "stdout",
     "output_type": "stream",
     "text": [
      "This is multiline comment\n"
     ]
    }
   ],
   "source": [
    "'''\n",
    "this is multiline comment\n",
    "'''\n",
    "print('This is multiline comment')"
   ]
  },
  {
   "cell_type": "markdown",
   "id": "ac0d8467-4941-435a-804c-65fea3311301",
   "metadata": {},
   "source": [
    "Variables: name given to a memory location.\n",
    "name='Prajwal'\n",
    "\n",
    "following are the rules for variable \n",
    "1. variable must start with letter or underscore character\n",
    "2. variable can not start with number \n",
    "3. variable name can only contain alphanumeric character\n",
    "4. Reserved words can not used as variable \n",
    "5. Variable names are case sensitive \n",
    "\n",
    "Type's of Varible\n",
    "1. Global variable : Variables that are created outside the function \n",
    "2. Local variale : variables that are created inside the function"
   ]
  },
  {
   "cell_type": "code",
   "execution_count": 6,
   "id": "21a28a1f-d64e-41a1-b35b-98347b989f4f",
   "metadata": {},
   "outputs": [
    {
     "name": "stdout",
     "output_type": "stream",
     "text": [
      "Prajwal\n"
     ]
    }
   ],
   "source": [
    "name='Prajwal'\n",
    "print(name)"
   ]
  },
  {
   "cell_type": "code",
   "execution_count": 9,
   "id": "06601b33-3371-4f18-8d05-c06007b005d5",
   "metadata": {},
   "outputs": [
    {
     "name": "stdout",
     "output_type": "stream",
     "text": [
      "Python is awesome\n"
     ]
    }
   ],
   "source": [
    "# global variable \n",
    "x = \"awesome\"\n",
    "\n",
    "def myfunc():\n",
    "  print(\"Python is \" + x)\n",
    "\n",
    "myfunc()"
   ]
  },
  {
   "cell_type": "code",
   "execution_count": 10,
   "id": "ab9b84e2-caf6-4d57-9346-cc8f4f0e1f97",
   "metadata": {},
   "outputs": [
    {
     "name": "stdout",
     "output_type": "stream",
     "text": [
      "10\n"
     ]
    }
   ],
   "source": [
    "#local variable\n",
    "def example_function():\n",
    "    local_var = 10  # Local variable\n",
    "    print(local_var)\n",
    "\n",
    "example_function()"
   ]
  },
  {
   "cell_type": "code",
   "execution_count": 8,
   "id": "9ff94747-6130-46e5-89d4-ab7ec528ea1b",
   "metadata": {},
   "outputs": [
    {
     "name": "stdout",
     "output_type": "stream",
     "text": [
      "['False', 'None', 'True', 'and', 'as', 'assert', 'async', 'await', 'break', 'class', 'continue', 'def', 'del', 'elif', 'else', 'except', 'finally', 'for', 'from', 'global', 'if', 'import', 'in', 'is', 'lambda', 'nonlocal', 'not', 'or', 'pass', 'raise', 'return', 'try', 'while', 'with', 'yield']\n"
     ]
    }
   ],
   "source": [
    "# Keywords:\n",
    "# Reserved words in python which can not be used as variable\n",
    "import keyword\n",
    "print(keyword.kwlist) # List all Python Keywords"
   ]
  },
  {
   "cell_type": "markdown",
   "id": "a9cecf9d-bd59-4db9-a8d2-775c8b0547f8",
   "metadata": {},
   "source": [
    "Data type: data types define the type of data that can be stored and manipulated within a program. \n",
    "1. ext Type:\tstr\n",
    "2. Numeric Types:\tint, float, complex\n",
    "3. Sequence Types:\tlist, tuple, range\n",
    "4. Mapping Type:\tdict\n",
    "5. Set Types:\tset, frozenset\n",
    "6. Boolean Type:\tbool(true false)\n",
    "7. Binary Types:\tbytes, bytearray, memoryview,bin\n",
    "8. None Type:\tNoneType"
   ]
  },
  {
   "cell_type": "code",
   "execution_count": 6,
   "id": "124ab27c-497f-4ee9-959d-964ed17e5233",
   "metadata": {},
   "outputs": [
    {
     "name": "stdout",
     "output_type": "stream",
     "text": [
      "1\n",
      "<class 'int'>\n"
     ]
    }
   ],
   "source": [
    "# <!-- type casting :\n",
    "# the conversion of the one type of data to another type of data -->\n",
    "# int\n",
    "# float\n",
    "# complex\n",
    "# Boolean\n",
    "a='1'\n",
    "a=int(1)\n",
    "print(1)\n",
    "print(type(a))"
   ]
  },
  {
   "cell_type": "markdown",
   "id": "c65649a7-e506-40b3-856d-641a0e2573b3",
   "metadata": {},
   "source": [
    "Operators :  operators are used for calculation on variables and values used in matrix operation.\n",
    "1. Arithmatic operator +,-,*,/,//,%,**\n",
    "2. Assignment operator =,==,+=,-=\n",
    "3. comparision operator ==,!=,>,<,<=,>=\n",
    "4. logical operator and , or , not \n",
    "5. Identify operator is ,is not \n",
    "6. membership operator in ,not in \n",
    "7. Bitwise operator : And ,OR,XOR,NOT \n"
   ]
  },
  {
   "cell_type": "code",
   "execution_count": 8,
   "id": "1bc2ca42-de2e-43d5-a380-c1ba097f48e7",
   "metadata": {},
   "outputs": [
    {
     "name": "stdout",
     "output_type": "stream",
     "text": [
      "Addition: 14\n",
      "Subtraction: 6\n",
      "Multiplication: 40\n",
      "Division: 2.5\n",
      "Floor Division: 2\n",
      "Modulus: 2\n",
      "Exponentiation: 10000\n"
     ]
    }
   ],
   "source": [
    "# Arithmatic operator : +,-,*,/,%,**\n",
    "x = 10\n",
    "y = 4\n",
    "\n",
    "# Addition\n",
    "add = x + y\n",
    "print(\"Addition:\", add)  # Output: 14\n",
    "\n",
    "# Subtraction\n",
    "subtract = x - y\n",
    "print(\"Subtraction:\", subtract)  # Output: 6\n",
    "\n",
    "# Multiplication\n",
    "multiply = x * y\n",
    "print(\"Multiplication:\", multiply)  # Output: 40\n",
    "\n",
    "# Division\n",
    "divide = x / y\n",
    "print(\"Division:\", divide)  # Output: 2.5\n",
    "\n",
    "# Floor Division\n",
    "floor_divide = x // y\n",
    "print(\"Floor Division:\", floor_divide)  # Output: 2\n",
    "\n",
    "# Modulus\n",
    "modulus = x % y\n",
    "print(\"Modulus:\", modulus)  # Output: 2\n",
    "\n",
    "# Exponentiation\n",
    "exponent = x ** y\n",
    "print(\"Exponentiation:\", exponent)  # Output: 10000\n"
   ]
  },
  {
   "cell_type": "code",
   "execution_count": 9,
   "id": "05fefeed-6611-4557-ac4d-69ec412cc40a",
   "metadata": {},
   "outputs": [
    {
     "name": "stdout",
     "output_type": "stream",
     "text": [
      "After += 3: 8\n",
      "After -= 2: 6\n",
      "After *= 4: 24\n",
      "After /= 3: 8.0\n",
      "After //= 2: 4.0\n",
      "After %= 3: 1.0\n",
      "After **= 3: 1.0\n"
     ]
    }
   ],
   "source": [
    "# Assignment operator \n",
    "x = 5\n",
    "\n",
    "# Add and assign\n",
    "x += 3\n",
    "print(\"After += 3:\", x)  # Output: 8\n",
    "\n",
    "# Subtract and assign\n",
    "x -= 2\n",
    "print(\"After -= 2:\", x)  # Output: 6\n",
    "\n",
    "# Multiply and assign\n",
    "x *= 4\n",
    "print(\"After *= 4:\", x)  # Output: 24\n",
    "\n",
    "# Divide and assign\n",
    "x /= 3\n",
    "print(\"After /= 3:\", x)  # Output: 8.0\n",
    "\n",
    "# Floor divide and assign\n",
    "x //= 2\n",
    "print(\"After //= 2:\", x)  # Output: 4.0\n",
    "\n",
    "# Modulus and assign\n",
    "x %= 3\n",
    "print(\"After %= 3:\", x)  # Output: 1.0\n",
    "\n",
    "# Exponentiate and assign\n",
    "x **= 3\n",
    "print(\"After **= 3:\", x)  # Output: 1.0\n"
   ]
  },
  {
   "cell_type": "code",
   "execution_count": 10,
   "id": "ea2e3f82-7c2e-4f59-8029-4c9acb720c9d",
   "metadata": {},
   "outputs": [
    {
     "name": "stdout",
     "output_type": "stream",
     "text": [
      "False\n",
      "True\n",
      "False\n",
      "True\n",
      "False\n",
      "True\n"
     ]
    }
   ],
   "source": [
    "# Comparision Operator\n",
    "x = 10\n",
    "y = 20\n",
    "\n",
    "# Equal to\n",
    "print(x == y)  # Output: False\n",
    "\n",
    "# Not equal to\n",
    "print(x != y)  # Output: True\n",
    "\n",
    "# Greater than\n",
    "print(x > y)  # Output: False\n",
    "\n",
    "# Less than\n",
    "print(x < y)  # Output: True\n",
    "\n",
    "# Greater than or equal to\n",
    "print(x >= y)  # Output: False\n",
    "\n",
    "# Less than or equal to\n",
    "print(x <= y)  # Output: True\n"
   ]
  },
  {
   "cell_type": "code",
   "execution_count": 11,
   "id": "888ffc41-a831-46aa-a6fa-4041ab218c56",
   "metadata": {},
   "outputs": [
    {
     "name": "stdout",
     "output_type": "stream",
     "text": [
      "Both x and y are greater than 0\n",
      "Either x is greater than 0 or y is less than 0\n",
      "x is not equal to y\n"
     ]
    }
   ],
   "source": [
    "# Logical operator \n",
    "x = 5\n",
    "y = 10\n",
    "\n",
    "# Using logical AND\n",
    "if x > 0 and y > 0:\n",
    "    print(\"Both x and y are greater than 0\")  # Output: Both x and y are greater than 0\n",
    "\n",
    "# Using logical OR\n",
    "if x > 0 or y < 0:\n",
    "    print(\"Either x is greater than 0 or y is less than 0\")  # Output: Either x is greater than 0 or y is less than 0\n",
    "\n",
    "# Using logical NOT\n",
    "if not x == y:\n",
    "    print(\"x is not equal to y\")  # Output: x is not equal to y\n"
   ]
  },
  {
   "cell_type": "code",
   "execution_count": 12,
   "id": "9b7e247d-47a8-4825-9005-e5a5d3779345",
   "metadata": {},
   "outputs": [
    {
     "name": "stdout",
     "output_type": "stream",
     "text": [
      "False\n",
      "True\n",
      "True\n"
     ]
    }
   ],
   "source": [
    "# Identify operator\n",
    "# Different lists with same content\n",
    "list1 = [1, 2, 3]\n",
    "list2 = [1, 2, 3]\n",
    "\n",
    "# Assigning list1 to list3\n",
    "list3 = list1\n",
    "\n",
    "# Using identity operators\n",
    "print(list1 is list2)    # Output: False (different objects)\n",
    "print(list1 is list3)    # Output: True (same object)\n",
    "print(list1 is not list2)# Output: True (different objects)\n"
   ]
  },
  {
   "cell_type": "code",
   "execution_count": 13,
   "id": "77e7256f-9a4d-4aea-b66a-8cdb33e5dd54",
   "metadata": {},
   "outputs": [
    {
     "name": "stdout",
     "output_type": "stream",
     "text": [
      "Found 'banana' in the list\n"
     ]
    }
   ],
   "source": [
    "# membership operator \n",
    "my_list = ['apple', 'banana', 'cherry']\n",
    "\n",
    "if 'banana' in my_list:\n",
    "    print(\"Found 'banana' in the list\")\n",
    "else:\n",
    "    print(\"Did not find 'banana' in the list\")\n"
   ]
  },
  {
   "cell_type": "code",
   "execution_count": 14,
   "id": "d50cc5c1-b5f7-4ade-988b-357c114f2caa",
   "metadata": {},
   "outputs": [
    {
     "name": "stdout",
     "output_type": "stream",
     "text": [
      "2\n",
      "15\n",
      "13\n",
      "-11\n",
      "10\n",
      "2\n"
     ]
    }
   ],
   "source": [
    "# Bitwise operator\n",
    "# Bitwise AND example\n",
    "x = 10    # 1010 in binary\n",
    "y = 7     # 0111 in binary\n",
    "\n",
    "print(x & y)   # Output: 2 (0010 in binary)\n",
    "\n",
    "# Bitwise OR example\n",
    "print(x | y)   # Output: 15 (1111 in binary)\n",
    "\n",
    "# Bitwise XOR example\n",
    "print(x ^ y)   # Output: 13 (1101 in binary)\n",
    "\n",
    "# Bitwise NOT example\n",
    "x = 10\n",
    "print(~x)      # Output: -11 (in decimal)\n",
    "\n",
    "# Bitwise Left Shift example\n",
    "x = 5\n",
    "print(x << 1)  # Output: 10 (1010 in binary)\n",
    "\n",
    "# Bitwise Right Shift example\n",
    "x = 5\n",
    "print(x >> 1)  # Output: 2 (10 in binary)\n"
   ]
  },
  {
   "cell_type": "code",
   "execution_count": 16,
   "id": "31413d13-d9f4-48d2-b031-859ad6c90b77",
   "metadata": {},
   "outputs": [
    {
     "data": {
      "text/plain": [
       "('0b11001', '0b1000', '0o31')"
      ]
     },
     "execution_count": 16,
     "metadata": {},
     "output_type": "execute_result"
    }
   ],
   "source": [
    "#converting number to Binary format \n",
    "# octal base starts with 8\n",
    "# HexaDecimal base starts with 16\n",
    "# Bin base starts with 4\n",
    "bin(25),bin(8),oct(25)"
   ]
  },
  {
   "cell_type": "code",
   "execution_count": 17,
   "id": "6795d75b-bb5e-4b23-a5bd-e15a821463f3",
   "metadata": {},
   "outputs": [
    {
     "data": {
      "text/plain": [
       "410"
      ]
     },
     "execution_count": 17,
     "metadata": {},
     "output_type": "execute_result"
    }
   ],
   "source": [
    "0b1001 # Binary to normal number \n",
    "0b110011010"
   ]
  },
  {
   "cell_type": "code",
   "execution_count": 19,
   "id": "82a61352-9937-4d52-9be8-fb9ae4ed6378",
   "metadata": {},
   "outputs": [
    {
     "data": {
      "text/plain": [
       "5.0"
      ]
     },
     "execution_count": 19,
     "metadata": {},
     "output_type": "execute_result"
    }
   ],
   "source": [
    "import math\n",
    "x=math.sqrt(25)\n",
    "x"
   ]
  },
  {
   "cell_type": "code",
   "execution_count": 22,
   "id": "330fbc94-7a43-4c0e-b40f-7095eba37384",
   "metadata": {},
   "outputs": [
    {
     "data": {
      "text/plain": [
       "(3, 4)"
      ]
     },
     "execution_count": 22,
     "metadata": {},
     "output_type": "execute_result"
    }
   ],
   "source": [
    "x=(math.floor(3.2)) #floor round-up to low level\n",
    "y=(math.ceil(3.2)) # ceil round-up to high level\n",
    "x,y"
   ]
  },
  {
   "cell_type": "code",
   "execution_count": 26,
   "id": "573227fb-3a54-41e6-a90b-2874d237b234",
   "metadata": {},
   "outputs": [
    {
     "name": "stdout",
     "output_type": "stream",
     "text": [
      "9.0\n",
      "3.141592653589793\n",
      "2.718281828459045\n"
     ]
    }
   ],
   "source": [
    "print(math.pow(3,2)) # power \n",
    "print(math.pi) #pi value # constant value \n",
    "print(math.e) # epsole !"
   ]
  },
  {
   "cell_type": "markdown",
   "id": "09118699-d2c7-4529-82c3-2f3e281c39b1",
   "metadata": {},
   "source": [
    "DATA STRUCTURE in python: In Python, there are several built-in data structures that are commonly used to organize and manipulate data efficiently. Here are some examples of fundamental data structures in Python\n",
    "1. String\n",
    "2. Lists\n",
    "3. tuples\n",
    "4. Sets\n",
    "5. Dictionary"
   ]
  },
  {
   "cell_type": "markdown",
   "id": "bf7bffff-adcb-4f55-a6a7-2c32add52832",
   "metadata": {},
   "source": [
    "Strings:Anything written inside the quotation i.e string \n",
    "1. Immutable  \n",
    "2. ordered with index value "
   ]
  },
  {
   "cell_type": "code",
   "execution_count": 16,
   "id": "a5b283d0-9246-4bb2-b5d4-d424fd0c6e8e",
   "metadata": {},
   "outputs": [
    {
     "data": {
      "text/plain": [
       "' This is String  '"
      ]
     },
     "execution_count": 16,
     "metadata": {},
     "output_type": "execute_result"
    }
   ],
   "source": [
    "mystr=' This is String  '\n",
    "mystr\n",
    "mystr1='This is another string '\n",
    "mystr"
   ]
  },
  {
   "cell_type": "code",
   "execution_count": 17,
   "id": "326f743d-0627-466e-8326-cc32cc4587fa",
   "metadata": {},
   "outputs": [
    {
     "name": "stdout",
     "output_type": "stream",
     "text": [
      "False\n",
      "False\n",
      "False\n",
      "False\n"
     ]
    },
    {
     "data": {
      "text/plain": [
       "' This is String  '"
      ]
     },
     "execution_count": 17,
     "metadata": {},
     "output_type": "execute_result"
    }
   ],
   "source": [
    "#strinf function \n",
    "mystr.lower()\n",
    "mystr.upper()\n",
    "mystr.replace('Th','th')\n",
    "mystr.count('s')\n",
    "mystr.startswith('t')\n",
    "mystr.endswith('g')\n",
    "mystr.split()\n",
    "str=mystr+mystr1 # string concat\n",
    "print(mystr.isalpha()) # returns True if all the characters in the text are lett\n",
    "print(mystr.isalnum()) # returns True if a string contains only letters or numb\n",
    "print(mystr.isdecimal()) # returns True if all the characters are decimals (0-9)\n",
    "print(mystr.isnumeric()) # returns True if all the characters are numeric \n",
    "mystr.strip()\n",
    "mystr.rstrip(\"*\") # removes all * character ending of the string \n",
    "mystr.lstrip('*')# removes all * character starting of the string "
   ]
  },
  {
   "cell_type": "markdown",
   "id": "3fe88e26-b83c-4e28-81e4-1ebc5aaa94f9",
   "metadata": {},
   "source": [
    "In programming, slicing is a technique used to access a portion of a sequence, such as a list, string, or array. It allows you to extract a subset of elements from the original sequence."
   ]
  },
  {
   "cell_type": "code",
   "execution_count": 18,
   "id": "4533ed46-69eb-487c-9f12-f3b7b83edb3b",
   "metadata": {},
   "outputs": [
    {
     "data": {
      "text/plain": [
       "'This i'"
      ]
     },
     "execution_count": 18,
     "metadata": {},
     "output_type": "execute_result"
    }
   ],
   "source": [
    "#String slicing : \n",
    "str1=\"This is String \"\n",
    "str1[0:5] # String slicing - Fetch all characters from 0 to 5 index location excl\n",
    "str1[6:12] # String slicing - Retreive all characters between 6 - 12 index loc ex\n",
    "str1[-4:] # Retreive last four characters of the string\n",
    "str1[-6:] # Retreive last six characters of the string\n",
    "str1[:4] # Retreive first four characters of the string\n",
    "str1[:6] # Retreive first six characters of the string"
   ]
  },
  {
   "cell_type": "markdown",
   "id": "68ff1a30-e2a7-4ee3-8ed1-e5186480f6e4",
   "metadata": {},
   "source": [
    "Array:a group of similar elements or data items of the same type collected at contiguous memory locations.\n",
    "containers which are able to store more than one item at the same time i.e array \n",
    "\n",
    "Array starts with 0\n",
    "\n",
    "In python different type of array\n",
    "1. list\n",
    "2. tuple\n",
    "3. sets\n",
    "4. dictionary"
   ]
  },
  {
   "cell_type": "markdown",
   "id": "8ce0aad0-f544-44ac-8320-b595bf231d6b",
   "metadata": {},
   "source": [
    "Indexing in pyton :Indexing in Python refers to the accessing of individual elements within a data structure (such as lists, tuples, strings, etc.) using their position or index. Python uses zero-based indexing, meaning the index of the first element is 0, the second element is 1, and so on. Indexing allows you to retrieve, modify, or delete specific elements within a sequence or collection."
   ]
  },
  {
   "cell_type": "markdown",
   "id": "b13e4e18-d35d-4620-a597-1d181c443bf1",
   "metadata": {},
   "source": [
    "Mutable : can change r edit \n",
    "immutable : can not change r edit "
   ]
  },
  {
   "cell_type": "markdown",
   "id": "eed432f4-8306-454e-9766-38a86e573f47",
   "metadata": {},
   "source": [
    "List : ordered collection of different data type\n",
    "1. List is an ordered sequence of items \n",
    "2. it is mutable \n",
    "3. Allows duplicate elements \n",
    "4. list=['this','is',1,'list']"
   ]
  },
  {
   "cell_type": "code",
   "execution_count": 19,
   "id": "9a12fe4e-0e78-4ede-8181-66951caad426",
   "metadata": {},
   "outputs": [
    {
     "name": "stdout",
     "output_type": "stream",
     "text": [
      "<class 'list'>\n"
     ]
    }
   ],
   "source": [
    "list1=[]\n",
    "print(type(list1))"
   ]
  },
  {
   "cell_type": "code",
   "execution_count": 20,
   "id": "53a07834-562c-4ec5-a418-dd3e52a3e9ec",
   "metadata": {},
   "outputs": [
    {
     "data": {
      "text/plain": [
       "[10, 20, 30, 'Prajwal', '20.2']"
      ]
     },
     "execution_count": 20,
     "metadata": {},
     "output_type": "execute_result"
    }
   ],
   "source": [
    "list1=[10,20,30,'Prajwal','20.2']\n",
    "list1"
   ]
  },
  {
   "cell_type": "code",
   "execution_count": 62,
   "id": "7e72aa68-c384-4bf7-b616-c2d9ea109151",
   "metadata": {},
   "outputs": [
    {
     "data": {
      "text/plain": [
       "30"
      ]
     },
     "execution_count": 62,
     "metadata": {},
     "output_type": "execute_result"
    }
   ],
   "source": [
    "#list indexing \n",
    "list1[0]\n",
    "list1[2]\n",
    "list1[10]"
   ]
  },
  {
   "cell_type": "code",
   "execution_count": 2,
   "id": "7c958662-314d-4472-b11a-c07a7804ca12",
   "metadata": {},
   "outputs": [
    {
     "data": {
      "text/plain": [
       "['one', 'two', 'three', 'four', 'five', 'six', 'seven', 'eight']"
      ]
     },
     "execution_count": 2,
     "metadata": {},
     "output_type": "execute_result"
    }
   ],
   "source": [
    "# list slicing\n",
    "mylist = ['one' , 'two' , 'three' , 'four' , 'five' , 'six' , 'seven' , 'eight']\n",
    "mylist[0:3] # Return all items from 0th to 3rd index location excluding the item \n",
    "mylist[2:5] # List all items from 2nd to 5th index location excluding the item at\n",
    "mylist[:3] # Return first three items\n",
    "mylist[:2] # Return first two items\n",
    "mylist[-3:] # Return last three items\n",
    "mylist[-2:] # Return last two items\n",
    "mylist[-1] # Return last item of the list\n",
    "mylist[:] # Return whole list"
   ]
  },
  {
   "cell_type": "code",
   "execution_count": 5,
   "id": "f3f44e8f-b0a2-4d49-ab6b-2029593ae0b0",
   "metadata": {},
   "outputs": [
    {
     "data": {
      "text/plain": [
       "['one', 'two', 'three', 'four', 'five', 'six', 'seven', 12, 'ten', 23, 12, 23]"
      ]
     },
     "execution_count": 5,
     "metadata": {},
     "output_type": "execute_result"
    }
   ],
   "source": [
    "#list function \n",
    "mylist\n",
    "mylist.append('nine') # Add an item to the end of the list \n",
    "mylist\n",
    "mylist.insert(9,'ten') # Add item at index location 9\n",
    "mylist\n",
    "mylist.insert(1,'ONE') # Add item at index location 1\n",
    "mylist\n",
    "mylist.remove('ONE') # Remove item \"ONE\"\n",
    "mylist\n",
    "mylist.pop() # Remove last item of the list\n",
    "mylist\n",
    "# mylist.pop(8) # Remove item at index location 8\n",
    "mylist\n",
    "del mylist[7] # Remove item at index location 7\n",
    "mylist\n",
    "mylist.count('one')\n",
    "mylist\n",
    "mylist.extend([12,23])\n",
    "mylist\n",
    "# mylist.clear() # Empty List / Delete all items in the list\n",
    "# mylist"
   ]
  },
  {
   "cell_type": "code",
   "execution_count": 127,
   "id": "b84f506f-2b02-41ef-8c76-f5fb03219d70",
   "metadata": {},
   "outputs": [
    {
     "data": {
      "text/plain": [
       "[99, 88, 34, 12, 9, 5, 2]"
      ]
     },
     "execution_count": 127,
     "metadata": {},
     "output_type": "execute_result"
    }
   ],
   "source": [
    "list1=['one', 'two', 'three', 'four', 'five', 'six', 'seven', 'eight']\n",
    "list1.reverse()\n",
    "list1=[9,5,2,99,12,88,34]\n",
    "list1.sort()\n",
    "list1.sort(reverse=True)\n",
    "list1.count(2)\n",
    "list1"
   ]
  },
  {
   "cell_type": "code",
   "execution_count": 125,
   "id": "6a003f34-e01c-4dcb-a796-d545fefdc3fc",
   "metadata": {},
   "outputs": [
    {
     "data": {
      "text/plain": [
       "3"
      ]
     },
     "execution_count": 125,
     "metadata": {},
     "output_type": "execute_result"
    }
   ],
   "source": [
    "list10 =['one', 'two', 'three', 'four', 'one', 'one', 'two', 'three']\n",
    "list10.count('one')"
   ]
  },
  {
   "cell_type": "markdown",
   "id": "5ef4634d-1976-4b0c-b240-92671cc48d5a",
   "metadata": {},
   "source": [
    "List Comprehensions\n",
    "List Comprehensions provide an elegant way to create new lists.\n",
    "It consists of brackets containing an expression followed by a for clause, then zero or more for\n",
    "or if clauses.\n"
   ]
  },
  {
   "cell_type": "code",
   "execution_count": 132,
   "id": "73910edd-17ba-4a74-b2bd-bd91c441c583",
   "metadata": {},
   "outputs": [
    {
     "data": {
      "text/plain": [
       "[0, 1, 4, 9, 16, 25, 36, 49, 64, 81]"
      ]
     },
     "execution_count": 132,
     "metadata": {},
     "output_type": "execute_result"
    }
   ],
   "source": [
    "mystring = \"WELCOME\"\n",
    "mylist = [ i for i in mystring ] # Iterating through a string Using List Comprehe\n",
    "mylist\n",
    "mylist1 = [ i for i in range(40) if i % 2 == 0] # Display all even numbers betwee\n",
    "mylist1\n",
    "mylist2 = [ i for i in range(40) if i % 2 == 1] # Display all odd numbers between\n",
    "mylist2\n",
    "mylist3 = [num**2 for num in range(10)] # calculate square of all numbers between\n",
    "mylist3\n"
   ]
  },
  {
   "cell_type": "markdown",
   "id": "9903b884-e70d-4e00-9111-509ce1c2ebd5",
   "metadata": {},
   "source": [
    "Tuples: grouping of similer data elements as same in list excepts tuple are immutable.\n",
    "1. ordered collection are data items \n",
    "2. Immutable \n",
    "3. Allows duplicates \n",
    "4. tuple=()\n",
    "5. When we do not want to change the data over time, tuple is a preferred data type.\r",
    "6. Iterating over the elements of a tuple is faster compared to iterating over a list."
   ]
  },
  {
   "cell_type": "code",
   "execution_count": 133,
   "id": "e66fbed5-f1aa-4361-b3be-c2c5a9c3e39f",
   "metadata": {},
   "outputs": [
    {
     "data": {
      "text/plain": [
       "6"
      ]
     },
     "execution_count": 133,
     "metadata": {},
     "output_type": "execute_result"
    }
   ],
   "source": [
    "tup1 = () # Empty tuple\n",
    "tup2 = (10,30,60) # tuple of integers numbers\n",
    "tup3 = (10.77,30.66,60.89) # tuple of float numbers\n",
    "tup4 = ('one','two' , \"three\") # tuple of strings\n",
    "tup5 = ('Asif', 25 ,(50, 100),(150, 90)) # Nested tuples\n",
    "tup6 = (100, 'Asif', 17.765) # Tuple of mixed data types\n",
    "tup7 = ('Asif', 25 ,[50, 100],[150, 90] , {'John' , 'David'} , (99,22,33))\n",
    "len(tup7) "
   ]
  },
  {
   "cell_type": "code",
   "execution_count": 134,
   "id": "5c137255-4ec1-446c-ac93-46fe84b0e97f",
   "metadata": {},
   "outputs": [
    {
     "data": {
      "text/plain": [
       "(150, 90)"
      ]
     },
     "execution_count": 134,
     "metadata": {},
     "output_type": "execute_result"
    }
   ],
   "source": [
    "# Tuple indexing\n",
    "tup2[0] # Retreive first element of the tuple\n",
    "tup4[0] # Retreive first element of the tuple\n",
    "tup4[0][0] # Nested indexing - Access the first character of the first tuple elem\n",
    "tup4[-1] # Last item of the tuple\n",
    "tup5[-1] # Last item of the tuple"
   ]
  },
  {
   "cell_type": "code",
   "execution_count": 28,
   "id": "c615b573-c463-4378-aabb-d81915826440",
   "metadata": {},
   "outputs": [
    {
     "data": {
      "text/plain": [
       "('one', 'two', 'three', 'four', 'five', 'six', 'seven')"
      ]
     },
     "execution_count": 28,
     "metadata": {},
     "output_type": "execute_result"
    }
   ],
   "source": [
    "# Tuple Slicing \n",
    "mytuple = ('one' , 'two' , 'three' , 'four' , 'five' , 'six' , 'seven' , 'eight')\n",
    "mytuple[0:3] # Return all items from 0th to 3rd index location excluding the item\n",
    "mytuple[2:5] # List all items from 2nd to 5th index location excluding the item a\n",
    "mytuple[:3] # Return first three items\n",
    "mytuple[:2] # Return first two items\n",
    "mytuple[-3:] # Return last three items\n",
    "\n",
    "mytuple[-2:] # Return last two items\n",
    "mytuple[-1] # Return last item of the tuple\n",
    "mytuple[:] # Return whole tuple\n",
    "mytuple[0:-1]"
   ]
  },
  {
   "cell_type": "markdown",
   "id": "905a7603-3495-49a6-9be4-d3d2538d4360",
   "metadata": {},
   "source": [
    "adding and deleting items tuple not supports"
   ]
  },
  {
   "cell_type": "code",
   "execution_count": 136,
   "id": "a28b68d7-b538-4929-acbb-f003574f15cf",
   "metadata": {},
   "outputs": [
    {
     "data": {
      "text/plain": [
       "[('one', 'two', 'three', 'four', 'five', 'six', 'seven', 'eight')]"
      ]
     },
     "execution_count": 136,
     "metadata": {},
     "output_type": "execute_result"
    }
   ],
   "source": [
    "list1=[mytuple]\n",
    "list1"
   ]
  },
  {
   "cell_type": "code",
   "execution_count": 141,
   "id": "3dfbea0c-173a-477e-8924-0165fc1973f4",
   "metadata": {},
   "outputs": [
    {
     "data": {
      "text/plain": [
       "[99, 90, 67, 67, 43, 12, 6]"
      ]
     },
     "execution_count": 141,
     "metadata": {},
     "output_type": "execute_result"
    }
   ],
   "source": [
    "# sorting\n",
    "mytuple2 = (43,67,99,12,6,90,67)\n",
    "sorted(mytuple2) # Returns a new sorted list and doesn't change original tuple\n",
    "sorted(mytuple2, reverse=True) # Sort in descending order"
   ]
  },
  {
   "cell_type": "markdown",
   "id": "9fd7b087-6171-4904-aa1b-d65eb41437aa",
   "metadata": {},
   "source": [
    "Sets : These are collection similer data items which is \n",
    "1. unordered and unidexed collection of items \n",
    "2. set elements are unique.\n",
    "3. Duplicates are not allowed\n",
    "4. Immutable but set itself is mutable we can add or remove from it \n",
    "5. set={ }"
   ]
  },
  {
   "cell_type": "code",
   "execution_count": 146,
   "id": "d7a53c45-7b37-48b1-8d5f-519c0b2394a1",
   "metadata": {},
   "outputs": [
    {
     "data": {
      "text/plain": [
       "{(11, 22, 32), 10, 20, 'Hola'}"
      ]
     },
     "execution_count": 146,
     "metadata": {},
     "output_type": "execute_result"
    }
   ],
   "source": [
    "myset = {1,2,3,4,5} # Set of numbers\n",
    "myset\n",
    "len(myset) #Length of the set\n",
    "my_set = {1,1,2,2,3,4,5,5}\n",
    "my_set # Duplicate elements are not allowed.\n",
    "myset1 = {1.79,2.08,3.99,4.56,5.45} # Set of float numbers\n",
    "myset1\n",
    "myset2 = {'Asif' , 'John' , 'Tyrion'} # Set of Strings\n",
    "myset2\n",
    "myset3 = {10,20, \"Hola\", (11, 22, 32)} # Mixed datatypes\n",
    "myset3\n",
    "# myset3 = {10,20, \"Hola\", [11, 22, 32]} # set doesn't allow mutable items like lis\n",
    "myset3"
   ]
  },
  {
   "cell_type": "code",
   "execution_count": 147,
   "id": "6dd6410d-a339-4ff7-b05a-20dfbac39495",
   "metadata": {},
   "outputs": [
    {
     "data": {
      "text/plain": [
       "{1, 2, 3, 4, 5}"
      ]
     },
     "execution_count": 147,
     "metadata": {},
     "output_type": "execute_result"
    }
   ],
   "source": [
    "myset"
   ]
  },
  {
   "cell_type": "code",
   "execution_count": 161,
   "id": "2cc13185-0b43-4127-a5a9-661b28e49cab",
   "metadata": {},
   "outputs": [
    {
     "data": {
      "text/plain": [
       "set()"
      ]
     },
     "execution_count": 161,
     "metadata": {},
     "output_type": "execute_result"
    }
   ],
   "source": [
    "myset.add(6) # adding new item\n",
    "myset\n",
    "myset.update([5,3,6,8]) # multiple item update but duplicates not allowed\n",
    "myset\n",
    "myset.remove(6) # removing items\n",
    "myset\n",
    "myset.discard(8) # removing items\n",
    "myset\n",
    "myset.clear() # deleting all items\n",
    "myset"
   ]
  },
  {
   "cell_type": "code",
   "execution_count": 162,
   "id": "84f67bbc-697f-44d1-a378-483b28722c15",
   "metadata": {},
   "outputs": [
    {
     "data": {
      "text/plain": [
       "{1, 2, 3, 4, 5, 6, 7, 8, 9, 10}"
      ]
     },
     "execution_count": 162,
     "metadata": {},
     "output_type": "execute_result"
    }
   ],
   "source": [
    "# set operation \n",
    "# Union\n",
    "A = {1,2,3,4,5}\n",
    "B = {4,5,6,7,8}\n",
    "C = {8,9,10}\n",
    "A | B # Union of A and B (All elements from both sets. NO DUPLICATES)\n",
    "A.union(B) # Union of A and B\n",
    "A.union(B, C) # Union of A, B and C."
   ]
  },
  {
   "cell_type": "code",
   "execution_count": 165,
   "id": "fa378380-ab21-43fe-818a-960a7a02fb72",
   "metadata": {},
   "outputs": [
    {
     "data": {
      "text/plain": [
       "{4, 5}"
      ]
     },
     "execution_count": 165,
     "metadata": {},
     "output_type": "execute_result"
    }
   ],
   "source": [
    "#intersection\n",
    "A = {1,2,3,4,5}\n",
    "B = {4,5,6,7,8}\n",
    "\n",
    "A & B # Intersection of A and B (Common items in both sets)\n",
    "# A.intersection(B) Intersection of A and B\n",
    "\"\"\"\n",
    "Updates the set calling the intersection_update() method with the intersection of\n",
    "For below example Set A will be updated with the intersection of A & B.\n",
    "\"\"\"\n",
    "A.intersection_update(B)\n",
    "A"
   ]
  },
  {
   "cell_type": "code",
   "execution_count": 171,
   "id": "c349e7c1-1312-451e-b820-e5cfc855fe13",
   "metadata": {},
   "outputs": [
    {
     "data": {
      "text/plain": [
       "{6, 7, 8}"
      ]
     },
     "execution_count": 171,
     "metadata": {},
     "output_type": "execute_result"
    }
   ],
   "source": [
    "# Difference\n",
    "A = {1,2,3,4,5}\n",
    "B = {4,5,6,7,8}\n",
    "A - B # set of elements that are only in A but not in B\n",
    "A.difference(B) # Difference of sets\n",
    "\n",
    "B- A # set of elements that are only in B but not in A\n",
    "B.difference(A)\n",
    "\"\"\"\n",
    "Updates the set calling the difference_update() method with the difference of set\n",
    "For below example Set B will be updated with the difference of B & A.\n",
    "\"\"\"\n",
    "B.difference_update(A)\n",
    "B\n"
   ]
  },
  {
   "cell_type": "code",
   "execution_count": 172,
   "id": "8b1b225c-48cf-4cda-85d9-8860fde3aabf",
   "metadata": {},
   "outputs": [
    {
     "data": {
      "text/plain": [
       "{1, 2, 3, 6, 7, 8}"
      ]
     },
     "execution_count": 172,
     "metadata": {},
     "output_type": "execute_result"
    }
   ],
   "source": [
    "# Symmetric Difference\n",
    "A = {1,2,3,4,5}\n",
    "B = {4,5,6,7,8}\n",
    "A ^ B # Symmetric difference (Set of elements in A and B but not in both. \"EXCLUD\n",
    "A.symmetric_difference(B) # Symmetric difference of sets\n",
    "\"\"\"\n",
    "Updates the set calling the symmetric_difference_update() method with the symmetr\n",
    "For below example Set A will be updated with the symmetric difference of A & B.\n",
    "\"\"\"\n",
    "A.symmetric_difference_update(B)\n",
    "A\n"
   ]
  },
  {
   "cell_type": "markdown",
   "id": "b94401a0-6601-41ca-9b1e-9efbc7931d72",
   "metadata": {},
   "source": [
    "Dictionary:A python dictionary is a collection of key and value pairs separated by a colon (:) & enclosed in curly braces {}\n",
    "1. It it mutable data type\n",
    "2. duplicates are not allowed\n",
    "3. key must be unique but value can b same \n",
    "4. dic={ \"Key\":\"value\"}"
   ]
  },
  {
   "cell_type": "code",
   "execution_count": 30,
   "id": "54eb0cf7-b121-4843-97c4-91f67eda9918",
   "metadata": {},
   "outputs": [
    {
     "data": {
      "text/plain": [
       "{1: 'one', 2: 'two', 3: 'three'}"
      ]
     },
     "execution_count": 30,
     "metadata": {},
     "output_type": "execute_result"
    }
   ],
   "source": [
    "mydict = dict() # empty dictionary\n",
    "mydict\n",
    "mydict = {} # empty dictionary\n",
    "mydict\n",
    "mydict = {1:'one' , 2:'two' , 3:'three'} # dictionary with integer keys\n",
    "mydict\n",
    "mydict = dict({1:'one' , 2:'two' , 3:'three'}) # Create dictionary using dict()\n",
    "mydict"
   ]
  },
  {
   "cell_type": "code",
   "execution_count": 31,
   "id": "4319da98-4b30-4825-be4c-d44f61383ac8",
   "metadata": {},
   "outputs": [
    {
     "data": {
      "text/plain": [
       "{1: 'one', 2: 'two', 'A': ['asif', 'john', 'Maria'], 'B': ('Bat', 'cat')}"
      ]
     },
     "execution_count": 31,
     "metadata": {},
     "output_type": "execute_result"
    }
   ],
   "source": [
    "mydict = {'A':'one' , 'B':'two' , 'C':'three'} # dictionary with character keys\n",
    "mydict\n",
    "mydict = {1:'one' , 'A':'two' , 3:'three'} # dictionary with mixed keys\n",
    "mydict\n",
    "mydict.keys() # Return Dictionary Keys using keys() method\n",
    "mydict.values() # Return Dictionary Values using values() method\n",
    "mydict.items() # Access each key-value pair within a dictionary \n",
    "mydict = {1:'one' , 2:'two' , 'A':['asif' , 'john' , 'Maria']} # dictionary with \n",
    "mydict\n",
    "mydict = {1:'one' , 2:'two' , 'A':['asif' , 'john' , 'Maria'], 'B':('Bat' , 'cat')}\n",
    "mydict"
   ]
  },
  {
   "cell_type": "code",
   "execution_count": 32,
   "id": "cedabf15-78d9-4b96-acd8-9720270b7080",
   "metadata": {},
   "outputs": [
    {
     "data": {
      "text/plain": [
       "'one'"
      ]
     },
     "execution_count": 32,
     "metadata": {},
     "output_type": "execute_result"
    }
   ],
   "source": [
    "mydict.keys()\n",
    "mydict.values()\n",
    "mydict[1]"
   ]
  },
  {
   "cell_type": "code",
   "execution_count": 33,
   "id": "1fc3615a-bf07-4dfe-9dd3-2633971aa047",
   "metadata": {},
   "outputs": [],
   "source": [
    "# Dictionary function\n",
    "mydict={'Name':'Prajwal','ID':4524,'DOB':\"14-04-2002\",'Address':'Banglore'}\n",
    "mydict\n",
    "mydict['DOB']=2002\n",
    "mydict\n",
    "dict={'Education':'Engg'}\n",
    "mydict.update(dict)\n",
    "mydict\n",
    "mydict['Job']=\"searching\"\n",
    "mydict\n",
    "mydict.pop('Job') # removing perticuler item\n",
    "mydict\n",
    "mydict.popitem() # last element removed randomly\n",
    "mydict\n",
    "del[mydict['Address']] # deleting item \n",
    "mydict\n",
    "mydict.clear() # deleting all items "
   ]
  },
  {
   "cell_type": "markdown",
   "id": "350a5d36-1808-4356-8181-9f32e999feaf",
   "metadata": {},
   "source": [
    "USER INPUT : Python allows for user input.\n",
    "That means we are able to ask the user for input."
   ]
  },
  {
   "cell_type": "code",
   "execution_count": 197,
   "id": "69d22d2e-909d-4aac-ac52-915de3b7c43b",
   "metadata": {},
   "outputs": [
    {
     "name": "stdin",
     "output_type": "stream",
     "text": [
      "Enter your name this \n"
     ]
    },
    {
     "name": "stdout",
     "output_type": "stream",
     "text": [
      "this \n"
     ]
    }
   ],
   "source": [
    "name=input(\"Enter your name\")\n",
    "print(name)"
   ]
  },
  {
   "cell_type": "markdown",
   "id": "40eeb497-086e-4a18-857b-e9830ae1b697",
   "metadata": {},
   "source": [
    "Conditional statement:\n",
    "\n",
    "Python supports the usual logical conditions from mathematics:\n",
    "\n",
    "1. Equals: a == b\n",
    "2. Not Equals: a != b\n",
    "3. Less than: a < b\n",
    "4. Less than or equal to: a <= b\n",
    "5. Greater than: a > b\n",
    "6. Greater than or equal to: a >= b\n",
    "\n",
    "These conditions can be used in several ways, most commonly in \"if statements\" and loops.\n",
    "\n",
    "An \"if statement\" is written by using the if keyword."
   ]
  },
  {
   "cell_type": "code",
   "execution_count": 196,
   "id": "7ddcc3fd-a282-4105-b520-93a56036fddb",
   "metadata": {},
   "outputs": [
    {
     "name": "stdout",
     "output_type": "stream",
     "text": [
      "a is greater than b\n"
     ]
    }
   ],
   "source": [
    "a = 200\n",
    "b = 33\n",
    "if b > a:\n",
    "  print(\"b is greater than a\")\n",
    "elif a == b:\n",
    "  print(\"a and b are equal\")\n",
    "else:\n",
    "  print(\"a is greater than b\")"
   ]
  },
  {
   "cell_type": "markdown",
   "id": "772fd930-fb91-42b7-83d3-e37643281e40",
   "metadata": {},
   "source": [
    "Nested if statements means condition inside the if condition"
   ]
  },
  {
   "cell_type": "code",
   "execution_count": 199,
   "id": "9049655b-c331-4a8b-b07e-7d107601c7f3",
   "metadata": {},
   "outputs": [
    {
     "name": "stdin",
     "output_type": "stream",
     "text": [
      "Enter your age 34\n"
     ]
    },
    {
     "name": "stdout",
     "output_type": "stream",
     "text": [
      "You are eligible\n"
     ]
    }
   ],
   "source": [
    "age=int(input(\"Enter your age\"))\n",
    "if age <18:\n",
    "    print('Your not eligible for voting')\n",
    "elif age<=18:\n",
    "    print(\"Your eligible for vote\")\n",
    "else:\n",
    "    print('You are eligible')"
   ]
  },
  {
   "cell_type": "markdown",
   "id": "03cbcd74-0144-432c-bac3-1aa7d5f15778",
   "metadata": {},
   "source": [
    "Looping statement : a fundamental aspect of programming languages that provide a way to execute a block of code repeatedly. \n",
    "\n",
    "For loop: The for loop iterates over a sequence (such as a list or string) or any iterable object. It executes a block of code once for each element in the sequence. \n",
    "Iterating over a list"
   ]
  },
  {
   "cell_type": "code",
   "execution_count": 3,
   "id": "8f6e1064-58c0-46f9-9d33-d3d3a8b43642",
   "metadata": {},
   "outputs": [
    {
     "name": "stdout",
     "output_type": "stream",
     "text": [
      "apple\n",
      "banana\n",
      "cherry\n",
      "(0, 'p')\n",
      "(1, 'y')\n",
      "(2, 't')\n",
      "(3, 'h')\n",
      "(4, 'o')\n",
      "(5, 'n')\n"
     ]
    }
   ],
   "source": [
    "fruits = [\"apple\", \"banana\", \"cherry\"]\n",
    "for x in fruits:\n",
    "  print(x) \n",
    "\n",
    "for i in enumerate( 'python'):\n",
    "    print(i)\n"
   ]
  },
  {
   "cell_type": "markdown",
   "id": "cd49890f-079f-44e8-918c-cec27b1c082d",
   "metadata": {},
   "source": [
    "while loop : The while loop repeatedly executes a block of statements as long as a specified condition evaluates to True. It is used when you do not know beforehand how many times the loop will need to execute."
   ]
  },
  {
   "cell_type": "markdown",
   "id": "b3734506-439b-4511-b3b6-6408e27425d7",
   "metadata": {},
   "source": [
    "1. Break statement : It used to  breaks or exits the loop when conditions gets true.\n",
    "2. Continue statement :It  Used to skip certain iterations of a loop based on a condition without exiting the loop entirely.\n",
    "3. Pass statement : In Python, the pass statement is a null operation or a placeholder that does nothing when it executes. It is used when a statement is syntactically required but you have no action to perform or you want to implement something later. The pass statement is typically used as a placeholder for future code or as a temporary placeholder in code development."
   ]
  },
  {
   "cell_type": "code",
   "execution_count": 35,
   "id": "cde2ebff-f0ee-4a93-a8a9-818e9607e833",
   "metadata": {},
   "outputs": [
    {
     "name": "stdout",
     "output_type": "stream",
     "text": [
      "apple\n",
      "banana\n"
     ]
    }
   ],
   "source": [
    "# Using break in a for loop : breaks the statement when the  if conditions gets true \n",
    "fruits = [\"apple\", \"banana\", \"cherry\"]\n",
    "for fruit in fruits:\n",
    "    print(fruit)\n",
    "    if fruit == \"banana\":\n",
    "        break"
   ]
  },
  {
   "cell_type": "code",
   "execution_count": 37,
   "id": "6454e521-212f-4c02-9f6b-07515ca50676",
   "metadata": {},
   "outputs": [
    {
     "name": "stdout",
     "output_type": "stream",
     "text": [
      "1\n",
      "2\n",
      "4\n",
      "5\n",
      "6\n"
     ]
    }
   ],
   "source": [
    "# Using continue in a while loop  : continue except the element of if conditions \n",
    "i = 0\n",
    "while i < 6:\n",
    "  i += 1\n",
    "  if i == 3:\n",
    "    continue\n",
    "  print(i)"
   ]
  },
  {
   "cell_type": "code",
   "execution_count": 38,
   "id": "2edb978e-39a0-4c89-8326-649f9b46b0ca",
   "metadata": {},
   "outputs": [
    {
     "name": "stdout",
     "output_type": "stream",
     "text": [
      "1\n",
      "2\n",
      "4\n",
      "5\n",
      "6\n",
      "7\n",
      "8\n",
      "9\n"
     ]
    }
   ],
   "source": [
    "count = 0\n",
    "while count < 20:\n",
    "    count += 1\n",
    "    if count == 3:\n",
    "        continue\n",
    "    if count==10:\n",
    "        break\n",
    "    print(count)"
   ]
  },
  {
   "cell_type": "code",
   "execution_count": 23,
   "id": "3c8389c9-adf3-4edd-b0e9-e71cc47cdc57",
   "metadata": {},
   "outputs": [
    {
     "name": "stdout",
     "output_type": "stream",
     "text": [
      "1\n",
      "2\n",
      "3\n"
     ]
    }
   ],
   "source": [
    "i = 1\n",
    "while i < 6:\n",
    "  print(i)\n",
    "  if i == 3:\n",
    "    break\n",
    "  i += 1"
   ]
  },
  {
   "cell_type": "markdown",
   "id": "b15c0f55-3197-4944-9383-604d4f1bdbcc",
   "metadata": {},
   "source": [
    "range () function : The range() function returns a sequence of numbers, starting from 0 by default, and increments by 1 (by default), and ends at a specified number."
   ]
  },
  {
   "cell_type": "code",
   "execution_count": 207,
   "id": "ef9dc05e-22b2-4aa3-b2a1-897ff4f1bae9",
   "metadata": {},
   "outputs": [
    {
     "name": "stdout",
     "output_type": "stream",
     "text": [
      "1\n",
      "2\n",
      "3\n",
      "4\n",
      "5\n",
      "6\n",
      "7\n",
      "8\n",
      "9\n"
     ]
    }
   ],
   "source": [
    "for i in range(1,10):\n",
    "    print(i)"
   ]
  },
  {
   "cell_type": "markdown",
   "id": "91551eca-53ea-4c1f-9e4a-cb18eab30420",
   "metadata": {},
   "source": [
    "Function : It is a block of code used to perform specific tasks.A function is a block of code which only runs when it is called.\n",
    "\n",
    "Information can be passed into functions as arguments"
   ]
  },
  {
   "cell_type": "code",
   "execution_count": 39,
   "id": "c060e783-59ab-44d8-9747-d807367867ba",
   "metadata": {},
   "outputs": [
    {
     "name": "stdout",
     "output_type": "stream",
     "text": [
      "Hello from a function\n"
     ]
    }
   ],
   "source": [
    "# You can pass data, known as parameters, into a function\n",
    "def my_function(): # my function is parameter\n",
    "  print(\"Hello from a function\")\n",
    "\n",
    "my_function()"
   ]
  },
  {
   "cell_type": "code",
   "execution_count": 8,
   "id": "8dd985be-9db2-40cc-81b7-bd308308c6bb",
   "metadata": {},
   "outputs": [
    {
     "name": "stdout",
     "output_type": "stream",
     "text": [
      "Hello\n",
      "Good Morning\n"
     ]
    },
    {
     "name": "stdin",
     "output_type": "stream",
     "text": [
      "Enter the num: 3\n",
      "Enter the num:  4\n"
     ]
    },
    {
     "data": {
      "text/plain": [
       "(7, -1)"
      ]
     },
     "execution_count": 8,
     "metadata": {},
     "output_type": "execute_result"
    }
   ],
   "source": [
    "def greet():\n",
    "    print('Hello')\n",
    "    print('Good Morning')\n",
    "greet()\n",
    "\n",
    "\n",
    "def add(x,y):\n",
    "    c=x+y\n",
    "    d=x-y\n",
    "    return c,d\n",
    "x1=int(input('Enter the num:'))\n",
    "y2=int(input('Enter the num: '))\n",
    "add(x1,y2)"
   ]
  },
  {
   "cell_type": "code",
   "execution_count": 40,
   "id": "7e66c7a3-aadc-4b94-9cfa-6c32a4aec80f",
   "metadata": {},
   "outputs": [
    {
     "name": "stdin",
     "output_type": "stream",
     "text": [
      "Enter 1st number: 2\n",
      "Enter 2nd number: 3\n"
     ]
    },
    {
     "name": "stdout",
     "output_type": "stream",
     "text": [
      "addition of two number is : 5\n"
     ]
    }
   ],
   "source": [
    "# Arguments are specified after the function name, inside the parentheses\n",
    "def add(p,q):\n",
    "    print(\"addition of two number is :\",p+q)\n",
    "x=int(input(\"Enter 1st number:\"))\n",
    "y=int(input(\"Enter 2nd number:\"))\n",
    "add(x,y)"
   ]
  },
  {
   "cell_type": "code",
   "execution_count": 19,
   "id": "ddc924fb-59eb-4e49-88f7-5b343b6bdb3a",
   "metadata": {},
   "outputs": [
    {
     "name": "stdout",
     "output_type": "stream",
     "text": [
      "Navin\n",
      "30\n",
      "name\n",
      "9\n",
      "123\n"
     ]
    }
   ],
   "source": [
    "def person(name,age):\n",
    "    print(name)\n",
    "    print(age)\n",
    "person('Navin',30)\n",
    "\n",
    "def person(name,age=10):\n",
    "    print(name)\n",
    "    print(age-1)\n",
    "person('name')\n",
    "\n",
    "def sum(a,*b):\n",
    "    c=a\n",
    "    for i in b:\n",
    "        c=c+i\n",
    "    print(c)\n",
    "sum(5,6,34,78)"
   ]
  },
  {
   "cell_type": "code",
   "execution_count": 44,
   "id": "9089babc-1ecf-4b0f-87ce-f3e88a9d2d93",
   "metadata": {},
   "outputs": [
    {
     "data": {
      "text/plain": [
       "250.0"
      ]
     },
     "execution_count": 44,
     "metadata": {},
     "output_type": "execute_result"
    }
   ],
   "source": [
    "def calculate_percentage(obtained_marks, total_marks):\n",
    "    if total_marks == 0:\n",
    "        return 0  # To avoid division by zero error\n",
    "    percentage = (obtained_marks / total_marks) * 100\n",
    "    return percentage\n",
    "\n",
    "# Get input from the user\n",
    "obtained = 100\n",
    "total = 40\n",
    "\n",
    "# Calculate the percentage\n",
    "percentage = calculate_percentage(obtained, total)\n",
    "percentage\n",
    "# Print the result\n",
    "# print(f\"The percentage of marks obtained is {percentage:.2f}%\")\n"
   ]
  },
  {
   "cell_type": "code",
   "execution_count": 46,
   "id": "9a36b492-6207-49a3-802c-596758e5a121",
   "metadata": {},
   "outputs": [
    {
     "name": "stdin",
     "output_type": "stream",
     "text": [
      "Enter the number  3\n"
     ]
    },
    {
     "name": "stdout",
     "output_type": "stream",
     "text": [
      "odd\n"
     ]
    }
   ],
   "source": [
    "# number is even r add \n",
    "def even_add(num):\n",
    "    if num%2==0:\n",
    "        print('Even')\n",
    "    else:\n",
    "        print('odd')\n",
    "num=int(input(\"Enter the number \"))\n",
    "even_add(num)"
   ]
  },
  {
   "cell_type": "markdown",
   "id": "c9d575e9-f8d5-43af-9250-df7f39aea8f6",
   "metadata": {},
   "source": [
    "Lambda: lambda is an anonymous function without name \n",
    "lambda function can have any number of agruments but only one expression.The expression is evaluated and returned \n",
    "we use lambda function when we require nameless function for a short period of time "
   ]
  },
  {
   "cell_type": "code",
   "execution_count": 51,
   "id": "cf822cf8-97b0-4e30-a74c-ee849f99224e",
   "metadata": {},
   "outputs": [
    {
     "data": {
      "text/plain": [
       "15"
      ]
     },
     "execution_count": 51,
     "metadata": {},
     "output_type": "execute_result"
    }
   ],
   "source": [
    "addition =lambda a:a+10\n",
    "addition(5)"
   ]
  },
  {
   "cell_type": "code",
   "execution_count": 50,
   "id": "291d8139-eefb-4399-a1ba-f6b3890c5de6",
   "metadata": {},
   "outputs": [
    {
     "data": {
      "text/plain": [
       "50"
      ]
     },
     "execution_count": 50,
     "metadata": {},
     "output_type": "execute_result"
    }
   ],
   "source": [
    "product=lambda a,b: a*b\n",
    "product(5,10)"
   ]
  },
  {
   "cell_type": "code",
   "execution_count": 49,
   "id": "b8ab75a9-3709-49fd-9fb3-c964093b5cfe",
   "metadata": {},
   "outputs": [
    {
     "data": {
      "text/plain": [
       "60.0"
      ]
     },
     "execution_count": 49,
     "metadata": {},
     "output_type": "execute_result"
    }
   ],
   "source": [
    "prt=lambda p,r,t:(p*r*t)/100\n",
    "prt(10,20,30)"
   ]
  },
  {
   "cell_type": "code",
   "execution_count": 4,
   "id": "8a5dc0d0-f2fc-43b3-ae4d-633c37ca750a",
   "metadata": {},
   "outputs": [
    {
     "data": {
      "text/plain": [
       "[2, 4, 6, 8, 56, 76]"
      ]
     },
     "execution_count": 4,
     "metadata": {},
     "output_type": "execute_result"
    }
   ],
   "source": [
    "# Filter function : \n",
    "def is_even(n):\n",
    "    return n%2==0\n",
    "num=[3,2,4,6,8,9,56,76]\n",
    "evens=list(filter(lambda n:n%2==0,num))\n",
    "evens"
   ]
  },
  {
   "cell_type": "code",
   "execution_count": 7,
   "id": "d5e01509-abb9-4c2e-ae48-3042e1252b7c",
   "metadata": {},
   "outputs": [
    {
     "data": {
      "text/plain": [
       "[6, 4, 6, 10, 14, 16, 18]"
      ]
     },
     "execution_count": 7,
     "metadata": {},
     "output_type": "execute_result"
    }
   ],
   "source": [
    "# map function\n",
    "def update(n):\n",
    "    return n*2\n",
    "\n",
    "nums=[3,2,3,5,7,8,9]\n",
    "double=list(map(lambda n:n*2,nums))\n",
    "double"
   ]
  },
  {
   "cell_type": "markdown",
   "id": "8b2e0a2f-a215-4ae2-876f-21190fdf860b",
   "metadata": {},
   "source": [
    "Map function : The map() function applies a given function to each item of an iterable (list, tuple etc.) and\n",
    "returns a list of the results.\n",
    "\n",
    "function : The function to execute for each item of given iterable.\n",
    "iterable : It is a iterable which is to be mapped"
   ]
  },
  {
   "cell_type": "code",
   "execution_count": 6,
   "id": "e6ca01cc-1692-45be-8c63-0c6f043b5c4d",
   "metadata": {},
   "outputs": [
    {
     "name": "stdout",
     "output_type": "stream",
     "text": [
      "<map object at 0x000001DF7B9456F0>\n",
      "[1, 4, 9, 16]\n"
     ]
    }
   ],
   "source": [
    "# map function()\n",
    "def calculateSquare(n):\n",
    "    return n*n\n",
    "    \n",
    "numbers=(1,2,3,4)\n",
    "result=map(calculateSquare,numbers)\n",
    "print(result)\n",
    "numbersSquare=list(result)\n",
    "print(numbersSquare)"
   ]
  },
  {
   "cell_type": "code",
   "execution_count": 2,
   "id": "ade3ac82-fd43-447f-a6a4-62e7aa672c72",
   "metadata": {},
   "outputs": [
    {
     "name": "stdout",
     "output_type": "stream",
     "text": [
      "<map object at 0x0000019A2F9C0910>\n",
      "[1, 4, 9, 16]\n"
     ]
    }
   ],
   "source": [
    "numbers=(1,2,3,4) #map with  lambda\n",
    "result=map(lambda x:x*x,numbers)\n",
    "print(result)\n",
    "numbersSquare=list(result)\n",
    "print(numbersSquare)"
   ]
  },
  {
   "cell_type": "markdown",
   "id": "7e9de567-48e5-4c05-9a61-e126f5774c13",
   "metadata": {},
   "source": [
    "Random Function : gives a random number"
   ]
  },
  {
   "cell_type": "code",
   "execution_count": 13,
   "id": "2ceaeba7-121c-4767-ae17-7b8fa912214b",
   "metadata": {},
   "outputs": [
    {
     "data": {
      "text/plain": [
       "457"
      ]
     },
     "execution_count": 13,
     "metadata": {},
     "output_type": "execute_result"
    }
   ],
   "source": [
    "import random\n",
    "a=['Head','Tail',457]\n",
    "flip=random.choice(a)\n",
    "flip"
   ]
  },
  {
   "cell_type": "markdown",
   "id": "a9bb4f71-94dd-49aa-8e49-17e24846b5be",
   "metadata": {},
   "source": [
    "OOP's: Object-Oriented Programming (OOP) is  a programming paradigm that uses objects and classes in programming.\n",
    "The key principles of OOP are encapsulation, inheritance, polymorphism, and abstraction.\n",
    "\n",
    "class :  Class is a \"blueprint\" for creating objects.class is the main building block and acts like template for the object .\n",
    "Object : Object is a collection of data function and are also called as instance of class or class variable \n",
    "In python everything is treated as an object.\n",
    "\n",
    "Variable defined inside the class are called class variable and function are called as method"
   ]
  },
  {
   "cell_type": "code",
   "execution_count": null,
   "id": "5664aeb8-a460-4544-8d09-22c264881919",
   "metadata": {},
   "outputs": [],
   "source": [
    "# OOP's:object oriented programming language\n",
    "class sample:\n",
    "    x=10\n",
    "    y=20\n",
    "s=sample()\n",
    "print(s.x)\n",
    "print(s.y)"
   ]
  },
  {
   "cell_type": "code",
   "execution_count": 14,
   "id": "279debf8-0cb6-4e4e-b01e-5ad489b49b5e",
   "metadata": {},
   "outputs": [
    {
     "name": "stdout",
     "output_type": "stream",
     "text": [
      "total marks: 184\n",
      "Average marks: 61.333333333333336\n"
     ]
    }
   ],
   "source": [
    "class student:\n",
    "    mark1,mark2,mark3=45,67,72\n",
    "    def process(self):\n",
    "        sum=self.mark1+self.mark2+self.mark3\n",
    "        avg=sum/3\n",
    "        print(\"total marks:\",sum)\n",
    "        print(\"Average marks:\",avg)\n",
    "        return\n",
    "s=student()\n",
    "s.process()"
   ]
  },
  {
   "cell_type": "markdown",
   "id": "bb712e71-05bd-4942-8716-34177a94e6b2",
   "metadata": {},
   "source": [
    "Constructor : Constructor is a special method used for initializing newly created objects.It is called automatically when you create a new instance of class.The constructor method in Python is defined using the __init__ method."
   ]
  },
  {
   "cell_type": "code",
   "execution_count": 3,
   "id": "c27c85fa-d430-4542-bcd7-352e12f97420",
   "metadata": {},
   "outputs": [
    {
     "name": "stdout",
     "output_type": "stream",
     "text": [
      "constructor of class\n",
      "The value is  10\n"
     ]
    }
   ],
   "source": [
    "class sample:\n",
    "    def __init__(self,num):\n",
    "        print('constructor of class')\n",
    "        self.num=num\n",
    "        print('The value is ',self.num)\n",
    "s=sample(10)"
   ]
  },
  {
   "cell_type": "markdown",
   "id": "84f5d3bf-f4db-47fa-8a8e-86e86fdf2162",
   "metadata": {},
   "source": [
    "Inheritance : Inheritance is a fundamental concept in object-oriented programming that refers to the process of creating new class from existing class.\n",
    "->Inheritance is a fundamental concept in object-oriented programming that allows a class (called the child or subclass) to inherit attributes and methods from another class (called the parent or superclass). This promotes code reuse and can make programs easier to understand and maintain.\n",
    "\n",
    "Type's of inheritance : \n",
    "1.  Single Inheritance: A class inherits from one parent class.One parent, one child.\n",
    "2.  Multiple Inheritance: A class inherits from more than one parent class.Multiple parents, one child.\n",
    "3.  Multilevel Inheritance: A class inherits from another class, which in turn inherits from another class, forming a chain. A chain of inheritance\n",
    "4.  Hierarchical Inheritance: Multiple classes inherit from a single parent class.One parent, multiple children.\n",
    "5.  Hybrid Inheritance: A combination of two or more types of inheritance.Combination of multiple inheritance types."
   ]
  },
  {
   "cell_type": "code",
   "execution_count": 5,
   "id": "37dad241-f4a8-4118-9bc0-f809f529508a",
   "metadata": {},
   "outputs": [
    {
     "name": "stdout",
     "output_type": "stream",
     "text": [
      "This is function is in Parent class\n",
      "This function is in Child class\n"
     ]
    }
   ],
   "source": [
    "class Parent:\n",
    "    def func1(self):\n",
    "        print('This is function is in Parent class')\n",
    "\n",
    "class Child(Parent):\n",
    "    def func2(self):\n",
    "        print('This function is in Child class')\n",
    "object=Child()\n",
    "object.func1()\n",
    "object.func2()"
   ]
  },
  {
   "cell_type": "markdown",
   "id": "71bd3dfd-e5b5-44ae-b884-14bbe9751df7",
   "metadata": {},
   "source": [
    "Polymorphism : Polymorphism is a core concept in object-oriented programming that allows methods to be used interchangeably with different types of objects. It means \"many forms\" and allows objects of different classes to be treated as objects of a common superclass. Polymorphism is typically achieved through method overriding and operator overloading.\n",
    "\n",
    "->It refers to the ability of different objects to responf to the same method or function called in different ways.It allows object of different classes to be treated as object of a common superclass.\n",
    "\n",
    "2 type's of Polymorphism : \n",
    "1. method overriding :Method overriding allows a subclass to provide a specific implementation of a method already defined in its superclass.\n",
    "2. method overloading :It allows the same operator to have different meanings based on the context, particularly the types of operands involved."
   ]
  },
  {
   "cell_type": "code",
   "execution_count": 6,
   "id": "c9930d24-db4f-4629-ad0e-10d360744fc7",
   "metadata": {},
   "outputs": [
    {
     "name": "stdout",
     "output_type": "stream",
     "text": [
      "Woof!\n",
      "Meow!\n"
     ]
    }
   ],
   "source": [
    "#Method overriding :\n",
    "class Animal:\n",
    "    def sound(self):\n",
    "        print(\"This is a generic animal sound\")\n",
    "\n",
    "class Dog(Animal):\n",
    "    def sound(self):\n",
    "        print(\"Woof!\")\n",
    "\n",
    "class Cat(Animal):\n",
    "    def sound(self):\n",
    "        print(\"Meow!\")\n",
    "\n",
    "# Using polymorphism\n",
    "def make_sound(animal):\n",
    "    animal.sound()\n",
    "\n",
    "# Creating instances\n",
    "dog = Dog()\n",
    "cat = Cat()\n",
    "\n",
    "# Calling the same method on different objects\n",
    "make_sound(dog)  # Output: Woof!\n",
    "make_sound(cat)  # Output: Meow!\n"
   ]
  },
  {
   "cell_type": "code",
   "execution_count": 7,
   "id": "bb823670-7ce1-4f34-9ff1-317e01fc9609",
   "metadata": {},
   "outputs": [
    {
     "name": "stdout",
     "output_type": "stream",
     "text": [
      "Vector(3, 7)\n"
     ]
    }
   ],
   "source": [
    "# Method overloading\n",
    "class Vector:\n",
    "    def __init__(self, x, y):\n",
    "        self.x = x\n",
    "        self.y = y\n",
    "\n",
    "    def __add__(self, other):\n",
    "        return Vector(self.x + other.x, self.y + other.y)\n",
    "\n",
    "    def __str__(self):\n",
    "        return f\"Vector({self.x}, {self.y})\"\n",
    "\n",
    "# Creating instances\n",
    "v1 = Vector(2, 3)\n",
    "v2 = Vector(1, 4)\n",
    "\n",
    "# Adding two vectors using the overloaded + operator\n",
    "v3 = v1 + v2\n",
    "\n",
    "print(v3)  # Output: Vector(3, 7)\n"
   ]
  },
  {
   "cell_type": "markdown",
   "id": "4a72840f-ce0a-4a89-b751-d2f34723aa6a",
   "metadata": {},
   "source": [
    "Encapsulation : Encapsulation  is one of the fundamental principles of object-oriented programming (OOP). It refers to the bundling of data (attributes) and methods (functions) that operate on the data into a single unit, typically a class. Encapsulation restricts direct access to some of the object's components, which can prevent the accidental modification of data. This is often achieved by making attributes private and providing public methods to access and modify them.\n",
    "\n",
    "Benefits of Encapsulation\n",
    "1. Data Hiding: Internal object details are hidden from the outside world. Only the necessary aspects are exposed.\n",
    "2. Modularity: The class can be modified without affecting other parts of the program.\n",
    "3. Maintenance: Easier to maintain and understand the code since the object's data and behaviors are encapsulated.\n",
    "4. Control: Provides control over how the data is accessed or modified."
   ]
  },
  {
   "cell_type": "markdown",
   "id": "990e2f04-f686-4ea9-a60e-4e67b3fb4ec9",
   "metadata": {},
   "source": [
    "PYTHON ARRAY :  Arrays in python can only contain elements of same data types i.e data type should be homogeneous."
   ]
  },
  {
   "cell_type": "markdown",
   "id": "bc6934e6-488a-4bbf-9ea4-3dc6cdc2eee7",
   "metadata": {},
   "source": [
    "TypeCodes Available for the array module for various data types\n",
    "1. 'i'-integer type-2\n",
    "2. 'f'-Float type-4\n",
    "3. 'd'-float type-8\n",
    "4. 'u'-unicode character-2"
   ]
  },
  {
   "cell_type": "code",
   "execution_count": 6,
   "id": "6b5c28e3-2e7f-485c-b226-aac53e3464af",
   "metadata": {},
   "outputs": [
    {
     "name": "stdout",
     "output_type": "stream",
     "text": [
      "array('i', [2, 3, 4, 5])\n",
      "2\n",
      "3\n",
      "4\n",
      "5\n",
      "P\n",
      "Y\n",
      "T\n",
      "H\n",
      "O\n",
      "N\n"
     ]
    }
   ],
   "source": [
    "import array as arr\n",
    "vals=arr.array('i',[2,3,4,5])\n",
    "print(vals)\n",
    "for i in vals:\n",
    "    print(i)\n",
    "\n",
    "vals1=arr.array('u',['P','Y','T','H','O','N'])\n",
    "for i in vals1:\n",
    "    print(i)"
   ]
  },
  {
   "cell_type": "code",
   "execution_count": 11,
   "id": "eaaa1c6f-b18a-41b8-acc4-adc0bb9c9846",
   "metadata": {},
   "outputs": [
    {
     "name": "stdout",
     "output_type": "stream",
     "text": [
      "i\n",
      "d\n",
      "u\n",
      "array('i', [1, 2, 3, 4, 5])\n",
      "array('d', [1.2, 1.5, 1.6])\n",
      "array('u', 'abg')\n",
      "5\n",
      "3\n",
      "3\n"
     ]
    }
   ],
   "source": [
    "import array as arr\n",
    "\n",
    "# Creating an array of integers\n",
    "array = arr.array('i', [1,2, 3, 4, 5])\n",
    "array1=arr.array('d',[1.2,1.5,1.6])\n",
    "array2=arr.array('u',['a','b','g'])\n",
    "\n",
    "# typecode\n",
    "print(array.typecode)\n",
    "print(array1.typecode)\n",
    "print(array2.typecode)\n",
    "\n",
    "print(array)\n",
    "print(array1)\n",
    "print(array2)\n",
    "\n",
    "# lenght of an array \n",
    "print(len(array))\n",
    "print(len(array1))\n",
    "print(len(array2))"
   ]
  },
  {
   "cell_type": "code",
   "execution_count": 13,
   "id": "e65e4436-983a-4190-825c-b1d5c7fb7e81",
   "metadata": {},
   "outputs": [
    {
     "name": "stdout",
     "output_type": "stream",
     "text": [
      "1 2 3 4 5 \n",
      "\n",
      "1.2 1.5 1.6 /n\n",
      "a b g "
     ]
    }
   ],
   "source": [
    "for i in range(0,len(array)):\n",
    "    print(array[i],end=' ')\n",
    "print('\\n')\n",
    "\n",
    "for i in range(0,len(array1)):\n",
    "    print(array1[i],end=' ')\n",
    "print('/n')\n",
    "\n",
    "for i in range(0,len(array2)):\n",
    "    print(array2[i],end=' ')"
   ]
  },
  {
   "cell_type": "code",
   "execution_count": 20,
   "id": "16074f31-8d7d-4dac-aef6-902939f9ee3c",
   "metadata": {},
   "outputs": [
    {
     "name": "stdin",
     "output_type": "stream",
     "text": [
      "Enter the size of array:  2\n",
      "Enter the next value: 3\n",
      "Enter the next value: 4\n"
     ]
    },
    {
     "name": "stdout",
     "output_type": "stream",
     "text": [
      "array('i', [3, 4])\n"
     ]
    },
    {
     "name": "stdin",
     "output_type": "stream",
     "text": [
      "Enter the value for search :  5\n"
     ]
    },
    {
     "name": "stdout",
     "output_type": "stream",
     "text": [
      "The value 5 is not found in the array.\n"
     ]
    }
   ],
   "source": [
    "from array import array\n",
    "\n",
    "# Initialize an empty array of integers\n",
    "arr = array('i', [])\n",
    "\n",
    "# Input the length of the array\n",
    "n = int(input('Enter the length of the array: '))\n",
    "\n",
    "# Input the elements of the array\n",
    "for i in range(n):\n",
    "    x = int(input('Enter the next value: '))\n",
    "    arr.append(x)\n",
    "\n",
    "# Print the array\n",
    "print(arr)\n",
    "\n",
    "# Input the value to search for in the array\n",
    "val = int(input('Enter the value for search: '))\n",
    "\n",
    "# Search for the value in the array\n",
    "k = 0\n",
    "found = False\n",
    "for e in arr:\n",
    "    if e == val:\n",
    "        print(f'The value {val} is found at index: {k}')\n",
    "        found = True\n",
    "        break\n",
    "    k += 1\n",
    "\n",
    "# If the value is not found in the loop, print a message\n",
    "if not found:\n",
    "    print(f'The value {val} is not found in the array.')\n"
   ]
  },
  {
   "cell_type": "code",
   "execution_count": 14,
   "id": "08d4fc9e-11ab-4cbd-8a81-b80d7b56dc4e",
   "metadata": {},
   "outputs": [
    {
     "name": "stdout",
     "output_type": "stream",
     "text": [
      "1 3 5 7 9 11 13 15 17 19 21 23 25 27 29 31 33 35 37 39 41 43 45 47 49 51 53 55 57 59 61 63 65 67 69 71 73 75 77 79 81 83 85 87 89 91 93 95 97 99 /n\n",
      "51\n"
     ]
    }
   ],
   "source": [
    "#Accessing elements from an array using index values\n",
    "x=list(range(1,100,2))\n",
    "new_array=arr.array('i',x)\n",
    "\n",
    "# new_array\n",
    "\n",
    "# printing the array\n",
    "for i in range(0,len(new_array)):\n",
    "    print(new_array[i],end=' ')\n",
    "print('/n')\n",
    "\n",
    "#accessing the element at index '25'\n",
    "print(new_array[25])"
   ]
  },
  {
   "cell_type": "code",
   "execution_count": 43,
   "id": "751ea0ee-da43-454b-ac73-94466f5c298d",
   "metadata": {},
   "outputs": [
    {
     "name": "stdout",
     "output_type": "stream",
     "text": [
      "3 4 5 6 7 8 9 \n",
      "1 2 3 4 5 6 7 8 9 \n",
      "1 2 3 4 5 6 7 8 9 10 "
     ]
    }
   ],
   "source": [
    "# Adding Element in an array\n",
    "new_arr=arr.array('i',[3,4,5,6,7,8,9])\n",
    "for i in range(0,len(new_arr)):\n",
    "    print(new_arr[i],end=' ')\n",
    "print(end='\\n')\n",
    "\n",
    "# adding elements in the array\n",
    "new_arr.insert(0,2) # insert is used to add with position \n",
    "new_arr.insert(0,1)\n",
    "# print the new array \n",
    "for i in range(0,len(new_arr)):\n",
    "    print(new_arr[i],end=' ')\n",
    "\n",
    "print(end='\\n')\n",
    "\n",
    "#using append # append is used to add element end of the array\n",
    "new_arr.append(10)\n",
    "for i in range(0,len(new_arr)):\n",
    "    print(new_arr[i],end=' ')"
   ]
  },
  {
   "cell_type": "code",
   "execution_count": 47,
   "id": "85536d4f-2047-4aeb-b823-764add8ce3f4",
   "metadata": {},
   "outputs": [
    {
     "name": "stdout",
     "output_type": "stream",
     "text": [
      "1 2 3 4 5 \n",
      "\n",
      "1 2 30 4 5 "
     ]
    }
   ],
   "source": [
    "#Updating element in an array \n",
    "new_array=arr.array('i',[1,2,3,4,5])\n",
    "\n",
    "for i in range(0,len(new_array)):\n",
    "    print(new_array[i],end=' ')\n",
    "print('\\n')\n",
    "\n",
    "#updating the array \n",
    "new_array[2]=30  # assigned new value at index 2\n",
    "for i in range(0,len(new_array)):\n",
    "    print(new_array[i],end=' ')\n",
    "    "
   ]
  },
  {
   "cell_type": "code",
   "execution_count": 51,
   "id": "5e192334-e35b-4f54-aff2-ca1817751043",
   "metadata": {},
   "outputs": [
    {
     "name": "stdout",
     "output_type": "stream",
     "text": [
      "1 2 3 4 "
     ]
    }
   ],
   "source": [
    "# deleting element in an array using pop method\n",
    "new_array=arr.array('i',[1,2,3,4,5])\n",
    "new_array.pop(4) # deletes element at index position\n",
    "for i in range(0,len(new_array)):\n",
    "    print(new_array[i],end=' ')"
   ]
  },
  {
   "cell_type": "code",
   "execution_count": 53,
   "id": "d7a336eb-400e-47b9-b20b-53221295860f",
   "metadata": {},
   "outputs": [
    {
     "name": "stdout",
     "output_type": "stream",
     "text": [
      "2 3 4 5 "
     ]
    }
   ],
   "source": [
    "# deleting element in an array using remove\n",
    "new_array=arr.array('i',[1,2,3,4,5])\n",
    "new_array.remove(1) # deletes element at value \n",
    "for i in range(0,len(new_array)):\n",
    "    print(new_array[i],end=' ')"
   ]
  },
  {
   "cell_type": "code",
   "execution_count": 84,
   "id": "49dbe933-fba2-4a64-a1e7-b9cd73dace1b",
   "metadata": {},
   "outputs": [
    {
     "name": "stdout",
     "output_type": "stream",
     "text": [
      "30 33 36 39 42 45 48 51 54 57 \n",
      "42 45 48 51 54 57 60 63 66 69 \n",
      "69 66 63 60 57 54 51 48 45 42 \n"
     ]
    }
   ],
   "source": [
    "#slicing an array \n",
    "\n",
    "# Create an array using a list of numbers from 0 to 99 with a step of 3\n",
    "x = list(range(0, 100, 3))\n",
    "arr1 = arr.array('i', x)\n",
    "\n",
    "# Slicing operation (positive indexing)\n",
    "arr0 = arr1[10:20]\n",
    "\n",
    "# Print the sliced array elements\n",
    "for i in range(len(arr0)):\n",
    "    print(arr0[i], end=' ')\n",
    "print()  # for a newline\n",
    "\n",
    "# Negative indexing example\n",
    "# Here we will take a negative slice from the original array arr1\n",
    "# Let's take a slice from index -20 to -10\n",
    "arr2 = arr1[-20:-10]\n",
    "\n",
    "for i in range(len(arr2)):\n",
    "    print(arr2[i], end=' ')\n",
    "print()  # for a newline\n",
    "\n",
    "# Reversing the order of the sliced array arr2\n",
    "arr3 = arr2[::-1]\n",
    "\n",
    "for i in range(len(arr3)):\n",
    "    print(arr3[i], end=' ')\n",
    "print()  # for a newline\n"
   ]
  },
  {
   "cell_type": "code",
   "execution_count": 90,
   "id": "2a4da7c2-3c2a-4c7e-afea-1a824d04ed29",
   "metadata": {},
   "outputs": [
    {
     "name": "stdout",
     "output_type": "stream",
     "text": [
      "0 2 4 6 8 10 12 14 16 18 /n\n",
      "5001 10002\n"
     ]
    }
   ],
   "source": [
    "# searching operation in an array using index()\n",
    "x=list(range(0,100000,2))\n",
    "search_array=arr.array('i',x)\n",
    "\n",
    "# print first 10 elements of the array\n",
    "for i in range(0,len(search_array[0:10])):\n",
    "    print(search_array[i],end=' ')\n",
    "print('/n')\n",
    "\n",
    "# search the number 1002 in the array \n",
    "index=search_array.index(10002)\n",
    "res=search_array[index]\n",
    "print(index,res)"
   ]
  },
  {
   "cell_type": "code",
   "execution_count": 94,
   "id": "acc51019-9f5d-447c-bd29-ee5ffc001f8e",
   "metadata": {},
   "outputs": [
    {
     "name": "stdout",
     "output_type": "stream",
     "text": [
      "[1, 2, 3, 4, 4, 5, 6, 9]\n",
      "[9, 6, 5, 4, 4, 3, 2, 1]\n"
     ]
    }
   ],
   "source": [
    "# sorting operation\n",
    "sort_array=arr.array('i',[5,4,3,2,1,4,6,9])\n",
    "sorted_array=sort_array.tolist()\n",
    "\n",
    "#asceding order\n",
    "sorted_array.sort()\n",
    "print(sorted_array)\n",
    "\n",
    "# descending order\n",
    "sorted_array.sort(reverse=True)\n",
    "print(sorted_array)"
   ]
  },
  {
   "cell_type": "markdown",
   "id": "9a4a7067-7982-41db-b81e-1b9a54b1667f",
   "metadata": {},
   "source": [
    "Array values from user input"
   ]
  },
  {
   "cell_type": "markdown",
   "id": "9ed93c79-a6d5-4d98-bef0-03383f38dca6",
   "metadata": {},
   "source": [
    "Homogeneous : Homogeneous arrays are of same datatype \n",
    "Heterogeneous : Heterogeneous arrays are of different datatype."
   ]
  },
  {
   "cell_type": "code",
   "execution_count": 105,
   "id": "a7d12b8c-c133-4977-aba8-0600703cde57",
   "metadata": {},
   "outputs": [
    {
     "name": "stdout",
     "output_type": "stream",
     "text": [
      "[1 2 3 4 5 6]\n",
      "\n",
      "[[0. 0.]\n",
      " [0. 0.]]\n",
      "\n",
      "[[1. 1.]\n",
      " [1. 1.]]\n",
      "\n",
      "[[10 10 10]\n",
      " [10 10 10]\n",
      " [10 10 10]]\n",
      "\n",
      "[[1. 0. 0. 0.]\n",
      " [0. 1. 0. 0.]\n",
      " [0. 0. 1. 0.]\n",
      " [0. 0. 0. 1.]]\n",
      "\n",
      "[[0.50681963 0.05936333 0.85153352]\n",
      " [0.6768793  0.24357819 0.31286798]]\n"
     ]
    }
   ],
   "source": [
    "# numpy array \n",
    "# creating numpy array \n",
    "import  numpy as np \n",
    "arr=np.array([1,2,3,4,5,6])\n",
    "print(arr)\n",
    "print()\n",
    "\n",
    "#creating an array with all zeros\n",
    "print(np.zeros((2,2)))\n",
    "print()\n",
    "\n",
    "# creating an array with alll ones \n",
    "print(np.ones((2,2)))\n",
    "print()\n",
    "\n",
    "# creating an array with constant value\n",
    "print(np.full((3,3),10))\n",
    "print()\n",
    "\n",
    "# creating an identity matrix \n",
    "print(np.eye((4)))\n",
    "print()\n",
    "\n",
    "#creating an array with random values\n",
    "print(np.random.random((2,3)))"
   ]
  },
  {
   "cell_type": "code",
   "execution_count": null,
   "id": "c0556823-0c70-495d-9b80-c01ed7492149",
   "metadata": {},
   "outputs": [],
   "source": []
  },
  {
   "cell_type": "code",
   "execution_count": null,
   "id": "e511e9c6-b103-4971-8704-fbba8d9cfdd4",
   "metadata": {},
   "outputs": [],
   "source": []
  },
  {
   "cell_type": "code",
   "execution_count": null,
   "id": "e5afe96d-8fd0-44f5-98dd-5cbb01985d76",
   "metadata": {},
   "outputs": [],
   "source": []
  },
  {
   "cell_type": "code",
   "execution_count": null,
   "id": "a8af01b7-2794-4192-a189-e49060e3e09d",
   "metadata": {},
   "outputs": [],
   "source": []
  },
  {
   "cell_type": "markdown",
   "id": "c8b938e4-327a-4ba0-94fc-462a5ea84447",
   "metadata": {},
   "source": [
    "what is the difference between array and list:\n",
    "1. Array: Arrays in python can only contain elements of same data types i.e data type should be homogeneous\n",
    "2. Lists: Lists in python can contain elements of different data types i.e data type of lists can be heterogenous."
   ]
  },
  {
   "cell_type": "markdown",
   "id": "a7f15970-cbe1-43c7-8fbb-1a1557dc1ed1",
   "metadata": {},
   "source": [
    "what is __init__ :\n",
    "it is a constructor method in python and is automatically called to allocate memory when a new object/instace is created."
   ]
  },
  {
   "cell_type": "markdown",
   "id": "4ebdd568-7cfa-43c9-b8a0-25fd386ea6d9",
   "metadata": {},
   "source": [
    "Slicing index : slicing is taking part of.[start:stop:step]\n",
    "-> Default value for start is 0,stop is number of items,step is 1.\n",
    "->slicing can be done on strings,arraya,lists and tuples\n",
    "list[0:0]->starts with 0 and ends with 0,\n",
    "list[0:3]->starts wiht 0 and ends with 3,\n",
    "list[-1]->last element\n",
    "list[0:-1]->except last element"
   ]
  },
  {
   "cell_type": "markdown",
   "id": "76d8b791-5185-4ce0-9c23-e3e303208cb5",
   "metadata": {},
   "source": [
    "what is the use of self in python :\n",
    "Self is used to represent the instance of the class.with this keyword,you can access the attributes and methods of the class in python.It binds the attributes with the given arguments.self is used in different places and often thought to be a keyword"
   ]
  },
  {
   "cell_type": "markdown",
   "id": "c7d803c4-afd7-4e88-91fb-831f91a21059",
   "metadata": {},
   "source": [
    "What are modules and packages in python :\n",
    "In Python, packages and modules are organizational units used to structure and manage code, making it easier to organize and reuse functionality across different projects. Here's a breakdown of what packages and modules are:\n",
    "\n",
    "1. Modules : \n",
    "Definition: A module in Python is a file containing Python definitions (functions, classes, variables) and statements. It allows you to logically organize your Python code.\n",
    "Purpose: Modules help in organizing Python code into reusable units. They aid in maintaining clarity, reducing complexity, and improving code reuse across different projects.\n",
    "\n",
    "2. Packages:\n",
    "Definition: A package in Python is a way of organizing related modules. It consists of a directory containing multiple module files and a special file named __init__.py which indicates that the directory should be treated as a package.\n",
    "\n",
    "Purpose: Packages provide a hierarchical structure to the module namespace, making it easier to manage and import modules. They allow for better organization and separation of concerns within large projects.\n",
    "\n",
    "Key Points:\n",
    "1. Importing: Modules and packages are imported using the import statement in Python. For example, to import a module my_module from my_package, you use import my_package.my_module.\n",
    "2. Namespaces: Each module and package has its own namespace, which helps in avoiding naming conflicts and organizing code logically.\n",
    "3. Reusability: Modules and packages promote code reuse across different projects or within the same project, enhancing maintainability and reducing duplication of code."
   ]
  },
  {
   "cell_type": "markdown",
   "id": "5d4c4ec3-4c19-4c3d-a7d0-fabc17dbda2b",
   "metadata": {},
   "source": [
    "1. What is lambda in python ? Why is is used ?:\n",
    "In Python, an anonymous function, also known as a lambda function, is a small, anonymous (unnamed) function defined with the lambda keyword. Lambda functions are used when you need a simple function for a short period of time, often where defining a full function using def would be overly verbose or unnecessary.\n",
    "\n",
    "Characteristics of Lambda Functions:\n",
    "1. Anonymous: Lambda functions do not have a name; they are defined inline where they are used.\n",
    "2. Single Expression: Lambda functions can only contain a single expression, unlike regular functions which can contain multiple statements.\n",
    "3. Implicit Return: The result of the expression is automatically returned from the lambda function."
   ]
  },
  {
   "cell_type": "markdown",
   "id": "0e4442bf-9cd1-4e68-ac14-80cfe9b58413",
   "metadata": {},
   "source": [
    "static typing and dynamic typing refer to different approaches in how programming languages handle variable types during program execution:\n",
    "1. Static Typing: In a statically typed language, variables are explicitly declared with their data types, and type checking is performed at compile-time. Once a variable is declared with a certain type, it cannot change to another type.\n",
    "Example Languages: Java, C, C++, Swift, Kotlin.\n",
    "Data type's are checked  before execution\n",
    "Characteristics:\n",
    "1. Type Declarations: Variables must be explicitly declared with their types before they can be used.\n",
    "2. Compile-time Checking: Type checking is done at compile-time, ensuring that type errors are caught before the program runs.\n",
    "3. Type Safety: Helps catch errors related to incompatible types early in the development process.\n",
    "4. Performance: Can lead to potentially faster execution due to compile-time optimizations.\n",
    "\n",
    "// Static typing in Java\r\n",
    "int x = 10;   // `x` is declared as an integer\r\n",
    "x = \"Hello\";  // Compilation error: incompatible typ\n",
    "\n",
    "2. Dynamic Typing: In a dynamically typed language, variables do not have explicit type declarations. The type of a variable is determined implicitly at runtime based on the value assigned to it. Variables can change types during execution.\n",
    "Example Languages: Python, JavaScript, Ruby, PHP.\n",
    "Data type's are checked during execution\n",
    "Characteristics:\n",
    "1. Implicit Type Declaration: Variables are not explicitly typed; their types are inferred from the context.\n",
    "2. Runtime Checking: Type checking occurs at runtime, allowing variables to change types dynamically.\n",
    "3. Flexibility: Offers more flexibility in coding as variables can adapt to different types as needed.\n",
    "4. Ease of Use: Reduces verbosity and allows for quicker prototyping and development cycles.e\n",
    " //Dynamic typing in Python\r\n",
    "x = 10        # `x` is inferred as an integer\r\n",
    "x = \"Hello\"   # Now `x` is inferred as a string\r\n",
    "s\r\n"
   ]
  },
  {
   "cell_type": "code",
   "execution_count": null,
   "id": "2d009c11-e4f7-4d43-a9cf-cb4fcf7bdb5e",
   "metadata": {},
   "outputs": [],
   "source": []
  },
  {
   "cell_type": "markdown",
   "id": "c832e5cd-4cf5-44a5-9224-df4e696541e9",
   "metadata": {},
   "source": [
    "Python Libraries:"
   ]
  },
  {
   "cell_type": "markdown",
   "id": "95bc3afc-1382-4896-8b3b-a9db95f240dc",
   "metadata": {},
   "source": [
    "PANDAS :Pandas is a powerful and flexible open-source data analysis and manipulation library for Python. It provides data structures and functions needed to work with structured data seamlessly.\n",
    "1. Data Alignment: Automatic alignment of data from different sources.\n",
    "2. Integrated Handling of Missing Data: Functions to detect, remove, or replace missing values.\n",
    "3. Flexible Data Structures: DataFrames and Series provide flexible structures to manage data.\n",
    "4. Label-Based Indexing: Access data by labels, making it intuitive to work with.\n",
    "5. Group By: Split data into groups, apply functions to each group, and combine the results.\n",
    "6. High Performance: Efficient operations on large datasets.\n",
    "\n",
    "Pandas is an essential tool for data scientists and analysts. It provides powerful capabilities for data manipulation and analysis, making it easier to work with structured data in Python. For more detailed information and advanced functionalities, you can refer to the Pandas documentation. "
   ]
  },
  {
   "cell_type": "markdown",
   "id": "98b13c49-d52f-412c-be8d-d6f4dc3443c1",
   "metadata": {},
   "source": [
    "NumPy is a fundamental package for scientific computing in Python. It provides support for arrays, matrices, and many mathematical functions to operate on these data structures efficiently. Here’s an overview of its key features, array operations, and common functions.\n",
    "\n",
    "1. N-Dimensional Array Object (ndarray):\n",
    "A powerful N-dimensional array object which is the core of NumPy.\n",
    "\n",
    "2. Mathematical Functions:\n",
    "A wide range of mathematical functions to operate on arrays.\n",
    "\n",
    "3. Linear Algebra, Fourier Transform, and Random Number Generation:\n",
    "Functions for linear algebra, Fourier transforms, and random number generation.\n",
    "\n",
    "4. Integration with Other Libraries:\n",
    "Integration with other scientific computing libraries like SciPy and Pandas.\n",
    "\n",
    "NumPy is an essential library for numerical computations in Python. It provides efficient and powerful tools for array manipulation and a wide range of mathematical functions, making it a cornerstone for scientific computing. For more detailed information and advanced functionalities, "
   ]
  },
  {
   "cell_type": "markdown",
   "id": "f1f79752-85f9-4121-b11a-e98bd85ff7ad",
   "metadata": {},
   "source": [
    "MATPLOTLIB : Matplotlib is a comprehensive library for creating static, animated, and interactive visualizations in Python. It is widely used for plotting and offers a variety of chart types to help visualize data effectively. Here’s a detailed overview of its key features, plotting types, and common operations.\n",
    "\n",
    "1. Versatile Plotting: Supports various types of plots including line plots, scatter plots, bar charts, histograms, pie charts, and more.\n",
    "2. Customization: Extensive options to customize plots such as titles, labels, legends, colors, and styles.\n",
    "3. Integration: Works well with other libraries like NumPy, Pandas, and SciPy.\n",
    "4. Interactive Plots: Can create interactive plots using widgets and event handling.\n",
    "5. Publication Quality: High-quality output suitable for publication.\n",
    "\n",
    "Matplotlib is a versatile and powerful library for creating a wide range of static, animated, and interactive plots in Python. It is highly customizable and integrates well with other scientific computing libraries. For more detailed information and advanced functionalities, you can refer to the Matplotlib documentation"
   ]
  },
  {
   "cell_type": "markdown",
   "id": "27836a64-758c-4e5c-a4f0-7fa9af89e8ef",
   "metadata": {},
   "source": [
    "SEABORN : Seaborn is a Python data visualization library built on top of Matplotlib. It provides a high-level interface for creating attractive and informative statistical graphics. Seaborn integrates well with Pandas data structures and is designed to work with DataFrames, making it particularly useful for data analysis tasks.\n",
    "\n",
    "1. High-Level Interface: Simplifies the creation of complex visualizations with fewer lines of code compared to Matplotlib.\n",
    "2. Statistical Plotting: Built-in support for statistical plots such as bar plots, box plots, violin plots, and more.\n",
    "3. Integration with Pandas: Works seamlessly with Pandas DataFrames, allowing easy plotting of data directly from data structures.\n",
    "4. Themes and Color Palettes: Provides default themes and color palettes for aesthetically pleasing plots.\n",
    "5. Automatic Estimation and Plotting: Automatically estimates and plots trends and relationships within the data.\n",
    "\n",
    "Seaborn is a powerful and user-friendly library for creating attractive and informative statistical plots in Python. It simplifies the process of data visualization and integrates seamlessly with Pandas, making it an excellent choice for data analysis tasks. For more detailed information and advanced functionalities, you can refer to the Seaborn documentation."
   ]
  },
  {
   "cell_type": "code",
   "execution_count": null,
   "id": "c0b2b987-1d20-4bad-b8cd-8f1e8503471f",
   "metadata": {},
   "outputs": [],
   "source": []
  },
  {
   "cell_type": "code",
   "execution_count": null,
   "id": "3a89cecd-72e3-439a-bf4a-143e5b39c33d",
   "metadata": {},
   "outputs": [],
   "source": []
  }
 ],
 "metadata": {
  "kernelspec": {
   "display_name": "Python 3 (ipykernel)",
   "language": "python",
   "name": "python3"
  },
  "language_info": {
   "codemirror_mode": {
    "name": "ipython",
    "version": 3
   },
   "file_extension": ".py",
   "mimetype": "text/x-python",
   "name": "python",
   "nbconvert_exporter": "python",
   "pygments_lexer": "ipython3",
   "version": "3.11.7"
  }
 },
 "nbformat": 4,
 "nbformat_minor": 5
}
